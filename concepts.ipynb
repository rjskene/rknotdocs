{
 "cells": [
  {
   "cell_type": "code",
   "execution_count": null,
   "metadata": {},
   "outputs": [],
   "source": [
    "1. grid space; \n",
    "2. dots or subjects\n",
    "3. groups\n",
    "4. movement via `mover` functions\n",
    "5. contact\n",
    "    + infected dot meets susceptible\n",
    "    + multiple infected dots meet susceptible >>> increases likelihood\n",
    "5. boxes and gates \n",
    "6. events\n",
    "    > Event\n",
    "    > Travel\n",
    "    > Social Distancing\n",
    "    > Quarantine\n",
    "    > Restriction\n",
    "7. log"
   ]
  }
 ],
 "metadata": {
  "kernelspec": {
   "display_name": "'Python Interactive'",
   "language": "python",
   "name": "d7f46a76-cd74-4c52-b2ff-cf144fb20ba1"
  }
 },
 "nbformat": 4,
 "nbformat_minor": 4
}
