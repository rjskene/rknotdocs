{
 "cells": [
  {
   "cell_type": "markdown",
   "metadata": {},
   "source": [
    "## Dynamic Transmission Risk ##"
   ]
  },
  {
   "cell_type": "markdown",
   "metadata": {},
   "source": [
    "### Structure ###\n",
    "\n",
    "In [SIR: Factors Influencing Spread](sir.ipynb), we assumed a constant daily rate of transmission risk during the infectious period. This is in keeping with the SIR model, however, in reality we know that transmission risk is influenced by an infected person's viral load, which is a dynamic property.\n",
    "\n",
    "Here we will demonstrate how to incorporate dynamic transmission risk and compare its impact to the outcomes of the SIR simulations. \n",
    "\n",
    "The model and parameters used in this scenario are derived from a paper from the [Fred Hutchinson Cancer Research Center](https://www.medrxiv.org/content/10.1101/2020.08.07.20169920v3.full.pdf), henceforth known as the Hutch model.\n",
    "\n",
    "In particular, the Hutch model requires the following parameters in a Gamma-distributed contact regime:\n",
    "\n",
    "* average of 4 contacts per day per subject, $\\overline{k}$\n",
    "* dispersion of 40, $\\theta$\n",
    "* These parameters should result in $R_0$ 1.8.\n",
    "\n",
    "This is achieved using [Events](concepts.ipynb#Events). See [Sizing](sizing.ipynb#Complex-Environments) for a detailed demonstration.\n",
    "\n",
    "The group structure continues to be informed by [CDC Best Planning Scenario](https://www.cdc.gov/coronavirus/2019-ncov/hcp/planning-scenarios.html) guidelines for IFR.\n",
    "\n",
    "Other assumptions:\n",
    "\n",
    "* Population of 10,000\n",
    "    * proportionately split among the 4 age groups to match [US Census data](https://www.census.gov/prod/cen2010/briefs/c2010br-03.pdf).\n",
    "* Initial Infected of 2\n",
    "* Duration of Immunity 365 days\n",
    "* Density of 1 dot / location (excluding the vbox)\n",
    "* a collection of 9,142 separate events, each recurring every 30 days.\n",
    "\n",
    "The transmission risk curve used in these simulations is visualized below. See [Hutch Model](theory.ipynb#Dynamic-Transmission-Risk) for the derivation."
   ]
  },
  {
   "cell_type": "markdown",
   "metadata": {},
   "source": [
    "<img \n",
    "    src='https://storage.googleapis.com/rknotvids/imgs/tmr_curve.png'\n",
    "    alt='Drawing' style='display: block; margin: 0 auto;'\n",
    "/>"
   ]
  },
  {
   "cell_type": "code",
   "execution_count": 1,
   "metadata": {
    "nbsphinx": "hidden"
   },
   "outputs": [],
   "source": [
    "%load_ext autoreload\n",
    "%autoreload 2\n",
    "\n",
    "from datetime import datetime as dt\n",
    "import numpy as np\n",
    "\n",
    "from IPython.core.display import HTML, display\n",
    "\n",
    "from rknot.notebook import md, modulereload, curve_table, animHTML\n",
    "from rknot.helpers import get_results, find_means, find_means_seconly, find_seconly\n",
    "import rknot.styles as styles"
   ]
  },
  {
   "cell_type": "code",
   "execution_count": 2,
   "metadata": {
    "nbsphinx": "hidden"
   },
   "outputs": [],
   "source": [
    "### HIDDEN ###\n",
    "RUN = False\n",
    "SAVE = False\n",
    "SAVE_CHARTS = False\n",
    "PATH = 'vids/us_w_load/tests/'\n",
    "\n",
    "fps = 10\n",
    "chart_params = dict(use_init_func=False, show_intro=False, dotsize=0.1, h_base=10, interval=1000/fps)\n",
    "writer_params = dict(fps=fps, bitrate=11000)\n",
    "save_params = dict(dpi=1000)"
   ]
  },
  {
   "cell_type": "markdown",
   "metadata": {},
   "source": [
    "### 1. Events ###\n",
    "\n",
    "Here we show the basic outcome of dynamic viral load in a gamma-distributed contacts environment.\n",
    "\n",
    "The transmission curve has bee calculated separately and is available as `tmr` from the `rknot.dots.fhutch` module.\n",
    "\n",
    "All of the 9,000+ events occur in the \"Events\" vbox. All events have capacities of 3 subjects or more.\n",
    "\n",
    "Again, details on the event structure are found [here](sizing.ipynb#Complex-Environments)."
   ]
  },
  {
   "cell_type": "markdown",
   "metadata": {},
   "source": [
    "```python\n",
    "from rknot import Sim, Chart\n",
    "\n",
    "from rknot.dots.fhutch import tmr\n",
    "from rknot.sims.us_w_load_18 import events\n",
    "\n",
    "group1 = dict(name='0-19', n=2700, n_inf=0, ifr=0.00003, mover=.98)\n",
    "group2 = dict(name='20-49', n=4100, n_inf=1, ifr=0.0002, mover=.98)\n",
    "group3 = dict(name='50-69', n=2300, n_inf=1, ifr=0.005, mover=.98)\n",
    "group4 = dict(name='70+', n=900, n_inf=0, ifr=0.054, mover=.98)\n",
    "\n",
    "vbox = {'label': 344, 'box': 344}\n",
    "params = {'groups': groups, 'density': 1, 'days': 365, 'tmr_curve': tmr, 'vboxes': vbox, 'events': events}\n",
    "\n",
    "sim = Sim(groups=groups, events=events, **params)\n",
    "sim.run()\n",
    "\n",
    "chart = Chart(sim).to_html5_video()\n",
    "```"
   ]
  },
  {
   "cell_type": "code",
   "execution_count": 3,
   "metadata": {
    "nbsphinx": "hidden",
    "scrolled": true
   },
   "outputs": [],
   "source": [
    "if RUN:\n",
    "    from rknot import Sim, Chart\n",
    "    from rknot.sims import us_w_load_18\n",
    "    from rknot.sim import recycler\n",
    "    \n",
    "    modulereload(us_w_load_18)\n",
    "    \n",
    "    assert 'susf' not in us_w_load_18.groups[1]   \n",
    "    assert all(g['mover'] == .98 for g in us_w_load_18.groups)\n",
    "    \n",
    "    \n",
    "    sim_cycler = recycler(100)\n",
    "    while True:\n",
    "        for event in us_w_load_18.params['events']:\n",
    "            event.recurring = 30\n",
    "    \n",
    "        sim = sim_cycler(pbar_leave=False, pbar=False, **us_w_load_18.params)\n",
    "        sim.run(dotlog=True, pbar_leave=False, pbar=False)\n",
    "\n",
    "        res = get_results(sim)\n",
    "        print (res[1], .38 < res[1] < .43)\n",
    "        if .38 < res[1] < .43:\n",
    "            sim.shutdown()\n",
    "            break"
   ]
  },
  {
   "cell_type": "code",
   "execution_count": 4,
   "metadata": {
    "nbsphinx": "hidden"
   },
   "outputs": [],
   "source": [
    "from datetime import datetime as dt\n",
    "from rknot.helpers import picksave, pickload\n",
    "file = 'vids/us_w_load/events'\n",
    "\n",
    "if SAVE:\n",
    "    delattr(sim, 'server')\n",
    "    delattr(sim, 'workers')\n",
    "    sims = pickload(file)\n",
    "    sims[dt.now()] = sim\n",
    "    picksave(file, sims)\n",
    "\n",
    "    sims = pickload(file)\n",
    "    run_date, sim = sorted(sims.items())[-1] # Get the most recent saved sim\n",
    "else:\n",
    "    sims = pickload(file)\n",
    "    run_date, sim = sorted(sims.items())[-1] # Get the most recent saved sim\n",
    "    res = get_results(sim)"
   ]
  },
  {
   "cell_type": "code",
   "execution_count": 5,
   "metadata": {
    "nbsphinx": "hidden"
   },
   "outputs": [],
   "source": [
    "if SAVE_CHARTS:\n",
    "    from rknot import Chart\n",
    "    chart_params = dict(reso_format='web', dotsize=.1)\n",
    "    chart = Chart(sim, show_intro=True, show_restricted=True, **chart_params).save(PATH + 'events.mp4')"
   ]
  },
  {
   "cell_type": "code",
   "execution_count": 6,
   "metadata": {
    "tags": [
     "hide_input"
    ]
   },
   "outputs": [
    {
     "data": {
      "text/html": [
       "\n",
       "        <div style=\"text-align: center\">\n",
       "            <video width='900px' height='376.56903765690373px'\n",
       "            src=\"https://storage.googleapis.com/rknotvids/us_w_load/events.mp4\" controls>Video Failed to Load</video>\n",
       "        </div>\n",
       "        <p></p>\n",
       "    "
      ],
      "text/plain": [
       "<IPython.core.display.HTML object>"
      ]
     },
     "metadata": {},
     "output_type": "display_data"
    }
   ],
   "source": [
    "from rknot.notebook import animHTML\n",
    "display(HTML(animHTML('us_w_load/events')))"
   ]
  },
  {
   "cell_type": "markdown",
   "metadata": {},
   "source": [
    "The results are:"
   ]
  },
  {
   "cell_type": "code",
   "execution_count": 7,
   "metadata": {
    "tags": [
     "hide_input"
    ]
   },
   "outputs": [
    {
     "data": {
      "text/html": [
       "<table class=\"results-table\"><thead><tr><th class=\"results-table\"></th><th class=\"results-table\" style=\"text-align: center;\">Hutch</th><th class=\"results-table\" style=\"text-align: center;\">SIR</th></tr></thead><tbody><tr><td class=\"results-table\" style=\"text-align: left;\">Peak</td><td class=\"results-table\" style=\"text-align: center;\">35.6%</td><td class=\"results-table\" style=\"text-align: center;\">29.0%</td></tr><tr><td class=\"results-table\" style=\"text-align: left;\">HIT</td><td class=\"results-table\" style=\"text-align: center;\">42.4%</td><td class=\"results-table\" style=\"text-align: center;\">56.0%</td></tr><tr><td class=\"results-table\" style=\"text-align: left;\">Total</td><td class=\"results-table\" style=\"text-align: center;\">50.2%</td><td class=\"results-table\" style=\"text-align: center;\">82.0%</td></tr><tr><td class=\"results-table\" style=\"text-align: left;\">Fatalities</td><td class=\"results-table\" style=\"text-align: center;\">0.30%</td><td class=\"results-table\" style=\"text-align: center;\">0.50%</td></tr><tr><td class=\"results-table\" style=\"text-align: left;\">%>70</td><td class=\"results-table\" style=\"text-align: center;\">80.0%</td><td class=\"results-table\" style=\"text-align: center;\">39.0%</td></tr><tr><td class=\"results-table\" style=\"text-align: left;\">IFR</td><td class=\"results-table\" style=\"text-align: center;\">0.60%</td><td class=\"results-table\" style=\"text-align: center;\">0.61%</td></tr><tr><td class=\"results-table\" style=\"text-align: left;\">Days to Peak</td><td class=\"results-table\" style=\"text-align: center;\">63</td><td class=\"results-table\" style=\"text-align: center;\">77</td></tr></tbody></table>"
      ],
      "text/plain": [
       "<IPython.core.display.HTML object>"
      ]
     },
     "metadata": {},
     "output_type": "display_data"
    }
   ],
   "source": [
    "import shelve\n",
    "sirfile = 'vids/baseus/tables'\n",
    "\n",
    "with shelve.open(sirfile, writeback=True) as db:\n",
    "    sir_res = db['5']\n",
    "\n",
    "sir_res = np.char.strip(sir_res, '%').astype(np.float)\n",
    "sir_res[:6] /= 100\n",
    "\n",
    "headers = ['Hutch', 'SIR']\n",
    "results = [res, sir_res]\n",
    "display(HTML(curve_table(headers, results, style='results')))"
   ]
  },
  {
   "cell_type": "markdown",
   "metadata": {},
   "source": [
    "The results relative to the [SIR Events](sir.ipynb#5.-Events) simulation are lower across the board, which is mainly attributable to the lower $R_0$ utilized. With $R_0$ of 1.8, we would expect HIT of ~44%, which is close to the result here. \n",
    "\n",
    "There are two other important differences:\n",
    "\n",
    "+ the peak occurs earlier \n",
    "+ there is a narrower range between peak/hit/total infections\n",
    "\n",
    "These differences result for a couple reasons:\n",
    "\n",
    "1. in the Hutch model used here, the infection duration is 30 days, double that used in SIR. Thus, as new infections occur, there are fewer recoveries.\n",
    "2. while the infection duration is longer, the likelihood of infection is highly concentrated in the 3 to 5 day period of peak viral load. Thus, to achieve the same $R_0$, there must be more infections sooner. By the same token, as herd immunity is reached and more infections reach later life cycle, there are fewer infections to extend the tail.\n",
    "\n",
    "Fatality measures are inline with expectations from SIR model.\n",
    "\n",
    "Using the `looper` function demonstrated in [Sizing](sizing.ipynb), we can quickly generate a sample of simulations to determine patterns.\n",
    "\n",
    "The table below shows the results of 250 iterations of this scenario:"
   ]
  },
  {
   "cell_type": "code",
   "execution_count": 8,
   "metadata": {
    "nbsphinx": "hidden",
    "tags": [
     "hide_input"
    ]
   },
   "outputs": [
    {
     "name": "stdout",
     "output_type": "stream",
     "text": [
      "This date does not exist for the specified key.\n",
      "Enter 0 to use the most recent date (default).\n",
      "Enter 1 to add a new entry.\n",
      "\n"
     ]
    }
   ],
   "source": [
    "import numpy as np\n",
    "from rknot.notebook import curve_table\n",
    "\n",
    "from rknot.helpers import ShelfHelp\n",
    "\n",
    "file = 'tests/data/sizing_complex'\n",
    "key = 'complex_1.8_iters_RESULTS_n_inf_2'\n",
    "\n",
    "args = []\n",
    "with ShelfHelp(file, key) as sh:\n",
    "    n, sim_tmr, c1, nsecs1, res1 = sh.values(*args)"
   ]
  },
  {
   "cell_type": "code",
   "execution_count": 9,
   "metadata": {
    "tags": [
     "hide_input"
    ]
   },
   "outputs": [
    {
     "data": {
      "text/html": [
       "<table class=\"results-table\"><thead><tr><th class=\"results-table\"></th><th class=\"results-table\" style=\"text-align: center;\">Events</th><th class=\"results-table\" style=\"text-align: center;\">Events <br> $R_0$ > 0</th></tr></thead><tbody><tr><td class=\"results-table\" style=\"text-align: left;\">n</td><td class=\"results-table\" style=\"text-align: center;\">250</td><td class=\"results-table\" style=\"text-align: center;\">68</td></tr><tr><td class=\"results-table\" style=\"text-align: left;\">Peak</td><td class=\"results-table\" style=\"text-align: center;\">8.9%</td><td class=\"results-table\" style=\"text-align: center;\">32.7%</td></tr><tr><td class=\"results-table\" style=\"text-align: left;\">HIT</td><td class=\"results-table\" style=\"text-align: center;\">11.1%</td><td class=\"results-table\" style=\"text-align: center;\">40.6%</td></tr><tr><td class=\"results-table\" style=\"text-align: left;\">Total</td><td class=\"results-table\" style=\"text-align: center;\">14.0%</td><td class=\"results-table\" style=\"text-align: center;\">51.5%</td></tr><tr><td class=\"results-table\" style=\"text-align: left;\">Fatalities</td><td class=\"results-table\" style=\"text-align: center;\">0.08%</td><td class=\"results-table\" style=\"text-align: center;\">0.30%</td></tr><tr><td class=\"results-table\" style=\"text-align: left;\">%>70</td><td class=\"results-table\" style=\"text-align: center;\">6.5%</td><td class=\"results-table\" style=\"text-align: center;\">6.5%</td></tr><tr><td class=\"results-table\" style=\"text-align: left;\">IFR</td><td class=\"results-table\" style=\"text-align: center;\">0.55%</td><td class=\"results-table\" style=\"text-align: center;\">0.60%</td></tr><tr><td class=\"results-table\" style=\"text-align: left;\">Days to Peak</td><td class=\"results-table\" style=\"text-align: center;\">24</td><td class=\"results-table\" style=\"text-align: center;\">74</td></tr><tr><td class=\"results-table\" style=\"text-align: left;\">$R_0$ = 0</td><td class=\"results-table\" style=\"text-align: center;\">51.6%</td><td class=\"results-table\" style=\"text-align: center;\">0.0%</td></tr></tbody></table>"
      ],
      "text/plain": [
       "<IPython.core.display.HTML object>"
      ]
     },
     "metadata": {},
     "output_type": "display_data"
    }
   ],
   "source": [
    "headers = ['Events', r'Events <br> $R_0$ > 0']\n",
    "\n",
    "means1 = find_means(res1)\n",
    "means1_gt0 = find_means_seconly(res1, means1)\n",
    "sizes = [res1.shape[0], find_seconly(res1).shape[0]]\n",
    "args = [means1, means1_gt0]\n",
    "    \n",
    "display(HTML(curve_table(headers, args, sizes)))"
   ]
  },
  {
   "cell_type": "markdown",
   "metadata": {},
   "source": [
    "The chart below shows the distribution of HIT for each of the 250 simulations. The vast majority of simulations resulted in no secondary infections (i.e. an outbreak never occured). Where an outbreak did take hold, outcomes centered around ~40% HIT."
   ]
  },
  {
   "cell_type": "code",
   "execution_count": 10,
   "metadata": {
    "tags": [
     "hide_input"
    ]
   },
   "outputs": [
    {
     "data": {
      "image/png": "[encoded data removed]",
      "text/plain": [
       "<Figure size 1152x720 with 1 Axes>"
      ]
     },
     "metadata": {
      "needs_background": "light"
     },
     "output_type": "display_data"
    }
   ],
   "source": [
    "from rknot.notebook import curvehist\n",
    "savepath = 'vids/us_w_load/events_hist'\n",
    "\n",
    "title = r'HIT: 250 Simulations of Hutch-based Events Scenario'\n",
    "curvehist([res1[:,1]], title=title, which='hit', savepath=savepath)"
   ]
  },
  {
   "cell_type": "markdown",
   "metadata": {},
   "source": [
    "### 2. Gates ###\n",
    "\n",
    "We replicate the [SIR Gates scenario](sir.ipynb#6.-Gates) by creating a separate group of  elderly isolated within a gate, intended to simulate care homes or assisted living centers.\n",
    "\n",
    "One augmentation is made: a small group of care home workers are added that will reqularly enter the gate to service residents. The care home workers will be drawn from the `20-49` age group.\n",
    "\n",
    "The new groups are:\n",
    "\n",
    "* `group2b`\n",
    "    * population of 66\n",
    "    * Assuming [2.2MM care home workers in the United States](http://phinational.org/wp-content/uploads/legacy/phi-home-care-workers-key-facts.pdf) out of a population of 330MM.\n",
    "    * remaining attributes similar to `20-49`\n",
    "    * events individual travel events for half the group, recurring every day\n",
    "* `group4a`\n",
    "    * population of 600 (2/3s of `group4`) \n",
    "    * IFR of 4.2%\n",
    "    * remaining attributes mathcing prior `70+` group\n",
    "* `group4b`\n",
    "    * population of 300 (1/3rd of `group4`)\n",
    "    * 25 locations\n",
    "    * IFR of 7.8%\n",
    "    * 'local' mover function\n",
    "    * not eligible for any events\n",
    "\n",
    "`group4b` used the `local` mover and its gated area has increased density. This is perhaps counter-intuitive. Care home residents are likely more well-mixed than the broader population and more closely follow normally-distributed contacts. So we approximate increased mixing with a higher `p-value`. Ideally, contact distribution in such environments would be researched for guidance.\n",
    "\n",
    "The event vbox has been adjusted to include the 5 groups that are not gated."
   ]
  },
  {
   "cell_type": "markdown",
   "metadata": {},
   "source": [
    "```python\n",
    "from rknot import Sim, Chart\n",
    "from rknot.events import Travel\n",
    "from rknot.dots.fhutch import tmr\n",
    "\n",
    "from rknot.sims import us_w_load_18\n",
    "\n",
    "group1 = dict(name='0-19', n=2700, n_inf=0, ifr=0.00003, mover=.98)\n",
    "group2a = dict(name='20-49', n=4034, n_inf=1, ifr=0.0002, mover=.98)\n",
    "group2b = dict(name='HCW', n=66, n_inf=0, ifr=0.0002, mover=.98)\n",
    "group3 = dict(name='50-69', n=2300, n_inf=1, ifr=0.005, mover=.98)\n",
    "group4a = dict(name='70+', n=600, n_inf=0, ifr=0.042, mover=.98)\n",
    "group4b = dict(name='70+G', n=300, n_inf=0, ifr=0.0683, mover='local', box=[1,5,1,5], box_is_gated=True)\n",
    "\n",
    "groups = [group1, group2a, group2b, group3, group4a, group4b]\n",
    "\n",
    "for e in us_w_load_18.events:\n",
    "    e.groups = [0,1,2,3,4]\n",
    "\n",
    "visit = Travel(name='visit', xy=[1,1], start_tick=3, groups=[1,3,4], capacity=1, duration=1, recurring=1)\n",
    "\n",
    "works = []\n",
    "for i in range(group2b['n'] // 2):\n",
    "    loc  = np.random.randint(1, 11, size=(2,)) \n",
    "    work = Travel(name=f'hcw-work-{i}', xy=loc, start_tick=1, groups=[2], capacity=1, duration=1, recurring=1)\n",
    "    works.append(work)\n",
    "\n",
    "for e in events_gated:\n",
    "    e.groups = [0,1,2,3,4]\n",
    "events_gated = events_gated + [visit] + works\n",
    "\n",
    "vbox = {'label': 'Events', 'box': 344}\n",
    "params = {'groups': groups, 'density': 1, 'days': 365, 'tmr_curve': tmr, 'vboxes': vbox, 'events': us_w_load_18.events}\n",
    "\n",
    "sim = Sim(**params)\n",
    "sim.run(dotlog=True)\n",
    "\n",
    "chart = Chart(sim).to_html5_video()\n",
    "```"
   ]
  },
  {
   "cell_type": "code",
   "execution_count": 11,
   "metadata": {
    "nbsphinx": "hidden"
   },
   "outputs": [],
   "source": [
    "from rknot import Sim\n",
    "from rknot.sims import us_w_load_18\n",
    "from rknot.helpers import ShelfHelp\n",
    "from rknot.dots.fhutch import tmr\n",
    "\n",
    "modulereload(us_w_load_18)\n",
    "\n",
    "assert 'susf' not in us_w_load_18.groups[1]"
   ]
  },
  {
   "cell_type": "code",
   "execution_count": 12,
   "metadata": {
    "nbsphinx": "hidden"
   },
   "outputs": [
    {
     "name": "stdout",
     "output_type": "stream",
     "text": [
      "This date does not exist for the specified key.\n",
      "Enter 0 to use the most recent date (default).\n",
      "Enter 1 to add a new entry.\n",
      "\n"
     ]
    }
   ],
   "source": [
    "file = 'tests/data/load_gates'\n",
    "key = 'load_gates_iters_RESULTS'\n",
    "simbase = us_w_load_18.__name__.split('.')[-1]\n",
    "\n",
    "if False:\n",
    "    from rknot.helpers import looper\n",
    "    \n",
    "    n = 50\n",
    "    contacts, nsecs, results, exceptions = looper(\n",
    "        n, sterile=False, **us_w_load_18.params_gated\n",
    "    )\n",
    "\n",
    "try:\n",
    "    tgt_R0 = 1.8\n",
    "    mu = 4\n",
    "    theta = 40\n",
    "    args = n, contacts, nsecs, results, tmr, simbase, tgt_R0, mu, theta\n",
    "except NameError:\n",
    "    args = []\n",
    "with ShelfHelp(file, key) as sh:\n",
    "    n, tmr, c1, nsecs, res1 = sh.values(*args)"
   ]
  },
  {
   "cell_type": "markdown",
   "metadata": {},
   "source": [
    "This time, we will first run 250 simulations of the scenario to find the average outcomes. The average results are shown in the table below:"
   ]
  },
  {
   "cell_type": "code",
   "execution_count": 13,
   "metadata": {
    "tags": [
     "hide_input"
    ]
   },
   "outputs": [
    {
     "data": {
      "text/html": [
       "<table class=\"results-table\"><thead><tr><th class=\"results-table\"></th><th class=\"results-table\" style=\"text-align: center;\">Gates</th><th class=\"results-table\" style=\"text-align: center;\">Gates<br>$R_0$>0</th></tr></thead><tbody><tr><td class=\"results-table\" style=\"text-align: left;\">n</td><td class=\"results-table\" style=\"text-align: center;\">50</td><td class=\"results-table\" style=\"text-align: center;\">16</td></tr><tr><td class=\"results-table\" style=\"text-align: left;\">Peak</td><td class=\"results-table\" style=\"text-align: center;\">11.4%</td><td class=\"results-table\" style=\"text-align: center;\">35.5%</td></tr><tr><td class=\"results-table\" style=\"text-align: left;\">HIT</td><td class=\"results-table\" style=\"text-align: center;\">14.1%</td><td class=\"results-table\" style=\"text-align: center;\">44.0%</td></tr><tr><td class=\"results-table\" style=\"text-align: left;\">Total</td><td class=\"results-table\" style=\"text-align: center;\">17.4%</td><td class=\"results-table\" style=\"text-align: center;\">54.4%</td></tr><tr><td class=\"results-table\" style=\"text-align: left;\">Fatalities</td><td class=\"results-table\" style=\"text-align: center;\">0.07%</td><td class=\"results-table\" style=\"text-align: center;\">0.21%</td></tr><tr><td class=\"results-table\" style=\"text-align: left;\">%>70</td><td class=\"results-table\" style=\"text-align: center;\">65.0%</td><td class=\"results-table\" style=\"text-align: center;\">65.0%</td></tr><tr><td class=\"results-table\" style=\"text-align: left;\">IFR</td><td class=\"results-table\" style=\"text-align: center;\">0.79%</td><td class=\"results-table\" style=\"text-align: center;\">0.39%</td></tr><tr><td class=\"results-table\" style=\"text-align: left;\">Days to Peak</td><td class=\"results-table\" style=\"text-align: center;\">29</td><td class=\"results-table\" style=\"text-align: center;\">79</td></tr><tr><td class=\"results-table\" style=\"text-align: left;\">$R_0$ = 0</td><td class=\"results-table\" style=\"text-align: center;\">50.0%</td><td class=\"results-table\" style=\"text-align: center;\">0.0%</td></tr></tbody></table>"
      ],
      "text/plain": [
       "<IPython.core.display.HTML object>"
      ]
     },
     "metadata": {},
     "output_type": "display_data"
    }
   ],
   "source": [
    "import numpy as np\n",
    "\n",
    "from rknot.notebook import curve_table, md\n",
    "\n",
    "headers = ['Gates', r'Gates<br>$R_0$>0'] \n",
    "means1 = find_means(res1)\n",
    "means1_gt0 = find_means_seconly(res1, means1)\n",
    "sizes = [res1.shape[0], find_seconly(res1).shape[0]]\n",
    "\n",
    "args = [means1, means1_gt0]\n",
    "display(HTML(curve_table(headers, args, sizes)))"
   ]
  },
  {
   "cell_type": "markdown",
   "metadata": {},
   "source": [
    "Below we can see the distribution of HIT across the 250 simulations. The distribution is very similar to the [Events](#1.-Events)."
   ]
  },
  {
   "cell_type": "code",
   "execution_count": 14,
   "metadata": {
    "tags": [
     "hide_input"
    ]
   },
   "outputs": [
    {
     "data": {
      "image/png": "[encoded data removed]",
      "text/plain": [
       "<Figure size 1152x720 with 1 Axes>"
      ]
     },
     "metadata": {
      "needs_background": "light"
     },
     "output_type": "display_data"
    }
   ],
   "source": [
    "from rknot.notebook import curvehist\n",
    "savepath = 'vids/us_w_load/gates_hist'\n",
    "\n",
    "title = r'HIT: 250 Simulations of Hutch-based Gates Scenario'\n",
    "curvehist([res1[:,1]], title=title, which='hit', savepath=savepath)"
   ]
  },
  {
   "cell_type": "code",
   "execution_count": 15,
   "metadata": {
    "nbsphinx": "hidden"
   },
   "outputs": [
    {
     "name": "stdout",
     "output_type": "stream",
     "text": [
      "The autoreload extension is already loaded. To reload it, use:\n",
      "  %reload_ext autoreload\n"
     ]
    }
   ],
   "source": [
    "%load_ext autoreload\n",
    "%autoreload 2\n",
    "\n",
    "if RUN:\n",
    "    from rknot.sim import recycler\n",
    "    from rknot.helpers import get_results\n",
    "    from rknot.notebook import modulereload\n",
    "    from rknot.sims import us_w_load_18\n",
    "    \n",
    "    modulereload(us_w_load_18)\n",
    "    \n",
    "    sim_cycler = recycler(100)\n",
    "    while True:    \n",
    "        sim = sim_cycler(pbar_leave=False, pbar=False, **us_w_load_18.params_gated)\n",
    "        sim.run(dotlog=True, pbar_leave=False, pbar=False)\n",
    "\n",
    "        res = get_results(sim)\n",
    "        print (res)\n",
    "        if .42 < res[1]:\n",
    "            break"
   ]
  },
  {
   "cell_type": "code",
   "execution_count": 16,
   "metadata": {
    "nbsphinx": "hidden"
   },
   "outputs": [],
   "source": [
    "from datetime import datetime as dt\n",
    "from rknot.helpers import picksave, pickload\n",
    "file = 'vids/us_w_load/gates'\n",
    "\n",
    "if SAVE:\n",
    "    delattr(sim, 'server')\n",
    "    delattr(sim, 'workers')\n",
    "    sims = pickload(file)\n",
    "    sims[dt.now()] = sim\n",
    "    picksave(file, sims)\n",
    "\n",
    "    sims = pickload(file)\n",
    "    run_date, sim = sorted(sims.items())[-1] # Get the most recent saved sim\n",
    "else:\n",
    "    sims = pickload(file)\n",
    "    run_date, sim = sorted(sims.items())[-1] # Get the most recent saved sim\n",
    "    res = get_results(sim)"
   ]
  },
  {
   "cell_type": "code",
   "execution_count": 17,
   "metadata": {
    "nbsphinx": "hidden",
    "scrolled": true
   },
   "outputs": [],
   "source": [
    "if SAVE_CHARTS:\n",
    "    from rknot import Chart\n",
    "    PATH = 'vids/us_w_load/tests/'\n",
    "    chart_params = dict(reso_format='web', dotsize=.1)\n",
    "    chart = Chart(sim, show_intro=True, show_restricted=True, **chart_params).save(PATH + 'gates.mp4')"
   ]
  },
  {
   "cell_type": "markdown",
   "metadata": {},
   "source": [
    "And now we generate a representative simulation:"
   ]
  },
  {
   "cell_type": "code",
   "execution_count": 18,
   "metadata": {
    "tags": [
     "hide_input"
    ]
   },
   "outputs": [
    {
     "data": {
      "text/html": [
       "\n",
       "        <div style=\"text-align: center\">\n",
       "            <video width='900px' height='376.56903765690373px'\n",
       "            src=\"https://storage.googleapis.com/rknotvids/us_w_load/gates.mp4\" controls>Video Failed to Load</video>\n",
       "        </div>\n",
       "        <p></p>\n",
       "    "
      ],
      "text/plain": [
       "<IPython.core.display.HTML object>"
      ]
     },
     "metadata": {},
     "output_type": "display_data"
    }
   ],
   "source": [
    "from rknot.notebook import animHTML\n",
    "display(HTML(animHTML('us_w_load/gates')))"
   ]
  },
  {
   "cell_type": "markdown",
   "metadata": {},
   "source": [
    "The results are shown below compared to SIR scenario:"
   ]
  },
  {
   "cell_type": "code",
   "execution_count": 19,
   "metadata": {
    "tags": [
     "hide_input"
    ]
   },
   "outputs": [
    {
     "data": {
      "text/html": [
       "<table class=\"results-table\"><thead><tr><th class=\"results-table\"></th><th class=\"results-table\" style=\"text-align: center;\">Hutch</th><th class=\"results-table\" style=\"text-align: center;\">SIR</th></tr></thead><tbody><tr><td class=\"results-table\" style=\"text-align: left;\">Peak</td><td class=\"results-table\" style=\"text-align: center;\">39.6%</td><td class=\"results-table\" style=\"text-align: center;\">30.0%</td></tr><tr><td class=\"results-table\" style=\"text-align: left;\">HIT</td><td class=\"results-table\" style=\"text-align: center;\">44.9%</td><td class=\"results-table\" style=\"text-align: center;\">62.0%</td></tr><tr><td class=\"results-table\" style=\"text-align: left;\">Total</td><td class=\"results-table\" style=\"text-align: center;\">55.9%</td><td class=\"results-table\" style=\"text-align: center;\">83.0%</td></tr><tr><td class=\"results-table\" style=\"text-align: left;\">Fatalities</td><td class=\"results-table\" style=\"text-align: center;\">0.30%</td><td class=\"results-table\" style=\"text-align: center;\">0.52%</td></tr><tr><td class=\"results-table\" style=\"text-align: left;\">%>70</td><td class=\"results-table\" style=\"text-align: center;\">80.0%</td><td class=\"results-table\" style=\"text-align: center;\">40.0%</td></tr><tr><td class=\"results-table\" style=\"text-align: left;\">IFR</td><td class=\"results-table\" style=\"text-align: center;\">0.54%</td><td class=\"results-table\" style=\"text-align: center;\">0.62%</td></tr><tr><td class=\"results-table\" style=\"text-align: left;\">Days to Peak</td><td class=\"results-table\" style=\"text-align: center;\">58</td><td class=\"results-table\" style=\"text-align: center;\">66</td></tr></tbody></table>"
      ],
      "text/plain": [
       "<IPython.core.display.HTML object>"
      ]
     },
     "metadata": {},
     "output_type": "display_data"
    }
   ],
   "source": [
    "from rknot.notebook import md, curve_table\n",
    "\n",
    "import shelve\n",
    "sirfile = 'vids/baseus/tables'\n",
    "\n",
    "with shelve.open(sirfile, writeback=True) as db:\n",
    "    sirres = db['6']\n",
    "\n",
    "sirres = np.char.strip(sirres, '%').astype(np.float)\n",
    "sirres[:6] /= 100\n",
    "\n",
    "headers = ['Hutch', 'SIR']\n",
    "results = [res, sirres]\n",
    "display(HTML(curve_table(headers, results, style='results')))"
   ]
  },
  {
   "cell_type": "markdown",
   "metadata": {},
   "source": [
    "Again, relative to SIR, the simulation has lower, but steeper peak with a faster decline once HIT is reached. Also consistent with the Events scenario, a larger proportion of the fatalities are experienced among the elderly."
   ]
  },
  {
   "cell_type": "markdown",
   "metadata": {},
   "source": [
    "### 3. Restrict Large Gatherings ###\n",
    "\n",
    "As with the [SIR Model simulations](sir.ipynb#Policy), we can explore the impact of policy restrictions on spread in our more sophisticated environment. First, we will restrict large gatherings.\n",
    "\n",
    "We'll again restrict gatherings with 10+ capacity. We assume this policy is implemented on day 30. The restriction will last for 120 days.\n",
    "\n",
    "With a gamma distributed contact distribution, a very large number of contacts can be eliminated by eliminating just a small fraction of events."
   ]
  },
  {
   "cell_type": "code",
   "execution_count": 20,
   "metadata": {
    "nbsphinx": "hidden"
   },
   "outputs": [],
   "source": [
    "from rknot.sims import us_w_load_18\n",
    "from rknot.notebook import modulereload\n",
    "\n",
    "modulereload(us_w_load_18)"
   ]
  },
  {
   "cell_type": "code",
   "execution_count": 35,
   "metadata": {
    "tags": [
     "hide_input"
    ]
   },
   "outputs": [
    {
     "data": {
      "text/markdown": [
       "Below we see that events with capacity 10+ represent just 17.9% of all events:"
      ],
      "text/plain": [
       "<IPython.core.display.Markdown object>"
      ]
     },
     "metadata": {},
     "output_type": "display_data"
    }
   ],
   "source": [
    "text = f'Below we see that events with capacity 10+ represent just {per:.1%} of all events:'\n",
    "md(text)"
   ]
  },
  {
   "cell_type": "code",
   "execution_count": 36,
   "metadata": {},
   "outputs": [],
   "source": [
    "import numpy as np\n",
    "\n",
    "caps = np.array([e.capacity for e in us_w_load_18.events_gated])\n",
    "n_events = caps.shape[0]\n",
    "n_events_gt10 = np.bincount(caps)[10:].sum()\n",
    "per = n_events_gt10 / n_events"
   ]
  },
  {
   "cell_type": "code",
   "execution_count": 37,
   "metadata": {
    "tags": [
     "hide_input"
    ]
   },
   "outputs": [
    {
     "data": {
      "text/html": [
       "\n",
       "    <table>\n",
       "        <thead>\n",
       "            <tr>\n",
       "                <th class=\"results-table\"># of Events</th>\n",
       "                <th class=\"results-table\">Events<br>Cap > 10</th>\n",
       "                <th class=\"results-table\">%</th>\n",
       "            </tr>\n",
       "        </thead>\n",
       "        <tbody>\n",
       "            <tr>\n",
       "                <td class=\"results-table\">9,176</td>\n",
       "                <td class=\"results-table\">1,639</td>\n",
       "                <td class=\"results-table\">17.9%</td>\n",
       "            </tr>\n",
       "        </tbody>\n",
       "    </table>\n"
      ],
      "text/plain": [
       "<IPython.core.display.HTML object>"
      ]
     },
     "metadata": {},
     "output_type": "display_data"
    }
   ],
   "source": [
    "table = f'''\n",
    "    <table>\n",
    "        <thead>\n",
    "            <tr>\n",
    "                <th class=\"results-table\"># of Events</th>\n",
    "                <th class=\"results-table\">Events<br>Cap > 10</th>\n",
    "                <th class=\"results-table\">%</th>\n",
    "            </tr>\n",
    "        </thead>\n",
    "        <tbody>\n",
    "            <tr>\n",
    "                <td class=\"results-table\">{n_events:,.0f}</td>\n",
    "                <td class=\"results-table\">{n_events_gt10:,.0f}</td>\n",
    "                <td class=\"results-table\">{per:.1%}</td>\n",
    "            </tr>\n",
    "        </tbody>\n",
    "    </table>\n",
    "'''\n",
    "display(HTML(table))"
   ]
  },
  {
   "cell_type": "code",
   "execution_count": 103,
   "metadata": {},
   "outputs": [
    {
     "data": {
      "text/markdown": [
       "And that these events represent 83.8% of all contacts generated by those events:"
      ],
      "text/plain": [
       "<IPython.core.display.Markdown object>"
      ]
     },
     "metadata": {},
     "output_type": "display_data"
    }
   ],
   "source": [
    "text = f'And that these events represent {c_per:.1%} of all contacts generated by those events:'\n",
    "md(text)"
   ]
  },
  {
   "cell_type": "code",
   "execution_count": 104,
   "metadata": {},
   "outputs": [],
   "source": [
    "counts, bins = np.histogram(caps-1, bins=np.arange(max(caps) + 1))\n",
    "contacts = counts*(np.arange(counts.shape[0])+1)\n",
    "c_gt10 = np.sum(contacts[10:]*np.arange(10, contacts[10:].shape[0] + 10))\n",
    "c = np.sum(contacts*np.arange(contacts.shape[0]))\n",
    "c_per = c_gt10 / c"
   ]
  },
  {
   "cell_type": "code",
   "execution_count": 105,
   "metadata": {
    "tags": [
     "hide_input"
    ]
   },
   "outputs": [
    {
     "data": {
      "text/html": [
       "\n",
       "    <table>\n",
       "        <thead>\n",
       "            <tr>\n",
       "                <th class=\"results-table\"># of Events</th>\n",
       "                <th class=\"results-table\">Events<br>Cap > 10</th>\n",
       "                <th class=\"results-table\">%</th>\n",
       "            </tr>\n",
       "        </thead>\n",
       "        <tbody>\n",
       "            <tr>\n",
       "                <td class=\"results-table\">992,180</td>\n",
       "                <td class=\"results-table\">831,318</td>\n",
       "                <td class=\"results-table\">83.8%</td>\n",
       "            </tr>\n",
       "        </tbody>\n",
       "    </table>\n"
      ],
      "text/plain": [
       "<IPython.core.display.HTML object>"
      ]
     },
     "metadata": {},
     "output_type": "display_data"
    }
   ],
   "source": [
    "table = f'''\n",
    "    <table>\n",
    "        <thead>\n",
    "            <tr>\n",
    "                <th class=\"results-table\"># of Events</th>\n",
    "                <th class=\"results-table\">Events<br>Cap > 10</th>\n",
    "                <th class=\"results-table\">%</th>\n",
    "            </tr>\n",
    "        </thead>\n",
    "        <tbody>\n",
    "            <tr>\n",
    "                <td class=\"results-table\">{c:,.0f}</td>\n",
    "                <td class=\"results-table\">{c_gt10:,.0f}</td>\n",
    "                <td class=\"results-table\">{c_per:.1%}</td>\n",
    "            </tr>\n",
    "        </tbody>\n",
    "    </table>\n",
    "'''\n",
    "display(HTML(table))"
   ]
  },
  {
   "cell_type": "markdown",
   "metadata": {},
   "source": [
    "The updated structure is as follows:"
   ]
  },
  {
   "cell_type": "markdown",
   "metadata": {},
   "source": [
    "```python\n",
    "from rknot.events import Restriction\n",
    "\n",
    "lg = Restriction(name='large', start_tick=30, duration=120, criteria={'capacity': 10})\n",
    "\n",
    "events_w_res = events_gated + [lg]\n",
    "\n",
    "params = {'groups': groups, 'density': 1, 'days': 365, 'tmr_curve': tmr, 'vboxes': vbox, 'events': events_w_res}\n",
    "\n",
    "sim = Sim(**params)\n",
    "sim.run(dotlog=True)\n",
    "\n",
    "chart = Chart(sim).to_html5_video()\n",
    "```"
   ]
  },
  {
   "cell_type": "markdown",
   "metadata": {},
   "source": [
    "We again show the average results of 250 simulations in the table below:"
   ]
  },
  {
   "cell_type": "code",
   "execution_count": 40,
   "metadata": {
    "nbsphinx": "hidden"
   },
   "outputs": [],
   "source": [
    "from rknot.helpers import ShelfHelp\n",
    "\n",
    "resadhkey = {}\n",
    "args = []\n",
    "for adh in [0, .1, .25, .5, .8, 1]:\n",
    "    file = f'tests/data/load_lg_adh_{adh*100:.0f}'\n",
    "    key = f'load_lg_adh_{adh*100:.0f}_iters_RESULTS'\n",
    "    with ShelfHelp(file, key, no_input=True, load=True) as sh:\n",
    "        resadhkey[adh] = sh.values(*args)\n",
    "\n",
    "resmaxkey = {}\n",
    "args = []\n",
    "for cap in [25, 50, 75]:\n",
    "    file = f'tests/data/load_lg_{cap}max'\n",
    "    key = f'load_lg_{cap}max_iters_RESULTS'\n",
    "\n",
    "    with ShelfHelp(file, key, no_input=True, load=True) as sh:\n",
    "        resmaxkey[cap] = sh.values(*args)"
   ]
  },
  {
   "cell_type": "code",
   "execution_count": 41,
   "metadata": {
    "tags": [
     "hide_input"
    ]
   },
   "outputs": [
    {
     "data": {
      "text/html": [
       "<table class=\"results-table\"><thead><tr><th class=\"results-table\"></th><th class=\"results-table\" style=\"text-align: center;\">10Max</th><th class=\"results-table\" style=\"text-align: center;\">10Max<br>$R_0$ > 0</th></tr></thead><tbody><tr><td class=\"results-table\" style=\"text-align: left;\">n</td><td class=\"results-table\" style=\"text-align: center;\">250</td><td class=\"results-table\" style=\"text-align: center;\">53</td></tr><tr><td class=\"results-table\" style=\"text-align: left;\">Peak</td><td class=\"results-table\" style=\"text-align: center;\">1.3%</td><td class=\"results-table\" style=\"text-align: center;\">5.6%</td></tr><tr><td class=\"results-table\" style=\"text-align: left;\">HIT</td><td class=\"results-table\" style=\"text-align: center;\">1.3%</td><td class=\"results-table\" style=\"text-align: center;\">5.9%</td></tr><tr><td class=\"results-table\" style=\"text-align: left;\">Total</td><td class=\"results-table\" style=\"text-align: center;\">1.4%</td><td class=\"results-table\" style=\"text-align: center;\">6.1%</td></tr><tr><td class=\"results-table\" style=\"text-align: left;\">Fatalities</td><td class=\"results-table\" style=\"text-align: center;\">0.02%</td><td class=\"results-table\" style=\"text-align: center;\">0.10%</td></tr><tr><td class=\"results-table\" style=\"text-align: left;\">%>70</td><td class=\"results-table\" style=\"text-align: center;\">81.4%</td><td class=\"results-table\" style=\"text-align: center;\">81.4%</td></tr><tr><td class=\"results-table\" style=\"text-align: left;\">IFR</td><td class=\"results-table\" style=\"text-align: center;\">0.36%</td><td class=\"results-table\" style=\"text-align: center;\">1.38%</td></tr><tr><td class=\"results-table\" style=\"text-align: left;\">Days to Peak</td><td class=\"results-table\" style=\"text-align: center;\">15</td><td class=\"results-table\" style=\"text-align: center;\">39</td></tr><tr><td class=\"results-table\" style=\"text-align: left;\">$R_0$ = 0</td><td class=\"results-table\" style=\"text-align: center;\">48.0%</td><td class=\"results-table\" style=\"text-align: center;\">0.0%</td></tr></tbody></table>"
      ],
      "text/plain": [
       "<IPython.core.display.HTML object>"
      ]
     },
     "metadata": {},
     "output_type": "display_data"
    }
   ],
   "source": [
    "from IPython.core.display import display, HTML\n",
    "import numpy as np\n",
    "from rknot.notebook import curve_table, md\n",
    "from rknot.helpers import find_means, find_means_seconly, find_seconly\n",
    "\n",
    "headers = ['10Max', r'10Max<br>$R_0$ > 0'] \n",
    "means = find_means(resadhkey[1][-1])\n",
    "means_seconly = find_means_seconly(resadhkey[1][-1], means)\n",
    "\n",
    "args = [means, means_seconly]\n",
    "sizes = [resadhkey[1][-1].shape[0], find_seconly(resadhkey[1][-1]).shape[0]]\n",
    "\n",
    "display(HTML(curve_table(headers, args, sizes)))"
   ]
  },
  {
   "cell_type": "markdown",
   "metadata": {},
   "source": [
    "We can see that restricting contacts to a maximum of 10 per day has a dramatic impact on spread, reducing the total amount of infections and significantly shortening the duration.\n",
    "\n",
    "We can see below that the vast majority (almost 80%) of simulations resulted in no outbreak at all. Note, however, that some simulations resulted in moderate outbreaks. So given enough iterations (say among different municipalities, provinces, states or countries), a significant outbreak is sure to occur despite the best efforts of policy."
   ]
  },
  {
   "cell_type": "code",
   "execution_count": 42,
   "metadata": {
    "tags": [
     "hide_input"
    ]
   },
   "outputs": [
    {
     "data": {
      "image/png": "[encoded data removed]",
      "text/plain": [
       "<Figure size 1152x720 with 1 Axes>"
      ]
     },
     "metadata": {
      "needs_background": "light"
     },
     "output_type": "display_data"
    }
   ],
   "source": [
    "from rknot.notebook import curvehist\n",
    "savepath = 'vids/us_w_load/large_gatherings_hist'\n",
    "title = r'Total Infections: Restricting Large Gatherings'\n",
    "\n",
    "curvehist([resadhkey[1][-1][:,2]], title=title, which='tot', savepath=savepath)"
   ]
  },
  {
   "cell_type": "code",
   "execution_count": 43,
   "metadata": {
    "nbsphinx": "hidden"
   },
   "outputs": [
    {
     "name": "stdout",
     "output_type": "stream",
     "text": [
      "The autoreload extension is already loaded. To reload it, use:\n",
      "  %reload_ext autoreload\n"
     ]
    }
   ],
   "source": [
    "%load_ext autoreload\n",
    "%autoreload 2\n",
    "\n",
    "if RUN:\n",
    "    from rknot.sim import recycler\n",
    "    from rknot.helpers import get_results\n",
    "    from rknot.notebook import modulereload\n",
    "    from rknot.sims import us_w_load_18\n",
    "    \n",
    "    modulereload(us_w_load_18)\n",
    "    \n",
    "    large_gatherings = Restriction(\n",
    "        name='large', start_tick=30, duration=120, criteria={'capacity': 10}\n",
    "    )\n",
    "    events_w_res = us_w_load_18.events_gated + [large_gatherings]\n",
    "\n",
    "    us_w_load_18.params_gated['events'] = events_w_res\n",
    "\n",
    "    sim_cycler = recycler(100)\n",
    "    while True:    \n",
    "        sim = sim_cycler(pbar_leave=False, pbar=False, **us_w_load_18.params_gated)\n",
    "        sim.run(dotlog=True, pbar_leave=False, pbar=False)\n",
    "\n",
    "        res = get_results(sim)\n",
    "        if .05 < res[1]:\n",
    "            print (res)\n",
    "            break    "
   ]
  },
  {
   "cell_type": "code",
   "execution_count": 44,
   "metadata": {
    "nbsphinx": "hidden"
   },
   "outputs": [],
   "source": [
    "from datetime import datetime as dt\n",
    "from rknot.helpers import picksave, pickload, get_results\n",
    "file = 'vids/us_w_load/large_gatherings'\n",
    "\n",
    "if SAVE:\n",
    "    delattr(sim, 'server')\n",
    "    delattr(sim, 'workers')\n",
    "    sims = pickload(file)\n",
    "    sims[dt.now()] = sim\n",
    "    picksave(file, sims)\n",
    "\n",
    "    sims = pickload(file)\n",
    "    run_date, sim = sorted(sims.items())[-1] # Get the most recent saved sim\n",
    "else:\n",
    "    sims = pickload(file)\n",
    "    run_date, sim = sorted(sims.items())[-1] # Get the most recent saved sim\n",
    "    res = get_results(sim)"
   ]
  },
  {
   "cell_type": "code",
   "execution_count": 45,
   "metadata": {
    "nbsphinx": "hidden"
   },
   "outputs": [],
   "source": [
    "if SAVE_CHARTS:\n",
    "    from rknot import Chart\n",
    "    PATH = 'vids/us_w_load/tests/'\n",
    "    chart_params = dict(reso_format='web', dotsize=.1)\n",
    "    chart = Chart(sim, show_intro=True, show_restricted=True, **chart_params).save(PATH + 'large_gatherings.mp4')"
   ]
  },
  {
   "cell_type": "code",
   "execution_count": 46,
   "metadata": {
    "tags": [
     "hide_input"
    ]
   },
   "outputs": [
    {
     "data": {
      "text/html": [
       "\n",
       "        <div style=\"text-align: center\">\n",
       "            <video width='900px' height='376.56903765690373px'\n",
       "            src=\"https://storage.googleapis.com/rknotvids/us_w_load/large_gatherings.mp4\" controls>Video Failed to Load</video>\n",
       "        </div>\n",
       "        <p></p>\n",
       "    "
      ],
      "text/plain": [
       "<IPython.core.display.HTML object>"
      ]
     },
     "metadata": {},
     "output_type": "display_data"
    }
   ],
   "source": [
    "from rknot.notebook import animHTML\n",
    "display(HTML(animHTML('us_w_load/large_gatherings')))"
   ]
  },
  {
   "cell_type": "markdown",
   "metadata": {},
   "source": [
    "The results of the simulation are shown in the table below, compared with the same scenario from the SIR model simulations:"
   ]
  },
  {
   "cell_type": "code",
   "execution_count": 47,
   "metadata": {
    "tags": [
     "hide_input"
    ]
   },
   "outputs": [
    {
     "data": {
      "text/html": [
       "<table class=\"results-table\"><thead><tr><th class=\"results-table\"></th><th class=\"results-table\" style=\"text-align: center;\">Hutch</th><th class=\"results-table\" style=\"text-align: center;\">SIR</th></tr></thead><tbody><tr><td class=\"results-table\" style=\"text-align: left;\">Peak</td><td class=\"results-table\" style=\"text-align: center;\">10.7%</td><td class=\"results-table\" style=\"text-align: center;\">15.0%</td></tr><tr><td class=\"results-table\" style=\"text-align: left;\">HIT</td><td class=\"results-table\" style=\"text-align: center;\">13.1%</td><td class=\"results-table\" style=\"text-align: center;\">28.0%</td></tr><tr><td class=\"results-table\" style=\"text-align: left;\">Total</td><td class=\"results-table\" style=\"text-align: center;\">13.6%</td><td class=\"results-table\" style=\"text-align: center;\">73.0%</td></tr><tr><td class=\"results-table\" style=\"text-align: left;\">Fatalities</td><td class=\"results-table\" style=\"text-align: center;\">0.24%</td><td class=\"results-table\" style=\"text-align: center;\">0.45%</td></tr><tr><td class=\"results-table\" style=\"text-align: left;\">%>70</td><td class=\"results-table\" style=\"text-align: center;\">95.8%</td><td class=\"results-table\" style=\"text-align: center;\">38.0%</td></tr><tr><td class=\"results-table\" style=\"text-align: left;\">IFR</td><td class=\"results-table\" style=\"text-align: center;\">1.77%</td><td class=\"results-table\" style=\"text-align: center;\">0.62%</td></tr><tr><td class=\"results-table\" style=\"text-align: left;\">Days to Peak</td><td class=\"results-table\" style=\"text-align: center;\">49</td><td class=\"results-table\" style=\"text-align: center;\">69</td></tr></tbody></table>"
      ],
      "text/plain": [
       "<IPython.core.display.HTML object>"
      ]
     },
     "metadata": {},
     "output_type": "display_data"
    }
   ],
   "source": [
    "import shelve\n",
    "sirfile = 'vids/baseus/tables'\n",
    "\n",
    "with shelve.open(sirfile, writeback=True) as db:\n",
    "    sirres = db['large']\n",
    "\n",
    "sirres = np.char.strip(sirres, '%').astype(np.float)\n",
    "sirres[:6] /= 100\n",
    "\n",
    "results = [res, sirres]\n",
    "\n",
    "headers = ['Hutch', 'SIR']\n",
    "display(HTML(curve_table(headers, results, style='results')))"
   ]
  },
  {
   "cell_type": "markdown",
   "metadata": {},
   "source": [
    "The Hutch model results in a far more muted curve. This [aligns with research](https://www.medrxiv.org/content/10.1101/2020.08.07.20169920v3.full.pdf) that indicates super-spreader events (where a single individual is responsible for a large number of secondary infections) are responsible for the vast majority of secondary infections.\n",
    "\n",
    "When those superspreader events are eliminated, spread is curtailed."
   ]
  },
  {
   "cell_type": "markdown",
   "metadata": {},
   "source": [
    "This result is somewhat confounding, however, given that many jurisidictions across the global have implemented a similar policy without such a dramatic impact.\n",
    "\n",
    "Some reasons for this deviation may include:\n",
    "\n",
    "1. few policies have truly limited all people to less than 10 contacts per day for 120 days. Often there have been exemptions for essential services. For example, during the second wave in North America, many children continued to go to school.\n",
    "2. adherence to such policies is likely not 100%.\n",
    "3. mixing amongst jurisdictions with different policies"
   ]
  },
  {
   "cell_type": "markdown",
   "metadata": {},
   "source": [
    "As a means of rough investigation, simulations were ran for a dozen scenarios of different maximum event capacities and adherence factors (and some combinations). The results are shown in the tables below:"
   ]
  },
  {
   "cell_type": "raw",
   "metadata": {},
   "source": [
    "Here we see the results of different maximum event capacities:\n"
   ]
  },
  {
   "cell_type": "code",
   "execution_count": 48,
   "metadata": {
    "tags": [
     "hide_input"
    ]
   },
   "outputs": [
    {
     "data": {
      "text/html": [
       "<table class=\"results-table\"><thead><tr><th class=\"results-table\"></th><th class=\"results-table\" style=\"text-align: center;\">25Max</th><th class=\"results-table\" style=\"text-align: center;\">50Max</th><th class=\"results-table\" style=\"text-align: center;\">75Max</th><th class=\"results-table\" style=\"text-align: center;\">25Max<br>$R_0$ > 0</th><th class=\"results-table\" style=\"text-align: center;\">50Max<br>$R_0$ > 0</th><th class=\"results-table\" style=\"text-align: center;\">75Max<br>$R_0$ > 0</th></tr></thead><tbody><tr><td class=\"results-table\" style=\"text-align: left;\">n</td><td class=\"results-table\" style=\"text-align: center;\">250</td><td class=\"results-table\" style=\"text-align: center;\">250</td><td class=\"results-table\" style=\"text-align: center;\">250</td><td class=\"results-table\" style=\"text-align: center;\">67</td><td class=\"results-table\" style=\"text-align: center;\">56</td><td class=\"results-table\" style=\"text-align: center;\">67</td></tr><tr><td class=\"results-table\" style=\"text-align: left;\">Peak</td><td class=\"results-table\" style=\"text-align: center;\">1.7%</td><td class=\"results-table\" style=\"text-align: center;\">3.4%</td><td class=\"results-table\" style=\"text-align: center;\">6.6%</td><td class=\"results-table\" style=\"text-align: center;\">6.1%</td><td class=\"results-table\" style=\"text-align: center;\">15.0%</td><td class=\"results-table\" style=\"text-align: center;\">24.4%</td></tr><tr><td class=\"results-table\" style=\"text-align: left;\">HIT</td><td class=\"results-table\" style=\"text-align: center;\">1.8%</td><td class=\"results-table\" style=\"text-align: center;\">5.3%</td><td class=\"results-table\" style=\"text-align: center;\">8.7%</td><td class=\"results-table\" style=\"text-align: center;\">6.6%</td><td class=\"results-table\" style=\"text-align: center;\">23.3%</td><td class=\"results-table\" style=\"text-align: center;\">32.2%</td></tr><tr><td class=\"results-table\" style=\"text-align: left;\">Total</td><td class=\"results-table\" style=\"text-align: center;\">2.0%</td><td class=\"results-table\" style=\"text-align: center;\">7.3%</td><td class=\"results-table\" style=\"text-align: center;\">11.6%</td><td class=\"results-table\" style=\"text-align: center;\">7.3%</td><td class=\"results-table\" style=\"text-align: center;\">32.4%</td><td class=\"results-table\" style=\"text-align: center;\">43.0%</td></tr><tr><td class=\"results-table\" style=\"text-align: left;\">Fatalities</td><td class=\"results-table\" style=\"text-align: center;\">0.03%</td><td class=\"results-table\" style=\"text-align: center;\">0.06%</td><td class=\"results-table\" style=\"text-align: center;\">0.09%</td><td class=\"results-table\" style=\"text-align: center;\">0.12%</td><td class=\"results-table\" style=\"text-align: center;\">0.26%</td><td class=\"results-table\" style=\"text-align: center;\">0.33%</td></tr><tr><td class=\"results-table\" style=\"text-align: left;\">%>70</td><td class=\"results-table\" style=\"text-align: center;\">76.0%</td><td class=\"results-table\" style=\"text-align: center;\">82.5%</td><td class=\"results-table\" style=\"text-align: center;\">82.4%</td><td class=\"results-table\" style=\"text-align: center;\">76.0%</td><td class=\"results-table\" style=\"text-align: center;\">82.5%</td><td class=\"results-table\" style=\"text-align: center;\">82.4%</td></tr><tr><td class=\"results-table\" style=\"text-align: left;\">IFR</td><td class=\"results-table\" style=\"text-align: center;\">0.91%</td><td class=\"results-table\" style=\"text-align: center;\">0.42%</td><td class=\"results-table\" style=\"text-align: center;\">0.36%</td><td class=\"results-table\" style=\"text-align: center;\">1.29%</td><td class=\"results-table\" style=\"text-align: center;\">0.86%</td><td class=\"results-table\" style=\"text-align: center;\">0.74%</td></tr><tr><td class=\"results-table\" style=\"text-align: left;\">Days to Peak</td><td class=\"results-table\" style=\"text-align: center;\">16</td><td class=\"results-table\" style=\"text-align: center;\">25</td><td class=\"results-table\" style=\"text-align: center;\">24</td><td class=\"results-table\" style=\"text-align: center;\">44</td><td class=\"results-table\" style=\"text-align: center;\">97</td><td class=\"results-table\" style=\"text-align: center;\">75</td></tr><tr><td class=\"results-table\" style=\"text-align: left;\">$R_0$ = 0</td><td class=\"results-table\" style=\"text-align: center;\">59.6%</td><td class=\"results-table\" style=\"text-align: center;\">63.2%</td><td class=\"results-table\" style=\"text-align: center;\">52.4%</td><td class=\"results-table\" style=\"text-align: center;\">0.0%</td><td class=\"results-table\" style=\"text-align: center;\">0.0%</td><td class=\"results-table\" style=\"text-align: center;\">0.0%</td></tr></tbody></table>"
      ],
      "text/plain": [
       "<IPython.core.display.HTML object>"
      ]
     },
     "metadata": {},
     "output_type": "display_data"
    }
   ],
   "source": [
    "import numpy as np\n",
    "from rknot.notebook import curve_table, md\n",
    "from rknot.helpers import find_means, find_means_seconly, find_seconly\n",
    "\n",
    "head = [f'{k}Max' for k in resmaxkey.keys()]\n",
    "headex = [h + r'<br>$R_0$ > 0' for h in head]\n",
    "headers = head + headex\n",
    "\n",
    "vals = [v[4] for v in resmaxkey.values()]\n",
    "means = [find_means(val) for val in vals]\n",
    "means_seconly = [find_means_seconly(vals[i], means[i]) for i in range(len(vals))]\n",
    "sizes = [val.shape[0] for val in vals] + [find_seconly(val).shape[0] for val in vals]\n",
    "\n",
    "args = means + means_seconly\n",
    "\n",
    "display(HTML(curve_table(headers, args, sizes)))"
   ]
  },
  {
   "cell_type": "markdown",
   "metadata": {},
   "source": [
    "And below the results of different adherence factors for a policy of maximum capacity 10. Adherence of 100 means full compliance and matches the first scenario above. Aherence of 0 means no compliance and outcomes match that of the [Gates scenario](#2.-Gates) above.\n",
    "\n",
    "We have split the table in two sections, one with all simulations and the second showing only those with seconedary infections."
   ]
  },
  {
   "cell_type": "code",
   "execution_count": 49,
   "metadata": {
    "tags": [
     "hide_input"
    ]
   },
   "outputs": [
    {
     "data": {
      "text/html": [
       "<table class=\"results-table\"><thead><tr><th class=\"results-table\"></th><th class=\"results-table\" style=\"text-align: center;\">0ADH</th><th class=\"results-table\" style=\"text-align: center;\">10ADH</th><th class=\"results-table\" style=\"text-align: center;\">25ADH</th><th class=\"results-table\" style=\"text-align: center;\">50ADH</th><th class=\"results-table\" style=\"text-align: center;\">80ADH</th><th class=\"results-table\" style=\"text-align: center;\">100ADH</th></tr></thead><tbody><tr><td class=\"results-table\" style=\"text-align: left;\">n</td><td class=\"results-table\" style=\"text-align: center;\">250</td><td class=\"results-table\" style=\"text-align: center;\">100</td><td class=\"results-table\" style=\"text-align: center;\">100</td><td class=\"results-table\" style=\"text-align: center;\">100</td><td class=\"results-table\" style=\"text-align: center;\">100</td><td class=\"results-table\" style=\"text-align: center;\">250</td></tr><tr><td class=\"results-table\" style=\"text-align: left;\">Peak</td><td class=\"results-table\" style=\"text-align: center;\">11.1%</td><td class=\"results-table\" style=\"text-align: center;\">6.9%</td><td class=\"results-table\" style=\"text-align: center;\">6.1%</td><td class=\"results-table\" style=\"text-align: center;\">1.4%</td><td class=\"results-table\" style=\"text-align: center;\">1.1%</td><td class=\"results-table\" style=\"text-align: center;\">1.3%</td></tr><tr><td class=\"results-table\" style=\"text-align: left;\">HIT</td><td class=\"results-table\" style=\"text-align: center;\">13.7%</td><td class=\"results-table\" style=\"text-align: center;\">10.5%</td><td class=\"results-table\" style=\"text-align: center;\">7.8%</td><td class=\"results-table\" style=\"text-align: center;\">1.5%</td><td class=\"results-table\" style=\"text-align: center;\">1.2%</td><td class=\"results-table\" style=\"text-align: center;\">1.3%</td></tr><tr><td class=\"results-table\" style=\"text-align: left;\">Total</td><td class=\"results-table\" style=\"text-align: center;\">16.9%</td><td class=\"results-table\" style=\"text-align: center;\">13.3%</td><td class=\"results-table\" style=\"text-align: center;\">11.3%</td><td class=\"results-table\" style=\"text-align: center;\">1.7%</td><td class=\"results-table\" style=\"text-align: center;\">1.2%</td><td class=\"results-table\" style=\"text-align: center;\">1.4%</td></tr><tr><td class=\"results-table\" style=\"text-align: left;\">Fatalities</td><td class=\"results-table\" style=\"text-align: center;\">0.12%</td><td class=\"results-table\" style=\"text-align: center;\">0.10%</td><td class=\"results-table\" style=\"text-align: center;\">0.10%</td><td class=\"results-table\" style=\"text-align: center;\">0.02%</td><td class=\"results-table\" style=\"text-align: center;\">0.02%</td><td class=\"results-table\" style=\"text-align: center;\">0.02%</td></tr><tr><td class=\"results-table\" style=\"text-align: left;\">%>70</td><td class=\"results-table\" style=\"text-align: center;\">81.3%</td><td class=\"results-table\" style=\"text-align: center;\">84.8%</td><td class=\"results-table\" style=\"text-align: center;\">80.8%</td><td class=\"results-table\" style=\"text-align: center;\">73.4%</td><td class=\"results-table\" style=\"text-align: center;\">75.7%</td><td class=\"results-table\" style=\"text-align: center;\">81.4%</td></tr><tr><td class=\"results-table\" style=\"text-align: left;\">IFR</td><td class=\"results-table\" style=\"text-align: center;\">0.24%</td><td class=\"results-table\" style=\"text-align: center;\">0.27%</td><td class=\"results-table\" style=\"text-align: center;\">0.36%</td><td class=\"results-table\" style=\"text-align: center;\">0.28%</td><td class=\"results-table\" style=\"text-align: center;\">0.32%</td><td class=\"results-table\" style=\"text-align: center;\">0.36%</td></tr><tr><td class=\"results-table\" style=\"text-align: left;\">Days to Peak</td><td class=\"results-table\" style=\"text-align: center;\">27</td><td class=\"results-table\" style=\"text-align: center;\">32</td><td class=\"results-table\" style=\"text-align: center;\">26</td><td class=\"results-table\" style=\"text-align: center;\">16</td><td class=\"results-table\" style=\"text-align: center;\">12</td><td class=\"results-table\" style=\"text-align: center;\">15</td></tr><tr><td class=\"results-table\" style=\"text-align: left;\">$R_0$ = 0</td><td class=\"results-table\" style=\"text-align: center;\">49.2%</td><td class=\"results-table\" style=\"text-align: center;\">54.0%</td><td class=\"results-table\" style=\"text-align: center;\">48.0%</td><td class=\"results-table\" style=\"text-align: center;\">50.0%</td><td class=\"results-table\" style=\"text-align: center;\">57.0%</td><td class=\"results-table\" style=\"text-align: center;\">48.0%</td></tr></tbody></table>"
      ],
      "text/plain": [
       "<IPython.core.display.HTML object>"
      ]
     },
     "metadata": {},
     "output_type": "display_data"
    }
   ],
   "source": [
    "head = [f'{adh*100:.0f}ADH' for adh in resadhkey.keys()]\n",
    "vals = [v[4] for v in resadhkey.values()]\n",
    "means = [find_means(val) for val in vals]\n",
    "sizes = [val.shape[0] for val in vals]\n",
    "\n",
    "display(HTML(curve_table(head, means, sizes)))"
   ]
  },
  {
   "cell_type": "code",
   "execution_count": 50,
   "metadata": {
    "tags": [
     "hide_input"
    ]
   },
   "outputs": [
    {
     "data": {
      "text/html": [
       "<table class=\"results-table\"><thead><tr><th class=\"results-table\"></th><th class=\"results-table\" style=\"text-align: center;\">0ADH<br>$R_0$ > 0</th><th class=\"results-table\" style=\"text-align: center;\">10ADH<br>$R_0$ > 0</th><th class=\"results-table\" style=\"text-align: center;\">25ADH<br>$R_0$ > 0</th><th class=\"results-table\" style=\"text-align: center;\">50ADH<br>$R_0$ > 0</th><th class=\"results-table\" style=\"text-align: center;\">80ADH<br>$R_0$ > 0</th><th class=\"results-table\" style=\"text-align: center;\">100ADH<br>$R_0$ > 0</th></tr></thead><tbody><tr><td class=\"results-table\" style=\"text-align: left;\">n</td><td class=\"results-table\" style=\"text-align: center;\">77</td><td class=\"results-table\" style=\"text-align: center;\">30</td><td class=\"results-table\" style=\"text-align: center;\">31</td><td class=\"results-table\" style=\"text-align: center;\">22</td><td class=\"results-table\" style=\"text-align: center;\">17</td><td class=\"results-table\" style=\"text-align: center;\">53</td></tr><tr><td class=\"results-table\" style=\"text-align: left;\">Peak</td><td class=\"results-table\" style=\"text-align: center;\">35.9%</td><td class=\"results-table\" style=\"text-align: center;\">23.0%</td><td class=\"results-table\" style=\"text-align: center;\">19.6%</td><td class=\"results-table\" style=\"text-align: center;\">6.1%</td><td class=\"results-table\" style=\"text-align: center;\">6.2%</td><td class=\"results-table\" style=\"text-align: center;\">5.6%</td></tr><tr><td class=\"results-table\" style=\"text-align: left;\">HIT</td><td class=\"results-table\" style=\"text-align: center;\">44.4%</td><td class=\"results-table\" style=\"text-align: center;\">35.0%</td><td class=\"results-table\" style=\"text-align: center;\">25.2%</td><td class=\"results-table\" style=\"text-align: center;\">6.7%</td><td class=\"results-table\" style=\"text-align: center;\">6.7%</td><td class=\"results-table\" style=\"text-align: center;\">5.9%</td></tr><tr><td class=\"results-table\" style=\"text-align: left;\">Total</td><td class=\"results-table\" style=\"text-align: center;\">54.7%</td><td class=\"results-table\" style=\"text-align: center;\">44.3%</td><td class=\"results-table\" style=\"text-align: center;\">36.2%</td><td class=\"results-table\" style=\"text-align: center;\">7.6%</td><td class=\"results-table\" style=\"text-align: center;\">7.0%</td><td class=\"results-table\" style=\"text-align: center;\">6.1%</td></tr><tr><td class=\"results-table\" style=\"text-align: left;\">Fatalities</td><td class=\"results-table\" style=\"text-align: center;\">0.39%</td><td class=\"results-table\" style=\"text-align: center;\">0.33%</td><td class=\"results-table\" style=\"text-align: center;\">0.31%</td><td class=\"results-table\" style=\"text-align: center;\">0.10%</td><td class=\"results-table\" style=\"text-align: center;\">0.11%</td><td class=\"results-table\" style=\"text-align: center;\">0.10%</td></tr><tr><td class=\"results-table\" style=\"text-align: left;\">%>70</td><td class=\"results-table\" style=\"text-align: center;\">81.3%</td><td class=\"results-table\" style=\"text-align: center;\">84.8%</td><td class=\"results-table\" style=\"text-align: center;\">80.8%</td><td class=\"results-table\" style=\"text-align: center;\">73.4%</td><td class=\"results-table\" style=\"text-align: center;\">75.7%</td><td class=\"results-table\" style=\"text-align: center;\">81.4%</td></tr><tr><td class=\"results-table\" style=\"text-align: left;\">IFR</td><td class=\"results-table\" style=\"text-align: center;\">0.71%</td><td class=\"results-table\" style=\"text-align: center;\">0.76%</td><td class=\"results-table\" style=\"text-align: center;\">0.86%</td><td class=\"results-table\" style=\"text-align: center;\">1.07%</td><td class=\"results-table\" style=\"text-align: center;\">1.28%</td><td class=\"results-table\" style=\"text-align: center;\">1.38%</td></tr><tr><td class=\"results-table\" style=\"text-align: left;\">Days to Peak</td><td class=\"results-table\" style=\"text-align: center;\">74</td><td class=\"results-table\" style=\"text-align: center;\">95</td><td class=\"results-table\" style=\"text-align: center;\">71</td><td class=\"results-table\" style=\"text-align: center;\">46</td><td class=\"results-table\" style=\"text-align: center;\">41</td><td class=\"results-table\" style=\"text-align: center;\">39</td></tr><tr><td class=\"results-table\" style=\"text-align: left;\">$R_0$ = 0</td><td class=\"results-table\" style=\"text-align: center;\">0.0%</td><td class=\"results-table\" style=\"text-align: center;\">0.0%</td><td class=\"results-table\" style=\"text-align: center;\">0.0%</td><td class=\"results-table\" style=\"text-align: center;\">0.0%</td><td class=\"results-table\" style=\"text-align: center;\">0.0%</td><td class=\"results-table\" style=\"text-align: center;\">0.0%</td></tr></tbody></table>"
      ],
      "text/plain": [
       "<IPython.core.display.HTML object>"
      ]
     },
     "metadata": {},
     "output_type": "display_data"
    }
   ],
   "source": [
    "headex = [h + r'<br>$R_0$ > 0' for h in head]\n",
    "vals = [v[4] for v in resadhkey.values()]\n",
    "means_seconly = [find_means_seconly(vals[i], means[i]) for i in range(len(vals))]\n",
    "sizes = [find_seconly(val).shape[0] for val in vals]\n",
    "\n",
    "display(HTML(curve_table(headex, means_seconly, sizes)))"
   ]
  },
  {
   "cell_type": "code",
   "execution_count": 51,
   "metadata": {
    "nbsphinx": "hidden"
   },
   "outputs": [],
   "source": [
    "from rknot.helpers import ShelfHelp\n",
    "\n",
    "reskey = {}\n",
    "args = []\n",
    "for cap in [25, 50]:\n",
    "    reskey[cap] = {}\n",
    "    for adh in [.5, .8]:\n",
    "        file = f'tests/data/load_lg_adh_{int(adh*100)}_{cap}max'\n",
    "        key = f'load_lg_adh_{int(adh*100)}_{cap}max_iters_RESULTS'\n",
    "\n",
    "        with ShelfHelp(file, key, no_input=True, load=True) as sh:\n",
    "            reskey[cap][adh] = sh.values(*args)"
   ]
  },
  {
   "cell_type": "markdown",
   "metadata": {},
   "source": [
    "Finally, we combined limited adherence with some other maximum capacity policies, as per the table below:"
   ]
  },
  {
   "cell_type": "code",
   "execution_count": 52,
   "metadata": {
    "tags": [
     "hide_input"
    ]
   },
   "outputs": [
    {
     "data": {
      "text/html": [
       "<table class=\"results-table\"><thead><tr><th class=\"results-table\"></th><th class=\"results-table\" style=\"text-align: center;\">25Max<br>50ADH</th><th class=\"results-table\" style=\"text-align: center;\">25Max<br>80ADH</th><th class=\"results-table\" style=\"text-align: center;\">50Max<br>50ADH</th><th class=\"results-table\" style=\"text-align: center;\">50Max<br>80ADH</th></tr></thead><tbody><tr><td class=\"results-table\" style=\"text-align: left;\">n</td><td class=\"results-table\" style=\"text-align: center;\">72</td><td class=\"results-table\" style=\"text-align: center;\">58</td><td class=\"results-table\" style=\"text-align: center;\">59</td><td class=\"results-table\" style=\"text-align: center;\">61</td></tr><tr><td class=\"results-table\" style=\"text-align: left;\">Peak</td><td class=\"results-table\" style=\"text-align: center;\">14.6%</td><td class=\"results-table\" style=\"text-align: center;\">7.3%</td><td class=\"results-table\" style=\"text-align: center;\">28.2%</td><td class=\"results-table\" style=\"text-align: center;\">16.3%</td></tr><tr><td class=\"results-table\" style=\"text-align: left;\">HIT</td><td class=\"results-table\" style=\"text-align: center;\">18.8%</td><td class=\"results-table\" style=\"text-align: center;\">8.2%</td><td class=\"results-table\" style=\"text-align: center;\">36.6%</td><td class=\"results-table\" style=\"text-align: center;\">23.9%</td></tr><tr><td class=\"results-table\" style=\"text-align: left;\">Total</td><td class=\"results-table\" style=\"text-align: center;\">23.6%</td><td class=\"results-table\" style=\"text-align: center;\">9.3%</td><td class=\"results-table\" style=\"text-align: center;\">48.2%</td><td class=\"results-table\" style=\"text-align: center;\">36.0%</td></tr><tr><td class=\"results-table\" style=\"text-align: left;\">Fatalities</td><td class=\"results-table\" style=\"text-align: center;\">0.24%</td><td class=\"results-table\" style=\"text-align: center;\">0.14%</td><td class=\"results-table\" style=\"text-align: center;\">0.38%</td><td class=\"results-table\" style=\"text-align: center;\">0.31%</td></tr><tr><td class=\"results-table\" style=\"text-align: left;\">%>70</td><td class=\"results-table\" style=\"text-align: center;\">81.3%</td><td class=\"results-table\" style=\"text-align: center;\">84.8%</td><td class=\"results-table\" style=\"text-align: center;\">80.8%</td><td class=\"results-table\" style=\"text-align: center;\">73.4%</td></tr><tr><td class=\"results-table\" style=\"text-align: left;\">IFR</td><td class=\"results-table\" style=\"text-align: center;\">1.07%</td><td class=\"results-table\" style=\"text-align: center;\">1.29%</td><td class=\"results-table\" style=\"text-align: center;\">0.77%</td><td class=\"results-table\" style=\"text-align: center;\">0.89%</td></tr><tr><td class=\"results-table\" style=\"text-align: left;\">Days to Peak</td><td class=\"results-table\" style=\"text-align: center;\">73</td><td class=\"results-table\" style=\"text-align: center;\">49</td><td class=\"results-table\" style=\"text-align: center;\">73</td><td class=\"results-table\" style=\"text-align: center;\">86</td></tr><tr><td class=\"results-table\" style=\"text-align: left;\">$R_0$ = 0</td><td class=\"results-table\" style=\"text-align: center;\">0.0%</td><td class=\"results-table\" style=\"text-align: center;\">0.0%</td><td class=\"results-table\" style=\"text-align: center;\">0.0%</td><td class=\"results-table\" style=\"text-align: center;\">0.0%</td></tr></tbody></table>"
      ],
      "text/plain": [
       "<IPython.core.display.HTML object>"
      ]
     },
     "metadata": {},
     "output_type": "display_data"
    }
   ],
   "source": [
    "head = [f'{cap}Max<br>{adh*100:.0f}ADH' for cap, subk in reskey.items() for adh in subk.keys()]\n",
    "vals = [v1[4] for v0 in reskey.values() for v1 in v0.values()]\n",
    "\n",
    "means_seconly = [find_means_seconly(vals[i], means[i]) for i in range(len(vals))]\n",
    "sizes = [find_seconly(val).shape[0] for val in vals]\n",
    "\n",
    "display(HTML(curve_table(head, means_seconly, sizes)))"
   ]
  },
  {
   "cell_type": "markdown",
   "metadata": {
    "tags": [
     "hide_input"
    ]
   },
   "source": [
    "What we find in the data above is:\n",
    "\n",
    "1. restricting capacity is very impactful right up to 75 max capacity. So restricting only just the very largest events *should* have a moderating effect on spread.\n",
    "2. adherence factor has only a very modest impact on spread at the higher factors. If fully 20% of subjects are not observing the prescribed policies, this shouldn't lead to dramatic increase in spread. Even at 50% adherence, spread is significantly muted relative to no policy at all."
   ]
  },
  {
   "cell_type": "markdown",
   "metadata": {},
   "source": [
    "For comparison purposes, we will show a sample simulation of the 25 Max, 50% adherence scenario.\n",
    "\n",
    "```python\n",
    "from rknot.events import Restriction\n",
    "\n",
    "lg = Restriction(name='large', start_tick=30, duration=120, criteria={'capacity': 25}, adherence=.5)\n",
    "\n",
    "events_w_res = events_gated + [lg]\n",
    "\n",
    "params = {'groups': groups, 'density': 1, 'days': 365, 'tmr_curve': tmr, 'vboxes': vbox, 'events': events_w_res}\n",
    "\n",
    "sim = Sim(**params)\n",
    "sim.run(dotlog=True)\n",
    "\n",
    "chart = Chart(sim).to_html5_video()\n",
    "```"
   ]
  },
  {
   "cell_type": "code",
   "execution_count": 53,
   "metadata": {
    "nbsphinx": "hidden"
   },
   "outputs": [
    {
     "name": "stdout",
     "output_type": "stream",
     "text": [
      "The autoreload extension is already loaded. To reload it, use:\n",
      "  %reload_ext autoreload\n"
     ]
    }
   ],
   "source": [
    "%load_ext autoreload\n",
    "%autoreload 2\n",
    "\n",
    "if RUN:\n",
    "    from rknot.sim import recycler\n",
    "    from rknot.helpers import get_results\n",
    "    from rknot.notebook import modulereload\n",
    "    from rknot.sims import us_w_load_18\n",
    "    \n",
    "    modulereload(us_w_load_18)\n",
    "    \n",
    "    large_gatherings = Restriction(\n",
    "        name='large', start_tick=30, duration=120, criteria={'capacity': 25},\n",
    "        adherence=0.5,\n",
    "    )\n",
    "    events_w_res = us_w_load_18.events_gated + [large_gatherings]\n",
    "\n",
    "    us_w_load_18.params_gated['events'] = events_w_res\n",
    "\n",
    "    sim_cycler = recycler(100)\n",
    "    while True:    \n",
    "        sim = sim_cycler(pbar_leave=False, pbar=False, **us_w_load_18.params_gated)\n",
    "        sim.run(dotlog=True, pbar_leave=False, pbar=False)\n",
    "\n",
    "        res = get_results(sim)\n",
    "        print (res)\n",
    "        if .14 < res[1]:\n",
    "            break    "
   ]
  },
  {
   "cell_type": "code",
   "execution_count": 54,
   "metadata": {
    "nbsphinx": "hidden"
   },
   "outputs": [],
   "source": [
    "from datetime import datetime as dt\n",
    "import pickle\n",
    "from rknot.helpers import picksave, pickload\n",
    "file = 'vids/us_w_load/lg_25max_50adh'\n",
    "\n",
    "if SAVE:\n",
    "    delattr(sim, 'server')\n",
    "    delattr(sim, 'workers')\n",
    "    sims = pickload(file)\n",
    "    sims[dt.now()] = sim\n",
    "    picksave(file, sims)\n",
    "\n",
    "    sims = pickload(file)\n",
    "    run_date, sim = sorted(sims.items())[-1] # Get the most recent saved sim\n",
    "else:\n",
    "    sims = pickload(file)\n",
    "    run_date, sim = sorted(sims.items())[-1] # Get the most recent saved sim\n",
    "    res = get_results(sim)\n",
    "    \n",
    "lgfile = 'vids/us_w_load/large_gatherings'\n",
    "lgsims = pickload(lgfile)\n",
    "lgrun_date, lgsim = sorted(lgsims.items())[-1] # Get the most recent saved sim\n",
    "res_lg = get_results(lgsim)"
   ]
  },
  {
   "cell_type": "code",
   "execution_count": 55,
   "metadata": {
    "nbsphinx": "hidden"
   },
   "outputs": [],
   "source": [
    "if SAVE_CHARTS:\n",
    "    from rknot import Chart\n",
    "    PATH = 'vids/us_w_load/tests/'\n",
    "    chart_params = dict(reso_format='web', dotsize=.1)\n",
    "    chart = Chart(sim, show_intro=True, show_restricted=True, **chart_params).save(PATH + 'lg_25max_50adh.mp4')"
   ]
  },
  {
   "cell_type": "code",
   "execution_count": 56,
   "metadata": {
    "tags": [
     "hide_input"
    ]
   },
   "outputs": [
    {
     "data": {
      "text/html": [
       "\n",
       "        <div style=\"text-align: center\">\n",
       "            <video width='900px' height='376.56903765690373px'\n",
       "            src=\"https://storage.googleapis.com/rknotvids/us_w_load/lg_25max_50adh.mp4\" controls>Video Failed to Load</video>\n",
       "        </div>\n",
       "        <p></p>\n",
       "    "
      ],
      "text/plain": [
       "<IPython.core.display.HTML object>"
      ]
     },
     "metadata": {},
     "output_type": "display_data"
    }
   ],
   "source": [
    "from rknot.notebook import animHTML\n",
    "display(HTML(animHTML('us_w_load/lg_25max_50adh')))"
   ]
  },
  {
   "cell_type": "markdown",
   "metadata": {},
   "source": [
    "The results of th sim are shown below in comparison to our base 10 max capacity scenario:"
   ]
  },
  {
   "cell_type": "code",
   "execution_count": 57,
   "metadata": {
    "tags": [
     "hide_input"
    ]
   },
   "outputs": [
    {
     "data": {
      "text/html": [
       "<table class=\"results-table\"><thead><tr><th class=\"results-table\"></th><th class=\"results-table\" style=\"text-align: center;\">25Max<br>50Adh</th><th class=\"results-table\" style=\"text-align: center;\">10Max<br>100Adh</th></tr></thead><tbody><tr><td class=\"results-table\" style=\"text-align: left;\">Peak</td><td class=\"results-table\" style=\"text-align: center;\">24.5%</td><td class=\"results-table\" style=\"text-align: center;\">10.7%</td></tr><tr><td class=\"results-table\" style=\"text-align: left;\">HIT</td><td class=\"results-table\" style=\"text-align: center;\">27.3%</td><td class=\"results-table\" style=\"text-align: center;\">13.1%</td></tr><tr><td class=\"results-table\" style=\"text-align: left;\">Total</td><td class=\"results-table\" style=\"text-align: center;\">33.5%</td><td class=\"results-table\" style=\"text-align: center;\">13.6%</td></tr><tr><td class=\"results-table\" style=\"text-align: left;\">Fatalities</td><td class=\"results-table\" style=\"text-align: center;\">0.38%</td><td class=\"results-table\" style=\"text-align: center;\">0.24%</td></tr><tr><td class=\"results-table\" style=\"text-align: left;\">%>70</td><td class=\"results-table\" style=\"text-align: center;\">92.1%</td><td class=\"results-table\" style=\"text-align: center;\">95.8%</td></tr><tr><td class=\"results-table\" style=\"text-align: left;\">IFR</td><td class=\"results-table\" style=\"text-align: center;\">1.14%</td><td class=\"results-table\" style=\"text-align: center;\">1.77%</td></tr><tr><td class=\"results-table\" style=\"text-align: left;\">Days to Peak</td><td class=\"results-table\" style=\"text-align: center;\">52</td><td class=\"results-table\" style=\"text-align: center;\">49</td></tr></tbody></table>"
      ],
      "text/plain": [
       "<IPython.core.display.HTML object>"
      ]
     },
     "metadata": {},
     "output_type": "display_data"
    }
   ],
   "source": [
    "import shelve\n",
    "\n",
    "results = [res, res_lg]\n",
    "headers = ['25Max<br>50Adh', '10Max<br>100Adh']\n",
    "\n",
    "display(HTML(curve_table(headers, results, style='results')))"
   ]
  },
  {
   "cell_type": "markdown",
   "metadata": {},
   "source": [
    "### 4. Social Distancing ###\n",
    "\n",
    "We will now investigate the impact of social distancing measures [as outlined here](sir.ipynb#2.-Social-Distancing).\n",
    "\n",
    "We provice `tmfs` to each age group, representing the adherence to and impact of various tactics including 6-feet of distance, masks, hand sanitizer, etc.\n",
    "\n",
    "The policy measure is implemented on day 30 and maintained for 120 days.\n",
    "\n",
    "Note we set `group2b` to `tmf=.5`, indicating much striter adherence to social distancing practices than its age cohort (which is likely consistent with care home workers in the real world)."
   ]
  },
  {
   "cell_type": "markdown",
   "metadata": {},
   "source": [
    "```python\n",
    "from rknot.events import SocialDistancing as SD\n",
    "\n",
    "sd = SD(name='all', tmfs=[.8, .8, .5, .7,.65,.5], groups=[0,1,2,3,4,5], start_tick=30, duration=120)\n",
    "\n",
    "events_w_res = events_gated + [sd]\n",
    "\n",
    "params = {\n",
    "    'groups': groups, 'density': 1, 'days': 365, 'tmr_curve': tmr, \n",
    "    'vboxes': {'label': 'Events', 'box': 344}, 'events': us_w_load_18.events\n",
    "}\n",
    "\n",
    "sim = Sim(**params)\n",
    "sim.run()\n",
    "\n",
    "chart = Chart(sim, use_init_func=True)\n",
    "chart.animate.to_html5_video()\n",
    "```"
   ]
  },
  {
   "cell_type": "code",
   "execution_count": 58,
   "metadata": {
    "nbsphinx": "hidden"
   },
   "outputs": [
    {
     "name": "stdout",
     "output_type": "stream",
     "text": [
      "This date does not exist for the specified key.\n",
      "Enter 0 to use the most recent date (default).\n",
      "Enter 1 to add a new entry.\n",
      "\n"
     ]
    }
   ],
   "source": [
    "from rknot import Sim\n",
    "from rknot.sims import us_w_load_18\n",
    "from rknot.notebook import modulereload\n",
    "from rknot.helpers import ShelfHelp\n",
    "from rknot.dots.fhutch import tmr\n",
    "\n",
    "modulereload(us_w_load_18)\n",
    "\n",
    "file = 'tests/data/load_sd'\n",
    "key = 'load_sd_iters_RESULTS'\n",
    "simbase = us_w_load_18.__name__.split('.')[-1]\n",
    "\n",
    "if False:\n",
    "    from rknot.helpers import looper\n",
    "    from rknot.events import Restriction, SocialDistancing as SD\n",
    "\n",
    "    sd = SD(\n",
    "        name='all', tmfs=[.8,.8,.5,.7,.65,.5], \n",
    "        groups=[0,1,2,3,4,5], start_tick=30, duration=120\n",
    "    )\n",
    "    events_w_res = us_w_load_18.events_gated + [sd]\n",
    "\n",
    "    us_w_load_18.params_gated['events'] = events_w_res\n",
    "    \n",
    "    n = 25\n",
    "    contacts, nsecs, results, exceptions = looper(\n",
    "        n, sterile=False, **us_w_load_18.params_gated\n",
    "    )\n",
    "\n",
    "try:\n",
    "    tgt_R0 = 1.8\n",
    "    mu = 4\n",
    "    theta = 40\n",
    "    args = n, contacts, nsecs, results, tmr, simbase, tgt_R0, mu, theta\n",
    "except NameError:\n",
    "    args = []\n",
    "with ShelfHelp(file, key) as sh:\n",
    "    n, tmr, c1, nsecs, res1 = sh.values(*args)"
   ]
  },
  {
   "cell_type": "markdown",
   "metadata": {},
   "source": [
    "The average results of 250 iterations of the scenario are shown in the table below:"
   ]
  },
  {
   "cell_type": "code",
   "execution_count": 59,
   "metadata": {
    "tags": [
     "hide_input"
    ]
   },
   "outputs": [
    {
     "data": {
      "text/html": [
       "<table class=\"results-table\"><thead><tr><th class=\"results-table\"></th><th class=\"results-table\" style=\"text-align: center;\">SD</th><th class=\"results-table\" style=\"text-align: center;\">SD<br>$R_0$ > 0</th></tr></thead><tbody><tr><td class=\"results-table\" style=\"text-align: left;\">n</td><td class=\"results-table\" style=\"text-align: center;\">25</td><td class=\"results-table\" style=\"text-align: center;\">7</td></tr><tr><td class=\"results-table\" style=\"text-align: left;\">Peak</td><td class=\"results-table\" style=\"text-align: center;\">2.1%</td><td class=\"results-table\" style=\"text-align: center;\">7.3%</td></tr><tr><td class=\"results-table\" style=\"text-align: left;\">HIT</td><td class=\"results-table\" style=\"text-align: center;\">2.4%</td><td class=\"results-table\" style=\"text-align: center;\">8.3%</td></tr><tr><td class=\"results-table\" style=\"text-align: left;\">Total</td><td class=\"results-table\" style=\"text-align: center;\">2.8%</td><td class=\"results-table\" style=\"text-align: center;\">9.9%</td></tr><tr><td class=\"results-table\" style=\"text-align: left;\">Fatalities</td><td class=\"results-table\" style=\"text-align: center;\">0.03%</td><td class=\"results-table\" style=\"text-align: center;\">0.11%</td></tr><tr><td class=\"results-table\" style=\"text-align: left;\">%>70</td><td class=\"results-table\" style=\"text-align: center;\">84.0%</td><td class=\"results-table\" style=\"text-align: center;\">84.0%</td></tr><tr><td class=\"results-table\" style=\"text-align: left;\">IFR</td><td class=\"results-table\" style=\"text-align: center;\">0.36%</td><td class=\"results-table\" style=\"text-align: center;\">1.28%</td></tr><tr><td class=\"results-table\" style=\"text-align: left;\">Days to Peak</td><td class=\"results-table\" style=\"text-align: center;\">19</td><td class=\"results-table\" style=\"text-align: center;\">54</td></tr><tr><td class=\"results-table\" style=\"text-align: left;\">$R_0$ = 0</td><td class=\"results-table\" style=\"text-align: center;\">52.0%</td><td class=\"results-table\" style=\"text-align: center;\">0.0%</td></tr></tbody></table>"
      ],
      "text/plain": [
       "<IPython.core.display.HTML object>"
      ]
     },
     "metadata": {},
     "output_type": "display_data"
    }
   ],
   "source": [
    "import numpy as np\n",
    "\n",
    "from rknot.notebook import curve_table, md\n",
    "\n",
    "headers = ['SD', r'SD<br>$R_0$ > 0']\n",
    "means = find_means(res1)\n",
    "args = [means, find_means_seconly(res1, means)]\n",
    "sizes = [res1.shape[0], find_seconly(res1).shape[0]]\n",
    "\n",
    "display(HTML(curve_table(headers, args, sizes)))"
   ]
  },
  {
   "cell_type": "markdown",
   "metadata": {},
   "source": [
    "The distribution of infections is heavily skewed towards zero with fairly volatile deviations at the margin."
   ]
  },
  {
   "cell_type": "code",
   "execution_count": 60,
   "metadata": {
    "tags": [
     "hide_input"
    ]
   },
   "outputs": [
    {
     "data": {
      "image/png": "[encoded data removed]",
      "text/plain": [
       "<Figure size 1152x720 with 1 Axes>"
      ]
     },
     "metadata": {
      "needs_background": "light"
     },
     "output_type": "display_data"
    }
   ],
   "source": [
    "from rknot.notebook import curvehist\n",
    "savepath = 'vids/us_w_load/social_distancing'\n",
    "\n",
    "title = r'HIT: Social Distancing'\n",
    "curvehist([res1[:,1]], title=title, which='hit', savepath=savepath)"
   ]
  },
  {
   "cell_type": "code",
   "execution_count": 61,
   "metadata": {
    "nbsphinx": "hidden"
   },
   "outputs": [
    {
     "name": "stdout",
     "output_type": "stream",
     "text": [
      "The autoreload extension is already loaded. To reload it, use:\n",
      "  %reload_ext autoreload\n"
     ]
    }
   ],
   "source": [
    "%load_ext autoreload\n",
    "%autoreload 2\n",
    "\n",
    "if RUN:\n",
    "    from rknot.sim import recycler\n",
    "    from rknot.helpers import get_results\n",
    "    from rknot.notebook import modulereload\n",
    "    from rknot.sims import us_w_load_18\n",
    "    from rknot.events import SocialDistancing as SD\n",
    "    \n",
    "    modulereload(us_w_load_18)\n",
    "    \n",
    "    sd = SD(\n",
    "        name='all', tmfs=[.8,.8,.8,.7,.65,.5], \n",
    "        groups=[0,1,2,3,4,5], start_tick=30, duration=120\n",
    "    )\n",
    "    events_w_res = us_w_load_18.events_gated + [sd]\n",
    "\n",
    "    us_w_load_18.params_gated['events'] = events_w_res\n",
    "\n",
    "    sim_cycler = recycler(100)\n",
    "    while True:    \n",
    "        sim = sim_cycler(pbar_leave=False, pbar=False, **us_w_load_18.params_gated)\n",
    "        sim.run(dotlog=True, pbar_leave=False, pbar=False)\n",
    "        \n",
    "        res = get_results(sim)\n",
    "        print (res)\n",
    "        if .13 < res[1]:\n",
    "            break    "
   ]
  },
  {
   "cell_type": "code",
   "execution_count": 62,
   "metadata": {
    "nbsphinx": "hidden"
   },
   "outputs": [],
   "source": [
    "from datetime import datetime as dt\n",
    "from rknot.helpers import picksave, pickload\n",
    "file = 'vids/us_w_load/social_distancing'\n",
    "\n",
    "if SAVE:\n",
    "    delattr(sim, 'server')\n",
    "    delattr(sim, 'workers')\n",
    "    sims = pickload(file)\n",
    "    sims[dt.now()] = sim\n",
    "    picksave(file, sims)\n",
    "\n",
    "    sims = pickload(file)\n",
    "    run_date, sim = sorted(sims.items())[-1] # Get the most recent saved sim\n",
    "else:\n",
    "    sims = pickload(file)\n",
    "    run_date, sim = sorted(sims.items())[-1] # Get the most recent saved sim\n",
    "    res = get_results(sim)"
   ]
  },
  {
   "cell_type": "code",
   "execution_count": 63,
   "metadata": {
    "nbsphinx": "hidden"
   },
   "outputs": [],
   "source": [
    "if SAVE_CHARTS:\n",
    "    from rknot import Chart\n",
    "    PATH = 'vids/us_w_load/tests/'\n",
    "    chart_params = dict(reso_format='web', dotsize=.1)\n",
    "    chart = Chart(sim, show_intro=True, show_restricted=True, **chart_params).save(PATH + 'social_distancing.mp4')"
   ]
  },
  {
   "cell_type": "code",
   "execution_count": 106,
   "metadata": {
    "tags": [
     "hide_input"
    ]
   },
   "outputs": [
    {
     "data": {
      "text/html": [
       "\n",
       "        <div style=\"text-align: center\">\n",
       "            <video width='900px' height='376.56903765690373px'\n",
       "            src=\"https://storage.googleapis.com/rknotvids/us_w_load/social_distancing.mp4\" controls>Video Failed to Load</video>\n",
       "        </div>\n",
       "        <p></p>\n",
       "    "
      ],
      "text/plain": [
       "<IPython.core.display.HTML object>"
      ]
     },
     "metadata": {},
     "output_type": "display_data"
    }
   ],
   "source": [
    "from rknot.notebook import animHTML\n",
    "display(HTML(animHTML('us_w_load/social_distancing')))"
   ]
  },
  {
   "cell_type": "markdown",
   "metadata": {},
   "source": [
    "The results of the simulation are compared to the SIR model below:"
   ]
  },
  {
   "cell_type": "code",
   "execution_count": 66,
   "metadata": {
    "tags": [
     "hide_input"
    ]
   },
   "outputs": [
    {
     "data": {
      "text/html": [
       "<table class=\"results-table\"><thead><tr><th class=\"results-table\"></th><th class=\"results-table\" style=\"text-align: center;\">Hutch</th><th class=\"results-table\" style=\"text-align: center;\">SIR</th></tr></thead><tbody><tr><td class=\"results-table\" style=\"text-align: left;\">Peak</td><td class=\"results-table\" style=\"text-align: center;\">13.4%</td><td class=\"results-table\" style=\"text-align: center;\">8.0%</td></tr><tr><td class=\"results-table\" style=\"text-align: left;\">HIT</td><td class=\"results-table\" style=\"text-align: center;\">14.2%</td><td class=\"results-table\" style=\"text-align: center;\">24.0%</td></tr><tr><td class=\"results-table\" style=\"text-align: left;\">Total</td><td class=\"results-table\" style=\"text-align: center;\">17.8%</td><td class=\"results-table\" style=\"text-align: center;\">68.0%</td></tr><tr><td class=\"results-table\" style=\"text-align: left;\">Fatalities</td><td class=\"results-table\" style=\"text-align: center;\">0.13%</td><td class=\"results-table\" style=\"text-align: center;\">0.39%</td></tr><tr><td class=\"results-table\" style=\"text-align: left;\">%>70</td><td class=\"results-table\" style=\"text-align: center;\">69.2%</td><td class=\"results-table\" style=\"text-align: center;\">33.0%</td></tr><tr><td class=\"results-table\" style=\"text-align: left;\">IFR</td><td class=\"results-table\" style=\"text-align: center;\">0.73%</td><td class=\"results-table\" style=\"text-align: center;\">0.57%</td></tr><tr><td class=\"results-table\" style=\"text-align: left;\">Days to Peak</td><td class=\"results-table\" style=\"text-align: center;\">49</td><td class=\"results-table\" style=\"text-align: center;\">96</td></tr></tbody></table>"
      ],
      "text/plain": [
       "<IPython.core.display.HTML object>"
      ]
     },
     "metadata": {},
     "output_type": "display_data"
    }
   ],
   "source": [
    "from rknot.notebook import md, curve_table\n",
    "import shelve\n",
    "sirfile = 'vids/baseus/tables'\n",
    "\n",
    "with shelve.open(sirfile, writeback=True) as db:\n",
    "    sirres = db['policy_sd']\n",
    "\n",
    "sirres = np.char.strip(sirres, '%').astype(np.float)\n",
    "sirres[:6] /= 100\n",
    "\n",
    "results = [res, sirres]\n",
    "headers = ['Hutch', 'SIR']\n",
    "display(HTML(curve_table(headers, results, style='results')))"
   ]
  },
  {
   "cell_type": "markdown",
   "metadata": {},
   "source": [
    "Here we see that social distancing practices have a much more dramatic impact on spread in the Hutch model than the SIR. There are fewer infections and the outbreak declines much faster, avoiding the very long, slow tail evident in SIR.\n",
    "\n",
    "A lower $R_0$ is in part responsible, but so too is the viral load curve in Hutch, which has a longer *infection* duration but a much shorter truly *infectious* period."
   ]
  },
  {
   "cell_type": "markdown",
   "metadata": {},
   "source": [
    "### 5. Restrict Elderly Visits ###\n",
    "\n",
    "Again, as with the [SIR simulations](sir.ipynb#3.-Restrict-Elderly-Visits), we will restrict visits to the elderly, HOWEVER, care home workers will continue to have access.\n",
    "\n",
    "The policy measure is implemented on day 30 and maintained for another 120 days. There will be no other restrictions.\n",
    "\n",
    "```python\n",
    "no_visits = Restriction(name='no_visits', start_tick=30, duration=120, criteria={'name': 'visit'})\n",
    "\n",
    "events_w_res = events_gated + [no_visits]\n",
    "\n",
    "params = {'groups': groups, 'density': 1, 'days': 365, 'tmr_curve': tmr, 'vboxes': vbox, 'events': us_w_load_18.events}\n",
    "\n",
    "sim = Sim(**params)\n",
    "sim.run()\n",
    "\n",
    "chart = Chart(sim, use_init_func=True)\n",
    "chart.animate.to_html5_video()\n",
    "```"
   ]
  },
  {
   "cell_type": "code",
   "execution_count": 67,
   "metadata": {
    "nbsphinx": "hidden"
   },
   "outputs": [],
   "source": [
    "from rknot import Sim\n",
    "from rknot.sims import us_w_load_18\n",
    "from rknot.notebook import modulereload\n",
    "from rknot.helpers import ShelfHelp\n",
    "from rknot.dots.fhutch import tmr\n",
    "\n",
    "modulereload(us_w_load_18)\n",
    "\n",
    "file = 'tests/data/load_elderly'\n",
    "key = 'load_elderly_iters_RESULTS'\n",
    "simbase = us_w_load_18.__name__.split('.')[-1]\n",
    "\n",
    "if False:\n",
    "    from rknot.helpers import looper\n",
    "    from rknot.events import Restriction\n",
    "\n",
    "    no_visits = Restriction(\n",
    "        name='no_visits', start_tick=30, \n",
    "        duration=120, criteria={'name': 'visit'}\n",
    "    )\n",
    "    events_w_res = us_w_load_18.events_gated + [no_visits]\n",
    "\n",
    "    us_w_load_18.params_gated['events'] = events_w_res\n",
    "    \n",
    "    n = 50\n",
    "    contacts, nsecs, results, exceptions = looper(\n",
    "        n, sterile=False, **us_w_load_18.params_gated\n",
    "    )"
   ]
  },
  {
   "cell_type": "code",
   "execution_count": 68,
   "metadata": {
    "nbsphinx": "hidden"
   },
   "outputs": [
    {
     "name": "stdout",
     "output_type": "stream",
     "text": [
      "This date does not exist for the specified key.\n",
      "Enter 0 to use the most recent date (default).\n",
      "Enter 1 to add a new entry.\n",
      "\n"
     ]
    }
   ],
   "source": [
    "try:\n",
    "    tgt_R0 = 1.8\n",
    "    mu = 4\n",
    "    theta = 40\n",
    "    args = n, contacts, nsecs, results, tmr, simbase, tgt_R0, mu, theta\n",
    "except NameError:\n",
    "    args = []\n",
    "with ShelfHelp(file, key) as sh:\n",
    "    n, tmr, c1, nsecs, res1 = sh.values(*args)"
   ]
  },
  {
   "cell_type": "markdown",
   "metadata": {},
   "source": [
    "Below we see the results of 250 simulations of the scenario:"
   ]
  },
  {
   "cell_type": "code",
   "execution_count": 69,
   "metadata": {
    "tags": [
     "hide_input"
    ]
   },
   "outputs": [
    {
     "data": {
      "text/html": [
       "<table class=\"results-table\"><thead><tr><th class=\"results-table\"></th><th class=\"results-table\" style=\"text-align: center;\">No Visits</th><th class=\"results-table\" style=\"text-align: center;\">No Visits<br>$R_0$ > 0</th></tr></thead><tbody><tr><td class=\"results-table\" style=\"text-align: left;\">n</td><td class=\"results-table\" style=\"text-align: center;\">50</td><td class=\"results-table\" style=\"text-align: center;\">13</td></tr><tr><td class=\"results-table\" style=\"text-align: left;\">Peak</td><td class=\"results-table\" style=\"text-align: center;\">8.8%</td><td class=\"results-table\" style=\"text-align: center;\">33.7%</td></tr><tr><td class=\"results-table\" style=\"text-align: left;\">HIT</td><td class=\"results-table\" style=\"text-align: center;\">11.0%</td><td class=\"results-table\" style=\"text-align: center;\">42.2%</td></tr><tr><td class=\"results-table\" style=\"text-align: left;\">Total</td><td class=\"results-table\" style=\"text-align: center;\">13.6%</td><td class=\"results-table\" style=\"text-align: center;\">52.3%</td></tr><tr><td class=\"results-table\" style=\"text-align: left;\">Fatalities</td><td class=\"results-table\" style=\"text-align: center;\">0.10%</td><td class=\"results-table\" style=\"text-align: center;\">0.38%</td></tr><tr><td class=\"results-table\" style=\"text-align: left;\">%>70</td><td class=\"results-table\" style=\"text-align: center;\">86.2%</td><td class=\"results-table\" style=\"text-align: center;\">86.2%</td></tr><tr><td class=\"results-table\" style=\"text-align: left;\">IFR</td><td class=\"results-table\" style=\"text-align: center;\">0.33%</td><td class=\"results-table\" style=\"text-align: center;\">0.67%</td></tr><tr><td class=\"results-table\" style=\"text-align: left;\">Days to Peak</td><td class=\"results-table\" style=\"text-align: center;\">23</td><td class=\"results-table\" style=\"text-align: center;\">75</td></tr><tr><td class=\"results-table\" style=\"text-align: left;\">$R_0$ = 0</td><td class=\"results-table\" style=\"text-align: center;\">54.0%</td><td class=\"results-table\" style=\"text-align: center;\">0.0%</td></tr></tbody></table>"
      ],
      "text/plain": [
       "<IPython.core.display.HTML object>"
      ]
     },
     "metadata": {},
     "output_type": "display_data"
    }
   ],
   "source": [
    "import numpy as np\n",
    "from IPython.core.display import display, HTML\n",
    "\n",
    "from rknot.notebook import curve_table, md\n",
    "from rknot.helpers import find_means, find_means_seconly, find_seconly\n",
    "\n",
    "headers = ['No Visits', r'No Visits<br>$R_0$ > 0']\n",
    "means = find_means(res1)\n",
    "means_seconly = find_means_seconly(res1, means)\n",
    "sizes = [res1.shape[0], find_seconly(res1).shape[0]]\n",
    "\n",
    "args = [means, means_seconly]\n",
    "    \n",
    "display(HTML(curve_table(headers, args, sizes)))"
   ]
  },
  {
   "cell_type": "markdown",
   "metadata": {},
   "source": [
    "Below we can see the distribution of HIT among the different iterations. Given the restrictions on contacts are very limited in the general population, HIT is very similar to that of the [Gates scenario](#2.-Gates)."
   ]
  },
  {
   "cell_type": "code",
   "execution_count": 70,
   "metadata": {
    "nbsphinx": "hidden",
    "tags": [
     "hide_input"
    ]
   },
   "outputs": [
    {
     "name": "stdout",
     "output_type": "stream",
     "text": [
      "This date does not exist for the specified key.\n",
      "Enter 0 to use the most recent date (default).\n",
      "Enter 1 to add a new entry.\n",
      "\n"
     ]
    }
   ],
   "source": [
    "from rknot.notebook import curvehist\n",
    "savepath = 'vids/us_w_load/elderly_visits'\n",
    "\n",
    "file = 'tests/data/load_gates'\n",
    "key = 'load_gates_iters_RESULTS'\n",
    "args = []\n",
    "with ShelfHelp(file, key) as sh:\n",
    "    n, sim_tmr, c1, nsecs1, res_gates = sh.values(*args)"
   ]
  },
  {
   "cell_type": "code",
   "execution_count": 71,
   "metadata": {
    "scrolled": false,
    "tags": [
     "hide_input"
    ]
   },
   "outputs": [
    {
     "data": {
      "image/png": "[encoded data removed]",
      "text/plain": [
       "<Figure size 1152x720 with 1 Axes>"
      ]
     },
     "metadata": {
      "needs_background": "light"
     },
     "output_type": "display_data"
    }
   ],
   "source": [
    "labels = ['Restrict Care Home Visits', 'Gates']\n",
    "title = r'HIT: Restrict Care Home Visits'\n",
    "widths = [.9, .6]\n",
    "curvehist([res1[:,1], res_gates[:,1]], widths=widths, labels=labels, title=title, which='hit', savepath=savepath)"
   ]
  },
  {
   "cell_type": "code",
   "execution_count": 72,
   "metadata": {
    "nbsphinx": "hidden"
   },
   "outputs": [
    {
     "name": "stdout",
     "output_type": "stream",
     "text": [
      "The autoreload extension is already loaded. To reload it, use:\n",
      "  %reload_ext autoreload\n"
     ]
    }
   ],
   "source": [
    "%load_ext autoreload\n",
    "%autoreload 2\n",
    "\n",
    "if RUN:\n",
    "    from rknot.sim import recycler\n",
    "    from rknot.helpers import get_results\n",
    "    from rknot.notebook import modulereload\n",
    "    from rknot.dots import MATRIX_COL_LABELS as ML\n",
    "    from rknot.sims import us_w_load_18\n",
    "    from rknot.events import Restriction\n",
    "    \n",
    "    modulereload(us_w_load_18)\n",
    "    \n",
    "    no_visits = Restriction(\n",
    "        name='no_visits', start_tick=30, \n",
    "        duration=120, criteria={'name': 'visit'}\n",
    "    )\n",
    "    events_w_res = us_w_load_18.events_gated + [no_visits]\n",
    "\n",
    "    us_w_load_18.params_gated['events'] = events_w_res\n",
    "\n",
    "    sim_cycler = recycler(100)\n",
    "    while True:    \n",
    "        sim = sim_cycler(pbar_leave=False, pbar=False, **us_w_load_18.params_gated)\n",
    "        sim.run(dotlog=True, pbar_leave=False, pbar=False)\n",
    "        \n",
    "        res = get_results(sim)\n",
    "    \n",
    "        dots = sim.dotlog[29]\n",
    "        inf5 = dots[dots[:, ML['is_inf']] == 1]\n",
    "        print (res, inf5.shape[0])\n",
    "        if .42 < res[1] and inf5.shape[0] == 0:\n",
    "            break    "
   ]
  },
  {
   "cell_type": "code",
   "execution_count": 73,
   "metadata": {
    "nbsphinx": "hidden"
   },
   "outputs": [],
   "source": [
    "from datetime import datetime as dt\n",
    "from rknot.helpers import picksave, pickload, get_results\n",
    "file = 'vids/us_w_load/elderly_visits'\n",
    "\n",
    "if False:\n",
    "    delattr(sim, 'server')\n",
    "    delattr(sim, 'workers')\n",
    "    sims = pickload(file)\n",
    "    sims[dt.now()] = sim\n",
    "    picksave(file, sims)\n",
    "\n",
    "    sims = pickload(file)\n",
    "    run_date, sim = sorted(sims.items())[-1] # Get the most recent saved sim\n",
    "else:\n",
    "    sims = pickload(file)\n",
    "    run_date, sim = sorted(sims.items())[-1] # Get the most recent saved sim\n",
    "    res = get_results(sim)"
   ]
  },
  {
   "cell_type": "code",
   "execution_count": 74,
   "metadata": {
    "nbsphinx": "hidden"
   },
   "outputs": [],
   "source": [
    "if SAVE_CHARTS:\n",
    "    from rknot import Chart\n",
    "    PATH = 'vids/us_w_load/tests/'\n",
    "    chart_params = dict(reso_format='web', dotsize=.1)\n",
    "    chart = Chart(sim, show_intro=True, show_restricted=True, **chart_params).save(PATH + 'elderly_visits.mp4')"
   ]
  },
  {
   "cell_type": "code",
   "execution_count": 76,
   "metadata": {
    "tags": [
     "hide_input"
    ]
   },
   "outputs": [
    {
     "data": {
      "text/html": [
       "\n",
       "        <div style=\"text-align: center\">\n",
       "            <video width='900px' height='376.56903765690373px'\n",
       "            src=\"https://storage.googleapis.com/rknotvids/us_w_load/elderly_visits.mp4\" controls>Video Failed to Load</video>\n",
       "        </div>\n",
       "        <p></p>\n",
       "    "
      ],
      "text/plain": [
       "<IPython.core.display.HTML object>"
      ]
     },
     "metadata": {},
     "output_type": "display_data"
    }
   ],
   "source": [
    "from rknot.notebook import animHTML\n",
    "display(HTML(animHTML('us_w_load/elderly_visits')))"
   ]
  },
  {
   "cell_type": "markdown",
   "metadata": {},
   "source": [
    "The results of the simulation are shown below:"
   ]
  },
  {
   "cell_type": "code",
   "execution_count": 77,
   "metadata": {
    "scrolled": false,
    "tags": [
     "hide_input"
    ]
   },
   "outputs": [
    {
     "data": {
      "text/html": [
       "<table class=\"results-table\"><thead><tr><th class=\"results-table\"></th><th class=\"results-table\" style=\"text-align: center;\">Hutch</th><th class=\"results-table\" style=\"text-align: center;\">SIR</th></tr></thead><tbody><tr><td class=\"results-table\" style=\"text-align: left;\">Peak</td><td class=\"results-table\" style=\"text-align: center;\">45.6%</td><td class=\"results-table\" style=\"text-align: center;\">27.0%</td></tr><tr><td class=\"results-table\" style=\"text-align: left;\">HIT</td><td class=\"results-table\" style=\"text-align: center;\">50.2%</td><td class=\"results-table\" style=\"text-align: center;\">54.0%</td></tr><tr><td class=\"results-table\" style=\"text-align: left;\">Total</td><td class=\"results-table\" style=\"text-align: center;\">56.8%</td><td class=\"results-table\" style=\"text-align: center;\">80.0%</td></tr><tr><td class=\"results-table\" style=\"text-align: left;\">Fatalities</td><td class=\"results-table\" style=\"text-align: center;\">0.28%</td><td class=\"results-table\" style=\"text-align: center;\">0.29%</td></tr><tr><td class=\"results-table\" style=\"text-align: left;\">%>70</td><td class=\"results-table\" style=\"text-align: center;\">82.1%</td><td class=\"results-table\" style=\"text-align: center;\">17.0%</td></tr><tr><td class=\"results-table\" style=\"text-align: left;\">IFR</td><td class=\"results-table\" style=\"text-align: center;\">0.49%</td><td class=\"results-table\" style=\"text-align: center;\">0.36%</td></tr><tr><td class=\"results-table\" style=\"text-align: left;\">Days to Peak</td><td class=\"results-table\" style=\"text-align: center;\">53</td><td class=\"results-table\" style=\"text-align: center;\">77</td></tr></tbody></table>"
      ],
      "text/plain": [
       "<IPython.core.display.HTML object>"
      ]
     },
     "metadata": {},
     "output_type": "display_data"
    }
   ],
   "source": [
    "from rknot.notebook import md\n",
    "import shelve\n",
    "sirfile = 'vids/baseus/tables'\n",
    "\n",
    "with shelve.open(sirfile, writeback=True) as db:\n",
    "    sirres = db['no_visits']\n",
    "\n",
    "sirres = np.char.strip(sirres, '%').astype(np.float)\n",
    "sirres[:6] /= 100\n",
    "\n",
    "headers = ['Hutch', 'SIR']\n",
    "results = [res, sirres]\n",
    "display(HTML(curve_table(headers, results, style='results')))"
   ]
  },
  {
   "cell_type": "markdown",
   "metadata": {},
   "source": [
    "So the outbreak in the sample simulation is on par with that in SIR, with the usual steeper slope and shorter duration.\n",
    "\n",
    "Fatalities in this particular sim are also on par with SIR, however, the average values were much higher than SIR and relative to the total infections, fatalities were much higher in Hutch. Fatalities were skewed much higher towards the >70 age group as well.\n",
    "\n",
    "We can see from the animation that around tick 50 an outbreak occurs in the 70+G gated area. This did not occur in the SIR simulation.\n",
    "\n",
    "We can investigate this by analyzing the `dotlog`."
   ]
  },
  {
   "cell_type": "markdown",
   "metadata": {},
   "source": [
    "Below we can see that the restrictions were successful in limiting infections inside the gate up to tick 40. On tick 40, however, 4 infections occured within the group and that expanded to 19 infections by tick 44."
   ]
  },
  {
   "cell_type": "code",
   "execution_count": 79,
   "metadata": {},
   "outputs": [
    {
     "name": "stdout",
     "output_type": "stream",
     "text": [
      "[(30, 0), (31, 0), (32, 0), (33, 0), (34, 0), (35, 0), (36, 0), (37, 0), (38, 0), (39, 0), (40, 4), (41, 4), (42, 4), (43, 4), (44, 19)]\n"
     ]
    }
   ],
   "source": [
    "from rknot import Sim\n",
    "from rknot.dots import MATRIX_COL_LABELS as ML\n",
    "infs_in_70g = []\n",
    "for i in range(30, 45):\n",
    "    dots = sim.dotlog[i]\n",
    "    g5s = dots[dots[:, ML['group_id']] == 5]\n",
    "    inf5 = g5s[g5s[:, ML['is_inf']] == 1]\n",
    "    infs_in_70g.append((i, inf5.shape[0]))\n",
    "print (infs_in_70g)"
   ]
  },
  {
   "cell_type": "markdown",
   "metadata": {},
   "source": [
    "We can focus in on tick 39 to see how the virus entered the gate.\n",
    "\n",
    "First, we find the subjects inside the gate on tick 39."
   ]
  },
  {
   "cell_type": "code",
   "execution_count": 83,
   "metadata": {},
   "outputs": [
    {
     "name": "stdout",
     "output_type": "stream",
     "text": [
      "307\n"
     ]
    }
   ],
   "source": [
    "dots = sim.dotlog[39]\n",
    "gate_locs = sim.gates[0]['locs']\n",
    "dots_in_gate = dots[np.isin(dots[:, ML['loc_id']], gate_locs[:,0])]\n",
    "print (dots_in_gate.shape[0])"
   ]
  },
  {
   "cell_type": "code",
   "execution_count": 84,
   "metadata": {
    "tags": [
     "hide_input"
    ]
   },
   "outputs": [
    {
     "data": {
      "text/markdown": [
       "There were 307 subjects inside the gate on tick 39."
      ],
      "text/plain": [
       "<IPython.core.display.Markdown object>"
      ]
     },
     "metadata": {},
     "output_type": "display_data"
    }
   ],
   "source": [
    "text = f'There were {dots_in_gate.shape[0]} subjects inside the gate on tick 39.'\n",
    "md(text)"
   ]
  },
  {
   "cell_type": "code",
   "execution_count": 85,
   "metadata": {},
   "outputs": [
    {
     "name": "stdout",
     "output_type": "stream",
     "text": [
      "7\n"
     ]
    }
   ],
   "source": [
    "not5_in_gate = dots_in_gate[dots_in_gate[:, ML['group_id']] != 5]\n",
    "print (not5_in_gate.shape[0])"
   ]
  },
  {
   "cell_type": "code",
   "execution_count": 96,
   "metadata": {
    "tags": [
     "hide_input"
    ]
   },
   "outputs": [
    {
     "data": {
      "text/markdown": [
       "Of those 307 subjects, 7 were not in the 70+G group. In fact, all 7 are home care workers (`group_id=2`). Below we show the slice of the dot matrix showing the home care workers inside the gate on tick 39."
      ],
      "text/plain": [
       "<IPython.core.display.Markdown object>"
      ]
     },
     "metadata": {},
     "output_type": "display_data"
    }
   ],
   "source": [
    "text = f'Of those {dots_in_gate.shape[0]} subjects, {not5_in_gate.shape[0]} were not in the ' \n",
    "text += f'70+G group. In fact, all {not5_in_gate.shape[0]} ' \n",
    "text += f'are home care workers (`group_id=2`). '\n",
    "text += 'Below we show the slice of the dot matrix showing the home care workers inside the gate on tick 39.'\n",
    "md(text)"
   ]
  },
  {
   "cell_type": "code",
   "execution_count": 97,
   "metadata": {},
   "outputs": [
    {
     "name": "stdout",
     "output_type": "stream",
     "text": [
      "[[  6734      2      1      0      1      0      0    412      5      5\n",
      "    9305     92     24      0   9168 119684      6     98    100     20\n",
      "      -1     -1     -1     -1      0      1]\n",
      " [  6737      2      1      0      1      0      0    207      3      4\n",
      "    1647     17     16      0   9167 119320      6     98    100     20\n",
      "      -1     -1     -1     -1      0      1]\n",
      " [  6750      2      1      0      1      0      0    309      4      4\n",
      "   10124    100     27      0   9155 114952      6     98    100     20\n",
      "      -1     -1     -1     -1      0      1]\n",
      " [  6770      2      1      0      1      0      0    104      2      3\n",
      "    9027     89     52      0   9160 116772      6     98    100     20\n",
      "      -1     -1     -1     -1      0      1]\n",
      " [  6780      2      1      0      0      1      1    408      5      1\n",
      "    7166     71     27      0   9147 112040      6     98    100     20\n",
      "      35     -1     66    432      0      1]\n",
      " [  6785      2      1      0      1      0      0    206      3      3\n",
      "    8392     83     29      0   9158 116044      6     98    100     20\n",
      "      -1     -1     -1     -1      0      1]\n",
      " [  6791      2      1      0      1      0      0    205      3      2\n",
      "    5369     53     66      0   9149 112768      6     98    100     20\n",
      "      -1     -1     -1     -1      0      1]]\n"
     ]
    }
   ],
   "source": [
    "print (not5_in_gate)"
   ]
  },
  {
   "cell_type": "markdown",
   "metadata": {},
   "source": [
    "If we inspect the matrix above closely, we can see that only one subject is infected, subject `id=6780`.\n",
    "\n",
    "We can isolate this subject below:"
   ]
  },
  {
   "cell_type": "code",
   "execution_count": 98,
   "metadata": {},
   "outputs": [
    {
     "data": {
      "text/plain": [
       "array([[  6780,      2,      1,      0,      0,      1,      1,    408,\n",
       "             5,      1,   7166,     71,     27,      0,   9147, 112040,\n",
       "             6,     98,    100,     20,     35,     -1,     66,    432,\n",
       "             0,      1]], dtype=int32)"
      ]
     },
     "execution_count": 98,
     "metadata": {},
     "output_type": "execute_result"
    }
   ],
   "source": [
    "not5_in_gate[not5_in_gate[:,ML['is_inf']] == 1]"
   ]
  },
  {
   "cell_type": "markdown",
   "metadata": {},
   "source": [
    "So restricting eldery visits is ultimately a meaningless and ineffectual policy if home care workers enter the gate without obstruction. Obviously, it is not a solution to restrict home care workers from entering the gate.\n",
    "\n",
    "One possibility is to implement a testing regime."
   ]
  },
  {
   "cell_type": "code",
   "execution_count": null,
   "metadata": {
    "nbsphinx": "hidden"
   },
   "outputs": [],
   "source": [
    "%%javascript\n",
    "IPython.notebook.save_notebook()"
   ]
  },
  {
   "cell_type": "code",
   "execution_count": 102,
   "metadata": {
    "nbsphinx": "hidden"
   },
   "outputs": [],
   "source": [
    "from rknot.notebook import move_to_doc_folder\n",
    "move_to_doc_folder('load.ipynb')"
   ]
  },
  {
   "cell_type": "code",
   "execution_count": null,
   "metadata": {
    "nbsphinx": "hidden"
   },
   "outputs": [],
   "source": []
  }
 ],
 "metadata": {
  "celltoolbar": "Edit Metadata",
  "kernelspec": {
   "display_name": "Python 3",
   "language": "python",
   "name": "python3"
  },
  "language_info": {
   "codemirror_mode": {
    "name": "ipython",
    "version": 3
   },
   "file_extension": ".py",
   "mimetype": "text/x-python",
   "name": "python",
   "nbconvert_exporter": "python",
   "pygments_lexer": "ipython3",
   "version": "3.8.6"
  }
 },
 "nbformat": 4,
 "nbformat_minor": 4
}
