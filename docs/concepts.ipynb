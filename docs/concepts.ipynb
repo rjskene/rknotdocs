{
 "cells": [
  {
   "cell_type": "markdown",
   "metadata": {},
   "source": [
    "## Key Concepts ##"
   ]
  },
  {
   "cell_type": "markdown",
   "metadata": {},
   "source": [
    "RKnot builds a simulation across four dimensions of global properties:\n",
    "\n",
    "* **Time**\n",
    "    * The fundamental unit of time is a `tick`. \n",
    "    * Each iteration of the simulation is one tick. During a tick, the following occurs:\n",
    "        * subjects can move to new locations\n",
    "        * subjects can have contact with other subjects\n",
    "        * attributes of the subjects can change\n",
    "    * in the real world, many of the fundamental properties of a virus are measured in days (i.e. recovery rate or duration of immunity). RKnot translates these inputs into ticks.\n",
    "    * Currently, RKnot only supports one `tick` per day. The goal is to support any number of ticks during a day.\n",
    "* **Space**\n",
    "    * Subjects interact in an two-dimensional environment called the Grid.\n",
    "    * The Grid *must* be a square. The Grid size can be passed manually or it can be determined automatically for a specified density level.\n",
    "    * Each pair of xy coordinates in the Grid is a location. \n",
    "    * A *contact* occurs when an infected subject and a susceptible subject occupy the same location on the same tick.\n",
    "    * A single subject can only occupy a single location at one tick. There is no limit to the number of subjects that can occupy a single location at one tick.\n",
    "    * Subjects move through the Grid according to user-specified `mover` [functions](#Mover-Functions). These functions typically incorporate a degree of randomness.\n",
    "    * A subject can also move by attending an [Event](#Events).\n",
    "    * Portions of the Grid may be restricted by [Boxes and/or Gates](#Boxes-and-Gates).\n",
    "\n",
    "* **Subjects**\n",
    "    * subjects (also referred to as \"dots\") are the analog of people in the simulation.\n",
    "    * subjects carry many attributes through the life of the simulation that are updated and changed as required [see Dot Matrix](#Dot-Matrix)).\n",
    "* **Virus**\n",
    "    * the user must pass several characteristics fundamental to the simulated virus. RKnot infers others. Virus characteristics include:\n",
    "        * $R_0$\n",
    "        * Duration of Infection\n",
    "        * Transmission Risk        \n",
    "        * Duration of Immunity\n",
    "        * Infection Fatality Rate"
   ]
  },
  {
   "cell_type": "markdown",
   "metadata": {},
   "source": [
    "### The Sim ###\n",
    "The `Sim` object is the user interface for the RKnot simulation package. A Sim object is instantiated with pre-defined characteristics of the space, the subjects, and the virus.\n",
    "\n",
    "For demonstration purposes, a quick default simulation can be run by simply providing a few parameters."
   ]
  },
  {
   "cell_type": "code",
   "execution_count": 1,
   "metadata": {
    "nbsphinx": "hidden"
   },
   "outputs": [],
   "source": [
    "### HIDDEN CELL ###\n",
    "%load_ext autoreload\n",
    "%autoreload 2\n",
    "\n",
    "from IPython.core.display import HTML\n",
    "\n",
    "RUN = False\n",
    "SHOW_CHARTS = False\n",
    "SAVE_CHARTS = False\n",
    "\n",
    "PATH = 'vids/concepts/tests/'"
   ]
  },
  {
   "cell_type": "markdown",
   "metadata": {
    "scrolled": false
   },
   "source": [
    "```python\n",
    "from rknot import Sim, Chart\n",
    "\n",
    "params = {'square': 4, 'R0': 2.5, 'days': 50, 'imndur': 365, 'infdur': 365}\n",
    "group = {'n': 2, 'n_inf': 1}\n",
    "sim = Sim(groups=group, **params)\n",
    "```\n",
    "\n",
    "`run` is the main method of the `Sim` object. `run` iterates through each `tick` in the simulation. Currently, one day == one tick.\n",
    "\n",
    "```python\n",
    "sim.run()\n",
    "```\n",
    "\n",
    "`sim.run()` does not return any values, but it does update various attributes of the `sim` object. After calling `run`, you can then pass `sim` to the `Chart` object, which will generate an animation of the simulation across time.\n",
    "\n",
    "```python\n",
    "chart = Chart(sim, dotsize=2000, interval=200, show_intro=False, use_init_func=False)\n",
    "chart.to_html5_video()\n",
    "```"
   ]
  },
  {
   "cell_type": "code",
   "execution_count": 2,
   "metadata": {
    "nbsphinx": "hidden"
   },
   "outputs": [],
   "source": [
    "if RUN:\n",
    "    from rknot import Sim, Chart\n",
    "    params = {'square': 4, 'R0': 2.5, 'days': 50, 'imndur': 365, 'infdur': 365}\n",
    "    sim = Sim(**params)\n",
    "    sim.run()\n",
    "\n",
    "if SHOW_CHARTS:\n",
    "    chart = Chart(\n",
    "        sim, dotsize=2000, show_intro=False, \n",
    "        use_init_func=False, interval=200,\n",
    "    )\n",
    "    HTML(chart.to_html5_video())\n",
    "\n",
    "if SAVE_CHARTS:\n",
    "    chart_params = dict(\n",
    "        show_intro=False, use_init_func=False, \n",
    "        dotsize=200, interval=200, reso_format='web'\n",
    "    )\n",
    "    chart = Chart(sim, **chart_params).save(PATH + 'intro.mp4')"
   ]
  },
  {
   "cell_type": "markdown",
   "metadata": {},
   "source": [
    "<video width='705' height='340' \n",
    "    src='https://storage.googleapis.com/rknotvids/keycons/intro.mp4' controls>alternative text</video>\n",
    "<p></p>"
   ]
  },
  {
   "cell_type": "markdown",
   "metadata": {},
   "source": [
    "The animation is split in 3 sections: \n",
    "* **Interactions**\n",
    "    * the visual representation of subjects in the Grid. Each marker is a subject and each cross-section of gridlines is a point (for larger grids the lines are removed).\n",
    "* **Details**\n",
    "    * provides several on-the-run statistics including Effective Reproduction Number, total fatalities, and fatalities by group.\n",
    "* **Infections**\n",
    "    * shows the change in infection level over each day, showing both current infection level and total penetration (\"Ever\" in the legend)\n",
    "    \n",
    "The animation is built on components that can be viewed in various preset layouturations. [see Chart for more details](#Chart)."
   ]
  },
  {
   "cell_type": "markdown",
   "metadata": {},
   "source": [
    "As per the animation above, the default simulation is of a single infected subject, moving across a 4x4 two-dimensional space according to the `equal` mover function. The subject is equally likely to move to any location in the Grid on any tick."
   ]
  },
  {
   "cell_type": "markdown",
   "metadata": {},
   "source": [
    "___\n",
    "### Subjects ###"
   ]
  },
  {
   "cell_type": "markdown",
   "metadata": {},
   "source": [
    "#### Dots ###\n",
    "Dots are subjects/people in the simulation space. A subject has many attributes that are adjusted over time, including:\n",
    "\n",
    "* which Group it belongs to\n",
    "* if it is alive\n",
    "* if it is infected\n",
    "* if it is susceptible\n",
    "* its location\n",
    "* any restricted areas that apply to it ([see Boxes and Gates](#Boxes-and-Gates))\n",
    "* if infected, when it will recover (or when it will succumb)\n",
    "* if recovered, when it will again become susceptible\n",
    "* its fatality rate\n",
    "* its `mover` function\n",
    "\n",
    "[see Dot Matrix](#Dot-Matrix) for a more fulsome discussion."
   ]
  },
  {
   "cell_type": "markdown",
   "metadata": {},
   "source": [
    "#### Groups ####\n",
    "Dots are the fundamental subjects of the simulation, but dots can **only** be created via a Group object.\n",
    "\n",
    "To create our group objects, we can pass a list of dictionaries to the `groups` parameter of Sim. The dictionaries correspond to the attributes of the group, which in turn correspond to the attributes of its constituent dots at initiation."
   ]
  },
  {
   "cell_type": "markdown",
   "metadata": {},
   "source": [
    "To create a group, you need only provide two parameters:\n",
    "\n",
    "* `n`, population size of the group at initiation\n",
    "* `n_inf`, number of infected subjects in the group at initiation"
   ]
  },
  {
   "cell_type": "markdown",
   "metadata": {},
   "source": [
    "*If only one group is being provided, you can pass a dictionary. With multiple groups, pass an iterable of dicts.*"
   ]
  },
  {
   "cell_type": "markdown",
   "metadata": {},
   "source": [
    "```python\n",
    "params = {'square': 10, 'R0': 2.5, 'days': 50, 'imndur': 365, 'infdur': 365}\n",
    "group = dict(n=2, n_inf=1)\n",
    "\n",
    "sim = Sim(groups=group, **params)\n",
    "sim.run()\n",
    "\n",
    "chart = Chart(\n",
    "    sim, figsize=(16,8), dotsize=2000, interval=200,\n",
    "    layout='dots_only', show_intro=False\n",
    ")\n",
    "chart.animate.to_html5_video()\n",
    "```"
   ]
  },
  {
   "cell_type": "markdown",
   "metadata": {},
   "source": [
    "Below we see this structure creates a 10x10 Grid with two subjects, only one of which is infected at the outset."
   ]
  },
  {
   "cell_type": "code",
   "execution_count": 3,
   "metadata": {
    "nbsphinx": "hidden"
   },
   "outputs": [],
   "source": [
    "if RUN:\n",
    "    params = {'square': 10, 'R0': 2.5, 'days': 50, 'imndur': 365, 'infdur': 365}\n",
    "    group = dict(n=2, n_inf=1)\n",
    "\n",
    "    sim = Sim(groups=group, **params)\n",
    "    sim.run()\n",
    "if SHOW_CHARTS:\n",
    "    HTML(chart.animate.to_html5_video())\n",
    "if SAVE_CHARTS:\n",
    "    chart_params = dict(\n",
    "        show_intro=False, use_init_func=False, \n",
    "        dotsize=200, interval=200, \n",
    "        layout='dots_only', reso_format='web'\n",
    "    )\n",
    "    chart = Chart(sim, **chart_params).save(PATH + 'group1.mp4')"
   ]
  },
  {
   "cell_type": "markdown",
   "metadata": {},
   "source": [
    "<video width='705' height='340' \n",
    "    src='https://storage.googleapis.com/rknotvids/keycons/group1.mp4' controls>alternative text</video>\n",
    "<p></p>"
   ]
  },
  {
   "cell_type": "markdown",
   "metadata": {},
   "source": [
    "There are many other parameters and customizations that can provided:\n",
    "\n",
    "* `name`\n",
    "    * if not provided, Sim will create one\n",
    "* `box` & `box_is_gate` \n",
    "    * see [Boxes and Gates](#Boxes-and-Gates)\n",
    "* `mover`\n",
    "    * function used to dictate a dot's movement ([see Mover Functions](#Mover-Functions))\n",
    "* `tmf`\n",
    "    * [*transmission factor*](theory.ipynb), $T$, applied to each of the dots interactions.\n",
    "    * default: 1 \n",
    "* `susf`\n",
    "    * *susceptiblity factor*; the fraction of subjects in a group that will be made susceptible to the virus at initiation\n",
    "    * the inverse of `susf` ($1/{susf}$) is the number of subjects in a group that already have immunity.\n",
    "* `ifr`\n",
    "    * *infection fatality rate*; or the likelihood that an infection will be fatal"
   ]
  },
  {
   "cell_type": "markdown",
   "metadata": {},
   "source": [
    "These can again be passed as a dictionary of a single group: "
   ]
  },
  {
   "cell_type": "markdown",
   "metadata": {},
   "source": [
    "```python\n",
    "group = dict(\n",
    "    name='main', n=2, n_inf=1, mover='equal', \n",
    "    tmf=1.25, susf=.75, ifr=0.005\n",
    ")\n",
    "\n",
    "sim = Sim(groups=group, **params)\n",
    "sim.run()\n",
    "\n",
    "chart = Chart(\n",
    "    sim, figsize=(16,8), dotsize=2000, interval=200, \n",
    "    layout='dots_only', show_intro=False\n",
    ") \n",
    "chart.to_html5_video()\n",
    "```"
   ]
  },
  {
   "cell_type": "code",
   "execution_count": 4,
   "metadata": {
    "nbsphinx": "hidden"
   },
   "outputs": [],
   "source": [
    "if RUN:\n",
    "    group = dict(name='main', n=2, n_inf=1, mover='local', tmf=1.25, susf=.75, ifr=0.005)\n",
    "\n",
    "    sim = Sim(groups=group, **params)\n",
    "    sim.run()\n",
    "if SHOW_CHARTS:\n",
    "    chart = Chart(\n",
    "        sim, figsize=(16,8), dotsize=2000, interval=200, \n",
    "        layout='dots_only', show_intro=False\n",
    "    ) \n",
    "    HTML(chart.animate.to_html5_video())\n",
    "if SAVE_CHARTS:\n",
    "    chart_params = dict(\n",
    "        show_intro=False, use_init_func=False, \n",
    "        dotsize=200, interval=200, \n",
    "        layout='dots_only', reso_format='web'\n",
    "    )\n",
    "    chart = Chart(sim, **chart_params).save(PATH + 'group2.mp4')"
   ]
  },
  {
   "cell_type": "markdown",
   "metadata": {},
   "source": [
    "<video width='705' height='340' \n",
    "    src='https://storage.googleapis.com/rknotvids/keycons/group2.mp4' controls>alternative text</video>\n",
    "<p></p>"
   ]
  },
  {
   "cell_type": "markdown",
   "metadata": {},
   "source": [
    "Or as an iterable of dictionaries. Each group is assigned a unique marker in the animation."
   ]
  },
  {
   "cell_type": "markdown",
   "metadata": {},
   "source": [
    "```python\n",
    "group1 = dict(name='1', n=1, n_inf=1, mover='local', tmf=1.25, susf=.75, ifr=0.005)\n",
    "group2 = dict(name='2', n=1, n_inf=0, mover='equal', tmf=0.75, susf=0.95, ifr=0.05)\n",
    "group3 = dict(name='3', n=1, n_inf=0, mover='equal', tmf=0.25, susf=0.5, ifr=0.4)    \n",
    "groups = [group1, group2, group3]\n",
    "\n",
    "sim = Sim(groups=groups, **params)\n",
    "sim.run()\n",
    "\n",
    "chart = Chart(\n",
    "    sim, figsize=(16,8), dotsize=2000, interval=200, \n",
    "    layout='dots_only', show_intro=False\n",
    ")\n",
    "chart.to_html5_video()\n",
    "```"
   ]
  },
  {
   "cell_type": "code",
   "execution_count": 5,
   "metadata": {
    "nbsphinx": "hidden"
   },
   "outputs": [],
   "source": [
    "if RUN:\n",
    "    from rknot import Sim\n",
    "    params = {'square': 10, 'R0': 2.5, 'days': 50, 'imndur': 365, 'infdur': 365}\n",
    "    \n",
    "    group1 = dict(name='1', n=1, n_inf=1, mover='local', tmf=1.25, susf=.75, ifr=0.005)\n",
    "    group2 = dict(name='2', n=1, n_inf=0, mover='equal', tmf=0.75, susf=0.95, ifr=0.05)\n",
    "    group3 = dict(name='3', n=1, n_inf=0, mover='equal', tmf=0.25, susf=0.5, ifr=0.4)    \n",
    "    groups = [group1, group2, group3]\n",
    "\n",
    "    sim = Sim(groups=groups, **params)\n",
    "    sim.run()\n",
    "\n",
    "if SHOW_CHARTS:\n",
    "    from rknot import Chart\n",
    "    chart = Chart(\n",
    "        sim, figsize=(16,8), dotsize=2000, interval=200, \n",
    "        layout='dots_only', show_intro=False\n",
    "    )\n",
    "\n",
    "    HTML(chart.animate.to_html5_video())\n",
    "if SAVE_CHARTS:\n",
    "    from rknot import Chart    \n",
    "    chart_params = dict(\n",
    "        show_intro=False, use_init_func=False, \n",
    "        dotsize=200, interval=200, \n",
    "        layout='dots_only', reso_format='web'\n",
    "    )\n",
    "    chart = Chart(sim, **chart_params).save(PATH + 'group3.mp4')"
   ]
  },
  {
   "cell_type": "markdown",
   "metadata": {},
   "source": [
    "<video width='705' height='340' \n",
    "    src='https://storage.googleapis.com/rknotvids/keycons/group3.mp4' controls>alternative text</video>\n",
    "<br>"
   ]
  },
  {
   "cell_type": "markdown",
   "metadata": {},
   "source": [
    "___\n",
    "### The Grid ###\n",
    "\n",
    "All interactions in an RKnot simulation take place inside the Grid. The grid is a `Grid` object, which in turn is a sub-classed numpy array with some additional features.\n",
    "\n",
    "The Grid size can be determined by passing the `square` parameter or the `dlevel` parameter. Each `dlevel` corresponds to a certain density."
   ]
  },
  {
   "cell_type": "code",
   "execution_count": 6,
   "metadata": {
    "tags": [
     "hide_input"
    ]
   },
   "outputs": [
    {
     "data": {
      "text/markdown": [
       "Available `dlevel` options and their corresponding densities are: \n",
       "\n",
       "low: 0.2\n",
       "\n",
       "med: 1\n",
       "\n",
       "high: 10\n",
       "\n"
      ],
      "text/plain": [
       "<IPython.core.display.Markdown object>"
      ]
     },
     "metadata": {},
     "output_type": "display_data"
    }
   ],
   "source": [
    "from rknot.helpers import md\n",
    "from rknot import Sim\n",
    "msg = 'Available `dlevel` options and their corresponding densities are: \\n\\n'\n",
    "dlevels = ['{}: {}\\n\\n'.format(level, density) for level, density in Sim.DENSITIES.items()]\n",
    "msg += ''.join(dlevels)\n",
    "md(msg)"
   ]
  },
  {
   "cell_type": "markdown",
   "metadata": {},
   "source": [
    "If we set `dlevel=med`, the Grid will be set such that the density is 1 subject per location. For a group of 100 subjects, that will result in a 10x10 grid. We can see these attributes by passing `details=True`."
   ]
  },
  {
   "cell_type": "code",
   "execution_count": 7,
   "metadata": {},
   "outputs": [
    {
     "name": "stdout",
     "output_type": "stream",
     "text": [
      "---------------------------------------------------------------------------------\n",
      "|                                  SIM DETAILS                                  |\n",
      "|-------------------------------------------------------------------------------|\n",
      "|           Boundary|      [ 1 10  1 10]|          Locations|                100|\n",
      "|-------------------|-------------------|-------------------|-------------------|\n",
      "|         Population|                100|            Density|                1.0|\n",
      "|-------------------|-------------------|-------------------|-------------------|\n",
      "|       Contact Rate|               1.01|                   |                   |\n",
      "|-------------------|-------------------|-------------------|-------------------|\n"
     ]
    }
   ],
   "source": [
    "params = {'R0': 2.5, 'days': 50, 'imndur': 365, 'infdur': 365}\n",
    "group = dict(name='main', n=100, n_inf=1)\n",
    "\n",
    "sim = Sim(groups=group, dlevel='med', details=True, **params)"
   ]
  },
  {
   "cell_type": "markdown",
   "metadata": {},
   "source": [
    "```python\n",
    "sim.run()\n",
    "\n",
    "chart = Chart(\n",
    "    sim, figsize=(16,8), layout='dots_only', \n",
    "    show_intro=False, use_init_func=False\n",
    ")\n",
    "chart.to_html5_video()\n",
    "```"
   ]
  },
  {
   "cell_type": "code",
   "execution_count": 8,
   "metadata": {
    "nbsphinx": "hidden"
   },
   "outputs": [],
   "source": [
    "if RUN:\n",
    "    sim.run()\n",
    "if SHOW_CHARTS:\n",
    "    chart = Chart(sim, figsize=(16,8), layout='dots_only', show_intro=False)\n",
    "    HTML(chart.to_html5_video())\n",
    "\n",
    "if SAVE_CHARTS:\n",
    "    chart_params = dict(\n",
    "        show_intro=False, use_init_func=False, \n",
    "        interval=200, \n",
    "        layout='dots_only', reso_format='web'\n",
    "    )\n",
    "    chart = Chart(sim, **chart_params).save(PATH + 'grid1.mp4')"
   ]
  },
  {
   "cell_type": "markdown",
   "metadata": {},
   "source": [
    "<video width='705' height='340' \n",
    "    src='https://storage.googleapis.com/rknotvids/keycons/grid1.mp4' controls>alternative text</video>\n",
    "<p></p>"
   ]
  },
  {
   "cell_type": "markdown",
   "metadata": {},
   "source": [
    "For smaller populations, the density level can only be approximated. RKnot defaults to rounding up to the nearest square value.\n",
    "\n",
    "You can also pass a float value to `dlevel` in order to create a specified density. Here, we set `dlevel=3.5`"
   ]
  },
  {
   "cell_type": "code",
   "execution_count": 9,
   "metadata": {},
   "outputs": [
    {
     "name": "stdout",
     "output_type": "stream",
     "text": [
      "---------------------------------------------------------------------------------\n",
      "|                                  SIM DETAILS                                  |\n",
      "|-------------------------------------------------------------------------------|\n",
      "|           Boundary|      [ 1 18  1 18]|          Locations|                324|\n",
      "|-------------------|-------------------|-------------------|-------------------|\n",
      "|         Population|              1,020|            Density|               3.15|\n",
      "|-------------------|-------------------|-------------------|-------------------|\n",
      "|       Contact Rate|               3.16|                   |                   |\n",
      "|-------------------|-------------------|-------------------|-------------------|\n"
     ]
    }
   ],
   "source": [
    "group1 = dict(name='1', n=1000, n_inf=1)\n",
    "group2 = dict(name='2', n=20, n_inf=20)\n",
    "groups = [group1, group2]\n",
    "\n",
    "sim = Sim(groups=groups, dlevel=3.5, details=True, **params)"
   ]
  },
  {
   "cell_type": "markdown",
   "metadata": {},
   "source": [
    "```python\n",
    "sim.run()\n",
    "\n",
    "chart = Chart(sim, figsize=(16,8), layout='dots_only', show_intro=False)\n",
    "chart.to_html5_video()\n",
    "```"
   ]
  },
  {
   "cell_type": "code",
   "execution_count": 10,
   "metadata": {
    "nbsphinx": "hidden"
   },
   "outputs": [],
   "source": [
    "if RUN:\n",
    "    sim.run()\n",
    "if SHOW_CHARTS:\n",
    "    chart = Chart(sim, figsize=(16,8), layout='dots_only', show_intro=False)\n",
    "    HTML(chart.animate.to_html5_video())\n",
    "if SAVE_CHARTS:\n",
    "    chart_params = dict(\n",
    "        show_intro=False, use_init_func=False, \n",
    "        interval=200, \n",
    "        layout='dots_only', reso_format='web'\n",
    "    )\n",
    "    chart = Chart(sim, **chart_params).save(PATH + 'grid2.mp4')"
   ]
  },
  {
   "cell_type": "markdown",
   "metadata": {},
   "source": [
    "<video width='705' height='340' \n",
    "    src='https://storage.googleapis.com/rknotvids/keycons/grid2.mp4' controls>alternative text</video>\n",
    "<br>"
   ]
  },
  {
   "cell_type": "markdown",
   "metadata": {},
   "source": [
    "___\n",
    "#### Mover Functions ####\n",
    "\n",
    "When a subject changes locations, this is called a ‘move’. A move is completed during a tick and the movement of a subject on any tick is governed by its mover function. Movers select a location according to a pre-defined probability distribution, so the general movement pattern of a dot can be pre-determined, but any one movement occurs randomly.\n",
    "\n",
    "There are currently 5 mover functions. Their respective definitions, along with examples of their movement are provided below."
   ]
  },
  {
   "cell_type": "code",
   "execution_count": 11,
   "metadata": {
    "nbsphinx": "hidden",
    "scrolled": true
   },
   "outputs": [],
   "source": [
    "### HIDDEN ###\n",
    "from rknot.space import MOVERS\n",
    "\n",
    "if SAVE_CHARTS:\n",
    "    for mover in MOVERS:\n",
    "        group1 = dict(name='1', n=1, n_inf=1, mover=mover.__name__)\n",
    "\n",
    "        sim = Sim(groups=group1, square=10, **params)\n",
    "        sim.run()\n",
    "\n",
    "        chart_params = dict(\n",
    "            show_intro=False, use_init_func=False, \n",
    "            interval=200, \n",
    "            layout='dots_only', reso_format='web'\n",
    "        )\n",
    "        chart = Chart(sim, **chart_params).save(PATH + '{}.mp4'.format(mover.__name__))"
   ]
  },
  {
   "cell_type": "code",
   "execution_count": 22,
   "metadata": {
    "tags": [
     "hide_input"
    ]
   },
   "outputs": [
    {
     "data": {
      "text/markdown": [
       "\n",
       "\n",
       "Equal: <p>The subject is equally likely to move to any location.</p><video width=\"705\" height=\"340\" src=\"https://storage.googleapis.com/rknotvids/keycons/equal.mp4\" controls>alternative text</video><p></p>\n",
       "\n",
       "Local: <p>The subject has a strong bias towards dots only in its immediate vicinity.</p><video width=\"705\" height=\"340\" src=\"https://storage.googleapis.com/rknotvids/keycons/local.mp4\" controls>alternative text</video><p></p>\n",
       "\n",
       "Traveller: <p>The subject commonly moves to locations far across the Grid.</p><video width=\"705\" height=\"340\" src=\"https://storage.googleapis.com/rknotvids/keycons/traveller.mp4\" controls>alternative text</video><p></p>\n",
       "\n",
       "Quarantine: <p>The subject has a strong bias towards not moving, with only some movement occuring.</p><video width=\"705\" height=\"340\" src=\"https://storage.googleapis.com/rknotvids/keycons/quarantine.mp4\" controls>alternative text</video><p></p>\n",
       "\n",
       "Social: <p>The subject moves mostly within its vicinty but also to other more medium distance location.</p><video width=\"705\" height=\"340\" src=\"https://storage.googleapis.com/rknotvids/keycons/social.mp4\" controls>alternative text</video><p></p>"
      ],
      "text/plain": [
       "<IPython.core.display.Markdown object>"
      ]
     },
     "metadata": {},
     "output_type": "display_data"
    }
   ],
   "source": [
    "from rknot.space.movers import MOVER_DEFNS, MOVER_NAMES\n",
    "text = ''\n",
    "for i, mover in enumerate(MOVER_NAMES):\n",
    "    text += '\\n\\n{}: '.format(mover.capitalize())\n",
    "    text += '<p>{}</p>'.format(MOVER_DEFNS[i])\n",
    "    text += '<video width=\"705\" height=\"340\" src=\"https://storage.googleapis.com/rknotvids/keycons/{}.mp4\" controls>alternative text</video>'.format(mover)\n",
    "    text += '<p></p>'\n",
    "\n",
    "md(text)"
   ]
  },
  {
   "cell_type": "markdown",
   "metadata": {},
   "source": [
    "Movement can also be governed by [Boxes and Gates](#Boxes-and-Gates) or [Events](#Events).\n",
    " "
   ]
  },
  {
   "cell_type": "markdown",
   "metadata": {},
   "source": [
    "___\n",
    "### Boxes and Gates ###\n",
    "The movement of a subject across the Grid can be restricted by two concepts known as Boxes and Gates. These concepts are designed to mimick certain funcitonal or perceived boundaries between groups, such as international borders or closed-access communities like assisted-living facilities.\n",
    "\n",
    "The distinction between boxes and gates is simple:\n",
    "\n",
    "* Subjects *cannot* **exit** Boxes\n",
    "* Subjects *cannot* **enter** Gates"
   ]
  },
  {
   "cell_type": "markdown",
   "metadata": {},
   "source": [
    "___\n",
    "#### Boxes ####\n",
    "A box is a $m*n$ subset of locations within the Grid that a subject(s) cannot leave.\n",
    "\n",
    "The locations are specified by passing a four element iterable that specifies the coordinates of the \"four corners\" of the box according to [$x_0$, $x_1$, $y_0$, $y_1$]\n",
    "\n",
    "So passing:\n",
    "```python\n",
    "box = [2,6,3,9]\n",
    "```\n",
    "creates a box with the four corners:\n",
    "```python\n",
    "(2,3)   (2,9)    (6,3)   (6,9)\n",
    "```"
   ]
  },
  {
   "cell_type": "code",
   "execution_count": 13,
   "metadata": {
    "tags": [
     "hide_input"
    ]
   },
   "outputs": [
    {
     "data": {
      "text/markdown": [
       "and a total of 35 locations."
      ],
      "text/plain": [
       "<IPython.core.display.Markdown object>"
      ]
     },
     "metadata": {},
     "output_type": "display_data"
    }
   ],
   "source": [
    "from rknot.space import Box\n",
    "box = Box([2,6,3,9])\n",
    "msg = \"and a total of {} locations.\".format(box.n_locs)\n",
    "\n",
    "md(msg)"
   ]
  },
  {
   "cell_type": "markdown",
   "metadata": {},
   "source": [
    "Currently, a box *can only be specified* by passing the `box` parameter as group keyword. Every dot in the group is can only move within the `box`, regardless of the size of the Grid."
   ]
  },
  {
   "cell_type": "markdown",
   "metadata": {},
   "source": [
    "```python\n",
    "group1 = dict(name='1', n=2, n_inf=1, box=[1,3,2,4])\n",
    "\n",
    "sim = Sim(groups=group1, square=10, **params)\n",
    "sim.run()\n",
    "\n",
    "chart = Chart(\n",
    "    sim, figsize=(16,8), dotsize=2000, \n",
    "    layout='dots_only', show_intro=False, use_init_func=False\n",
    ")\n",
    "chart.to_html5_video()\n",
    "```"
   ]
  },
  {
   "cell_type": "code",
   "execution_count": 14,
   "metadata": {
    "nbsphinx": "hidden"
   },
   "outputs": [],
   "source": [
    "if RUN:\n",
    "    group1 = dict(name='1', n=2, n_inf=1, box=[1,3,2,4])\n",
    "\n",
    "    sim = Sim(groups=group1, square=10, **params)    \n",
    "    sim.run()\n",
    "if SHOW_CHARTS:\n",
    "    chart = Chart(sim, figsize=(16,8), dotsize=2000, layout='dots_only', show_intro=False)    \n",
    "    HTML(chart.animate.to_html5_video())\n",
    "if SAVE_CHARTS:\n",
    "    chart_params = dict(\n",
    "            show_intro=False, use_init_func=False, \n",
    "            interval=200,\n",
    "            layout='dots_only', reso_format='web'\n",
    "        )\n",
    "    chart = Chart(sim, **chart_params).save(PATH + 'boxes1.mp4')"
   ]
  },
  {
   "cell_type": "markdown",
   "metadata": {},
   "source": [
    "<video width='705' height='340' \n",
    "    src='https://storage.googleapis.com/rknotvids/keycons/boxes1.mp4' controls>alternative text</video>\n",
    "<p></p>"
   ]
  },
  {
   "cell_type": "markdown",
   "metadata": {},
   "source": [
    "A group can only have one box and each group can have its own box."
   ]
  },
  {
   "cell_type": "markdown",
   "metadata": {},
   "source": [
    "```python\n",
    "group1 = dict(name='1', n=2, n_inf=1, box=[1,3,2,4])\n",
    "group2 = dict(name='2', n=2, n_inf=0, box=[6,9,6,10])\n",
    "groups = [group1, group2]\n",
    "\n",
    "sim = Sim(groups=groups, square=10, **params)\n",
    "sim.run()\n",
    "\n",
    "chart = Chart(\n",
    "    sim, figsize=(16,8), dotsize=2000, \n",
    "    layout='dots_only', show_intro=False, use_init_func=False\n",
    ")\n",
    "chart.to_html5_video()\n",
    "```"
   ]
  },
  {
   "cell_type": "code",
   "execution_count": 15,
   "metadata": {
    "nbsphinx": "hidden"
   },
   "outputs": [],
   "source": [
    "if RUN:\n",
    "    group1 = dict(name='1', n=2, n_inf=1, box=[1,3,2,4])\n",
    "    group2 = dict(name='2', n=2, n_inf=0, box=[6,9,6,10])\n",
    "    groups = [group1, group2]\n",
    "    \n",
    "    sim = Sim(groups=groups, square=10, **params)\n",
    "    sim.run()\n",
    "if SHOW_CHARTS:\n",
    "    chart = Chart(sim, figsize=(16,8), dotsize=2000, layout='dots_only', show_intro=False) \n",
    "    HTML(chart.animate.to_html5_video())\n",
    "if SAVE_CHARTS:\n",
    "    chart_params = dict(\n",
    "            show_intro=False, use_init_func=False, \n",
    "            interval=200, \n",
    "            layout='dots_only', reso_format='web'\n",
    "        )\n",
    "    chart = Chart(sim, **chart_params).save(PATH + 'boxes2.mp4')"
   ]
  },
  {
   "cell_type": "markdown",
   "metadata": {},
   "source": [
    "<video width='705' height='340' \n",
    "    src='https://storage.googleapis.com/rknotvids/keycons/boxes2.mp4' controls>alternative text</video>\n",
    "<p></p>"
   ]
  },
  {
   "cell_type": "markdown",
   "metadata": {},
   "source": [
    "Remember that a box only restricts the subjects in that group from *leaving* the space. Other dots not assigned to that box can move into the space without restriction."
   ]
  },
  {
   "cell_type": "markdown",
   "metadata": {},
   "source": [
    "```python\n",
    "group1 = dict(name='1', n=5, n_inf=1, box=[1,3,1,3])\n",
    "group2 = dict(name='2', n=5, n_inf=0)\n",
    "groups = [group1, group2]\n",
    "\n",
    "sim = Sim(groups=groups, square=10, **params)\n",
    "sim.run()\n",
    "\n",
    "chart = Chart(sim, figsize=(16,8), dotsize=2000, layout='dots_only', show_intro=False)\n",
    "chart.to_html5_video()\n",
    "```"
   ]
  },
  {
   "cell_type": "code",
   "execution_count": 16,
   "metadata": {
    "nbsphinx": "hidden"
   },
   "outputs": [],
   "source": [
    "if RUN:\n",
    "    params = {'R0': 2.5, 'days': 50, 'imndur': 365, 'infdur': 365}\n",
    "    group1 = dict(name='1', n=5, n_inf=1, box=[1,3,1,3])\n",
    "    group2 = dict(name='2', n=5, n_inf=0)\n",
    "    groups = [group1, group2]\n",
    "\n",
    "    sim = Sim(groups=groups, square=10, **params)\n",
    "    sim.run()\n",
    "if SHOW_CHARTS:\n",
    "    chart = Chart(sim, figsize=(16,8), dotsize=2000, layout='dots_only', show_intro=False)\n",
    "    HTML(chart.animate.to_html5_video())\n",
    "\n",
    "if SAVE_CHARTS:\n",
    "    chart_params = dict(\n",
    "            show_intro=False, use_init_func=False, \n",
    "            interval=200, \n",
    "            layout='dots_only', reso_format='web'\n",
    "        )\n",
    "    chart = Chart(sim, **chart_params).save(PATH + 'boxes3.mp4')"
   ]
  },
  {
   "cell_type": "markdown",
   "metadata": {},
   "source": [
    "<video width='705' height='340' \n",
    "    src='https://storage.googleapis.com/rknotvids/keycons/boxes3.mp4' controls>alternative text</video>\n",
    "<br>"
   ]
  },
  {
   "cell_type": "markdown",
   "metadata": {},
   "source": [
    "___\n",
    "#### Gates ####\n",
    "Gates are the inverse of boxes. A gate is an area that subjects cannot enter.\n",
    "\n",
    "Gates are a Gate object, which is a subclass of Grid, and they are created via the same 4 element iterable. For now, a gate can only be created by passing the `box_is_gated=True` flag as a keyword in a group dictionary.\n",
    "\n",
    "Using the previous example, we can see that `group2` dots can no longer enter the `group1` box."
   ]
  },
  {
   "cell_type": "markdown",
   "metadata": {},
   "source": [
    "```python\n",
    "group1 = dict(name='1', n=5, n_inf=1, box=[1,3,1,3], box_is_gated=True)\n",
    "group2 = dict(name='2', n=5, n_inf=0)\n",
    "groups = [group1, group2]\n",
    "\n",
    "sim = Sim(groups=groups, square=10, **params)\n",
    "sim.run()\n",
    "\n",
    "chart = Chart(\n",
    "    sim, figsize=(16,8), dotsize=2000, layout='dots_only', show_intro=False,\n",
    "    use_init_func=False\n",
    ")\n",
    "chart.animate.to_html5_video()\n",
    "```"
   ]
  },
  {
   "cell_type": "code",
   "execution_count": 17,
   "metadata": {
    "nbsphinx": "hidden"
   },
   "outputs": [],
   "source": [
    "if RUN:\n",
    "    group1 = dict(name='1', n=5, n_inf=1, box=[1,3,1,3], box_is_gated=True)\n",
    "    group2 = dict(name='2', n=5, n_inf=0)\n",
    "    groups = [group1, group2]\n",
    "\n",
    "    sim = Sim(groups=groups, square=10, **params)\n",
    "    sim.run()\n",
    "if SHOW_CHARTS:\n",
    "    chart = Chart(\n",
    "        sim, figsize=(16,8), dotsize=2000, layout='dots_only', show_intro=False, use_init_func=False\n",
    "    )\n",
    "    HTML(chart.to_html5_video())\n",
    "if SAVE_CHARTS:\n",
    "    chart_params = dict(\n",
    "            show_intro=False, use_init_func=False, \n",
    "            interval=200, \n",
    "            layout='dots_only', reso_format='web'\n",
    "        )\n",
    "    chart = Chart(sim, **chart_params).save(PATH + 'gates1.mp4')"
   ]
  },
  {
   "cell_type": "markdown",
   "metadata": {},
   "source": [
    "<video width='705' height='340' \n",
    "    src='https://storage.googleapis.com/rknotvids/keycons/gates1.mp4' controls>alternative text</video>\n",
    "<p></p>"
   ]
  },
  {
   "cell_type": "markdown",
   "metadata": {},
   "source": [
    "This structure allows for intricate movement patterns. Here we show isolated groups:"
   ]
  },
  {
   "cell_type": "markdown",
   "metadata": {},
   "source": [
    "```python\n",
    "group1 = dict(name='1', n=50, n_inf=5, box=[1,5,1,20], box_is_gated=True)\n",
    "group2 = dict(name='2', n=50, n_inf=5, box=[6,25,3,10], box_is_gated=True)\n",
    "group3 = dict(name='3', n=50, n_inf=5, box=[10,21,16,22], box_is_gated=True)\n",
    "group4 = dict(name='4', n=50, n_inf=5, box=[2,15,23,25], box_is_gated=True)\n",
    "groups = [group1, group2, group3, group4]\n",
    "\n",
    "sim = Sim(groups=groups, square=25, **params)\n",
    "sim.run()\n",
    "\n",
    "chart = Chart(sim, figsize=(16,8), layout='dots_only', show_intro=False, use_init_func=False)\n",
    "chart.to_html5_video()\n",
    "```"
   ]
  },
  {
   "cell_type": "code",
   "execution_count": 18,
   "metadata": {
    "nbsphinx": "hidden"
   },
   "outputs": [],
   "source": [
    "if RUN:\n",
    "    group1 = dict(name='1', n=50, n_inf=5, box=[1,5,1,20], box_is_gated=True)\n",
    "    group2 = dict(name='2', n=50, n_inf=5, box=[6,25,3,10], box_is_gated=True)\n",
    "    group3 = dict(name='3', n=50, n_inf=5, box=[10,21,16,22], box_is_gated=True)\n",
    "    group4 = dict(name='4', n=50, n_inf=5, box=[2,15,23,25], box_is_gated=True)\n",
    "    groups = [group1, group2, group3, group4]\n",
    "\n",
    "    sim = Sim(groups=groups, square=25, **params)\n",
    "    sim.run()\n",
    "if SHOW_CHARTS:\n",
    "    chart = Chart(sim, figsize=(16,8), dotsize=200, layout='dots_only', show_intro=False)\n",
    "    HTML(chart.animate.to_html5_video())\n",
    "\n",
    "if SAVE_CHARTS:\n",
    "    chart_params = dict(\n",
    "            show_intro=False, use_init_func=False, \n",
    "            interval=200, dotsize=5,\n",
    "            layout='dots_only', reso_format='web'\n",
    "        )\n",
    "    chart = Chart(sim, **chart_params).save(PATH + 'gates2.mp4')"
   ]
  },
  {
   "cell_type": "markdown",
   "metadata": {},
   "source": [
    "<video width='705' height='340' \n",
    "    src='https://storage.googleapis.com/rknotvids/keycons/gates2.mp4' controls>alternative text</video>\n",
    "<p></p>"
   ]
  },
  {
   "cell_type": "markdown",
   "metadata": {},
   "source": [
    "And here some isolated and some free moving."
   ]
  },
  {
   "cell_type": "markdown",
   "metadata": {},
   "source": [
    "```python\n",
    "group1 = dict(name='1', n=50, n_inf=5, box=[1,5,1,5], box_is_gated=True)\n",
    "group2 = dict(name='2', n=50, n_inf=5, box=[14,19,14,19], box_is_gated=True)\n",
    "group3 = dict(name='4', n=10, n_inf=5)\n",
    "group4 = dict(name='4', n=10, n_inf=5)\n",
    "groups = [group1, group2, group3, group4]\n",
    "\n",
    "sim = Sim(groups=groups, square=25, **params)\n",
    "sim.run()\n",
    "\n",
    "chart = Chart(\n",
    "    sim, figsize=(16,8), layout='dots_only', \n",
    "      show_intro=False, use_init_func=False\n",
    ")\n",
    "chart.to_html5_video()\n",
    "```"
   ]
  },
  {
   "cell_type": "code",
   "execution_count": 19,
   "metadata": {
    "nbsphinx": "hidden"
   },
   "outputs": [],
   "source": [
    "if RUN:\n",
    "    group1 = dict(name='1', n=50, n_inf=5, box=[1,5,1,5], box_is_gated=True)\n",
    "    group2 = dict(name='2', n=50, n_inf=5, box=[14,19,14,19], box_is_gated=True)\n",
    "    group3 = dict(name='4', n=10, n_inf=5)\n",
    "    group4 = dict(name='4', n=10, n_inf=5)\n",
    "    groups = [group1, group2, group3, group4]\n",
    "\n",
    "    sim = Sim(groups=groups, square=25, **params)\n",
    "    sim.run()\n",
    "if SHOW_CHARTS:\n",
    "    chart = Chart(sim, figsize=(16,8), layout='dots_only', show_intro=False)\n",
    "    HTML(chart.animate.to_html5_video())\n",
    "if SAVE_CHARTS:\n",
    "    chart_params = dict(\n",
    "            show_intro=False, use_init_func=False, \n",
    "            interval=200, dotsize=5,\n",
    "            layout='dots_only', reso_format='web'\n",
    "        )\n",
    "    chart = Chart(sim, **chart_params).save(PATH + 'gates3.mp4')"
   ]
  },
  {
   "cell_type": "markdown",
   "metadata": {},
   "source": [
    "<video width='705' height='340' \n",
    "    src='https://storage.googleapis.com/rknotvids/keycons/gates3.mp4' controls>alternative text</video>\n",
    "<br>"
   ]
  },
  {
   "cell_type": "markdown",
   "metadata": {},
   "source": [
    "___\n",
    "### Events ###\n",
    "Events impact the attributes of subjects over the course of the simulation.\n",
    "\n",
    "Events are utilized to better simulate real-world behavior. \n",
    "\n",
    "For instance, people do not move in consistent, prescribed ways. They move in regular ways most of the time with contacts that are well defined, but sometimes they attend events (perhaps periodically or uniquely) that are not governed by their regular movement patterns."
   ]
  },
  {
   "cell_type": "markdown",
   "metadata": {},
   "source": [
    "#### Event ####\n",
    "An `Event` is an event that occurs at a particular location.\n",
    "\n",
    "An `Event` accepts the following parameters:\n",
    "\n",
    "* `xy`, the xy coordinates of the location\n",
    "* `start_tick`, the tick when the event begins\n",
    "* `groups`, an iterable of group ids that are eligible for the event\n",
    "* `capacity`, the number of subjects that should attend\n",
    "* `recurring`, how often the event recurs (i.e. every *nth* tick); if set to 0, the event does *not* recur\n",
    "\n",
    "When an `Event` concludes, the subject returns to its `home` location as specified in the dot matrix.\n",
    "\n",
    "To schedule an event, you must pass a list of event objects to the `events` parameter.\n",
    "\n",
    "To begin with, we'll create a single `Event` object, called `show`, that occurs once on day 5."
   ]
  },
  {
   "cell_type": "markdown",
   "metadata": {},
   "source": [
    "```python\n",
    "from rknot.events import Event\n",
    "\n",
    "params = {'square': 10, 'R0': 2.5, 'days': 50, 'imndur': 365, 'infdur': 365}\n",
    "group1 = dict(name='1', n=10, n_inf=5)\n",
    "\n",
    "show = Event(name='show', xy=(5,5), start_tick=5, groups=[0], capacity=10)\n",
    "events = [show]\n",
    "\n",
    "sim = Sim(groups=group1, events=events, **params)\n",
    "sim.run(dotlog=True)\n",
    "\n",
    "chart = Chart(sim, figsize=(16,8), layout='dots_only', show_intro=False)\n",
    "chart.animate.to_html5_video()\n",
    "```"
   ]
  },
  {
   "cell_type": "code",
   "execution_count": 20,
   "metadata": {
    "nbsphinx": "hidden"
   },
   "outputs": [],
   "source": [
    "if RUN:\n",
    "    from rknot.events import Event\n",
    "\n",
    "    params = {'square': 10, 'R0': 2.5, 'days': 50, 'imndur': 365, 'infdur': 365}\n",
    "    group1 = dict(name='1', n=10, n_inf=5)\n",
    "\n",
    "    show = Event(name='show', xy=(5,5), start_tick=5, groups=[0], capacity=10)\n",
    "    events = [show]\n",
    "\n",
    "    sim = Sim(groups=group1, events=events, **params)\n",
    "    sim.run(dotlog=True)\n",
    "\n",
    "if SHOW_CHARTS:\n",
    "    chart = Chart(sim, figsize=(16,8), layout='dots_only', show_intro=False)    \n",
    "    HTML(chart.animate.to_html5_video())\n",
    "if SAVE_CHARTS:\n",
    "    chart_params = dict(\n",
    "            show_intro=False, use_init_func=False, \n",
    "            interval=200,\n",
    "            layout='dots_only', reso_format='web'\n",
    "        )\n",
    "    chart = Chart(sim, **chart_params).save(PATH + 'event1.mp4')"
   ]
  },
  {
   "cell_type": "markdown",
   "metadata": {},
   "source": [
    "<video width='705' height='340' \n",
    "    src='https://storage.googleapis.com/rknotvids/keycons/event1.mp4' controls>alternative text</video>\n",
    "<p></p>"
   ]
  },
  {
   "cell_type": "markdown",
   "metadata": {},
   "source": [
    "If you watch closely, you'll see on Day 5 that all the dots seemingly disappear, save for one, at location (5,5). \n",
    "\n",
    "In fact, all 10 dots are *actually at that location at the same time*.\n",
    "\n",
    "We can confirm this by inspecting the [Dot Matrix](#) on that day via the `dotlog` attribute."
   ]
  },
  {
   "cell_type": "code",
   "execution_count": null,
   "metadata": {
    "nbsphinx": "hidden"
   },
   "outputs": [],
   "source": [
    "from rknot.events import Event\n",
    "\n",
    "params = {'square': 10, 'R0': 2.5, 'days': 50, 'imndur': 365, 'infdur': 365}\n",
    "group1 = dict(name='1', n=10, n_inf=5)\n",
    "\n",
    "show = Event(name='show', xy=(5,5), start_tick=5, groups=[0], capacity=10)\n",
    "events = [show]\n",
    "\n",
    "sim = Sim(groups=group1, events=events, **params)\n",
    "sim.run(dotlog=True)"
   ]
  },
  {
   "cell_type": "code",
   "execution_count": null,
   "metadata": {},
   "outputs": [],
   "source": [
    "from rknot.dots import MATRIX_COL_LABELS as ML\n",
    "sim.dotlog[4][:, ML['x']:ML['y']+1]"
   ]
  },
  {
   "cell_type": "markdown",
   "metadata": {},
   "source": [
    "We can see the event more clearly if we extend the duration to 10 days. We also significantly reduced the frame rate."
   ]
  },
  {
   "cell_type": "markdown",
   "metadata": {},
   "source": [
    "```python\n",
    "show = Event(name='show', xy=(5,5), start_tick=5, groups=[0], capacity=10, duration=10)\n",
    "events = [show]\n",
    "\n",
    "sim = Sim(groups=group1, events=events, **params)\n",
    "sim.run()\n",
    "\n",
    "chart = Chart(\n",
    "    sim, figsize=(16,8), dotsize=1000, interval=300, \n",
    "    layout='dots_only', show_intro=False, use_init_func=False\n",
    ")\n",
    "chart.to_html5.video()\n",
    "```"
   ]
  },
  {
   "cell_type": "code",
   "execution_count": null,
   "metadata": {
    "nbsphinx": "hidden"
   },
   "outputs": [],
   "source": [
    "if RUN:\n",
    "    show = Event(name='show', xy=(5,5), start_tick=5, groups=[0], capacity=10, duration=10)\n",
    "    events = [show]\n",
    "\n",
    "    sim = Sim(groups=group1, events=events, **params)\n",
    "    sim.run()\n",
    "if SHOW_CHARTS:\n",
    "    chart = Chart(\n",
    "        sim, figsize=(16,8), dotsize=1000, interval=300, \n",
    "        layout='dots_only', show_intro=False\n",
    "    )\n",
    "    HTML(chart.animate.to_html5_video())\n",
    "if SAVE_CHARTS:\n",
    "    chart_params = dict(\n",
    "            show_intro=False, use_init_func=False, \n",
    "            interval=300, dotsize=5,\n",
    "            layout='dots_only', reso_format='web'\n",
    "        )\n",
    "    chart = Chart(sim, **chart_params).save(PATH + 'event2.mp4')"
   ]
  },
  {
   "cell_type": "markdown",
   "metadata": {},
   "source": [
    "<video width='705' height='340' \n",
    "    src='https://storage.googleapis.com/rknotvids/keycons/event2.mp4' controls>alternative text</video>\n",
    "<p></p>"
   ]
  },
  {
   "cell_type": "markdown",
   "metadata": {},
   "source": [
    "Many event objects can be specified at once, in various combinations of groups."
   ]
  },
  {
   "cell_type": "markdown",
   "metadata": {},
   "source": [
    "```python\n",
    "group1 = dict(name='1', n=10, n_inf=5)\n",
    "group2 = dict(name='2', n=10, n_inf=0)\n",
    "\n",
    "show = Event(name='show', xy=(5,5), start_tick=5, groups=[0,1], capacity=5, recurring=30)\n",
    "game = Event(name='game', xy=(1,1), start_tick=5, groups=[0], capacity=5, recurring=14)\n",
    "church = Event(name='church', xy=(1,1), start_tick=5, groups=[1], capacity=10, recurring=7)\n",
    "\n",
    "groups = [group1, group2]\n",
    "events = [show, game, church]\n",
    "\n",
    "sim = Sim(groups=groups, events=events, **params)\n",
    "sim.run()\n",
    "\n",
    "chart = Chart(\n",
    "    sim, interval=300, dotsize=1000, layout='dots_only', show_intro=False,\n",
    "    use_init_func=False\n",
    ")\n",
    "chart.to_html5_video()\n",
    "```"
   ]
  },
  {
   "cell_type": "code",
   "execution_count": null,
   "metadata": {
    "nbsphinx": "hidden"
   },
   "outputs": [],
   "source": [
    "if RUN:\n",
    "    group1 = dict(name='1', n=10, n_inf=5)\n",
    "    group2 = dict(name='2', n=10, n_inf=0)\n",
    "\n",
    "    show = Event(name='show', xy=(5,5), start_tick=5, groups=[0,1], capacity=5, recurring=30)\n",
    "    game = Event(name='game', xy=(1,1), start_tick=5, groups=[0], capacity=5, recurring=14)\n",
    "    church = Event(name='church', xy=(1,1), start_tick=5, groups=[1], capacity=10, recurring=7)\n",
    "\n",
    "    groups = [group1, group2]\n",
    "    events = [show, game, church]\n",
    "\n",
    "    sim = Sim(groups=groups, events=events, **params)\n",
    "    sim.run()\n",
    "if SHOW_CHARTS:\n",
    "    chart = Chart(\n",
    "        sim, interval=300, dotsize=1000, layout='dots_only', show_intro=False\n",
    "    )\n",
    "    HTML(chart.animate.to_html5_video())\n",
    "if SAVE_CHARTS:\n",
    "    chart_params = dict(\n",
    "            show_intro=False, use_init_func=False, \n",
    "            interval=200,\n",
    "            layout='dots_only', reso_format='web'\n",
    "        )\n",
    "    chart = Chart(sim, **chart_params).save(PATH + 'event3.mp4')"
   ]
  },
  {
   "cell_type": "markdown",
   "metadata": {},
   "source": [
    "<video width='705' height='340' \n",
    "    src='https://storage.googleapis.com/rknotvids/keycons/event3.mp4' controls>alternative text</video>\n",
    "<br>"
   ]
  },
  {
   "cell_type": "markdown",
   "metadata": {},
   "source": [
    "___\n",
    "#### Travel ####\n",
    "Travel is a special type of event that allows a subject to enter a gate.\n",
    "\n",
    "When a dot enters a gate via a Travel object, its box and gate attributes are temporarily adjusted to match those of the groups within the gate. The attributes revert when the event ends (determined by `duration` parameter).\n",
    "\n",
    "Once inside the gate, the dot(s) are free to interact with other dots normally."
   ]
  },
  {
   "cell_type": "markdown",
   "metadata": {},
   "source": [
    "```python\n",
    "from rknot.events import Travel\n",
    "\n",
    "params = {'square': 10, 'R0': 2.5, 'days': 50, 'imndur': 365, 'infdur': 365}\n",
    "\n",
    "group1 = dict(name='1', n=1, n_inf=1, box=[1,5,1,5], box_is_gated=True)\n",
    "group2 = dict(name='2', n=10, n_inf=0, box=[6,10,6,10], box_is_gated=True)\n",
    "\n",
    "visit = Travel(\n",
    "    name='visit', xy=[1,1], start_tick=3, groups=[1], capacity=1, duration=5, recurring=10\n",
    ")\n",
    "\n",
    "groups = [group1, group2]\n",
    "events = [visit]\n",
    "\n",
    "sim = Sim(groups=groups, events=events, **params)\n",
    "sim.run()\n",
    "\n",
    "chart = Chart(\n",
    "    sim, interval=200, dotsize=2000, layout='dots_only', show_intro=False\n",
    "    use_init_func=False\n",
    ")\n",
    "chartto_html5_video()\n",
    "```"
   ]
  },
  {
   "cell_type": "code",
   "execution_count": null,
   "metadata": {
    "nbsphinx": "hidden"
   },
   "outputs": [],
   "source": [
    "if RUN:\n",
    "    from rknot.events import Travel\n",
    "\n",
    "    params = {'square': 10, 'R0': 2.5, 'days': 50, 'imndur': 365, 'infdur': 365}\n",
    "\n",
    "    group1 = dict(name='1', n=1, n_inf=1, box=[1,5,1,5], box_is_gated=True)\n",
    "    group2 = dict(name='2', n=10, n_inf=0, box=[6,10,6,10], box_is_gated=True)\n",
    "\n",
    "    visit = Travel(\n",
    "        name='visit', xy=[1,1], start_tick=3, groups=[1], capacity=1, duration=5, recurring=10\n",
    "    )\n",
    "\n",
    "    groups = [group1, group2]\n",
    "    events = [visit]\n",
    "\n",
    "    sim = Sim(groups=groups, events=events, **params)\n",
    "    sim.run()\n",
    "if SHOW_CHARTS:\n",
    "    chart = Chart(\n",
    "        sim, interval=200, dotsize=2000, layout='dots_only', show_intro=False\n",
    "    )\n",
    "    HTML(chart.animate.to_html5_video())\n",
    "if SAVE_CHARTS:\n",
    "    chart_params = dict(\n",
    "            show_intro=False, use_init_func=False, \n",
    "            interval=200, dotsize=5,\n",
    "            layout='dots_only', reso_format='web'\n",
    "        )\n",
    "    chart = Chart(sim, **chart_params).save(PATH + 'travel1.mp4')"
   ]
  },
  {
   "cell_type": "markdown",
   "metadata": {},
   "source": [
    "<video width='705' height='340' \n",
    "    src='https://storage.googleapis.com/rknotvids/keycons/travel1.mp4' controls>alternative text</video>\n",
    "<p></p>"
   ]
  },
  {
   "cell_type": "markdown",
   "metadata": {},
   "source": [
    "Many unique layouturations can be achieved with this structure. Below, the `group1` box will be vacated by the solitary `group1` dot (essentially switching places with a dot from `group2`)."
   ]
  },
  {
   "cell_type": "markdown",
   "metadata": {},
   "source": [
    "```python\n",
    "from rknot.events import Travel\n",
    "\n",
    "params = {'square': 10, 'R0': 2.5, 'days': 50, 'imndur': 365, 'infdur': 365}\n",
    "\n",
    "group1 = dict(name='1', n=1, n_inf=1, box=[1,5,1,5], box_is_gated=True)\n",
    "group2 = dict(name='2', n=10, n_inf=0, box=[6,10,6,10], box_is_gated=True)\n",
    "\n",
    "visit2 = Travel(\n",
    "    name='visit2', xy=[9,9], start_tick=3, groups=[0], capacity=1, duration=5, recurring=10\n",
    ")\n",
    "visit1 = Travel(\n",
    "    name='visit1', xy=[1,1], start_tick=3, groups=[1], capacity=1, duration=5, recurring=10\n",
    ")\n",
    "groups = [group1, group2]\n",
    "events = [visit2, visit1]\n",
    "\n",
    "sim = Sim(groups=groups, events=events, **params)\n",
    "sim.run()\n",
    "\n",
    "chart = Chart(\n",
    "    sim, interval=200, dotsize=2000, layout='dots_only', show_intro=False,\n",
    "    use_init_func=False\n",
    ")\n",
    "chart.to_html5_video()\n",
    "```"
   ]
  },
  {
   "cell_type": "code",
   "execution_count": null,
   "metadata": {
    "nbsphinx": "hidden"
   },
   "outputs": [],
   "source": [
    "if RUN:\n",
    "    from rknot.events import Travel\n",
    "\n",
    "    params = {'square': 10, 'R0': 2.5, 'days': 50, 'imndur': 365, 'infdur': 365}\n",
    "\n",
    "    group1 = dict(name='1', n=1, n_inf=1, box=[1,5,1,5], box_is_gated=True)\n",
    "    group2 = dict(name='2', n=10, n_inf=0, box=[6,10,6,10], box_is_gated=True)\n",
    "\n",
    "    visit2 = Travel(\n",
    "        name='visit2', xy=[9,9], start_tick=3, groups=[0], capacity=1, duration=5, recurring=10\n",
    "    )\n",
    "    visit1 = Travel(\n",
    "        name='visit1', xy=[1,1], start_tick=3, groups=[1], capacity=1, duration=5, recurring=10\n",
    "    )\n",
    "    groups = [group1, group2]\n",
    "    events = [visit2, visit1]\n",
    "\n",
    "    sim = Sim(groups=groups, events=events, **params)\n",
    "    sim.run()\n",
    "if SHOW_CHARTS:\n",
    "    chart = Chart(\n",
    "        sim, interval=200, dotsize=2000, layout='dots_only', show_intro=False\n",
    "    )\n",
    "    HTML(chart.animate.to_html5_video())\n",
    "if SAVE_CHARTS:\n",
    "    chart_params = dict(\n",
    "            show_intro=False, use_init_func=False, \n",
    "            interval=200, dotsize=5,\n",
    "            layout='dots_only', reso_format='web'\n",
    "        )\n",
    "    chart = Chart(sim, **chart_params).save(PATH + 'travel2.mp4')"
   ]
  },
  {
   "cell_type": "markdown",
   "metadata": {},
   "source": [
    "<video width='705' height='340' \n",
    "    src='https://storage.googleapis.com/rknotvids/keycons/travel2.mp4' controls>alternative text</video>\n",
    "<br>"
   ]
  },
  {
   "cell_type": "markdown",
   "metadata": {},
   "source": [
    "___\n",
    "#### Quarantine ###\n",
    "\n",
    "A quarantine is an event object that makes several changes to a dots state\n",
    "in order to restrict its movement.\n",
    "\n",
    "When a dot is quarantined,\n",
    "    \n",
    "1. it goes back to its home location ([see Dot Matrix](#Dot-Matrix))\n",
    "2. its boxes and gates are reset to match its group\n",
    "3. its mover function is changed to 'quarantine'\n",
    "\n",
    "In addition, a Quarantine object will create a additional restriction objects that disallow events during the quarantine ([see Restrictions below](#Restrictions))"
   ]
  },
  {
   "cell_type": "markdown",
   "metadata": {},
   "source": [
    "```python\n",
    "from rknot.events import Quarantine\n",
    "\n",
    "params = {'square': 10, 'R0': 2.5, 'days': 50, 'imndur': 365, 'infdur': 365}\n",
    "\n",
    "group1 = dict(name='1', n=2, n_inf=1, box=[1,5,1,5], box_is_gated=True)\n",
    "group2 = dict(name='2', n=2, n_inf=0, box=[6,10,6,10], box_is_gated=True)\n",
    "\n",
    "quar = Quarantine(name='all', start_tick=5, groups=[0,1], duration=30)\n",
    "\n",
    "groups = [group1, group2]\n",
    "events = [quar]\n",
    "\n",
    "sim = Sim(groups=groups, events=events, **params)\n",
    "sim.run()\n",
    "\n",
    "chart = Chart(\n",
    "    sim, interval=200, dotsize=2000, layout='dots_only', show_intro=False,\n",
    "    use_init_func=False\n",
    ")\n",
    "chart.to_html5_video()\n",
    "```"
   ]
  },
  {
   "cell_type": "code",
   "execution_count": null,
   "metadata": {
    "nbsphinx": "hidden"
   },
   "outputs": [],
   "source": [
    "if RUN:\n",
    "    from rknot.events import Quarantine\n",
    "\n",
    "    params = {'square': 10, 'R0': 2.5, 'days': 50, 'imndur': 365, 'infdur': 365}\n",
    "\n",
    "    group1 = dict(name='1', n=2, n_inf=1, box=[1,5,1,5], box_is_gated=True)\n",
    "    group2 = dict(name='2', n=2, n_inf=0, box=[6,10,6,10], box_is_gated=True)\n",
    "\n",
    "    quar = Quarantine(name='all', start_tick=5, groups=[0,1], duration=30)\n",
    "\n",
    "    groups = [group1, group2]\n",
    "    events = [quar]\n",
    "\n",
    "    sim = Sim(groups=groups, events=events, **params)\n",
    "    sim.run()\n",
    "if SHOW_CHARTS:\n",
    "    chart = Chart(\n",
    "        sim, interval=200, dotsize=2000, layout='dots_only', show_intro=False,\n",
    "        use_init_func=False\n",
    "    )\n",
    "    HTML(chart.animate.to_html5_video())\n",
    "if SAVE_CHARTS:\n",
    "    chart_params = dict(\n",
    "            show_intro=False, use_init_func=False, \n",
    "            interval=200, dotsize=5,\n",
    "            layout='dots_only', reso_format='web'\n",
    "        )\n",
    "    chart = Chart(sim, **chart_params).save(PATH + 'quar1.mp4')"
   ]
  },
  {
   "cell_type": "markdown",
   "metadata": {},
   "source": [
    "<video width='705' height='340' \n",
    "    src='https://storage.googleapis.com/rknotvids/keycons/quar1.mp4' controls>alternative text</video>"
   ]
  },
  {
   "cell_type": "markdown",
   "metadata": {},
   "source": [
    "We can see from above that once in quaratine, the subjects barely move. We can include events in our structure. The events will be restricted during the quarantine period, then will resume when the quarantine ends."
   ]
  },
  {
   "cell_type": "markdown",
   "metadata": {},
   "source": [
    "```python\n",
    "params = {'square': 10, 'R0': 2.5, 'days': 100, 'imndur': 365, 'infdur': 365}\n",
    "\n",
    "group1 = dict(name='1', n=1, n_inf=1, box=[1,5,1,5], box_is_gated=True)\n",
    "group2 = dict(name='2', n=10, n_inf=0, box=[6,10,6,10], box_is_gated=True)\n",
    "\n",
    "show = Event(name='show', xy=(6,6), start_tick=5, groups=[1], capacity=5, recurring=30)\n",
    "visit2 = Travel(\n",
    "    name='visit2', xy=[9,9], start_tick=3, groups=[0], capacity=1, duration=5, recurring=10\n",
    ")\n",
    "visit1 = Travel(\n",
    "    name='visit1', xy=[1,1], start_tick=3, groups=[1], capacity=1, duration=5, recurring=10\n",
    ")\n",
    "\n",
    "groups = [group1, group2]\n",
    "events = [show, visit2, visit1, quar]\n",
    "\n",
    "sim = Sim(groups=groups, events=events, **params)\n",
    "sim.run()\n",
    "\n",
    "chart = Chart(\n",
    "    sim, interval=200, dotsize=2000, layout='dots_only', show_intro=False,\n",
    "    use_init_func=False,\n",
    ")\n",
    "chart.to_html5_video()\n",
    "```"
   ]
  },
  {
   "cell_type": "code",
   "execution_count": null,
   "metadata": {
    "nbsphinx": "hidden"
   },
   "outputs": [],
   "source": [
    "if RUN:\n",
    "    params = {'square': 10, 'R0': 2.5, 'days': 100, 'imndur': 365, 'infdur': 365}\n",
    "\n",
    "    group1 = dict(name='1', n=1, n_inf=1, box=[1,5,1,5], box_is_gated=True)\n",
    "    group2 = dict(name='2', n=10, n_inf=0, box=[6,10,6,10], box_is_gated=True)\n",
    "\n",
    "    show = Event(name='show', xy=(6,6), start_tick=5, groups=[1], capacity=5, recurring=30)\n",
    "    visit2 = Travel(\n",
    "        name='visit2', xy=[9,9], start_tick=3, groups=[0], capacity=1, duration=5, recurring=10\n",
    "    )\n",
    "    visit1 = Travel(\n",
    "        name='visit1', xy=[1,1], start_tick=3, groups=[1], capacity=1, duration=5, recurring=10\n",
    "    )\n",
    "\n",
    "    groups = [group1, group2]\n",
    "    events = [show, visit2, visit1, quar]\n",
    "\n",
    "    sim = Sim(groups=groups, events=events, **params)\n",
    "    sim.run()\n",
    "if SHOW_CHARTS:\n",
    "    chart = Chart(\n",
    "        sim, interval=200, dotsize=2000, layout='no_details', show_intro=False\n",
    "    )    \n",
    "    HTML(chart.animate.to_html5_video())    \n",
    "if SAVE_CHARTS:\n",
    "    chart_params = dict(\n",
    "            show_intro=False, use_init_func=False, \n",
    "            interval=200, dotsize=5,\n",
    "            layout='dots_only', reso_format='web'\n",
    "        )\n",
    "    chart = Chart(sim, **chart_params).save(PATH + 'quar2.mp4')"
   ]
  },
  {
   "cell_type": "markdown",
   "metadata": {},
   "source": [
    "<video width='705' height='340' \n",
    "    src='https://storage.googleapis.com/rknotvids/keycons/quar2.mp4' controls>alternative text</video>\n",
    "<br>"
   ]
  },
  {
   "cell_type": "markdown",
   "metadata": {},
   "source": [
    "___\n",
    "#### Social Distancing ####\n",
    "Event to mimick social distancing practices.\n",
    "\n",
    "Social distancing is assumed to impact the Transmission Factor, $\\tau$ of each dot. The core hypothesis is that practices such as maintaining 6-feet of distance or mask wearing don't reduce the number of contacts, but do reduce the likelihood that a contact will result in a new infection (ceterus paribus).\n",
    "\n",
    "You can see use of this object [here](hit.ipynb#3.-Social-Distancing)."
   ]
  },
  {
   "cell_type": "markdown",
   "metadata": {},
   "source": [
    "___\n",
    "#### Vaccination ###\n",
    "TBD"
   ]
  },
  {
   "cell_type": "markdown",
   "metadata": {},
   "source": [
    "___\n",
    "#### Restrictions ####\n",
    "A restriction object restricts attendance to events that fall within the specified criteria. Each event has a `restricted` attribute that defaults to `False`. A restriction object filters out events from the event schedule by setting `restricted=True` for each event that satisfies the criteria.\n",
    "\n",
    "To clarify, a Restriction is *not* an event. Events act on dots. Restrictions act on events.\n",
    "\n",
    "Restrictions have potential as a versatile tool that can be used to investigate the impact of various government and business policy decisions that impact spread."
   ]
  },
  {
   "cell_type": "markdown",
   "metadata": {},
   "source": [
    "The Restriction object has a `criteria` parameter that accepts a `dict`, with keywords related to event object attributes. Acceptable `criteria` keys are currently:"
   ]
  },
  {
   "cell_type": "code",
   "execution_count": null,
   "metadata": {
    "tags": [
     "hide_input"
    ]
   },
   "outputs": [],
   "source": [
    "from rknot.helpers import md\n",
    "from rknot.events import Restriction\n",
    "msg = ' '.join(list(Restriction.OPERATORS.keys()))\n",
    "md(msg)"
   ]
  },
  {
   "cell_type": "markdown",
   "metadata": {},
   "source": [
    "The simplest way to restrict an event is by its name:"
   ]
  },
  {
   "cell_type": "markdown",
   "metadata": {},
   "source": [
    "```python\n",
    "from rknot.events import Restriction\n",
    "\n",
    "params = {'square': 10, 'R0': 2.5, 'days': 100, 'imndur': 365, 'infdur': 365}\n",
    "\n",
    "group1 = dict(name='1', n=10, n_inf=1, box=[1,5,1,5], box_is_gated=True)\n",
    "group2 = dict(name='2', n=10, n_inf=0, box=[6,10,6,10], box_is_gated=True)\n",
    "\n",
    "show1 = Event(name='show1', xy=(1,1), start_tick=2, groups=[0], capacity=10, recurring=2)\n",
    "show2 = Event(name='show2', xy=(10,10), start_tick=2, groups=[1], capacity=10, recurring=2)\n",
    "\n",
    "\n",
    "criteria = {'name': 'show1'}\n",
    "res1 = Restriction(name='no_show1', start_tick=10, duration=20, criteria=criteria)\n",
    "\n",
    "groups = [group1, group2]\n",
    "events = [show1, show2, res1]\n",
    "\n",
    "sim = Sim(groups=groups, events=events, **params)\n",
    "sim.run(dotlog=True)\n",
    "\n",
    "chart = Chart(\n",
    "    sim, interval=300, dotsize=2000, layout='dots_only', show_intro=False,\n",
    "    use_init_func=False,\n",
    ")\n",
    "chart.to_html5_video()\n",
    "```"
   ]
  },
  {
   "cell_type": "code",
   "execution_count": null,
   "metadata": {
    "nbsphinx": "hidden"
   },
   "outputs": [],
   "source": [
    "if RUN:\n",
    "    from rknot.events import Restriction\n",
    "\n",
    "    params = {'square': 10, 'R0': 2.5, 'days': 100, 'imndur': 365, 'infdur': 365}\n",
    "\n",
    "    group1 = dict(name='1', n=10, n_inf=1, box=[1,5,1,5], box_is_gated=True)\n",
    "    group2 = dict(name='2', n=10, n_inf=0, box=[6,10,6,10], box_is_gated=True)\n",
    "\n",
    "    show1 = Event(name='show1', xy=(1,1), start_tick=2, groups=[0], capacity=10, recurring=2)\n",
    "    show2 = Event(name='show2', xy=(10,10), start_tick=2, groups=[1], capacity=10, recurring=2)\n",
    "\n",
    "\n",
    "    criteria = {'name': 'show1'}\n",
    "    res1 = Restriction(name='no_show1', start_tick=10, duration=20, criteria=criteria)\n",
    "\n",
    "    groups = [group1, group2]\n",
    "    events = [show1, show2, res1]\n",
    "\n",
    "    sim = Sim(groups=groups, events=events, **params)\n",
    "    sim.run(dotlog=True)\n",
    "if SHOW_CHARTS:\n",
    "    chart = Chart(\n",
    "        sim, interval=300, dotsize=2000, layout='dots_only', show_intro=False\n",
    "    )\n",
    "    HTML(chart.animate.to_html5_video())      \n",
    "if SAVE_CHARTS:\n",
    "    chart_params = dict(\n",
    "            show_intro=False, use_init_func=False, \n",
    "            interval=300,\n",
    "            layout='dots_only', reso_format='web'\n",
    "        )\n",
    "    chart = Chart(sim, **chart_params).save(PATH + 'restrict1.mp4')"
   ]
  },
  {
   "cell_type": "markdown",
   "metadata": {},
   "source": [
    "<video width='705' height='340' \n",
    "    src='https://storage.googleapis.com/rknotvids/keycons/restrict1.mp4' controls>alternative text</video>\n",
    "<p></p>"
   ]
  },
  {
   "cell_type": "markdown",
   "metadata": {},
   "source": [
    "In the above, we can see that every other day both group boxes have events that are attended by all dots in the group.\n",
    "\n",
    "But on day 10, the `group1` dots no longer converge on location (1,1). Instead, they are spread throughout their box. So `res1` has successfully restricted attendance to `show1`.\n",
    "\n",
    "Unlike `Quarantine` objects, however, the `group1` dots have not changed their standard movement patterns.\n",
    "\n",
    "We can restrict multiple events via the other criteria. Next we will restrict events based on their capacity. Events with more than 5 subjects in attendance will be restricted."
   ]
  },
  {
   "cell_type": "markdown",
   "metadata": {},
   "source": [
    "```python\n",
    "criteria = {'capacity': 5}\n",
    "res1 = Restriction(name='cap5', start_tick=10, duration=20, criteria=criteria)\n",
    "\n",
    "groups = [group1, group2]\n",
    "events = [show1, show2, res1]\n",
    "\n",
    "sim = Sim(groups=groups, events=events, **params)\n",
    "sim.run()\n",
    "\n",
    "chart = Chart(\n",
    "    sim, interval=300, dotsize=2000, layout='dots_only', show_intro=False,\n",
    "    use_init_func=False,\n",
    ")\n",
    "chart.to_html5_video()\n",
    "```"
   ]
  },
  {
   "cell_type": "code",
   "execution_count": null,
   "metadata": {
    "nbsphinx": "hidden"
   },
   "outputs": [],
   "source": [
    "if RUN:\n",
    "    criteria = {'capacity': 5}\n",
    "    res1 = Restriction(name='cap5', start_tick=10, duration=20, criteria=criteria)\n",
    "\n",
    "    groups = [group1, group2]\n",
    "    events = [show1, show2, res1]\n",
    "\n",
    "    sim = Sim(groups=groups, events=events, **params)\n",
    "    sim.run()\n",
    "if SHOW_CHARTS:\n",
    "    chart = Chart(\n",
    "        sim, interval=300, dotsize=2000, layout='dots_only', show_intro=False\n",
    "    )\n",
    "    HTML(chart.animate.to_html5_video())\n",
    "if SAVE_CHARTS:\n",
    "    chart_params = dict(\n",
    "            show_intro=False, use_init_func=False, \n",
    "            interval=300,\n",
    "            layout='dots_only', reso_format='web'\n",
    "        )\n",
    "    chart = Chart(sim, **chart_params).save(PATH + 'restrict2.mp4')"
   ]
  },
  {
   "cell_type": "markdown",
   "metadata": {},
   "source": [
    "<video width='705' height='340' \n",
    "    src='https://storage.googleapis.com/rknotvids/keycons/restrict2.mp4' controls>alternative text</video>\n",
    "<p></p>"
   ]
  },
  {
   "cell_type": "markdown",
   "metadata": {},
   "source": [
    "In the above we see that neither of the groups had events from day 10 onward during the restriction period."
   ]
  },
  {
   "cell_type": "markdown",
   "metadata": {},
   "source": [
    "Restrictions can be chained together as desired to form a complex and tailored policy recipe for the population of the sim. [See this example](#)."
   ]
  },
  {
   "cell_type": "markdown",
   "metadata": {},
   "source": [
    "### Dot Matrix ###"
   ]
  },
  {
   "cell_type": "code",
   "execution_count": null,
   "metadata": {
    "tags": [
     "hide_input"
    ]
   },
   "outputs": [],
   "source": [
    "from rknot.dots import MATRIX_LABELS as LABELS\n",
    "msg = \"The dot matrix is essentially RKnot's canonical form of data structure. \"\n",
    "msg += \"The matrix is simply a 2D `numpy` array of shape (*n*, {}) \".format(len(LABELS))\n",
    "msg += \"with each of the *n* rows representing a dot and each column representing \"\n",
    "msg += \"an attribute.\\n\"\n",
    "\n",
    "md(msg)"
   ]
  },
  {
   "cell_type": "markdown",
   "metadata": {},
   "source": [
    " More typical Python objects have been eschewed in favor the Dot Matrix because:\n",
    "\n",
    "* **RKnot** relies heavily on [Ray](https://docs.ray.io/en/latest/) for parallel processing and [Numba](https://numba.pydata.org/) for just-in-time compilation and vectorization to improve processing speed.\n",
    "* `Numpy` arrays have several advantages in **Ray** including [rapid serialization](https://ray-project.github.io/2017/10/15/fast-python-serialization-with-ray-and-arrow.html) and ease of batching.\n",
    "* **Numba** also integrates well with `numpy`, supporting many of its features and leads to major performance improvements."
   ]
  },
  {
   "cell_type": "markdown",
   "metadata": {},
   "source": [
    "The dot matrix is created inside a **Ray** actor at instantiation and is only passed back to the main `Sim` object when the simulation is completed.\n",
    "\n",
    "It can be accessed via the `dots` attribute. Below is a sample of 4 dots:"
   ]
  },
  {
   "cell_type": "code",
   "execution_count": null,
   "metadata": {
    "scrolled": true
   },
   "outputs": [],
   "source": [
    "sim.dots[:4]"
   ]
  },
  {
   "cell_type": "markdown",
   "metadata": {},
   "source": [
    "The column attributes have corresponding labels:"
   ]
  },
  {
   "cell_type": "code",
   "execution_count": null,
   "metadata": {},
   "outputs": [],
   "source": [
    "from rknot.dots import MATRIX_LABELS\n",
    "print (MATRIX_LABELS)"
   ]
  },
  {
   "cell_type": "markdown",
   "metadata": {},
   "source": [
    "With these labels, the 4 dot matrix above can be shown in a table."
   ]
  },
  {
   "cell_type": "code",
   "execution_count": null,
   "metadata": {
    "tags": [
     "hide_input"
    ]
   },
   "outputs": [],
   "source": [
    "msg = '| ' + ' '.join(['{} |'.format(label) for label in MATRIX_LABELS])\n",
    "msg += ' \\n'\n",
    "msg += '| ' + ' '.join([':---: |' for label in MATRIX_LABELS])\n",
    "for dot in sim.dots[:5]:\n",
    "    msg += ' \\n'\n",
    "    msg += '| ' + ' '.join(['{} |'.format(dot[i]) for i, label in enumerate(MATRIX_LABELS)])\n",
    "    \n",
    "md(msg)"
   ]
  },
  {
   "cell_type": "markdown",
   "metadata": {},
   "source": [
    "There are several data types at work:    \n",
    "\n",
    "* *categorical integers*; used to identify related objects\n",
    "    * `id`, `group_id`, `loc_id`, `home_id`, `box_id`, `event_id`, `mover`\n",
    "    \n",
    "* *boolean integers*; used to set boolean flags\n",
    "    * `0` means `False` and `1` means `True`\n",
    "    * `is_alive`, `is_vaxxed`, `is_sus`, `is_inf`, `ever_inf`, `go_home`\n",
    "\n",
    "* *coordinates*; used to identify locations\n",
    "    * `x`, `y`, `homex`, `homey`\n",
    "\n",
    "* *event ticks*; integers that trigger an event on the given tick\n",
    "    * `depart`, `recover`, `relapse`\n",
    "\n",
    "* *factors*; scaled integers that must be unscaled before being used in multiplicative formulas\n",
    "    * `tmf`, `ifr`"
   ]
  },
  {
   "cell_type": "markdown",
   "metadata": {},
   "source": [
    "The column attributes are defined as follows:"
   ]
  },
  {
   "cell_type": "code",
   "execution_count": null,
   "metadata": {
    "tags": [
     "hide_input"
    ]
   },
   "outputs": [],
   "source": [
    "from rknot.dots.matrix import MATRIX_COL_DEFNS as DEFNS\n",
    "table = '| Label | Definition '*2 + '|'\n",
    "table += ' \\n'\n",
    "table += '|:---:|:---'*2 + '|'\n",
    "table += ' \\n'\n",
    "defns = list(DEFNS.items())\n",
    "tablen = len(defns) // 2\n",
    "for i,j in zip(defns[:tablen], defns[tablen:]):\n",
    "    table += '| ' + i[0] + ' | ' + i[1] + ' |' + j[0] + ' | ' + j[1] + ' |'\n",
    "    table += '\\n'\n",
    "    \n",
    "md(table)"
   ]
  },
  {
   "cell_type": "code",
   "execution_count": null,
   "metadata": {
    "nbsphinx": "hidden"
   },
   "outputs": [],
   "source": [
    "%%javascript\n",
    "IPython.notebook.save_notebook()"
   ]
  },
  {
   "cell_type": "code",
   "execution_count": null,
   "metadata": {
    "nbsphinx": "hidden"
   },
   "outputs": [],
   "source": [
    "from rknot.helpers import move_to_doc_folder\n",
    "move_to_doc_folder('concepts.ipynb')"
   ]
  },
  {
   "cell_type": "code",
   "execution_count": null,
   "metadata": {
    "nbsphinx": "hidden"
   },
   "outputs": [],
   "source": []
  }
 ],
 "metadata": {
  "celltoolbar": "Edit Metadata",
  "kernelspec": {
   "display_name": "Python 3",
   "language": "python",
   "name": "python3"
  },
  "language_info": {
   "codemirror_mode": {
    "name": "ipython",
    "version": 3
   },
   "file_extension": ".py",
   "mimetype": "text/x-python",
   "name": "python",
   "nbconvert_exporter": "python",
   "pygments_lexer": "ipython3",
   "version": "3.8.6"
  }
 },
 "nbformat": 4,
 "nbformat_minor": 4
}
