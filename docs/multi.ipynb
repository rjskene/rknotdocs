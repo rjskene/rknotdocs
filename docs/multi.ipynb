{
 "cells": [
  {
   "cell_type": "markdown",
   "metadata": {},
   "source": [
    "### Multiple Jurisdictions ###\n",
    "\n",
    "With our credible model for dynamic transmission at the contact level and our ability to size environments with approriate contact distributions, we can show the true power of **RKnot** in modelling complex scenarios.\n",
    "\n",
    "We [have previously shown](load.ipynb#Capacity-Restriction) that contact restrictions and social distancing in any one community *should* be effective in eliminating `sars-cov-2` relatively quickly. Across the world, howvever, many states, provinces, and countries, have experienced second and third waves spaced out months apart despite various forms of strict quarantines and lockdowns.\n",
    "\n",
    "So why haven't they been effective?\n",
    "\n",
    "In part, this has resulted from the many exceptions made to these restrictions, in particular, [schools remaining open](load.ipynb#Schools) in many jurisdictions.\n",
    "\n",
    "We must also consider the impact of multiple jurisdictions that have unique characteristics, set policy independently, and, importantly, allow travel between them.\n",
    "\n",
    "We will focus on two jurisdictions to start, building to four, and building in complexity along the way."
   ]
  },
  {
   "cell_type": "markdown",
   "metadata": {},
   "source": [
    "#### Mixed ####\n",
    "\n",
    "To start, we will simply double the size of the environment used in [our dynamic transmission risk models](load.ipynb). Thus,\n",
    "\n",
    "* n = 20,000 and 4 initial infections\n",
    "* 8 groups, split evenly into two states: \"East State\" and \"West State\"\n",
    "* the states will be exact reflections of each other: \n",
    "    * same size, n = 10,000\n",
    "    * 2 initial infections each\n",
    "    * same demographic mix\n",
    "    * same number of events\n",
    "* the event structrue for each state is detailed in [Sizing](sizing.ipynb#Complex-Environments) (and imported from a pickled object as per below).\n",
    "* each state will have its own vbox. The `East State` vbox must be reassigned and the events adjusted to point to the correct groups."
   ]
  },
  {
   "cell_type": "markdown",
   "metadata": {},
   "source": [
    "```python\n",
    "from copy import deepcopy\n",
    "\n",
    "from rknot import Sim, Chart\n",
    "from rknot.events import Restriction, Quarantine\n",
    "from rknot.dots.fhutch import tmr\n",
    "from rknot.sims import us_w_load_18.events\n",
    "\n",
    "group1 = dict(name='W0-19', n=2700, n_inf=0, ifr=0.00003, mover=.98)\n",
    "group2 = dict(name='W20-49', n=4100, n_inf=1, ifr=0.0002, mover=.98)\n",
    "group3 = dict(name='W50-69', n=2300, n_inf=1, ifr=0.005, mover=.98)\n",
    "group4 = dict(name='W70+', n=900, n_inf=0, ifr=0.054, mover=.98)\n",
    "wstate = [group1, group2, group3, group4]\n",
    "\n",
    "wbox = {'label': 'W Main', 'box': 344}\n",
    "wevents = deepcopy(us_w_load_18.events)\n",
    "wrsxns = deepcopy(us_w_load_18.rsxns)\n",
    "\n",
    "group5 = dict(name='E0-19', n=2700, n_inf=0, ifr=0.00003, mover=.98)\n",
    "group6 = dict(name='E20-49', n=4100, n_inf=1, ifr=0.0002, mover=.98)\n",
    "group7 = dict(name='E50-69', n=2300, n_inf=1, ifr=0.005, mover=.98)\n",
    "group8 = dict(name='E70+', n=900, n_inf=0, ifr=0.054, mover=.98)\n",
    "estate =  [group5, group6, group7, group8]\n",
    "\n",
    "ebox = {'label': 'E Main', 'box': 344}\n",
    "eevents = deepcopy(us_w_load_18.events)\n",
    "\n",
    "for e in eevents:\n",
    "    e.groups = [4,5,6,7]\n",
    "    e.vbox = 1\n",
    "\n",
    "groups = wstate + estate\n",
    "vboxes = [wbox, ebox]\n",
    "events = wevents + eevents\n",
    "\n",
    "params = {\n",
    "    'groups': groups, 'density': 1, 'days': 365, 'tmr_curve': tmr, \n",
    "    'vboxes': vboxes, 'events': events\n",
    "}\n",
    "\n",
    "sim = Sim(**params)\n",
    "sim.run()\n",
    "```"
   ]
  },
  {
   "cell_type": "markdown",
   "metadata": {},
   "source": [
    "Below, we show the arrangement of all of the dots mixed throughout the space. The only difference from the single jurisdiction structure is the presence of two vboxes (instead of one)."
   ]
  },
  {
   "cell_type": "code",
   "execution_count": 1,
   "metadata": {
    "tags": [
     "hide_input"
    ]
   },
   "outputs": [
    {
     "data": {
      "text/html": [
       "\n",
       "        <div style=\"text-align: center\">\n",
       "            <video width='900px' height='376.56903765690373px'\n",
       "            src=\"https://storage.googleapis.com/rknotvids/multi/mixed_agg_dots_only.mp4\" controls>Video Failed to Load</video>\n",
       "        </div>\n",
       "        <p></p>\n",
       "    "
      ],
      "text/plain": [
       "<IPython.core.display.HTML object>"
      ]
     },
     "metadata": {},
     "output_type": "display_data"
    }
   ],
   "source": [
    "from IPython.core.display import display, HTML\n",
    "from rknot.notebook import animHTML\n",
    "\n",
    "display(HTML(animHTML('multi/mixed_agg_dots_only')))"
   ]
  },
  {
   "cell_type": "markdown",
   "metadata": {},
   "source": [
    "On a proportionate basis, this structure is indistinguishable from the `n=10,000`, 4 group structure used in the viral load simulations. And it should result in the same outbreak curve, on average.\n",
    "\n",
    "To test, we ran 50 sims for a quick comparison to the base [Events](load.ipynb#Events) structure that we are building from."
   ]
  },
  {
   "cell_type": "code",
   "execution_count": 8,
   "metadata": {
    "nbsphinx": "hidden"
   },
   "outputs": [
    {
     "data": {
      "text/html": [
       "<table class=\"results-table\"><thead><tr><th class=\"results-table\"></th><th class=\"results-table\" style=\"text-align: center;\">Mixed<br>$R_0$>0</th><th class=\"results-table\" style=\"text-align: center;\">Events w Load<br>$R_0$>0</th></tr></thead><tbody><tr><td class=\"results-table\" style=\"text-align: left;\">n, $R_0$ > 0</td><td class=\"results-table\" style=\"text-align: center;\">28</td><td class=\"results-table\" style=\"text-align: center;\">68</td></tr><tr><td class=\"results-table\" style=\"text-align: left;\">n</td><td class=\"results-table\" style=\"text-align: center;\">50</td><td class=\"results-table\" style=\"text-align: center;\">250</td></tr><tr><td class=\"results-table\" style=\"text-align: left;\">Peak</td><td class=\"results-table\" style=\"text-align: center;\">23.5%</td><td class=\"results-table\" style=\"text-align: center;\">32.7%</td></tr><tr><td class=\"results-table\" style=\"text-align: left;\">HIT</td><td class=\"results-table\" style=\"text-align: center;\">38.0%</td><td class=\"results-table\" style=\"text-align: center;\">40.6%</td></tr><tr><td class=\"results-table\" style=\"text-align: left;\">Total</td><td class=\"results-table\" style=\"text-align: center;\">53.3%</td><td class=\"results-table\" style=\"text-align: center;\">51.5%</td></tr><tr><td class=\"results-table\" style=\"text-align: left;\">Fatalities</td><td class=\"results-table\" style=\"text-align: center;\">0.32%</td><td class=\"results-table\" style=\"text-align: center;\">0.30%</td></tr><tr><td class=\"results-table\" style=\"text-align: left;\">%>70</td><td class=\"results-table\" style=\"text-align: center;\">51.3%</td><td class=\"results-table\" style=\"text-align: center;\">6.5%</td></tr><tr><td class=\"results-table\" style=\"text-align: left;\">IFR</td><td class=\"results-table\" style=\"text-align: center;\">0.60%</td><td class=\"results-table\" style=\"text-align: center;\">0.60%</td></tr><tr><td class=\"results-table\" style=\"text-align: left;\">Days to Peak</td><td class=\"results-table\" style=\"text-align: center;\">95</td><td class=\"results-table\" style=\"text-align: center;\">74</td></tr></tbody></table>"
      ],
      "text/plain": [
       "<IPython.core.display.HTML object>"
      ]
     },
     "metadata": {},
     "output_type": "display_data"
    }
   ],
   "source": [
    "from IPython.core.display import display, HTML\n",
    "\n",
    "import os\n",
    "from datetime import datetime as dt\n",
    "import numpy as np\n",
    "\n",
    "from rknot.helpers import pickload, find_means, find_seconly, find_means_seconly, get_results\n",
    "from rknot.notebook import curve_table, md\n",
    "from rknot.helpers import pickload, ShelfHelp\n",
    "\n",
    "path = 'vids/multi'\n",
    "slug = 'mixed-pickled'\n",
    "\n",
    "file_ = os.path.join(path, slug)\n",
    "sims = pickload(file_)\n",
    "\n",
    "last_date = sorted([dt.strptime(date, '%Y-%m-%d') for date in sims.keys()])[-1]\n",
    "last_date = last_date.strftime('%Y-%m-%d')\n",
    "\n",
    "res = [get_results(sim) for sim in sims[last_date]['sims']]\n",
    "res = np.vstack(res)\n",
    "m = find_means(res)\n",
    "m_gt0 = find_means_seconly(res, m)\n",
    "\n",
    "file = 'tests/data/sizing_complex'\n",
    "key = 'complex_1.8_iters_RESULTS_n_inf_2'\n",
    "\n",
    "args = []\n",
    "with ShelfHelp(file, key, no_input=True, load=True) as sh:\n",
    "    _, _, _, _, res1 = sh.values(*args)\n",
    "    \n",
    "m1 = find_means(res1)\n",
    "m1_gt0 = find_means_seconly(res1, m1)\n",
    "\n",
    "headers = [r'Mixed<br>$R_0$>0', r'Events w Load<br>$R_0$>0'] \n",
    "\n",
    "args = [m_gt0, m1_gt0]\n",
    "sizes = [(find_seconly(res).shape[0], res.shape[0]), (find_seconly(res1).shape[0], res1.shape[0])]\n",
    "display(HTML(curve_table(headers, args, sizes)))"
   ]
  },
  {
   "cell_type": "markdown",
   "metadata": {},
   "source": [
    "As expected, we can see above that, on average, the spread results generated in this structure match those of the [Events structure](load.ipynb#Events) from the viral load analysis. Notice, however, that an outbreak ($R_0$ > 0) occured much more frequently: 56% vs. 27%. This is likely a result of the greater number of initial infections (4 vs. 2).\n",
    "\n",
    "Also notice that the average Peak is lower and Days to Peak higher in our new scenario despite all other metrics being the same.\n",
    "\n",
    "We can also see below that the distribution of the Mixed environment is more irregular than the base structure. Outbreaks are sometimes contained to one state and other times hit both states badly and various points in between."
   ]
  },
  {
   "cell_type": "code",
   "execution_count": 40,
   "metadata": {
    "tags": [
     "hide_input"
    ]
   },
   "outputs": [
    {
     "data": {
      "image/png": "[encoded data removed]",
      "text/plain": [
       "<Figure size 1152x720 with 1 Axes>"
      ]
     },
     "metadata": {
      "needs_background": "light"
     },
     "output_type": "display_data"
    }
   ],
   "source": [
    "from rknot.notebook import curvehist\n",
    "savepath = 'vids/multi/mixed_hist'\n",
    "\n",
    "title = f'HIT: {res.shape[0]} Simulations of Schools Scenario'\n",
    "labels = ['Mixed', 'Events w Load']\n",
    "curvehist([res[:,1], res1[:,1]], title=title, which='hit', widths=[.95, .65], labels=labels, savepath=savepath)"
   ]
  },
  {
   "cell_type": "markdown",
   "metadata": {},
   "source": [
    "We can see this in the sample simulation below:"
   ]
  },
  {
   "cell_type": "code",
   "execution_count": 88,
   "metadata": {
    "tags": [
     "hide_input"
    ]
   },
   "outputs": [
    {
     "data": {
      "text/html": [
       "\n",
       "        <div style=\"text-align: center\">\n",
       "            <video width='900px' height='376.56903765690373px'\n",
       "            src=\"https://storage.googleapis.com/rknotvids/multi/mixed_agg.mp4\" controls>Video Failed to Load</video>\n",
       "        </div>\n",
       "        <p></p>\n",
       "    "
      ],
      "text/plain": [
       "<IPython.core.display.HTML object>"
      ]
     },
     "metadata": {},
     "output_type": "display_data"
    }
   ],
   "source": [
    "from IPython.core.display import display, HTML\n",
    "from rknot.notebook import animHTML\n",
    "\n",
    "display(HTML(animHTML('multi/mixed_agg')))"
   ]
  },
  {
   "cell_type": "markdown",
   "metadata": {},
   "source": [
    "Above, we can see a \"wave\" effect occuring with two peaks forming, the first around 70 days and second around 115 days. We can seperate the curve among the constituent states to see how each state's curve might have added to the aggregate."
   ]
  },
  {
   "cell_type": "code",
   "execution_count": 89,
   "metadata": {
    "tags": [
     "hide_input"
    ]
   },
   "outputs": [
    {
     "data": {
      "text/html": [
       "\n",
       "        <div style=\"text-align: center\">\n",
       "            <video width='900px' height='376.56903765690373px'\n",
       "            src=\"https://storage.googleapis.com/rknotvids/multi/mixed_peaks.mp4\" controls>Video Failed to Load</video>\n",
       "        </div>\n",
       "        <p></p>\n",
       "    "
      ],
      "text/plain": [
       "<IPython.core.display.HTML object>"
      ]
     },
     "metadata": {},
     "output_type": "display_data"
    }
   ],
   "source": [
    "from IPython.core.display import display, HTML\n",
    "from rknot.notebook import animHTML\n",
    "\n",
    "display(HTML(animHTML('multi/mixed_peaks')))"
   ]
  },
  {
   "cell_type": "markdown",
   "metadata": {},
   "source": [
    "So, from above, we can see that what looked like a single curve and a single outbreak was, in fact, two outbreaks among the two \"states\", West and East.\n",
    "\n",
    "What is remarkable is that the dots from both states are free to mix in the main grid. The separate waves result simply from isolated event spaces where only the largest events (3+ capacity) occur within the state groups.\n",
    "\n",
    "Next we will show the impact of further isolating the two states."
   ]
  },
  {
   "cell_type": "markdown",
   "metadata": {},
   "source": [
    "---\n",
    "#### Borders ####\n",
    "\n",
    "Now we will split the environment in two halves, separating the subjects of the West and East States by a border. They cannot interact in any way.\n",
    "\n",
    "This can be accomplished by simply assign a separate box to the groups in each state, as per below:"
   ]
  },
  {
   "cell_type": "markdown",
   "metadata": {},
   "source": [
    "```python\n",
    "for w in wstate:\n",
    "    w['box'] = {'bounds': [1, 72, 1, 144], 'label': 'West State'}\n",
    "\n",
    "for e in estate:\n",
    "    e['box'] = {'bounds': [73, 144, 1, 144], 'label': 'East State'}\n",
    "    \n",
    "groups = wstate + estate\n",
    "params['groups'] = groups\n",
    "```"
   ]
  },
  {
   "cell_type": "markdown",
   "metadata": {},
   "source": [
    "This results in the environment shown below:"
   ]
  },
  {
   "cell_type": "code",
   "execution_count": 35,
   "metadata": {
    "tags": [
     "hide_input"
    ]
   },
   "outputs": [
    {
     "data": {
      "text/html": [
       "\n",
       "        <div style=\"text-align: center\">\n",
       "            <video width='900px' height='376.56903765690373px'\n",
       "            src=\"https://storage.googleapis.com/rknotvids/multi/split_agg_dots_only.mp4\" controls>Video Failed to Load</video>\n",
       "        </div>\n",
       "        <p></p>\n",
       "    "
      ],
      "text/plain": [
       "<IPython.core.display.HTML object>"
      ]
     },
     "metadata": {},
     "output_type": "display_data"
    }
   ],
   "source": [
    "from IPython.core.display import display, HTML\n",
    "from rknot.notebook import animHTML\n",
    "\n",
    "display(HTML(animHTML('multi/split_agg_dots_only')))"
   ]
  },
  {
   "cell_type": "markdown",
   "metadata": {},
   "source": [
    "We ran 50 simulations to compare with the Mixed environment:"
   ]
  },
  {
   "cell_type": "code",
   "execution_count": 34,
   "metadata": {
    "tags": [
     "hide_input"
    ]
   },
   "outputs": [
    {
     "data": {
      "text/html": [
       "<table class=\"results-table\"><thead><tr><th class=\"results-table\"></th><th class=\"results-table\" style=\"text-align: center;\">Borders<br>$R_0$>0</th><th class=\"results-table\" style=\"text-align: center;\">Mixed<br>$R_0$>0</th></tr></thead><tbody><tr><td class=\"results-table\" style=\"text-align: left;\">n, $R_0$ > 0</td><td class=\"results-table\" style=\"text-align: center;\">26</td><td class=\"results-table\" style=\"text-align: center;\">28</td></tr><tr><td class=\"results-table\" style=\"text-align: left;\">n</td><td class=\"results-table\" style=\"text-align: center;\">50</td><td class=\"results-table\" style=\"text-align: center;\">50</td></tr><tr><td class=\"results-table\" style=\"text-align: left;\">Peak</td><td class=\"results-table\" style=\"text-align: center;\">19.1%</td><td class=\"results-table\" style=\"text-align: center;\">23.5%</td></tr><tr><td class=\"results-table\" style=\"text-align: left;\">HIT</td><td class=\"results-table\" style=\"text-align: center;\">25.0%</td><td class=\"results-table\" style=\"text-align: center;\">38.0%</td></tr><tr><td class=\"results-table\" style=\"text-align: left;\">Total</td><td class=\"results-table\" style=\"text-align: center;\">31.5%</td><td class=\"results-table\" style=\"text-align: center;\">53.3%</td></tr><tr><td class=\"results-table\" style=\"text-align: left;\">Fatalities</td><td class=\"results-table\" style=\"text-align: center;\">0.20%</td><td class=\"results-table\" style=\"text-align: center;\">0.32%</td></tr><tr><td class=\"results-table\" style=\"text-align: left;\">%>70</td><td class=\"results-table\" style=\"text-align: center;\">50.8%</td><td class=\"results-table\" style=\"text-align: center;\">51.3%</td></tr><tr><td class=\"results-table\" style=\"text-align: left;\">IFR</td><td class=\"results-table\" style=\"text-align: center;\">0.61%</td><td class=\"results-table\" style=\"text-align: center;\">0.60%</td></tr><tr><td class=\"results-table\" style=\"text-align: left;\">Days to Peak</td><td class=\"results-table\" style=\"text-align: center;\">78</td><td class=\"results-table\" style=\"text-align: center;\">95</td></tr></tbody></table>"
      ],
      "text/plain": [
       "<IPython.core.display.HTML object>"
      ]
     },
     "metadata": {},
     "output_type": "display_data"
    }
   ],
   "source": [
    "from IPython.core.display import display, HTML\n",
    "\n",
    "import os\n",
    "from datetime import datetime as dt\n",
    "import numpy as np\n",
    "\n",
    "from rknot.helpers import pickload, find_means, find_seconly, find_means_seconly, get_results\n",
    "from rknot.notebook import curve_table, md\n",
    "from rknot.helpers import pickload, ShelfHelp\n",
    "\n",
    "path = 'vids/multi'\n",
    "slug = 'split-pickled'\n",
    "\n",
    "file_ = os.path.join(path, slug)\n",
    "sims = pickload(file_)\n",
    "\n",
    "last_date = sorted([dt.strptime(date, '%Y-%m-%d') for date in sims.keys()])[-1]\n",
    "last_date = last_date.strftime('%Y-%m-%d')\n",
    "\n",
    "r_spl = [get_results(sim) for sim in sims[last_date]['sims']]\n",
    "\n",
    "r_spl = np.vstack(r_spl)\n",
    "m_spl = find_means(r_spl)\n",
    "m_gt0_spl = find_means_seconly(r_spl, m_spl)\n",
    "\n",
    "headers = [r'Borders<br>$R_0$>0', r'Mixed<br>$R_0$>0'] \n",
    "\n",
    "args = [m_gt0_spl, m_gt0]\n",
    "sizes = [\n",
    "    (find_seconly(r_spl).shape[0], r_spl.shape[0]), \n",
    "    (find_seconly(res).shape[0], res.shape[0])\n",
    "]\n",
    "display(HTML(curve_table(headers, args, sizes)))"
   ]
  },
  {
   "cell_type": "markdown",
   "metadata": {},
   "source": [
    "We can see:\n",
    "    \n",
    "+ an outbreak occurs with about the same frequency; likely b/c both environments have the same number of initial infections\n",
    "+ the size of the outbreaks is significantly lower in the split environment\n",
    "+ the peaks are significantly lower in the split environment"
   ]
  },
  {
   "cell_type": "code",
   "execution_count": 29,
   "metadata": {
    "tags": [
     "hide_input"
    ]
   },
   "outputs": [
    {
     "data": {
      "text/html": [
       "<div class=\"admonition note\"><p class=\"admonition-title fa fa-exclamation-circle\">Contact Mix</p><p>Importantly, doubling the number of subjects does <em>not</em> change the number of contacts. Instead, it changes <em>who</em> is contacted. And so when the environment is split and the contact mix becomes more heterogeneous, spread is curtailed.</p></div>"
      ],
      "text/plain": [
       "<IPython.core.display.HTML object>"
      ]
     },
     "metadata": {},
     "output_type": "display_data"
    }
   ],
   "source": [
    "from IPython.core.display import display, HTML\n",
    "from rknot.notebook import make_note\n",
    "\n",
    "title = 'Contact Mix'\n",
    "body = 'Importantly, doubling the number of subjects does <em>not</em>'\n",
    "body += ' change the number of contacts. Instead, it changes'\n",
    "body += ' <em>who</em> is contacted. And so when the environment'\n",
    "body += ' is split and the contact mix becomes more heterogeneous, spread is curtailed.'\n",
    "display(HTML(make_note(title, body)))"
   ]
  },
  {
   "cell_type": "markdown",
   "metadata": {},
   "source": [
    "Again, we see below that the contact distribution of the Split environment is quite different from the Mixed environment."
   ]
  },
  {
   "cell_type": "code",
   "execution_count": 41,
   "metadata": {
    "tags": [
     "hide_input"
    ]
   },
   "outputs": [
    {
     "data": {
      "image/png": "[encoded data removed]",
      "text/plain": [
       "<Figure size 1152x720 with 1 Axes>"
      ]
     },
     "metadata": {
      "needs_background": "light"
     },
     "output_type": "display_data"
    }
   ],
   "source": [
    "from rknot.notebook import curvehist\n",
    "savepath = 'vids/multi/mixed_hist'\n",
    "\n",
    "title = f'HIT: {res.shape[0]} Simulations of Schools Scenario'\n",
    "labels = ['Borders', 'Mixed']\n",
    "curvehist([r_spl[:,1], res[:,1]], title=title, which='hit', widths=[.95, .65], labels=labels, savepath=savepath)"
   ]
  },
  {
   "cell_type": "markdown",
   "metadata": {},
   "source": [
    "Here, the same number of outbreaks occur, but the virus cannot cross the border, so at worst can only spread amongst half the population.\n",
    "\n",
    "Below we see a representative simulation that evidences the border separating the two states. We can see in the grid on the left that the outbreak was entirely isolated to the West state and did *not* seep into the East state at all. This resulted in the shorter, more muted peak."
   ]
  },
  {
   "cell_type": "code",
   "execution_count": 45,
   "metadata": {
    "tags": [
     "hide_input"
    ]
   },
   "outputs": [
    {
     "data": {
      "text/html": [
       "\n",
       "        <div style=\"text-align: center\">\n",
       "            <video width='900px' height='376.56903765690373px'\n",
       "            src=\"https://storage.googleapis.com/rknotvids/multi/split_agg.mp4\" controls>Video Failed to Load</video>\n",
       "        </div>\n",
       "        <p></p>\n",
       "    "
      ],
      "text/plain": [
       "<IPython.core.display.HTML object>"
      ]
     },
     "metadata": {},
     "output_type": "display_data"
    }
   ],
   "source": [
    "from IPython.core.display import display, HTML\n",
    "from rknot.notebook import animHTML\n",
    "\n",
    "display(HTML(animHTML('multi/split_agg')))"
   ]
  },
  {
   "cell_type": "markdown",
   "metadata": {},
   "source": [
    "To be continued ..."
   ]
  },
  {
   "cell_type": "code",
   "execution_count": null,
   "metadata": {
    "nbsphinx": "hidden"
   },
   "outputs": [],
   "source": [
    "%%javascript\n",
    "IPython.notebook.save_notebook()"
   ]
  },
  {
   "cell_type": "code",
   "execution_count": 44,
   "metadata": {
    "nbsphinx": "hidden"
   },
   "outputs": [],
   "source": [
    "from rknot.notebook import move_to_doc_folder\n",
    "move_to_doc_folder('multi.ipynb')"
   ]
  },
  {
   "cell_type": "code",
   "execution_count": null,
   "metadata": {
    "nbsphinx": "hidden"
   },
   "outputs": [],
   "source": []
  }
 ],
 "metadata": {
  "celltoolbar": "Edit Metadata",
  "kernelspec": {
   "display_name": "Python 3",
   "language": "python",
   "name": "python3"
  },
  "language_info": {
   "codemirror_mode": {
    "name": "ipython",
    "version": 3
   },
   "file_extension": ".py",
   "mimetype": "text/x-python",
   "name": "python",
   "nbconvert_exporter": "python",
   "pygments_lexer": "ipython3",
   "version": "3.8.6"
  }
 },
 "nbformat": 4,
 "nbformat_minor": 4
}
