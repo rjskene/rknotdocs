{
 "cells": [
  {
   "cell_type": "markdown",
   "metadata": {},
   "source": [
    "Introduction\n",
    "---\n",
    "**BETA RELEASE**\n",
    "\n",
    "*This project remains in the experimental stage and there are likely many tweaks to come that will improve/change outcomes. I do believe at this stage that the simulation provides good general insights regarding the relationship between various factors and viral spread.*\n",
    "\n",
    "**RKnot's** purpose is two-fold:\n",
    "\n",
    "1. Investigate the viral spread under conditions of heterogeneity\n",
    "2. Investigate impacts of policy decisions on viral spread, hospital capacity, and fatalities\n",
    "\n",
    "\n",
    "**RKnot** attempts to distinguish itself from prevailing models by simulating *every subject* and *every contact* in a population. This allows us to:\n",
    "\n",
    "1. customize populations in order to explore almost any setting on any scale. \n",
    "2. introduce more realistic movement and contact patterns that do *not* fit commonly-used assumptions.\n",
    "3. directly assess the impact of policy decisions by isolating and manipulating specific interactions.\n",
    "\n",
    "[Standard models](https://www.ncbi.nlm.nih.gov/pmc/articles/PMC3782273/) of $R_0$ estimate HIT as:\n",
    "\n",
    "\\begin{equation}\n",
    "HIT = 1 - 1/R_0 \n",
    "\\end{equation}\n",
    "\n",
    "For a virus with $R_0$ of 2.5 ([as is estimated for sars-cov-2](https://www.cdc.gov/coronavirus/2019-ncov/hcp/planning-scenarios.html)), this results in a HIT of 60%. \n",
    "Yet, measurements of seroprevalance of antibodies have suggested 15-20% peaks in some communities ([e.g. New York City](https://www.medrxiv.org/content/10.1101/2020.06.28.20142190v1)). \n",
    "\n",
    "*Is it possible that HIT is lower than* $R_0$ *would suggest?*\n",
    "\n",
    "*How important is HIT in the severity of an outbreak, say, in terms of mortality?*\n",
    "\n",
    "$R_0$ carries several basic assumptions that are not applicable to real world populations. The key assumption is homogeneity, meaning (among other things):\n",
    "\n",
    "1. there is only one infected subject in a pool of susceptible subjects \n",
    "2. all subjects have the same number of contacts\n",
    "3. each contact is equally likely to result in an infection, regardless of who, where, when, or how\n",
    "\n",
    "#### Heterogeneity \n",
    "**RKnot** seeks to address the shortfalls in $R_0$ models by allowing the user to introduce customized, heterogeneous populations across several axis including:\n",
    "\n",
    "+ **Fatality Rate**\n",
    "+ **Population Density**\n",
    "+ **Movement** - frequency and distance of location changes in space according to different probability distributions.\n",
    "+ **Events** - in the real world, people do not move and interact according to smooth probability functions. In fact, they typically have a small subset of movements that are huge outliers from any distribution. These are the professional sporting events, vacation trips, church functions, house parties, etc. that are scheduled and often times recurring. Thankfully, they are more often than not deterministic, which allows us to incorporate them in a simulation.\n",
    "+ **Susceptibility** - segments of population can be made immune (without requiring vaccination) to mimick phenomenon like [possible T-cell immunity](https://www.bmj.com/content/370/bmj.m3563).\n",
    "+ **Subject Transmission Factor**, $T_i$: $R_0$ assumes that all contacts have the same transmission risk, $\\tau$ (subject to the viral load at the time of the interaction). **RKnot** introduces a unitless Transmission Factor, $T$, for each subject at each contact that can modulate $\\tau$. This can be used to mimick social distancing or mask wearing or different socio-cultural norms that may impact spread (i.e. east Asian bows versus southern European double-kisses).\n",
    "\n",
    "*Still To Be Incorporated*\n",
    "\n",
    "+ **Location Transmission Factor**, $T_{\\text{xy}}$: similar to $T_i$ above, we can introduce a transmission factor to specific locations that might result in higher or lower likelihood of spread. This could be used to simulate certain work environments (like enclosed office spaces or meat-packing plants). It can also be used to mimic seasonality, by changing $T_{xy}$ over time to account for, say, more time outdoors in temperate seasons.\n",
    "+ **Isolation** - with the heightened awareness of a pandemic, individuals in population are more likely to self-isolate or quarantine themselves upon sympton onset, thereby helping to reduce spread.\n",
    "\n",
    "In order to do that, **RKnot** must determine the $\\tau$ for the space created by the user.\n",
    "\n",
    "#### Approach\n",
    "\n",
    "${R_0}$ is typically assessed at the population level and individual level ([and often those\n",
    "assessments disagree](https://www.ncbi.nlm.nih.gov/pmc/articles/PMC1804098/)). The basic SIR model evaluates ${R_0}$ as:\n",
    "\n",
    "$$\n",
    "\\begin{equation}\n",
    "R_0=\\beta*d\n",
    "\\end{equation}\n",
    "$$\n",
    "$$\n",
    "\\begin{equation}\n",
    "\\\\\\textit{where: }\\beta \\textit{ = transmission rate, or number of secondary of infections per unit time}\\\\ d \\textit{ = infectious period}\n",
    "\\end{equation}\n",
    "$$"
   ]
  },
  {
   "cell_type": "markdown",
   "metadata": {},
   "source": [
    "$\\beta$ can be further broken down as:\n",
    "\n",
    "$$\n",
    "\\begin{equation}\n",
    "\\beta=\\tau*c\n",
    "\\end{equation}\n",
    "$$\n",
    "$$\n",
    "\\begin{equation}\n",
    "\\\\\\textit{where: }\\tau \\textit{ = probability of transmission, or transmission risk}\\\\ c \\textit{ = number of contacts between an infected and a susceptible per unit time}\n",
    "\\end{equation}\n",
    "$$"
   ]
  },
  {
   "cell_type": "markdown",
   "metadata": {},
   "source": [
    "Thus,\n",
    "\n",
    "\\begin{equation}\n",
    "R_0=\\tau*c*𝑑\n",
    "\\end{equation}\n",
    "\n",
    "or \n",
    "\n",
    "\\begin{equation}\n",
    "R_0=\\frac{\\tau*c}{\\gamma}\n",
    "\\end{equation}\n",
    "$$\n",
    "\\begin{equation}\n",
    "\\\\\\textit{where: }\\gamma \\textit{ = recovery rate}\n",
    "\\end{equation}\n",
    "$$\n",
    "\n",
    "[see R0 in Simple Models](https://web.stanford.edu/~jhj1/teachingdocs/Jones-on-R0.pdf)"
   ]
  },
  {
   "cell_type": "markdown",
   "metadata": {},
   "source": [
    "For simulation purposes, we assume:\n",
    "\n",
    "+ $R_0$ is known (from external analysis and provided by the user)\n",
    "+ $\\gamma$ is known (from external analysis and provided by the user)\n",
    "\n",
    "Thus, unknowns are    $\\tau$ & c\n",
    "\n",
    "The simulation space, however, is given a number of parameters that allow us to estimate\n",
    "the expected number of contacts. We know:\n",
    "\n",
    "+ The population size\n",
    "+ The number of locations\n",
    "+ The movement patterns of subjects\n",
    "+ The likelihood that a subject will be at a particular location at a particular time given 1/2/3 above\n",
    "        \n",
    "#### Expected Contacts \n",
    "\n",
    "$R_0$ assumes that an infected subject will have as many contacts with the population as any other subject. A simple method to estimate contacts for one infected subject is to, then, assume that each subject is equally likely to be in any one location at any time (in **RKnot**, this implemented by the `equal` mover function).\n",
    "\n",
    "The probability of a single dot being in a singe location is:\n",
    "\n",
    "$$\n",
    "\\begin{equation}\n",
    "P(LOC_{xy},DOT_i)=1/N\n",
    "\\end{equation}\n",
    "$$\n",
    "$$\n",
    "\\begin{equation}\n",
    "\\\\\\textit{where:}\\;xy\\;\\textit{= x/y coordinates of the location}\n",
    "\\\\N\\textit{ = number of locations}\n",
    "\\end{equation}\n",
    "$$ \n",
    " \n",
    "The probability of another dot being there at the same time:\n",
    "\n",
    "$$\n",
    "\\begin{equation}\n",
    "P(LOC_{xy},DOT_{ij})=1/N*1/N\n",
    "\\end{equation}\n",
    "$$\n",
    "\n",
    "The probability of $n$ dots being at the same location at the same time:\n",
    "\n",
    "$$\n",
    "\\begin{equation}\n",
    "P(LOC_{xy},DOT_{ij})=1/N^n\n",
    "\\end{equation}\n",
    "$$\n",
    "\n",
    "Then, the number of ordered contacts is:\n",
    "\n",
    "$$\n",
    "\\begin{equation}\n",
    "\\sum_{n=1}^N(1 / N^n)\n",
    "\\end{equation}\n",
    "$$\n",
    "\n",
    "And for all possible orders:\n",
    "\n",
    "$$\n",
    "\\begin{equation}\n",
    "\\sum_{n=1}^N(1/N^n)*n\n",
    "\\end{equation}\n",
    "$$"
   ]
  },
  {
   "cell_type": "markdown",
   "metadata": {},
   "source": [
    "#### The Average Contact\n",
    "Currently, **RKnot** assumes that each and every contact is an *Average Contact*, $\\overline{c}$. \n",
    "\n",
    "$\\overline{c}$ is a purely theoretical interaction that would result in about an average likelihood of transmission relative to all other possible interactions. It is not influenced by external factors such as the demographics of the subjects, the properties of the location, etc. Thus, the $\\tau$ of an Average Contact is a fundamental property of the virus (the *perhaps* **the** fundamental property that drives all others).\n",
    "\n",
    "I like to think of the $\\overline{c}$ as the *Elevator Case*, i.e.:\n",
    "\n",
    "* Two people on an elevator, standing three feet apart, having a conversation for several minutes before one person exits. No masks nor other conscious social distancing, but no particularly reckless behaviour either.\n",
    "\n",
    "Then, every other conceivable interaction can now be scaled relative to the Elevator Case on continuum of higher or lower probability of transmission using a transmission factor, $T$. For instance:\n",
    "\n",
    "* two college students pressed very closely on a concert floor and yelling at the band on stage would have $T >>> 1x$\n",
    "* two people standing in a open field, 6 feet apart with masks on exchanging limited pleasantries would have $T <<< 1x$"
   ]
  },
  {
   "cell_type": "markdown",
   "metadata": {},
   "source": [
    "#### Likelihood of Transmission\n",
    "\n",
    "With expected contact rate known, probability of transmission under the SIR model is found as:"
   ]
  },
  {
   "cell_type": "markdown",
   "metadata": {},
   "source": [
    "\\begin{equation}\n",
    "\\tau=\\frac{R_0}{𝑑*c} \\;\\;\\;\\;\\;\\textit{where}\\;0<=\\tau<=1\n",
    "\\end{equation}"
   ]
  },
  {
   "cell_type": "markdown",
   "metadata": {},
   "source": [
    "Checking dimenions,\n",
    "\n",
    "$$\n",
    "\\begin{equation}\n",
    "=\\frac{\\text{infections}}{1}*\\frac{1}{time}*\\frac{time}{\\text{number of contacts}}\n",
    "=\\frac{\\text{infections}}{\\text{number of contacts}}\n",
    "\\end{equation}\n",
    "$$\n",
    "\n",
    "This is the likelihood of transmission of a contact and is a fundamental factor used in the simulation. \n",
    "\n",
    "If a susceptible subject has contact with an infected at the same location, at any time,\n",
    "its probability of infection is: \n",
    "\n",
    "$$\n",
    "\\begin{equation}\n",
    "\\tau\n",
    "\\end{equation}\n",
    "$$\n",
    "\n",
    "If a susceptible comes in contact with multiple infected, we assume that this results in multiple contacts that occur in succession. So we must sum all the branches of the probability tree that end in an infection:\n",
    "\n",
    "$$\n",
    "\\begin{equation}\n",
    "\\sum^n_{i=1}(1-\\tau)^i*\\tau\n",
    "\\end{equation}\n",
    "$$\n",
    "$$\n",
    "\\begin{equation}\n",
    "\\\\\\textit{where:}\\;\\tau\\;\\textit{= likelihood of transmission}\n",
    "\\\\n\\;\\textit{= number of infected dots}\n",
    "\\end{equation}\n",
    "$$\n",
    "\n",
    "This ensures that the likelihood of transmission is asymptotic to 1, as follows:"
   ]
  },
  {
   "cell_type": "code",
   "execution_count": 1,
   "metadata": {
    "nbsphinx": "hidden"
   },
   "outputs": [
    {
     "data": {
      "image/png": "[encoded data removed]",
      "text/plain": [
       "<Figure size 432x216 with 1 Axes>"
      ]
     },
     "metadata": {
      "needs_background": "light"
     },
     "output_type": "display_data"
    }
   ],
   "source": [
    "import numpy as np\n",
    "import matplotlib.pyplot as plt\n",
    "\n",
    "tmr = .2\n",
    "xrng = np.arange(30)\n",
    "y = ((1-tmr)**xrng*tmr).cumsum()\n",
    "\n",
    "fig, ax = plt.subplots(figsize=(6,3))\n",
    "plot = ax.plot(xrng, y)\n",
    "ax.set_xlabel('Number of Infected Dots at Location')\n",
    "ax.set_ylabel(r'Likelihood of Transmission, $\\tau$')\n",
    "\n",
    "plt.savefig('/Users/spindicate/Documents/programming/rknot/imgs/tau_v_contacts.png', bbox_inches='tight')"
   ]
  },
  {
   "cell_type": "markdown",
   "metadata": {},
   "source": [
    "<img src=\"https://storage.googleapis.com/rknotvids/imgs/tau_v_contacts.png\" alt=\"Drawing\" style=\"width: 400px;\" align=\"center\"/>\n"
   ]
  },
  {
   "cell_type": "markdown",
   "metadata": {},
   "source": [
    "#### Dynamic Infectiousness ####\n",
    "\n",
    "At present, **RKnot** does not formally incorporate concepts of viral load. The SIR model assumes that an infected is equally likely to cause a secondary infection at any time during the infectious period, $d$. \n",
    "\n",
    "In reality, the infectiousness of an individual changes over time. This is a function of the viral load of a subject. It takes time for the virus to accumulate in the subject and, then, in turn it takes time for the subject to dimish the virus via its immune response. \n",
    "\n",
    "The more virus a subject is carrying, the more likely it is to cause a secondary infection. And so the likelihood of transmission should follow a similar pattern as the viral load (or vice versa). This [New York Times piece](https://www.nytimes.com/interactive/2020/10/02/science/charting-a-coronavirus-infection.html?s=03) has nice visualisations of this concept for sar-cov-2.\n",
    "\n",
    "There are several models available in the literature that provide more sophisticated infectiousness curves, including some that account for asymptomatic spread. For instance, [this](https://www.ijidonline.com/article/S1201-9712%2820%2930119-3/pdf) study focuses on the serial interval and [this](https://www.medrxiv.org/content/10.1101/2020.03.08.20032946v1.full.pdf) study accounts for asymptomatic spread, incubation period, etc.\n",
    "\n",
    "Incorporation of these concepts into **RKnot** is being explored. It is important to note that $R_0$ in a SIR model is not necessarily equal to $R_0$ in a more sophisticated model."
   ]
  },
  {
   "cell_type": "markdown",
   "metadata": {
    "nbsphinx": "hidden"
   },
   "source": [
    "The team behind [rt.live](https://rt.live/) reproduced this curve as follows. Code found [here](https://github.com/rtcovidlive/covid-model/blob/master/tutorial.ipynb)."
   ]
  },
  {
   "cell_type": "code",
   "execution_count": 2,
   "metadata": {
    "nbsphinx": "hidden"
   },
   "outputs": [
    {
     "data": {
      "image/png": "[encoded data removed]",
      "text/plain": [
       "<Figure size 432x288 with 1 Axes>"
      ]
     },
     "metadata": {
      "needs_background": "light"
     },
     "output_type": "display_data"
    }
   ],
   "source": [
    "import numpy as np\n",
    "from scipy import stats\n",
    "import matplotlib.pyplot as plt\n",
    "\n",
    "infdur = 35\n",
    "ts = np.arange(infdur)\n",
    "mean_si = 4.7\n",
    "std_si = 2.9\n",
    "mu_si = np.log(mean_si ** 2 / np.sqrt(std_si ** 2 + mean_si ** 2))\n",
    "sigma_si = np.sqrt(np.log(std_si ** 2 / mean_si ** 2 + 1))\n",
    "gt = stats.lognorm(scale=np.exp(mu_si), s=sigma_si)\n",
    "\n",
    "fig, ax = plt.subplots()\n",
    "ax.plot(ts, gt.pdf(ts))\n",
    "ax.set(xlabel='Days Until first Secondary Infection',\n",
    "       ylabel='Probability density',\n",
    "       title='Generation time')\n",
    "\n",
    "plt.savefig('/Users/spindicate/Documents/programming/rknot/imgs/generation_time.png', bbox_inches='tight')"
   ]
  },
  {
   "cell_type": "markdown",
   "metadata": {
    "nbsphinx": "hidden"
   },
   "source": [
    "<img src=\"https://storage.googleapis.com/rknotvids/imgs/generation_time.png\" alt=\"Drawing\" style=\"width: 400px;\" align=\"center\"/>"
   ]
  },
  {
   "cell_type": "markdown",
   "metadata": {
    "nbsphinx": "hidden"
   },
   "source": [
    "We can then discretize this distribution for daily intervals:"
   ]
  },
  {
   "cell_type": "code",
   "execution_count": 3,
   "metadata": {
    "nbsphinx": "hidden"
   },
   "outputs": [
    {
     "data": {
      "image/png": "[encoded data removed]",
      "text/plain": [
       "<Figure size 432x288 with 1 Axes>"
      ]
     },
     "metadata": {
      "needs_background": "light"
     },
     "output_type": "display_data"
    }
   ],
   "source": [
    "cumprobs = gt.cdf(ts)\n",
    "gt_discrete = cumprobs[1:] - cumprobs[:-1]\n",
    "\n",
    "fig, ax = plt.subplots()\n",
    "ax.bar(ts[1:], gt_discrete)\n",
    "ax.set(xlabel='Days Until first Secondary Infection',\n",
    "       ylabel='Probability density',\n",
    "       title='Generation time')\n",
    "\n",
    "plt.savefig('/Users/spindicate/Documents/programming/rknot/imgs/gt_discrete.png', bbox_inches='tight')"
   ]
  },
  {
   "cell_type": "markdown",
   "metadata": {
    "nbsphinx": "hidden"
   },
   "source": [
    "<img src=\"https://storage.googleapis.com/rknotvids/imgs/gt_discrete.png\" alt=\"Drawing\" style=\"width: 400px;\" align=\"center\"/>"
   ]
  },
  {
   "cell_type": "markdown",
   "metadata": {
    "nbsphinx": "hidden"
   },
   "source": [
    "Two assumptions are made above:\n",
    "\n",
    "1) Only one secondary infection occurs during the infectious period (this is the serial interval by definition).\n",
    "\n",
    "2) The number of contacts on any day is unknown (and doesn't need to be known). The number of contacts is assumed to \"average out\" across the population and over time.\n",
    "\n",
    "Thus, the distribution of the actual likelihood of transmission, $\\tau$, as a function of time, $t$, is the above distribution multiplied by the expected secondary infections during the infectious period, $R_0$, divided by the number of contacts per day:\n",
    "\n",
    "\\begin{equation}\n",
    "f(t)*\\frac{R_0}{c}\n",
    "\\end{equation}\n",
    "\n",
    "If, for example, we assume $R_0$ 2.5 and 2 contacts per day, we get the following likelihood of transmission curve:"
   ]
  },
  {
   "cell_type": "code",
   "execution_count": 4,
   "metadata": {
    "nbsphinx": "hidden"
   },
   "outputs": [
    {
     "data": {
      "image/png": "[encoded data removed]",
      "text/plain": [
       "<Figure size 432x288 with 1 Axes>"
      ]
     },
     "metadata": {
      "needs_background": "light"
     },
     "output_type": "display_data"
    }
   ],
   "source": [
    "fig, ax = plt.subplots()\n",
    "ax.bar(ts[1:], gt_discrete*2.5/2)\n",
    "ax.set(xlabel='Days Since Primary Infection',\n",
    "       ylabel='Likelihood of Transmission',\n",
    ")\n",
    "\n",
    "plt.savefig('/Users/spindicate/Documents/programming/rknot/imgs/tau_dist.png', bbox_inches='tight')"
   ]
  },
  {
   "cell_type": "markdown",
   "metadata": {
    "nbsphinx": "hidden"
   },
   "source": [
    "<img src=\"https://storage.googleapis.com/rknotvids/imgs/gt_discrete.png\" alt=\"Drawing\" style=\"width: 400px;\" align=\"center\"/>"
   ]
  },
  {
   "cell_type": "markdown",
   "metadata": {
    "nbsphinx": "hidden"
   },
   "source": [
    "Thus, if a susceptible subject has contact with an infected, anywhere in the space, its probability of infection is: \n",
    "\n",
    "$$\n",
    "\\begin{equation}\n",
    "\\tau_i\n",
    "\\\\\\textit{where: }i\\textit{ = time since the infection occured}\n",
    "\\end{equation}\n",
    "$$"
   ]
  },
  {
   "cell_type": "markdown",
   "metadata": {
    "nbsphinx": "hidden"
   },
   "source": [
    "With respect to multiple infected at a single location, we have to make a slight tweak to the prior equation to account for the differing transmission likelihoods that each infected dot will have based on how many days it has been infected.\n",
    "\n",
    "Again, we sum all the branches of the probability tree that end in an infection. For each branch, the likelihood of terminating in an infection is the cumulative productive of the likelihood that each prior contact will *not* result an infection times the likelihood that the current *will* result in an infection.\n",
    "\n",
    "$$\n",
    "\\begin{equation}\n",
    "\\sum^n_{i=1}(\\tau_{it}*\\prod^{i-1}_{j=0}(1-\\tau_{jt}))\n",
    "\\end{equation}\n",
    "$$\n",
    "$$\n",
    "\\begin{equation}\n",
    "\\\\\\textit{where:}\\;\\tau_0=0\n",
    "\\\\\\tau\\;\\textit{= likelihood of transmission for dot i at time t}\n",
    "\\\\t\\;\\textit{= time since infection occured for dot i}\n",
    "\\\\n\\;\\textit{= number of infected dots}\n",
    "\\end{equation}\n",
    "$$"
   ]
  },
  {
   "cell_type": "code",
   "execution_count": 3,
   "metadata": {
    "nbsphinx": "hidden"
   },
   "outputs": [],
   "source": [
    "import numpy as np\n",
    "n=30\n",
    "tmrs = np.random.uniform(0,.2,30)\n",
    "xrng = np.arange(30)\n",
    "\n",
    "survival = (1 - tmrs).cumprod()\n",
    "survival = np.roll(survival, 1)\n",
    "survival[0] = 1   "
   ]
  },
  {
   "cell_type": "code",
   "execution_count": 6,
   "metadata": {
    "nbsphinx": "hidden"
   },
   "outputs": [
    {
     "data": {
      "image/png": "[encoded data removed]",
      "text/plain": [
       "<Figure size 432x288 with 1 Axes>"
      ]
     },
     "metadata": {
      "needs_background": "light"
     },
     "output_type": "display_data"
    }
   ],
   "source": [
    "import matplotlib.pyplot as plt\n",
    "probs = np.zeros(n)\n",
    "for i in range(n):\n",
    "    probs[i] = survival[i]*tmrs[i]\n",
    "\n",
    "y = probs.cumsum()\n",
    "\n",
    "fig, ax = plt.subplots()\n",
    "plot = ax.plot(xrng, y)\n",
    "ax.set_xlabel('Number of Contacts')\n",
    "ax.set_ylabel(r'Likelihood of Transmission, $\\tau$')\n",
    "\n",
    "plt.savefig('/Users/spindicate/Documents/programming/rknot/imgs/multi_tau_v_contacts.png', bbox_inches='tight')"
   ]
  },
  {
   "cell_type": "markdown",
   "metadata": {
    "nbsphinx": "hidden"
   },
   "source": [
    "If we assume a random $\\tau$ values between 0 and 20% for 30 different infected dots, the likelihood of transmission to a susceptible as a function of the number of dots at the same location, scales as follows:"
   ]
  },
  {
   "cell_type": "markdown",
   "metadata": {
    "nbsphinx": "hidden"
   },
   "source": [
    "<img src=\"https://storage.googleapis.com/rknotvids/imgs/multi_tau_v_contacts.png\" alt=\"Drawing\" style=\"width: 400px;\" align=\"center\"/>"
   ]
  },
  {
   "cell_type": "markdown",
   "metadata": {},
   "source": [
    "***\n",
    "#### References\n",
    "+ https://www.ncbi.nlm.nih.gov/pmc/articles/PMC3782273/\n",
    "+ https://www.bmj.com/content/370/bmj.m3563\n",
    "+ https://www.medrxiv.org/content/10.1101/2020.06.28.20142190v1\n",
    "+ https://fivethirtyeight.com/features/without-a-vaccine-herd-immunity-wont-save-us/\n",
    "+ https://www.ncbi.nlm.nih.gov/pmc/articles/PMC3935673/\n",
    "+ https://web.stanford.edu/~jhj1/teachingdocs/Jones-on-R0.pdf\n",
    "+ https://www.ncbi.nlm.nih.gov/pmc/articles/PMC1804098/\n",
    "+ https://www.ijidonline.com/article/S1201-9712%2820%2930119-3/pdf\n",
    "+ https://www.nytimes.com/interactive/2020/10/02/science/charting-a-coronavirus-infection.html?s=03\n",
    "+ https://www.ijidonline.com/article/S1201-9712%2820%2930119-3/pdf\n",
    "+ https://www.medrxiv.org/content/10.1101/2020.03.08.20032946v1.full.pdf"
   ]
  },
  {
   "cell_type": "code",
   "execution_count": null,
   "metadata": {
    "nbsphinx": "hidden"
   },
   "outputs": [],
   "source": []
  }
 ],
 "metadata": {
  "celltoolbar": "Edit Metadata",
  "kernelspec": {
   "display_name": "Python 3",
   "language": "python",
   "name": "python3"
  },
  "language_info": {
   "codemirror_mode": {
    "name": "ipython",
    "version": 3
   },
   "file_extension": ".py",
   "mimetype": "text/x-python",
   "name": "python",
   "nbconvert_exporter": "python",
   "pygments_lexer": "ipython3",
   "version": "3.8.6"
  }
 },
 "nbformat": 4,
 "nbformat_minor": 4
}
