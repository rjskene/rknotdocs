{
 "cells": [
  {
   "cell_type": "markdown",
   "metadata": {},
   "source": [
    "## Viral Spread Theory in RKnot ##\n",
    "\n",
    "*RKnot* is built up from the contact level. A contact is an interaction between an infected person and a susceptible person that could result in transmission of the virus (more details [below](#Average-Contact)). Contacts occur in a 2d environment in which subjects move randomly according to pre-defined distributions or deterministically according to event subscription.\n",
    "\n",
    "When a contact occurs, transmission is determined stochastically according to a multi-faceted likelihood of transmission tailored specifically to the infected and susceptible subjects in contact at the specific time at the specific location.\n",
    "\n",
    "The expected number of new infections at any time, can be found as the sum of all contacts at that time multiplied each contact's specific transmission risk.\n",
    "\n",
    "$$\n",
    "\\begin{equation}\n",
    "E(n_{infs}) = \\sum_{i=1}^N c_i*\\tau_i\n",
    "\\end{equation}\n",
    "$$\n",
    "\n",
    "$\\tau$ is a fundamental property of virus that can be further augmented for properties of the infected, or the subject, or the location of the contact.\n",
    "\n",
    "$$\n",
    "\\begin{equation}\n",
    "\\tau_i = \\tau * T_{inf,i} * T_{sus,i} * T_{loc,i}\n",
    "\\end{equation}\n",
    "$$\n",
    "\n",
    "\n",
    "Thus, the transmission risk of the virus is required in order to mimick its spread. This can be provided directly or derived from a virus' estimated $R_0$."
   ]
  },
  {
   "cell_type": "markdown",
   "metadata": {},
   "source": [
    "### $R_0$ ###\n",
    "The propensity for a virus to spread is most-commonly referenced by its Initial Reproduction Number, $R_0$.\n",
    "\n",
    "$R_0$ is essentially the number of new infections that will be caused by a single infected person in an entirely susceptible population. \n",
    "\n",
    "At an individual level, $R_0$ is influenced by many factors: the number of contacts the infected person has, the location of contacts, the social setting of contacts, etc.  \n",
    "\n",
    "At a population level, many models of $R_0$ assume that the individual factors average out, thus leaving us with a property that is fundamental to the virus itself. We can see there is a broad range of $R_0$ values for different viruses in the [wikipedia entry](https://en.wikipedia.org/wiki/Basic_reproduction_number)."
   ]
  },
  {
   "cell_type": "markdown",
   "metadata": {},
   "source": [
    "$R_0$ can be described as:\n",
    "\n",
    "$$\n",
    "\\begin{equation}\n",
    "R_0=\\beta*d\n",
    "\\end{equation}\n",
    "$$\n",
    "$$\n",
    "\\begin{equation}\n",
    "\\\\\\textit{where: }\\beta \\textit{ = transmission rate (infections / day)}\\\\ d \\textit{ = duration of infection (days)}\n",
    "\\end{equation}\n",
    "$$\n",
    "\n",
    "The above ignores the number of contacts made, however,\n",
    "\n",
    "$\\beta$ can be further broken down as:\n",
    "\n",
    "$$\n",
    "\\begin{equation}\n",
    "\\beta=\\tau*\\overline{c}\n",
    "\\end{equation}\n",
    "$$\n",
    "$$\n",
    "\\begin{equation}\n",
    "\\\\\\textit{where: }\\tau \\textit{ = probability of transmission, or transmission risk}\n",
    "\\\\\\overline{c}\\textit{ = contacts per day}\n",
    "\\end{equation}\n",
    "$$\n",
    "which yields:\n",
    "$$\n",
    "\\begin{equation}\n",
    "R_0=\\tau*\\overline{c}*d\n",
    "\\end{equation}\n",
    "$$\n",
    "\n",
    "Using the relationship above, we can simulate viral spread contact by contact, however, we must have a value(s) for $\\tau$."
   ]
  },
  {
   "cell_type": "markdown",
   "metadata": {},
   "source": [
    "### Static Transmission Risk ###\n",
    "\n",
    "There are many mathematical models used to describe viral transmission, the most commonly-referenced being the [SIR model](https://web.stanford.edu/~jhj1/teachingdocs/Jones-on-R0.pdf) (Suscepitble-Infected-Recovered).\n",
    "\n",
    "The SIR model makes several simplifying assumptions:\n",
    "\n",
    "+ Closed, well-mixed population with no demography\n",
    "+ Constant Rates\n",
    "\n",
    "This allows viral spread to be described in 3 equations.\n",
    "\n",
    "$$\n",
    "\\begin{equation}\n",
    "\\frac{ds}{dt} = −\\beta si\n",
    "\\\\\\frac{di}{dt} = \\beta si - id^{-1}\n",
    "\\\\\\frac{dr}{dt} = di\n",
    "\\end{equation}\n",
    "$$\n",
    "$$\n",
    "\\textit{where: }s = S/N = \\textit{number of susceptible / total population size}\n",
    "\\\\\\textit{where: }i = I/N = \\textit{number of infected / total population size}\n",
    "\\\\\\textit{where: }s = R/N = \\textit{number of recovered / total population size}\n",
    "$$"
   ]
  },
  {
   "cell_type": "markdown",
   "metadata": {},
   "source": [
    "The simplified model allows for some quick estimates of various spread characteristics. Herd Immunity threshold, for instance, can be found as:\n",
    "\n",
    "$$\n",
    "\\begin{equation}\n",
    "\\text{HIT} = 1 - 1/R_0 \n",
    "\\end{equation}\n",
    "$$\n",
    "\n",
    "For instance, $R_0$ of 2.5x, [the prevailing estimate for sars-cov-2](https://www.cdc.gov/coronavirus/2019-ncov/hcp/planning-scenarios.html), yields a HIT of 60%."
   ]
  },
  {
   "cell_type": "markdown",
   "metadata": {},
   "source": [
    "The assumption of constant rates presents problems for simulating at the contact level, however. SIR assumes that transmission risk is constant during the infection period and that each subject in the population has the same number of contacts and so is able to ignore $\\tau$ and $c$."
   ]
  },
  {
   "cell_type": "markdown",
   "metadata": {},
   "source": [
    "Referring to equation (5) above:\n",
    "\n",
    "+ $R_0$ is known (from external analysis and provided by the user)\n",
    "+ $d$ is known (from external analysis and provided by the user)\n",
    "\n",
    "Thus, unknowns are    $\\tau$ & $\\overline{c}$\n",
    "\n",
    "As per above, we must know $\\tau$ in order to simulate spread."
   ]
  },
  {
   "cell_type": "markdown",
   "metadata": {},
   "source": [
    "#### Expected Contact Rate ####\n",
    "While we do not know $\\overline{c}$, the simulation space is given a number of parameters that allow us to estimate\n",
    "the expected number of contacts. We know:\n",
    "\n",
    "+ The population size\n",
    "+ The number of locations\n",
    "+ The movement patterns of subjects\n",
    "+ The likelihood that a subject will be at a particular location at a particular time given 1/2/3 above\n",
    "        \n",
    "A simple method to estimate $\\overline{c}$ is to assume that each subject is equally likely to be in any one location at any time. The probability of a single dot being in a singe location is:\n",
    "\n",
    "$$\n",
    "\\begin{equation}\n",
    "P(LOC_{xy},DOT_i)=1/N\n",
    "\\end{equation}\n",
    "$$\n",
    "$$\n",
    "\\begin{equation}\n",
    "\\\\\\textit{where:}\\;xy\\;\\textit{= coordinates of the location}\n",
    "\\\\N\\textit{ = number of locations}\n",
    "\\end{equation}\n",
    "$$ \n",
    " \n",
    "The probability of another dot being there at the same time:\n",
    "\n",
    "$$\n",
    "\\begin{equation}\n",
    "P(LOC_{xy},DOT_{ij})=1/N*1/N\n",
    "\\end{equation}\n",
    "$$\n",
    "\n",
    "The probability of $n$ dots being at the same location at the same time:\n",
    "\n",
    "$$\n",
    "\\begin{equation}\n",
    "P(LOC_{xy},DOT_{ij})=1/N^n\n",
    "\\end{equation}\n",
    "$$\n",
    "\n",
    "Then, the number of ordered contacts is:\n",
    "\n",
    "$$\n",
    "\\begin{equation}\n",
    "\\sum_{n=1}^N(1 / N^n)\n",
    "\\end{equation}\n",
    "$$\n",
    "\n",
    "And for all possible orders:\n",
    "\n",
    "$$\n",
    "\\begin{equation}\n",
    "E(\\overline{c})=\\sum_{n=1}^N(1/N^n)*n\n",
    "\\end{equation}\n",
    "$$"
   ]
  },
  {
   "cell_type": "code",
   "execution_count": 18,
   "metadata": {
    "tags": [
     "hide_input"
    ]
   },
   "outputs": [
    {
     "data": {
      "text/markdown": [
       "The result is a contact rate that is closely related to the density of the simulation space. For example, a population of 100 subjects  in a space of 100 locations, would have an expected contact rate of 1.01 per day"
      ],
      "text/plain": [
       "<IPython.core.display.Markdown object>"
      ]
     },
     "metadata": {},
     "output_type": "display_data"
    }
   ],
   "source": [
    "from rknot.helpers import md\n",
    "\n",
    "c = expected_contacts(100, 100)\n",
    "msg = 'The result is a contact rate that is closely related to the density '\n",
    "msg += 'of the simulation space. For example, a population of 100 subjects '\n",
    "msg += ' in a space of 100 locations, would have an expected contact rate of '\n",
    "msg += '{:.2f} per day'.format(c)\n",
    "\n",
    "md(msg)"
   ]
  },
  {
   "cell_type": "markdown",
   "metadata": {},
   "source": [
    "#### Likelihood of Transmission ####\n",
    "\n",
    "With the expected contact rate known, probability of transmission under the SIR model is found as:\n",
    "$$\n",
    "\\begin{equation}\n",
    "\\tau=\\frac{R_0}{𝑑*\\overline{c}}\n",
    "\\end{equation}\n",
    "$$\n",
    "\n",
    "So, again, If a susceptible subject has contact with an infected at the same location, at any time,\n",
    "its probability of infection is: \n",
    "\n",
    "$$\n",
    "\\begin{equation}\n",
    "\\tau_i = \\tau * T_{inf,i} * T_{sus,i} * T_{loc,i}\n",
    "\\end{equation}\n",
    "$$\n",
    "\n",
    "If a susceptible comes in contact with multiple infected, we assume that this results in multiple contacts that occur in succession. So we must sum all the branches of the probability tree that end in an infection:\n",
    "\n",
    "$$\n",
    "\\begin{equation}\n",
    "\\sum^N_{i=1}(1-\\tau_i)^n*\\tau_i\n",
    "\\end{equation}\n",
    "$$\n",
    "$$\n",
    "\\begin{equation}\n",
    "\\\\\\textit{where:}\\;\\tau_i\\;\\textit{= likelihood of transmission for contact i}\n",
    "\\\\N\\;\\textit{= number of infected dots}\n",
    "\\end{equation}\n",
    "$$\n",
    "\n",
    "This ensures that the likelihood of transmission is asymptotic to 1, as follows:"
   ]
  },
  {
   "cell_type": "code",
   "execution_count": 19,
   "metadata": {
    "nbsphinx": "hidden"
   },
   "outputs": [
    {
     "data": {
      "image/png": "[encoded data removed]",
      "text/plain": [
       "<Figure size 432x216 with 1 Axes>"
      ]
     },
     "metadata": {
      "needs_background": "light"
     },
     "output_type": "display_data"
    }
   ],
   "source": [
    "import numpy as np\n",
    "import matplotlib.pyplot as plt\n",
    "\n",
    "tmr = .2\n",
    "xrng = np.arange(30)\n",
    "y = ((1-tmr)**xrng*tmr).cumsum()\n",
    "\n",
    "fig, ax = plt.subplots(figsize=(6,3))\n",
    "plot = ax.plot(xrng, y)\n",
    "ax.set_xlabel('Number of Infected Dots at Location')\n",
    "ax.set_ylabel(r'Likelihood of Transmission, $\\tau$')\n",
    "\n",
    "plt.savefig('/Users/spindicate/Documents/programming/rknot/imgs/tau_v_contacts.png', bbox_inches='tight')"
   ]
  },
  {
   "cell_type": "markdown",
   "metadata": {},
   "source": [
    "<img src=\"https://storage.googleapis.com/rknotvids/imgs/tau_v_contacts.png\" alt=\"Drawing\" style=\"width: 400px;\" align=\"center\"/>"
   ]
  },
  {
   "cell_type": "markdown",
   "metadata": {},
   "source": [
    "### Dynamic Transmission Risk ###\n",
    "\n",
    "The SIR model makes several assumptions that make for simpler math, but that do not map well onto reality. \n",
    "\n",
    "In particular, SIR assumes constant transmission risk, $$\\tau$$, when in reality, we know that the infectiousness of an individual changes over time as a function of viral load. It takes time for the virus to accumulate in the subject and, then, in turn it takes time for the subject to dimish the virus via its immune response. \n",
    "\n",
    "Generally, the greater the viral load, the greater the transmission risk. And so the likelihood of transmission should follow a similar pattern as the viral load (or vice versa). This [New York Times piece](https://www.nytimes.com/interactive/2020/10/02/science/charting-a-coronavirus-infection.html?s=03) has a nice visualisation of this concept for sar-cov-2.\n",
    "\n",
    "There are several techinques available for incorporating viral load in a viral spread model including serial interval, explored [here](https://www.ijidonline.com/article/S1201-9712%2820%2930119-3/pdf) and generation time, explored [here](https://www.medrxiv.org/content/10.1101/2020.03.08.20032946v1.full.pdf). These techniques, however, again tend to ignore $\\overline{c}$ and focus on $\\beta$.\n",
    "\n",
    "A paper from a team at the [Fred Hutchinson Cancer Research Center](https://www.medrxiv.org/content/10.1101/2020.08.07.20169920v3.full.pdf), however, maps transmission risk directly onto an estimated viral load curve and infectiousness factor and optimizes it at a specfic contact rate and contact variance (hence forth known as the \"Fred\" model).\n",
    "\n",
    "First, we will show how the dynamic transmission risk curve is derived. The goal is to produce an array of non-zero probabilites reflecting the likelihood of transmission of virus from one infected to a susceptible in a single contact, based on the known viral load characteristics of the virus.\n",
    "\n",
    "The Fred model combines quantities of infectiousness and viral load. Viral load is found via a system of 6 differential equations as follows:"
   ]
  },
  {
   "cell_type": "markdown",
   "metadata": {},
   "source": [
    "$$\n",
    "\\begin{equation}\n",
    "\\frac{ds}{dt} = -\\beta vs\n",
    "\\\\\\frac{di}{dt} = \\beta vs - \\delta i^ki - mi\\frac{e^r}{e^r+\\phi^r}\n",
    "\\\\\\frac{dv}{dt} = \\pi i - \\gamma v\n",
    "\\\\\\frac{dM_1}{dt} = \\omega iM_1 - qM_1\n",
    "\\\\\\frac{dM_2}{dt} = q(M_1 - M_2)\n",
    "\\\\\\frac{de}{dt} = q(M_2 - \\delta_eE\n",
    "\\end{equation}\n",
    "$$\n",
    "\n",
    "The variable `v` is the viral load.\n",
    "\n",
    "With viral load known, the transmission risk, $\\tau$, can be found as:\n",
    "\n",
    "$$\n",
    "\\begin{equation}\n",
    "\\tau_t = \\frac{v(t)^\\alpha}{\\gamma^\\alpha + v(t)^\\alpha}\n",
    "\\end{equation}\n",
    "$$\n",
    "\n",
    "The paper provides estimates for several of the parameters including $\\gamma$, $\\alpha$, etc. The system can be described and solved using the `odeint` method in `scipy`."
   ]
  },
  {
   "cell_type": "code",
   "execution_count": 28,
   "metadata": {},
   "outputs": [],
   "source": [
    "import math\n",
    "import numpy as np\n",
    "from scipy.integrate import odeint\n",
    "\n",
    "def inf_rate(beta,v,s):\n",
    "    return beta*v*s\n",
    "\n",
    "def sfunc(beta, v, s):\n",
    "    return -inf_rate(beta, v, s)\n",
    "\n",
    "def vfunc(pi,i,c,v):\n",
    "    return pi*i - c*v\n",
    "\n",
    "def ifunc(beta, v, s, delta, i, k, m, e, r, phi):\n",
    "    inf_r = inf_rate(beta,v,s)\n",
    "    dens_rate = delta*(i**k)\n",
    "    acq_res = (m * e**r) / (e**r + phi**r)\n",
    "    return inf_r - dens_rate*i - acq_res*i\n",
    "\n",
    "def m1func(omega, i, m1, q):\n",
    "    return omega*i*m1 - q*m1\n",
    "\n",
    "def m2func(q, m1, m2):\n",
    "    return q * (m1-m2)\n",
    "\n",
    "def efunc(q, m2, dE, e):\n",
    "    return q*m2 - dE*e\n",
    "\n",
    "def model(z,t):\n",
    "    beta=10**-7.23\n",
    "    k=0.08\n",
    "    delta= 3.13\n",
    "    pi=10**2.59\n",
    "    m=3.21\n",
    "    omega=10**-4.55\n",
    "    r=10\n",
    "    dE=1\n",
    "    q=2.4*10**-5\n",
    "    c=15\n",
    "    \n",
    "    s, i, v, m1, m2, e = z[0], z[1], z[2], z[3], z[4], z[5]\n",
    "    \n",
    "    dsdt = sfunc(beta, v, s)\n",
    "    didt = ifunc(beta, v, s, delta, i, k, m, e, r, phi)\n",
    "    dvdt = vfunc(pi,i,c,v)\n",
    "    dm1dt = m1func(omega, i, m1, q)\n",
    "    dm2dt = m2func(q, m1, m2)\n",
    "    dedt = efunc(q, m2, dE, e)\n",
    "    \n",
    "    dzdt = [dsdt,didt,dvdt,dm1dt,dm2dt,dedt]\n",
    "    return dzdt\n",
    "\n",
    "# FROM PRIOR RESEARCH\n",
    "pi=10**2.59\n",
    "c = 15\n",
    "S0=10**7\n",
    "I0=1\n",
    "V0=pi*I0/c\n",
    "M10=1\n",
    "M20=0\n",
    "E0=0\n",
    "phi=100\n",
    "z0 = [S0, I0, V0, M10, M20, E0]\n",
    "\n",
    "t = np.linspace(0,20,30*4)\n",
    "\n",
    "z = odeint(model,z0,t)\n",
    "v= z[:, 2]"
   ]
  },
  {
   "cell_type": "markdown",
   "metadata": {},
   "source": [
    "This results in the curve below, which shows the level of virus present in an infected person over time."
   ]
  },
  {
   "cell_type": "code",
   "execution_count": 29,
   "metadata": {
    "tags": [
     "hide_input"
    ]
   },
   "outputs": [
    {
     "data": {
      "image/png": "[encoded data removed]",
      "text/plain": [
       "<Figure size 432x288 with 1 Axes>"
      ]
     },
     "metadata": {
      "needs_background": "light"
     },
     "output_type": "display_data"
    }
   ],
   "source": [
    "import matplotlib.pyplot as plt\n",
    "\n",
    "fig, ax = plt.subplots()\n",
    "ax.plot(t, np.log10(v),'r--')\n",
    "ax.set_ylabel('Viral Load')\n",
    "ax.set_xlabel('Days')\n",
    "max_mag = math.floor(math.log(1.67*10**7, 10))\n",
    "ax.set_yticks([np.log10(10**i) for i in range(0, max_mag + 1)])\n",
    "ax.set_yticklabels([''] + [f'10^{i+1}' for i in range(0, max_mag)])\n",
    "ax.set_title('Sars-Cov-2 Viral Load')\n",
    "plt.show()"
   ]
  },
  {
   "cell_type": "markdown",
   "metadata": {},
   "source": [
    "We can see that sars-cov-2 viral load has a long tail, however, the Hutch paper showed that the amount of virus present during the tail is unlikely to result in high transmission, as per below.\n",
    "\n",
    "Transmission risk is derived from the viral load above as well as two properties of the infectiousness of the subjects in the contact, $\\alpha$ and $\\gamma$ (see the paper for more details).\n",
    "\n",
    "The paper estimated $\\alpha$ = 0.8 and $\\gamma$ = $10^7$."
   ]
  },
  {
   "cell_type": "code",
   "execution_count": 34,
   "metadata": {},
   "outputs": [],
   "source": [
    "def infness(v, alpha, gamma):\n",
    "    num = v**alpha\n",
    "    den = gamma**alpha + v**alpha\n",
    "    return num/den\n",
    "\n",
    "def taufunc(v, alpha, gamma):\n",
    "    return infness(v, alpha, gamma)**2\n",
    "\n",
    "alpha = 0.8\n",
    "gamma = 10**7\n",
    "\n",
    "vlin = np.linspace(1, 10**10, 10**5)\n",
    "tmr = taufunc(vlin, alpha, gamma)"
   ]
  },
  {
   "cell_type": "markdown",
   "metadata": {},
   "source": [
    "`tmr` is the transmission risk curve that we will utilize in our simulations. It is a 1d array with each element representing the likelihood of transmission of the virus at that point in the infection's life cycle.\n",
    "\n",
    "We can see from the plot below, that transmission risk only increases materially at exponentially higher viral loads:"
   ]
  },
  {
   "cell_type": "code",
   "execution_count": 35,
   "metadata": {
    "tags": [
     "hide_input"
    ]
   },
   "outputs": [
    {
     "data": {
      "image/png": "[encoded data removed]",
      "text/plain": [
       "<Figure size 432x288 with 1 Axes>"
      ]
     },
     "metadata": {
      "needs_background": "light"
     },
     "output_type": "display_data"
    }
   ],
   "source": [
    "fig, ax = plt.subplots()\n",
    "ax.plot(np.log10(vlin), tmr,'b--')\n",
    "ax.set_ylabel('Transmission Risk')\n",
    "ax.set_xlabel('log10 Viral Load')\n",
    "\n",
    "ticks = ['0'] + [f'e{i*2}' for i in range(1, 6)]\n",
    "ax.set_xticks([i*2 for i in range(len(ticks))])\n",
    "ax.set_xticklabels(ticks)\n",
    "ax.set_title('Sars-Cov-2 Transmission Risk')\n",
    "plt.show()"
   ]
  },
  {
   "cell_type": "markdown",
   "metadata": {},
   "source": [
    "We can further combine Chart 1 and Chart 2 above to show that transmission of sars-cov-2 is likely only during a very narrow range in the early stage of infection."
   ]
  },
  {
   "cell_type": "code",
   "execution_count": 36,
   "metadata": {
    "tags": [
     "hide_input"
    ]
   },
   "outputs": [
    {
     "data": {
      "image/png": "[encoded data removed]",
      "text/plain": [
       "<Figure size 432x288 with 2 Axes>"
      ]
     },
     "metadata": {
      "needs_background": "light"
     },
     "output_type": "display_data"
    }
   ],
   "source": [
    "tmr = taufunc(v, alpha, gamma)\n",
    "\n",
    "fig, ax = plt.subplots()\n",
    "ax.plot(t, np.log10(z[:,2]),'r--')\n",
    "ax.set_ylabel('Viral Load')\n",
    "ax.set_xlabel('Days')\n",
    "max_mag = math.ceil(np.log10(z[:,2]).max())\n",
    "ax.set_yticks([np.log10(10**i) for i in range(0, max_mag)])\n",
    "ax.set_yticklabels([''] + [f'10^{i+1}' for i in range(0, max_mag - 1)])\n",
    "\n",
    "c = ax.pcolormesh(\n",
    "    t, np.log10(z[:,2]), np.tile(tmr*100, (120,1)), \n",
    "    cmap='Wistia', vmin=tmr.min()*100, vmax=tmr.max()*100,\n",
    "    shading='auto'\n",
    ")\n",
    "cbar = fig.colorbar(c, ax=ax, format='%.0f%%')\n",
    "cbar.ax.set_ylabel('Transmission Risk', rotation=90)\n",
    "\n",
    "ax.fill_between(t, np.log10(z[:,2]), np.log10(z[:,2]).max(), interpolate=True, color='w')\n",
    "\n",
    "plt.show()"
   ]
  },
  {
   "cell_type": "markdown",
   "metadata": {},
   "source": [
    "Note that there is only a significant risk of transmission of the virus for during the first few days of the infection period (shown as the more orange color under the curve)."
   ]
  },
  {
   "cell_type": "markdown",
   "metadata": {
    "nbsphinx": "hidden"
   },
   "source": [
    "Given the transmission risk curve, the probability $\\tau$ that an infection will occur during a contact is:\n",
    "\n",
    "$$\n",
    "\\begin{equation}\n",
    "\\tau_t\n",
    "\\\\\\textit{where: }t\\textit{ = time since the infection occured}\n",
    "\\end{equation}\n",
    "$$"
   ]
  },
  {
   "cell_type": "markdown",
   "metadata": {
    "nbsphinx": "hidden"
   },
   "source": [
    "With respect to multiple infected at a single location, we have to make a slight tweak to the prior equation 14 above.\n",
    "\n",
    "Again, we sum all the branches of the probability tree that end in an infection. For each branch, the likelihood of terminating in an infection is the cumulative productive of the likelihood that each prior contact will *not* result an infection times the likelihood that the current contact *will* result in an infection.\n",
    "\n",
    "$$\n",
    "\\begin{equation}\n",
    "\\sum^n_{i=1}(\\tau_{it}*\\prod^{i-1}_{j=0}(1-\\tau_{jt}))\n",
    "\\end{equation}\n",
    "$$\n",
    "$$\n",
    "\\begin{equation}\n",
    "\\\\\\textit{where:}\\;\\tau_0=0\n",
    "\\\\\\tau\\;\\textit{= likelihood of transmission for dot i at time t}\n",
    "\\\\t\\;\\textit{= time since infection occured for dot i}\n",
    "\\\\n\\;\\textit{= number of infected dots}\n",
    "\\end{equation}\n",
    "$$"
   ]
  },
  {
   "cell_type": "markdown",
   "metadata": {},
   "source": [
    "If we assume random $\\tau$ values from `tmr` curve above for 30 different infected dots, the likelihood of transmission to a susceptible as a function of the number of dots at the same location, scales as follows:"
   ]
  },
  {
   "cell_type": "code",
   "execution_count": 48,
   "metadata": {
    "nbsphinx": "hidden",
    "tags": [
     "hide_input"
    ]
   },
   "outputs": [
    {
     "data": {
      "image/png": "[encoded data removed]",
      "text/plain": [
       "<Figure size 432x288 with 1 Axes>"
      ]
     },
     "metadata": {
      "needs_background": "light"
     },
     "output_type": "display_data"
    }
   ],
   "source": [
    "import matplotlib.pyplot as plt\n",
    "import numpy as np\n",
    "from rknot.dots.fhutch import tmr\n",
    "\n",
    "n=30\n",
    "tmrs = np.random.choice(tmr, size=30)\n",
    "xrng = np.arange(30)\n",
    "\n",
    "survival = (1 - tmrs).cumprod()\n",
    "survival = np.roll(survival, 1)\n",
    "survival[0] = 1   \n",
    "\n",
    "probs = np.zeros(n)\n",
    "for i in range(n):\n",
    "    probs[i] = survival[i]*tmrs[i]\n",
    "\n",
    "y = probs.cumsum()\n",
    "\n",
    "fig, ax = plt.subplots()\n",
    "plot = ax.plot(xrng, y)\n",
    "ax.set_xlabel('Number of Contacts')\n",
    "ax.set_ylabel(r'Likelihood of Transmission, $\\tau$')\n",
    "\n",
    "plt.show()"
   ]
  },
  {
   "cell_type": "markdown",
   "metadata": {},
   "source": [
    "### Other Forms of Heterogeneity ###\n",
    "**RKnot** seeks to address the shortfalls in $R_0$ models by allowing the user to introduce customized, heterogeneous populations across several axis including:\n",
    "\n",
    "+ **Fatality Rate**\n",
    "+ **Population Density**\n",
    "+ **Movement** - frequency and distance of location changes in space according to different probability distributions.\n",
    "+ **Events** - in the real world, people do not move and interact according to smooth probability functions. In fact, they typically have a small subset of movements that are huge outliers from any distribution. These are the professional sporting events, vacation trips, church functions, house parties, etc. that are scheduled and often times recurring. Thankfully, they are more often than not deterministic, which allows us to incorporate them in a simulation.\n",
    "+ **Susceptibility** - segments of population can be made immune (without requiring vaccination) to mimick phenomenon like [possible T-cell immunity](https://www.bmj.com/content/370/bmj.m3563).\n",
    "+ **Subject Transmission Factor**, $T_i$: $R_0$ assumes that all contacts have the same transmission risk, $\\tau$ (subject to the viral load at the time of the interaction). **RKnot** introduces a unitless Transmission Factor, $T$, for each subject at each contact that can modulate $\\tau$. This can be used to mimick social distancing or mask wearing or different socio-cultural norms that may impact spread (i.e. east Asian bows versus southern European double-kisses).\n",
    "\n",
    "*Still To Be Incorporated*\n",
    "\n",
    "+ **Location Transmission Factor**, $T_{\\text{xy}}$: similar to $T_i$ above, we can introduce a transmission factor to specific locations that might result in higher or lower likelihood of spread. This could be used to simulate certain work environments (like enclosed office spaces or meat-packing plants). It can also be used to mimic seasonality, by changing $T_{xy}$ over time to account for, say, more time outdoors in temperate seasons.\n",
    "+ **Testing and Isolation** - with the heightened awareness of a pandemic, individuals in population are more likely to self-isolate or quarantine themselves upon sympton onset, thereby helping to reduce spread."
   ]
  },
  {
   "cell_type": "markdown",
   "metadata": {},
   "source": [
    "### The Average Contact ###\n",
    "Currently, **RKnot** assumes that each and every contact is an *Average Contact*. \n",
    "\n",
    "The average contact is a purely theoretical interaction that would result in about an average likelihood of transmission relative to all other possible interactions. It is not influenced by external factors such as the demographics of the subjects, the properties of the location, etc. Thus, the $\\tau$ of an Average Contact is a fundamental property of the virus.\n",
    "\n",
    "I like to think of the Average Contact as the *Elevator Case*, i.e.:\n",
    "\n",
    "* Two people on an elevator, standing three feet apart, having a conversation for several minutes before one person exits. No masks nor other conscious social distancing, but no particularly reckless behaviour either.\n",
    "\n",
    "Every other conceivable interaction can now be scaled relative to the Elevator Case on a continuum of higher or lower probability of transmission using transmission factors, $T$. For instance:\n",
    "\n",
    "* two college students pressed closely together on a concert floor and yelling at the band on stage would have $T >>> 1x$\n",
    "* two people standing in a open field, 6 feet apart with masks on exchanging limited pleasantries would have $T <<< 1x$"
   ]
  },
  {
   "cell_type": "markdown",
   "metadata": {},
   "source": [
    "***\n",
    "### References ###\n",
    "+ https://www.ncbi.nlm.nih.gov/pmc/articles/PMC3782273/\n",
    "+ https://www.bmj.com/content/370/bmj.m3563\n",
    "+ https://www.medrxiv.org/content/10.1101/2020.06.28.20142190v1\n",
    "+ https://fivethirtyeight.com/features/without-a-vaccine-herd-immunity-wont-save-us/\n",
    "+ https://www.ncbi.nlm.nih.gov/pmc/articles/PMC3935673/\n",
    "+ https://web.stanford.edu/~jhj1/teachingdocs/Jones-on-R0.pdf\n",
    "+ https://www.ncbi.nlm.nih.gov/pmc/articles/PMC1804098/\n",
    "+ https://www.ijidonline.com/article/S1201-9712%2820%2930119-3/pdf\n",
    "+ https://www.nytimes.com/interactive/2020/10/02/science/charting-a-coronavirus-infection.html?s=03\n",
    "+ https://www.ijidonline.com/article/S1201-9712%2820%2930119-3/pdf\n",
    "+ https://www.medrxiv.org/content/10.1101/2020.03.08.20032946v1.full.pdf"
   ]
  },
  {
   "cell_type": "code",
   "execution_count": null,
   "metadata": {
    "nbsphinx": "hidden"
   },
   "outputs": [],
   "source": [
    "%%javascript\n",
    "IPython.notebook.save_notebook()"
   ]
  },
  {
   "cell_type": "code",
   "execution_count": 51,
   "metadata": {
    "nbsphinx": "hidden"
   },
   "outputs": [],
   "source": [
    "from rknot.helpers import move_to_doc_folder\n",
    "move_to_doc_folder('theory.ipynb')"
   ]
  },
  {
   "cell_type": "code",
   "execution_count": null,
   "metadata": {
    "nbsphinx": "hidden"
   },
   "outputs": [],
   "source": []
  }
 ],
 "metadata": {
  "celltoolbar": "Tags",
  "kernelspec": {
   "display_name": "Python 3",
   "language": "python",
   "name": "python3"
  },
  "language_info": {
   "codemirror_mode": {
    "name": "ipython",
    "version": 3
   },
   "file_extension": ".py",
   "mimetype": "text/x-python",
   "name": "python",
   "nbconvert_exporter": "python",
   "pygments_lexer": "ipython3",
   "version": "3.8.6"
  }
 },
 "nbformat": 4,
 "nbformat_minor": 4
}
