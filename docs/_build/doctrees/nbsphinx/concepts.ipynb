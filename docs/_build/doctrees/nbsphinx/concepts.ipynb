{
 "cells": [
  {
   "cell_type": "markdown",
   "metadata": {},
   "source": [
    "## Key Concepts ##"
   ]
  },
  {
   "cell_type": "markdown",
   "metadata": {},
   "source": [
    "RKnot builds a simulation across four dimensions of global properties:\n",
    "\n",
    "* **Time**\n",
    "    * The fundamental unit of time is a `tick`. \n",
    "    * Each iteration of the simulation is one tick. During a tick, the following occurs:\n",
    "        * subjects can move to new locations\n",
    "        * subjects can have contact with other subjects (at the same location)\n",
    "        * attributes of the subjects can change\n",
    "    * in the real world, many of the fundamental properties of a virus as measured in days (i.e. recovery rate or duration of immunity). RKnot translates these inputs into ticks.\n",
    "    * Currently, RKnot only supports one `tick` per day. The goal is to support any number of ticks during a day.\n",
    "* **Space**\n",
    "    * Subjects interact in an two-dimensional environment called the Grid.\n",
    "    * The Grid *must* be a square. The Grid size can be passed manually or it can be determined automatically for a specified density level.\n",
    "    * Each pair of xy coordinates in the Grid is a location. \n",
    "    * A *contact* occurs when an infected subject and a susceptible subject occupy the same location on the same tick.\n",
    "    * A single subject can only occupy a single location at one tick. There is no limit to the number of subjects that can occupy a single location at one tick.\n",
    "    * Subjects move through the Grid according to user-specified `mover` [functions](#Mover-Functions). These functions typically incorporate a degree of randomness.\n",
    "    * A subject can also move by attending an [Event](#Events).\n",
    "    * Portions of the Grid may be restricted by [Boxes and/or Gates](#Boxes-and-Gates).\n",
    "\n",
    "* **Subjects**\n",
    "    * subjects (also referred to as \"dots\") are the analog of people in the simulation.\n",
    "    * subjects carry many attributes through the life of the simulation that are updated and changed as required [see Dot Matrix](#Dot-Matrix)).\n",
    "* **Virus**\n",
    "    * the user must pass several characteristics fundamental to the simulated virus. RKnot infers others. Virus characteristics include:\n",
    "        * $R_0$\n",
    "        * Duration of Infectiousness\n",
    "        * Duration of Immunity\n",
    "        * Infection Fatality Rate\n",
    "        * Transmission Rate (inferred)\n",
    "        * Infectiousness Curve (aka Viral Load) - *TBD*"
   ]
  },
  {
   "cell_type": "markdown",
   "metadata": {},
   "source": [
    "### The Sim ###\n",
    "The `Sim` object is the user interface for the RKnot simulation package. A Sim object is instantiated with pre-defined characteristics of the space, the subjects, and the virus ([source](#)).\n",
    "\n",
    "For demonstration purposes, a quick default simulation can be run by simply providing a few parameters."
   ]
  },
  {
   "cell_type": "code",
   "execution_count": 1,
   "metadata": {
    "nbsphinx": "hidden"
   },
   "outputs": [],
   "source": [
    "### HIDDEN CELL ###\n",
    "%load_ext autoreload\n",
    "%autoreload 2\n",
    "\n",
    "from IPython.core.display import HTML\n",
    "\n",
    "import matplotlib\n",
    "matplotlib.use('Qt5Agg')\n",
    "\n",
    "from matplotlib.animation import FFMpegWriter\n",
    "\n",
    "import ray\n",
    "ray.shutdown()\n",
    "\n",
    "RUN = False\n",
    "SHOW_CHARTS = False\n",
    "SAVE_CHARTS = False"
   ]
  },
  {
   "cell_type": "markdown",
   "metadata": {
    "scrolled": false
   },
   "source": [
    "```python\n",
    "from rknot import Sim, Chart\n",
    "\n",
    "params = {'square': 4, 'Ro': 2.5, 'days': 50, 'imndur': 365, 'infdur': 365}\n",
    "sim = Sim(**params)\n",
    "```"
   ]
  },
  {
   "cell_type": "markdown",
   "metadata": {},
   "source": [
    "`run` is the main method of the `Sim` object. `run` iterates through each `tick` in the simulation. Currently, one day == one tick."
   ]
  },
  {
   "cell_type": "markdown",
   "metadata": {},
   "source": [
    "```python\n",
    "sim.run()\n",
    "```"
   ]
  },
  {
   "cell_type": "markdown",
   "metadata": {},
   "source": [
    "`sim.run()` does not return any values, but it does update various attributes of the `sim` object. After calling `run`, you can then pass `sim` to the `Chart` object, which will generate an animation of the simulation across time."
   ]
  },
  {
   "cell_type": "markdown",
   "metadata": {},
   "source": [
    "```python\n",
    "chart = Chart(sim, dot_size=2000, interval=200)\n",
    "chart.animate.to_html5_video()\n",
    "```"
   ]
  },
  {
   "cell_type": "code",
   "execution_count": 2,
   "metadata": {
    "nbsphinx": "hidden"
   },
   "outputs": [],
   "source": [
    "if RUN:\n",
    "    from rknot import Sim, Chart\n",
    "    params = {'square': 4, 'Ro': 2.5, 'days': 50, 'imndur': 365, 'infdur': 365}\n",
    "    sim = Sim(**params)\n",
    "    sim.run()\n",
    "    chart = Chart(sim, dot_size=2000, interval=200)\n",
    "if SHOW_CHARTS:    \n",
    "    HTML(chart.animate.to_html5_video())\n",
    "if SAVE_CHARTS:\n",
    "    chart.animate.save('vids/concepts/intro.mp4', writer=FFMpegWriter(fps=5))"
   ]
  },
  {
   "cell_type": "markdown",
   "metadata": {},
   "source": [
    "<video width='705' height='340' \n",
    "    src='https://storage.googleapis.com/rknotvids/keycons/intro.mp4' controls>alternative text</video>\n",
    "<br></br>"
   ]
  },
  {
   "cell_type": "markdown",
   "metadata": {},
   "source": [
    "The animation is split in 3 sections: \n",
    "\n",
    "* **Infections**\n",
    "    * shows the change in infection level over each day, showing both current infection level and total penetration (\"Ever\" in the legend)\n",
    "* **Details**\n",
    "    * provides several on-the-run statistics including Effective Reproduction Number, total fatalities, and fatalities by group.\n",
    "* **Interactions**\n",
    "    * the visual representation of subjects in the Grid. Each marker is a subject and each cross-section of gridlines is a point (for larger grids the lines are removed).\n",
    "    \n",
    "The animation is broken up into components that can be viewed in various preset configurations. [see Chart for more details](#Chart)."
   ]
  },
  {
   "cell_type": "markdown",
   "metadata": {},
   "source": [
    "As per the animation above, the default simulation is of a single infected subject, moving across a 4x4 two-dimensional space according to the `equal` mover function. The subject is equally likely to move to any location in the Grid on any tick."
   ]
  },
  {
   "cell_type": "markdown",
   "metadata": {},
   "source": [
    "___\n",
    "### Subjects ###"
   ]
  },
  {
   "cell_type": "markdown",
   "metadata": {},
   "source": [
    "#### Dots ###\n",
    "Dots are subjects/people in the simulation space. A subject has many attributes that are adjusted over time, including:\n",
    "\n",
    "* which Group it belongs to\n",
    "* if it is alive\n",
    "* if it is infected\n",
    "* if it is susceptible\n",
    "* its location\n",
    "* any restricted areas that apply to it ([see Boxes and Gates](#Boxes-and-Gates))\n",
    "* if infected, when it will recover (or when it will succumb)\n",
    "* if recovered, when it will again become susceptible\n",
    "* its fatality rate\n",
    "* its `mover` function\n",
    "\n",
    "[see Dot Matrix](#Dot-Matrix) for a more fulsome discussion."
   ]
  },
  {
   "cell_type": "markdown",
   "metadata": {},
   "source": [
    "#### Groups ####\n",
    "Dots are the fundamental subjects of the simulation, but dots can **only** be created via a Group object.\n",
    "\n",
    "To create our group objects, we can pass a list of dictionaries to the `groups` parameter of Sim. The dictionaries correspond to the attributes of the group, which in turn correspond to the attributes of its constituent dots at initiation.\n"
   ]
  },
  {
   "cell_type": "markdown",
   "metadata": {},
   "source": [
    "To create a group, you need only provide two parameters:\n",
    "\n",
    "* `n`, population size of the group at initiation\n",
    "* `n_inf`, number of infected subjects in the group at initiation"
   ]
  },
  {
   "cell_type": "markdown",
   "metadata": {},
   "source": [
    "*If only one group is being provided, you can pass a dictionary. With multiple groups, pass an iterable of dicts.*"
   ]
  },
  {
   "cell_type": "markdown",
   "metadata": {},
   "source": [
    "```python\n",
    "params = {'square': 10, 'Ro': 2.5, 'days': 50, 'imndur': 365, 'infdur': 365}\n",
    "group = dict(n=2, n_inf=1)\n",
    "\n",
    "sim = Sim(groups=group, **params)\n",
    "sim.run()\n",
    "\n",
    "chart = Chart(\n",
    "    sim, figsize=(16,8), dot_size=2000, interval=200,\n",
    "    config='dots_only', show_intro=False\n",
    ")\n",
    "chart.animate.to_html5_video()\n",
    "```"
   ]
  },
  {
   "cell_type": "markdown",
   "metadata": {},
   "source": [
    "Below we see this structure creates a 10x10 Grid with two subjects, only one of which is infected at the outset."
   ]
  },
  {
   "cell_type": "code",
   "execution_count": 3,
   "metadata": {
    "nbsphinx": "hidden"
   },
   "outputs": [],
   "source": [
    "if RUN:\n",
    "    params = {'square': 10, 'Ro': 2.5, 'days': 50, 'imndur': 365, 'infdur': 365}\n",
    "    group = dict(n=2, n_inf=1)\n",
    "\n",
    "    sim = Sim(groups=group, **params)\n",
    "    sim.run()\n",
    "    chart = Chart(\n",
    "        sim, figsize=(16,8), dot_size=2000, interval=200,\n",
    "        config='dots_only', show_intro=False\n",
    "    )\n",
    "if SHOW_CHARTS:\n",
    "    HTML(chart.animate.to_html5_video())\n",
    "if SAVE_CHARTS:\n",
    "    chart.animate.save('vids/concepts/group1.mp4', writer=FFMpegWriter(fps=5))"
   ]
  },
  {
   "cell_type": "markdown",
   "metadata": {},
   "source": [
    "<video width='705' height='340' \n",
    "    src='https://storage.googleapis.com/rknotvids/keycons/group1.mp4' controls>alternative text</video>"
   ]
  },
  {
   "cell_type": "markdown",
   "metadata": {},
   "source": [
    "There are many other additional parameters and customizations that can provided:\n",
    "\n",
    "* `name`\n",
    "    * if not provided, Sim will create one, but it is highly recommended that you provide a name\n",
    "* `box` & `gates` \n",
    "    * see [Boxes and Gates](#Boxes-and-Gates)\n",
    "* `mover`\n",
    "    * function used to dictate a dot's movement ([see Mover Functions](#Mover-Functions))\n",
    "* `tmf`\n",
    "    * [*transmission factor*](intro.ipynb#Introduction), $T$, applied to each of the dots interactions.\n",
    "    * default: 1 \n",
    "* `susf`\n",
    "    * *susceptiblity factor*; the fraction of subjects in a group that will be made susceptible to the virus at initiation\n",
    "    * the inverse of `susf` ($1/{susf}$) is the number of subjects in a group that already have immunity.\n",
    "* `ifr`\n",
    "    * *infection fatality rate*; or the likelihood that an infection of a subject will be fatal"
   ]
  },
  {
   "cell_type": "markdown",
   "metadata": {},
   "source": [
    "These can again be passed as a dictionary of a single group: "
   ]
  },
  {
   "cell_type": "markdown",
   "metadata": {},
   "source": [
    "```python\n",
    "group = dict(name='main', n=2, n_inf=1, mover='local', tmf=1.25, susf=.75, ifr=0.005)\n",
    "\n",
    "sim = Sim(groups=group, **params)\n",
    "sim.run()\n",
    "\n",
    "chart = Chart(\n",
    "    sim, figsize=(16,8), dot_size=2000, interval=200, \n",
    "    config='dots_only', show_intro=False\n",
    ") \n",
    "chart.animate.to_html5_video()\n",
    "```"
   ]
  },
  {
   "cell_type": "code",
   "execution_count": 4,
   "metadata": {
    "nbsphinx": "hidden"
   },
   "outputs": [],
   "source": [
    "if RUN:\n",
    "    group = dict(name='main', n=2, n_inf=1, mover='local', tmf=1.25, susf=.75, ifr=0.005)\n",
    "\n",
    "    sim = Sim(groups=group, **params)\n",
    "    sim.run()\n",
    "\n",
    "    chart = Chart(\n",
    "        sim, figsize=(16,8), dot_size=2000, interval=200, \n",
    "        config='dots_only', show_intro=False\n",
    "    ) \n",
    "if SHOW_CHARTS:\n",
    "    HTML(chart.animate.to_html5_video())\n",
    "if SAVE_CHARTS:\n",
    "    chart.animate.save('vids/concepts/group2.mp4', writer=FFMpegWriter(fps=5))"
   ]
  },
  {
   "cell_type": "markdown",
   "metadata": {},
   "source": [
    "<video width='705' height='340' \n",
    "    src='https://storage.googleapis.com/rknotvids/keycons/group2.mp4' controls>alternative text</video>\n",
    "<br>"
   ]
  },
  {
   "cell_type": "markdown",
   "metadata": {},
   "source": [
    "Or as an iterable of dictionaries. Each group is assigned a unique marker in the animation."
   ]
  },
  {
   "cell_type": "markdown",
   "metadata": {},
   "source": [
    "```python\n",
    "group1 = dict(name='1', n=1, n_inf=1, mover='local', tmf=1.25, susf=.75, ifr=0.005)\n",
    "group2 = dict(name='1', n=1, n_inf=0, mover='equal', tmf=0.75, susf=0.95, ifr=0.05)\n",
    "groups = [group1, group2]\n",
    "\n",
    "sim = Sim(groups=groups, **params)\n",
    "sim.run()\n",
    "\n",
    "chart = Chart(\n",
    "    sim, figsize=(16,8), dot_size=2000, interval=200, \n",
    "    config='dots_only', show_intro=False\n",
    ")\n",
    "chart.animate.to_html5_video()\n",
    "```"
   ]
  },
  {
   "cell_type": "code",
   "execution_count": 5,
   "metadata": {
    "nbsphinx": "hidden"
   },
   "outputs": [],
   "source": [
    "if RUN:\n",
    "    group1 = dict(name='1', n=1, n_inf=1, mover='local', tmf=1.25, susf=.75, ifr=0.005)\n",
    "    group2 = dict(name='1', n=1, n_inf=0, mover='equal', tmf=0.75, susf=0.95, ifr=0.05)\n",
    "    groups = [group1, group2]\n",
    "\n",
    "    sim = Sim(groups=groups, **params)\n",
    "    sim.run()\n",
    "\n",
    "    chart = Chart(\n",
    "        sim, figsize=(16,8), dot_size=2000, interval=200, \n",
    "        config='dots_only', show_intro=False\n",
    "    )\n",
    "if SHOW_CHARTS:\n",
    "    HTML(chart.animate.to_html5_video())\n",
    "if SAVE_CHARTS:\n",
    "    chart.animate.save('vids/concepts/group3.mp4', writer=FFMpegWriter(fps=5))"
   ]
  },
  {
   "cell_type": "markdown",
   "metadata": {},
   "source": [
    "<video width='705' height='340' \n",
    "    src='https://storage.googleapis.com/rknotvids/keycons/group3.mp4' controls>alternative text</video>\n",
    "<br>"
   ]
  },
  {
   "cell_type": "markdown",
   "metadata": {},
   "source": [
    "___\n",
    "### The Grid ###\n",
    "\n",
    "All interactions in an RKnot simulation take place inside the Grid. The grid is a `Grid` object, which in turn is a sub-classed numpy array with some additional features.\n",
    "\n",
    "The Grid size can be determined by passing the `square` parameter or the `dlevel` parameter. Each `dlevel` corresponds to a certain density.\n",
    "\n",
    "Available `dlevel` options are:"
   ]
  },
  {
   "cell_type": "code",
   "execution_count": 6,
   "metadata": {
    "nbsphinx": "hidden"
   },
   "outputs": [],
   "source": [
    "from rknot import Sim"
   ]
  },
  {
   "cell_type": "code",
   "execution_count": 7,
   "metadata": {
    "hide_input": true
   },
   "outputs": [
    {
     "data": {
      "text/plain": [
       "{'low': 0.2, 'med': 1, 'high': 10}"
      ]
     },
     "execution_count": 7,
     "metadata": {},
     "output_type": "execute_result"
    }
   ],
   "source": [
    "Sim.DENSITIES"
   ]
  },
  {
   "cell_type": "markdown",
   "metadata": {},
   "source": [
    "If we set `dlevel=med`, the Grid will be set such that the density is 1 subject per location. For a group of 100 subjects, that will result in a 10x10 grid. We can see these attributes by passing `details=True`."
   ]
  },
  {
   "cell_type": "code",
   "execution_count": 8,
   "metadata": {},
   "outputs": [
    {
     "name": "stderr",
     "output_type": "stream",
     "text": [
      "2020-10-17 01:04:45,150\tINFO resource_spec.py:223 -- Starting Ray with 10.4 GiB memory available for workers and up to 5.22 GiB for objects. You can adjust these settings with ray.init(memory=<bytes>, object_store_memory=<bytes>).\n",
      "2020-10-17 01:04:45,622\tINFO services.py:1191 -- View the Ray dashboard at \u001b[1m\u001b[32mlocalhost:8265\u001b[39m\u001b[22m\n"
     ]
    },
    {
     "name": "stdout",
     "output_type": "stream",
     "text": [
      "---------------------------------------------------------------------------------\n",
      "|                                  SIM DETAILS                                  |\n",
      "|-------------------------------------------------------------------------------|\n",
      "|           boundary|      [ 1 10  1 10]|             n_locs|                100|\n",
      "|-------------------|-------------------|-------------------|-------------------|\n",
      "|                  n|                100|            density|                1.0|\n",
      "|-------------------|-------------------|-------------------|-------------------|\n",
      "|                ktr|               1.01|                   |                   |\n",
      "|-------------------|-------------------|-------------------|-------------------|\n"
     ]
    }
   ],
   "source": [
    "params = {'Ro': 2.5, 'days': 50, 'imndur': 365, 'infdur': 365}\n",
    "group = dict(name='main', n=100, n_inf=1)\n",
    "\n",
    "sim = Sim(groups=group, dlevel='med', details=True, **params)"
   ]
  },
  {
   "cell_type": "markdown",
   "metadata": {},
   "source": [
    "```python\n",
    "sim.run()\n",
    "\n",
    "chart = Chart(sim, figsize=(16,8), config='dots_only', show_intro=False)\n",
    "chart.animate.to_html5_video()\n",
    "```"
   ]
  },
  {
   "cell_type": "code",
   "execution_count": 9,
   "metadata": {
    "nbsphinx": "hidden"
   },
   "outputs": [],
   "source": [
    "if RUN:\n",
    "    sim.run()\n",
    "    chart = Chart(sim, figsize=(16,8), config='dots_only', show_intro=False)\n",
    "if SHOW_CHARTS:\n",
    "    HTML(chart.animate.to_html5_video())\n",
    "if SAVE_CHARTS:\n",
    "    chart.animate.save('vids/concepts/grid1.mp4', writer=FFMpegWriter(fps=10))"
   ]
  },
  {
   "cell_type": "markdown",
   "metadata": {},
   "source": [
    "<video width='705' height='340' \n",
    "    src='https://storage.googleapis.com/rknotvids/keycons/grid1.mp4' controls>alternative text</video>"
   ]
  },
  {
   "cell_type": "markdown",
   "metadata": {},
   "source": [
    "For smaller populations, the density level can only be approximated. RKnot defaults to rounding up to the nearest square value.\n",
    "\n",
    "Passing `dlevel='high'` on popuation of 1,020 subjects results in an 11x11 grid (121 locations or 8.42 subjects per location)."
   ]
  },
  {
   "cell_type": "code",
   "execution_count": 10,
   "metadata": {},
   "outputs": [
    {
     "name": "stdout",
     "output_type": "stream",
     "text": [
      "---------------------------------------------------------------------------------\n",
      "|                                  SIM DETAILS                                  |\n",
      "|-------------------------------------------------------------------------------|\n",
      "|           boundary|      [ 1 11  1 11]|             n_locs|                121|\n",
      "|-------------------|-------------------|-------------------|-------------------|\n",
      "|                  n|               1020|            density|  8.429752066115702|\n",
      "|-------------------|-------------------|-------------------|-------------------|\n",
      "|                ktr|                8.5|                   |                   |\n",
      "|-------------------|-------------------|-------------------|-------------------|\n"
     ]
    }
   ],
   "source": [
    "group1 = dict(name='1', n=1000, n_inf=1)\n",
    "group2 = dict(name='2', n=20, n_inf=20)\n",
    "groups = [group1, group2]\n",
    "\n",
    "sim = Sim(groups=groups, dlevel='high', details=True, **params)"
   ]
  },
  {
   "cell_type": "markdown",
   "metadata": {},
   "source": [
    "```python\n",
    "sim.run()\n",
    "\n",
    "chart = Chart(sim, figsize=(16,8), config='dots_only', show_intro=False)\n",
    "chart.animate.to_html5_video()\n",
    "```"
   ]
  },
  {
   "cell_type": "code",
   "execution_count": 11,
   "metadata": {
    "nbsphinx": "hidden"
   },
   "outputs": [],
   "source": [
    "if RUN:\n",
    "    sim.run()\n",
    "    chart = Chart(sim, figsize=(16,8), config='dots_only', show_intro=False)\n",
    "if SHOW_CHARTS:\n",
    "    HTML(chart.animate.to_html5_video())\n",
    "if SAVE_CHARTS:\n",
    "    chart.animate.save('vids/concepts/grid2.mp4', writer=FFMpegWriter(fps=10))"
   ]
  },
  {
   "cell_type": "markdown",
   "metadata": {},
   "source": [
    "<video width='705' height='340' \n",
    "    src='https://storage.googleapis.com/rknotvids/keycons/grid2.mp4' controls>alternative text</video>\n",
    "<br>"
   ]
  },
  {
   "cell_type": "markdown",
   "metadata": {},
   "source": [
    "___\n",
    "#### Mover Functions ####"
   ]
  },
  {
   "cell_type": "code",
   "execution_count": 12,
   "metadata": {
    "hide_input": true,
    "nbsphinx": "hidden"
   },
   "outputs": [],
   "source": [
    "from IPython.display import Markdown as md\n",
    "\n",
    "from rknot.space import MOVER_NAMES\n",
    "msg = \"When a subject changes locations, this is called a *move*. A move is \"\n",
    "msg += \"completed during a tick and \"\n",
    "msg += \"the movement of a subject on any tick is governed by its `mover` function. \"\n",
    "msg += \"Movers select a location according to a pre-defined probability distribution, \"\n",
    "msg += \"so the general movement pattern of a dot can be pre-determined, but any one movement \"\n",
    "msg += \"occurs randomly. \\n\\n\"\n",
    "msg += \"There are currently {} mover functions. \".format(len(MOVER_NAMES))\n",
    "msg += \"Their respective definitions, along with examples of their movement are provided below.\""
   ]
  },
  {
   "cell_type": "code",
   "execution_count": 13,
   "metadata": {
    "hide_input": true
   },
   "outputs": [
    {
     "data": {
      "text/markdown": [
       "When a subject changes locations, this is called a *move*. A move is completed during a tick and the movement of a subject on any tick is governed by its `mover` function. Movers select a location according to a pre-defined probability distribution, so the general movement pattern of a dot can be pre-determined, but any one movement occurs randomly. \n",
       "\n",
       "There are currently 5 mover functions. Their respective definitions, along with examples of their movement are provided below."
      ],
      "text/plain": [
       "<IPython.core.display.Markdown object>"
      ]
     },
     "execution_count": 13,
     "metadata": {},
     "output_type": "execute_result"
    }
   ],
   "source": [
    "md(msg)"
   ]
  },
  {
   "cell_type": "code",
   "execution_count": 14,
   "metadata": {
    "nbsphinx": "hidden"
   },
   "outputs": [],
   "source": [
    "### HIDDEN ###\n",
    "from rknot.space import MOVERS\n",
    "if SAVE_CHARTS:\n",
    "    for mover in MOVERS:\n",
    "        group1 = dict(name='1', n=1, n_inf=1, mover=mover.__name__)\n",
    "\n",
    "        sim = Sim(groups=group1, square=10, **params)\n",
    "        sim.run()\n",
    "\n",
    "        chart = Chart(sim, figsize=(16,8), dot_size=2000, config='dots_only', show_intro=False)\n",
    "        chart.animate.save('vids/concepts/{}.mp4'.format(mover.__name__), writer=FFMpegWriter(fps=10))"
   ]
  },
  {
   "cell_type": "code",
   "execution_count": 99,
   "metadata": {
    "nbsphinx": "hidden"
   },
   "outputs": [],
   "source": [
    "from rknot.space.movers import MOVER_DEFNS, MOVER_NAMES\n",
    "text = ''\n",
    "for i, mover in enumerate(MOVER_NAMES):\n",
    "    text += '**{}**'.format(mover.capitalize())\n",
    "    text += '\\n\\n*{}*\\n\\n'.format(MOVER_DEFNS[i])\n",
    "    text += '<video width=\"705\" height=\"340\" src=\"https://storage.googleapis.com/rknotvids/keycons/{}.mp4\" controls>alternative text</video>'.format(mover)\n",
    "    text += '<br></br>\\n\\n'\n",
    "    "
   ]
  },
  {
   "cell_type": "code",
   "execution_count": 100,
   "metadata": {
    "hide_input": true,
    "scrolled": false
   },
   "outputs": [
    {
     "data": {
      "text/markdown": [
       "**Equal**\n",
       "\n",
       "*The subject is equally likely to move to any location.*\n",
       "\n",
       "<video width=\"705\" height=\"340\" src=\"https://storage.googleapis.com/rknotvids/keycons/equal.mp4\" controls>alternative text</video><br></br>\n",
       "\n",
       "**Local**\n",
       "\n",
       "*The subject has a strong bias towards dots only in its immediate vicinity.*\n",
       "\n",
       "<video width=\"705\" height=\"340\" src=\"https://storage.googleapis.com/rknotvids/keycons/local.mp4\" controls>alternative text</video><br></br>\n",
       "\n",
       "**Traveller**\n",
       "\n",
       "*The subject commonly moves to locations far across the Grid.*\n",
       "\n",
       "<video width=\"705\" height=\"340\" src=\"https://storage.googleapis.com/rknotvids/keycons/traveller.mp4\" controls>alternative text</video><br></br>\n",
       "\n",
       "**Quarantine**\n",
       "\n",
       "*The subject has a strong bias towards not moving, with only some movement occuring.*\n",
       "\n",
       "<video width=\"705\" height=\"340\" src=\"https://storage.googleapis.com/rknotvids/keycons/quarantine.mp4\" controls>alternative text</video><br></br>\n",
       "\n",
       "**Social**\n",
       "\n",
       "*The subject moves mostly within its vicinty but also to other more medium distance location.*\n",
       "\n",
       "<video width=\"705\" height=\"340\" src=\"https://storage.googleapis.com/rknotvids/keycons/social.mp4\" controls>alternative text</video><br></br>\n",
       "\n"
      ],
      "text/plain": [
       "<IPython.core.display.Markdown object>"
      ]
     },
     "execution_count": 100,
     "metadata": {},
     "output_type": "execute_result"
    }
   ],
   "source": [
    "md(text)"
   ]
  },
  {
   "cell_type": "markdown",
   "metadata": {},
   "source": [
    "Movement can also be governed by [Boxes and Gates](#Boxes-and-Gates) or [Events](#Events).\n",
    " "
   ]
  },
  {
   "cell_type": "markdown",
   "metadata": {},
   "source": [
    "___\n",
    "### Boxes and Gates ###\n",
    "The movement of a subject across the Grid can be restricted by two concepts known as Boxes and Gates. These concepts are designed to mimick certain funcitonal or perceived boundaries between groups, such as international borders or closed-access communities like assisted-living facilities.\n",
    "\n",
    "The distinction between boxes and gates is simple:\n",
    "\n",
    "* Subjects *cannot* **exit** Boxes\n",
    "* Subjects *cannot* **enter** Gates"
   ]
  },
  {
   "cell_type": "markdown",
   "metadata": {},
   "source": [
    "___\n",
    "#### Boxes ####\n",
    "A box is a $m*n$ subset of locations within the Grid that a subject(s) cannot leave.\n",
    "\n",
    "The locations are specified by passing a four element iterable that specifies the coordinates of the \"four corners\" of the box according to [$x_0$, $x_1$, $y_0$, $y_1$]\n",
    "\n",
    "So passing:\n",
    "```python\n",
    "box = [2,6,3,9]\n",
    "```\n",
    "creates a box with four corners:\n",
    "```python\n",
    "(2,3)   (2,9)    (6,3)   (6,9)\n",
    "```"
   ]
  },
  {
   "cell_type": "code",
   "execution_count": 17,
   "metadata": {
    "nbsphinx": "hidden"
   },
   "outputs": [],
   "source": [
    "from rknot.space import Grid\n",
    "box = Grid([2,6,3,9], square=10)\n",
    "msg = \"and a total of {} locations.\".format(box.n_locs)"
   ]
  },
  {
   "cell_type": "code",
   "execution_count": 18,
   "metadata": {
    "hide_input": true
   },
   "outputs": [
    {
     "data": {
      "text/markdown": [
       "and a total of 35 locations."
      ],
      "text/plain": [
       "<IPython.core.display.Markdown object>"
      ]
     },
     "execution_count": 18,
     "metadata": {},
     "output_type": "execute_result"
    }
   ],
   "source": [
    "md(msg)"
   ]
  },
  {
   "cell_type": "markdown",
   "metadata": {},
   "source": [
    "Currently, a box *can only be specified* by passing the `box` parameter as group keyword. Every dot in the group is only able to move within the `box`, regardless of the size of the Grid."
   ]
  },
  {
   "cell_type": "markdown",
   "metadata": {},
   "source": [
    "```python\n",
    "group1 = dict(name='1', n=2, n_inf=1, box=[1,3,2,4])\n",
    "\n",
    "sim = Sim(groups=group1, square=10, **params)\n",
    "sim.run()\n",
    "\n",
    "chart = Chart(sim, figsize=(16,8), dot_size=2000, config='dots_only', show_intro=False)\n",
    "chart.animate.to_html5_video()\n",
    "```"
   ]
  },
  {
   "cell_type": "code",
   "execution_count": 19,
   "metadata": {
    "nbsphinx": "hidden"
   },
   "outputs": [],
   "source": [
    "if RUN:\n",
    "    group1 = dict(name='1', n=2, n_inf=1, box=[1,3,2,4])\n",
    "\n",
    "    sim = Sim(groups=group1, square=10, **params)    \n",
    "    sim.run()\n",
    "    \n",
    "    chart = Chart(sim, figsize=(16,8), dot_size=2000, config='dots_only', show_intro=False)\n",
    "if SHOW_CHARTS:\n",
    "    HTML(chart.animate.to_html5_video())\n",
    "if SAVE_CHARTS:\n",
    "    chart.animate.save('vids/concepts/boxes1.mp4', writer=FFMpegWriter(fps=10))"
   ]
  },
  {
   "cell_type": "markdown",
   "metadata": {},
   "source": [
    "<video width='705' height='340' \n",
    "    src='https://storage.googleapis.com/rknotvids/keycons/boxes1.mp4' controls>alternative text</video>"
   ]
  },
  {
   "cell_type": "markdown",
   "metadata": {},
   "source": [
    "A group can only have one box and each group can have its own box."
   ]
  },
  {
   "cell_type": "markdown",
   "metadata": {},
   "source": [
    "```python\n",
    "group1 = dict(name='1', n=2, n_inf=1, box=[1,3,2,4])\n",
    "group2 = dict(name='1', n=2, n_inf=0, box=[6,9,6,10])\n",
    "groups = [group1, group2]\n",
    "\n",
    "sim = Sim(groups=groups, square=10, **params)\n",
    "sim.run()\n",
    "\n",
    "chart = Chart(\n",
    "    sim, figsize=(16,8), dot_size=2000, config='dots_only', show_intro=False\n",
    ")\n",
    "chart.animate.to_html5_video()\n",
    "```"
   ]
  },
  {
   "cell_type": "code",
   "execution_count": 20,
   "metadata": {
    "nbsphinx": "hidden"
   },
   "outputs": [],
   "source": [
    "if RUN:\n",
    "    group1 = dict(name='1', n=2, n_inf=1, box=[1,3,2,4])\n",
    "    group2 = dict(name='1', n=2, n_inf=0, box=[6,9,6,10])\n",
    "    groups = [group1, group2]\n",
    "    \n",
    "    sim = Sim(groups=groups, square=10, **params)\n",
    "    sim.run()\n",
    "    chart = Chart(sim, figsize=(16,8), dot_size=2000, config='dots_only', show_intro=False)\n",
    "if SHOW_CHARTS:\n",
    "    HTML(chart.animate.to_html5_video())\n",
    "if SAVE_CHARTS:\n",
    "    chart.animate.save('vids/concepts/boxes2.mp4', writer=FFMpegWriter(fps=10))"
   ]
  },
  {
   "cell_type": "markdown",
   "metadata": {},
   "source": [
    "<video width='705' height='340' \n",
    "    src='https://storage.googleapis.com/rknotvids/keycons/boxes2.mp4' controls>alternative text</video>"
   ]
  },
  {
   "cell_type": "markdown",
   "metadata": {},
   "source": [
    "Remember that a box only restricts the subjects in that group from *leaving* the space. Other dots not assigned to that box can move into the space without restriction."
   ]
  },
  {
   "cell_type": "markdown",
   "metadata": {},
   "source": [
    "```python\n",
    "group1 = dict(name='1', n=5, n_inf=1, box=[1,3,1,3])\n",
    "group2 = dict(name='1', n=5, n_inf=0)\n",
    "groups = [group1, group2]\n",
    "\n",
    "sim = Sim(groups=groups, square=10, **params)\n",
    "sim.run()\n",
    "\n",
    "chart = Chart(sim, figsize=(16,8), dot_size=2000, config='dots_only', show_intro=False)\n",
    "chart.animate.to_html5_video()\n",
    "```"
   ]
  },
  {
   "cell_type": "code",
   "execution_count": 21,
   "metadata": {
    "nbsphinx": "hidden"
   },
   "outputs": [],
   "source": [
    "if RUN:\n",
    "    group1 = dict(name='1', n=5, n_inf=1, box=[1,3,1,3])\n",
    "    group2 = dict(name='1', n=5, n_inf=0)\n",
    "    groups = [group1, group2]\n",
    "\n",
    "    sim = Sim(groups=groups, square=10, **params)\n",
    "    sim.run()\n",
    "    chart = Chart(sim, figsize=(16,8), dot_size=2000, config='dots_only', show_intro=False)\n",
    "if SHOW_CHARTS:\n",
    "    HTML(chart.animate.to_html5_video())\n",
    "if SAVE_CHARTS:\n",
    "    chart.animate.save('vids/concepts/boxes3.mp4', writer=FFMpegWriter(fps=10))"
   ]
  },
  {
   "cell_type": "markdown",
   "metadata": {},
   "source": [
    "<video width='705' height='340' \n",
    "    src='https://storage.googleapis.com/rknotvids/keycons/boxes3.mp4' controls>alternative text</video>\n",
    "<br>"
   ]
  },
  {
   "cell_type": "markdown",
   "metadata": {},
   "source": [
    "___\n",
    "#### Gates ####\n",
    "Gates are the inverse of boxes. A gate is an area that subjects are cannot enter.\n",
    "\n",
    "Gates are a Gate object, which is a subclass of Grid, and they are created via the same 4 element iterable. For now, a gate can only be created by passing the `box_is_gated=True` flag as a keyword in a group dictionary.\n",
    "\n",
    "Using the previous example, we can see that `group2` dots can no longer enter the `group1` box."
   ]
  },
  {
   "cell_type": "markdown",
   "metadata": {},
   "source": [
    "```python\n",
    "group1 = dict(name='1', n=5, n_inf=1, box=[1,3,1,3], box_is_gated=True)\n",
    "group2 = dict(name='1', n=5, n_inf=0)\n",
    "groups = [group1, group2]\n",
    "\n",
    "sim = Sim(groups=groups, square=10, **params)\n",
    "sim.run()\n",
    "\n",
    "chart = Chart(\n",
    "    sim, figsize=(16,8), dot_size=2000, config='dots_only', show_intro=False\n",
    ")\n",
    "chart.animate.to_html5_video()\n",
    "```"
   ]
  },
  {
   "cell_type": "code",
   "execution_count": 22,
   "metadata": {
    "nbsphinx": "hidden"
   },
   "outputs": [],
   "source": [
    "if RUN:\n",
    "    group1 = dict(name='1', n=5, n_inf=1, box=[1,3,1,3], box_is_gated=True)\n",
    "    group2 = dict(name='1', n=5, n_inf=0)\n",
    "    groups = [group1, group2]\n",
    "\n",
    "    sim = Sim(groups=groups, square=10, **params)\n",
    "    sim.run()\n",
    "    chart = Chart(\n",
    "        sim, figsize=(16,8), dot_size=2000, config='dots_only', show_intro=False\n",
    "    )\n",
    "if SHOW_CHARTS:\n",
    "    HTML(chart.animate.to_html5_video())\n",
    "if SAVE_CHARTS:\n",
    "    chart.animate.save('vids/concepts/gates1.mp4', writer=FFMpegWriter(fps=10))"
   ]
  },
  {
   "cell_type": "markdown",
   "metadata": {},
   "source": [
    "<video width='705' height='340' \n",
    "    src='https://storage.googleapis.com/rknotvids/keycons/gates1.mp4' controls>alternative text</video>"
   ]
  },
  {
   "cell_type": "markdown",
   "metadata": {},
   "source": [
    "This structure can lead to some intricate movement patterns. Here we show isolated groups:"
   ]
  },
  {
   "cell_type": "markdown",
   "metadata": {},
   "source": [
    "```python\n",
    "group1 = dict(name='1', n=50, n_inf=5, box=[1,5,1,20], box_is_gated=True)\n",
    "group2 = dict(name='2', n=50, n_inf=5, box=[6,25,3,10], box_is_gated=True)\n",
    "group3 = dict(name='3', n=50, n_inf=5, box=[10,21,16,22], box_is_gated=True)\n",
    "group4 = dict(name='4', n=50, n_inf=5, box=[2,15,23,25], box_is_gated=True)\n",
    "groups = [group1, group2, group3, group4]\n",
    "\n",
    "sim = Sim(groups=groups, square=25, **params)\n",
    "sim.run()\n",
    "\n",
    "chart = Chart(sim, figsize=(16,8), config='dots_only', show_intro=False)\n",
    "chart.animate.to_html5_video()\n",
    "```"
   ]
  },
  {
   "cell_type": "code",
   "execution_count": 23,
   "metadata": {
    "nbsphinx": "hidden"
   },
   "outputs": [],
   "source": [
    "if RUN:\n",
    "    group1 = dict(name='1', n=50, n_inf=5, box=[1,5,1,20], box_is_gated=True)\n",
    "    group2 = dict(name='2', n=50, n_inf=5, box=[6,25,3,10], box_is_gated=True)\n",
    "    group3 = dict(name='3', n=50, n_inf=5, box=[10,21,16,22], box_is_gated=True)\n",
    "    group4 = dict(name='4', n=50, n_inf=5, box=[2,15,23,25], box_is_gated=True)\n",
    "    groups = [group1, group2, group3, group4]\n",
    "\n",
    "    sim = Sim(groups=groups, square=25, **params)\n",
    "    sim.run()\n",
    "    chart = Chart(sim, figsize=(16,8), dot_size=200, config='dots_only', show_intro=False)\n",
    "if SHOW_CHARTS:\n",
    "    HTML(chart.animate.to_html5_video())\n",
    "if SAVE_CHARTS:\n",
    "    chart.animate.save('vids/concepts/gates2.mp4', writer=FFMpegWriter(fps=10))"
   ]
  },
  {
   "cell_type": "markdown",
   "metadata": {},
   "source": [
    "<video width='705' height='340' \n",
    "    src='https://storage.googleapis.com/rknotvids/keycons/gates2.mp4' controls>alternative text</video>"
   ]
  },
  {
   "cell_type": "markdown",
   "metadata": {},
   "source": [
    "And here some isolated and some free moving."
   ]
  },
  {
   "cell_type": "markdown",
   "metadata": {},
   "source": [
    "```python\n",
    "group1 = dict(name='1', n=50, n_inf=5, box=[1,5,1,5], box_is_gated=True)\n",
    "group2 = dict(name='2', n=50, n_inf=5, box=[14,19,14,19], box_is_gated=True)\n",
    "group3 = dict(name='4', n=10, n_inf=5)\n",
    "group4 = dict(name='4', n=10, n_inf=5)\n",
    "groups = [group1, group2, group3, group4]\n",
    "\n",
    "sim = Sim(groups=groups, square=25, **params)\n",
    "sim.run()\n",
    "\n",
    "chart = Chart(sim, figsize=(16,8), config='dots_only', show_intro=False)\n",
    "chart.animate.to_html5_video()\n",
    "```"
   ]
  },
  {
   "cell_type": "code",
   "execution_count": 24,
   "metadata": {
    "nbsphinx": "hidden"
   },
   "outputs": [],
   "source": [
    "if RUN:\n",
    "    group1 = dict(name='1', n=50, n_inf=5, box=[1,5,1,5], box_is_gated=True)\n",
    "    group2 = dict(name='2', n=50, n_inf=5, box=[14,19,14,19], box_is_gated=True)\n",
    "    group3 = dict(name='4', n=10, n_inf=5)\n",
    "    group4 = dict(name='4', n=10, n_inf=5)\n",
    "    groups = [group1, group2, group3, group4]\n",
    "\n",
    "    sim = Sim(groups=groups, square=25, **params)\n",
    "    sim.run()\n",
    "    chart = Chart(sim, figsize=(16,8), config='dots_only', show_intro=False)\n",
    "if SHOW_CHARTS:\n",
    "    HTML(chart.animate.to_html5_video())\n",
    "if SAVE_CHARTS:\n",
    "    chart.animate.save('vids/concepts/gates3.mp4', writer=FFMpegWriter(fps=10))"
   ]
  },
  {
   "cell_type": "markdown",
   "metadata": {},
   "source": [
    "<video width='705' height='340' \n",
    "    src='https://storage.googleapis.com/rknotvids/keycons/gates3.mp4' controls>alternative text</video>\n",
    "<br>"
   ]
  },
  {
   "cell_type": "markdown",
   "metadata": {},
   "source": [
    "___\n",
    "### Events ###\n",
    "Events impact the attributes of subjects over the course of the simulation.\n",
    "\n",
    "Events are utilized to better simulate real-world behavior. \n",
    "\n",
    "For instance, people do not move in consistent, prescribed ways. They move in regular ways most of the time with contacts that are well defined, but sometimes they attend events (perhaps periodically or uniquely) that are not governed by their regular movement patterns."
   ]
  },
  {
   "cell_type": "markdown",
   "metadata": {},
   "source": [
    "#### Event ####\n",
    "An `Event` is an event that occurs at a particular location.\n",
    "\n",
    "An `Event` accepts the following parameters:\n",
    "\n",
    "* `xy`, the xy coordinates of the location\n",
    "* `start_tick`, the tick when the event begins\n",
    "* `groups`, an iterable of group ids that are eligible for the event\n",
    "* `capacity`, the number of subjects that should attend\n",
    "* `recurring`, how often the event recurs (i.e. every *nth* tick); if set to 0, the event does *not* recur\n",
    "\n",
    "When an `Event` concludes, the subject returns to its `home` location as specified in the dot matrix.\n",
    "\n",
    "To schedule an event, you must pass a list of event objects to the `events` parameter.\n",
    "\n",
    "To begin with, we'll create a single `Event` object, called `show`, that occurs once on day 5."
   ]
  },
  {
   "cell_type": "markdown",
   "metadata": {},
   "source": [
    "```python\n",
    "from rknot.events import Event\n",
    "\n",
    "params = {'square': 10, 'Ro': 2.5, 'days': 50, 'imndur': 365, 'infdur': 365}\n",
    "group1 = dict(name='1', n=10, n_inf=5)\n",
    "\n",
    "show = Event(name='show', xy=(5,5), start_tick=5, groups=[0], capacity=10)\n",
    "events = [show]\n",
    "\n",
    "sim = Sim(groups=group1, events=events, **params)\n",
    "sim.run(dotlog=True)\n",
    "\n",
    "chart = Chart(sim, figsize=(16,8), config='dots_only', show_intro=False)\n",
    "chart.animate.to_html5_video()\n",
    "```"
   ]
  },
  {
   "cell_type": "code",
   "execution_count": 29,
   "metadata": {
    "nbsphinx": "hidden"
   },
   "outputs": [
    {
     "data": {
      "application/vnd.jupyter.widget-view+json": {
       "model_id": "c40ddfe406d84a37b12736f54c1c8445",
       "version_major": 2,
       "version_minor": 0
      },
      "text/plain": [
       "HBox(children=(FloatProgress(value=0.0, max=50.0), HTML(value='')))"
      ]
     },
     "metadata": {},
     "output_type": "display_data"
    },
    {
     "ename": "NameError",
     "evalue": "name 'Chart' is not defined",
     "output_type": "error",
     "traceback": [
      "\u001b[0;31m---------------------------------------------------------------------------\u001b[0m",
      "\u001b[0;31mNameError\u001b[0m                                 Traceback (most recent call last)",
      "\u001b[0;32m<ipython-input-29-31576353a828>\u001b[0m in \u001b[0;36m<module>\u001b[0;34m\u001b[0m\n\u001b[1;32m     10\u001b[0m     \u001b[0msim\u001b[0m \u001b[0;34m=\u001b[0m \u001b[0mSim\u001b[0m\u001b[0;34m(\u001b[0m\u001b[0mgroups\u001b[0m\u001b[0;34m=\u001b[0m\u001b[0mgroup1\u001b[0m\u001b[0;34m,\u001b[0m \u001b[0mevents\u001b[0m\u001b[0;34m=\u001b[0m\u001b[0mevents\u001b[0m\u001b[0;34m,\u001b[0m \u001b[0;34m**\u001b[0m\u001b[0mparams\u001b[0m\u001b[0;34m)\u001b[0m\u001b[0;34m\u001b[0m\u001b[0;34m\u001b[0m\u001b[0m\n\u001b[1;32m     11\u001b[0m     \u001b[0msim\u001b[0m\u001b[0;34m.\u001b[0m\u001b[0mrun\u001b[0m\u001b[0;34m(\u001b[0m\u001b[0mdotlog\u001b[0m\u001b[0;34m=\u001b[0m\u001b[0;32mTrue\u001b[0m\u001b[0;34m)\u001b[0m\u001b[0;34m\u001b[0m\u001b[0;34m\u001b[0m\u001b[0m\n\u001b[0;32m---> 12\u001b[0;31m     \u001b[0mchart\u001b[0m \u001b[0;34m=\u001b[0m \u001b[0mChart\u001b[0m\u001b[0;34m(\u001b[0m\u001b[0msim\u001b[0m\u001b[0;34m,\u001b[0m \u001b[0mfigsize\u001b[0m\u001b[0;34m=\u001b[0m\u001b[0;34m(\u001b[0m\u001b[0;36m16\u001b[0m\u001b[0;34m,\u001b[0m\u001b[0;36m8\u001b[0m\u001b[0;34m)\u001b[0m\u001b[0;34m,\u001b[0m \u001b[0mconfig\u001b[0m\u001b[0;34m=\u001b[0m\u001b[0;34m'dots_only'\u001b[0m\u001b[0;34m,\u001b[0m \u001b[0mshow_intro\u001b[0m\u001b[0;34m=\u001b[0m\u001b[0;32mFalse\u001b[0m\u001b[0;34m)\u001b[0m\u001b[0;34m\u001b[0m\u001b[0;34m\u001b[0m\u001b[0m\n\u001b[0m\u001b[1;32m     13\u001b[0m \u001b[0;32mif\u001b[0m \u001b[0mSHOW_CHARTS\u001b[0m\u001b[0;34m:\u001b[0m\u001b[0;34m\u001b[0m\u001b[0;34m\u001b[0m\u001b[0m\n\u001b[1;32m     14\u001b[0m     \u001b[0mHTML\u001b[0m\u001b[0;34m(\u001b[0m\u001b[0mchart\u001b[0m\u001b[0;34m.\u001b[0m\u001b[0manimate\u001b[0m\u001b[0;34m.\u001b[0m\u001b[0mto_html5_video\u001b[0m\u001b[0;34m(\u001b[0m\u001b[0;34m)\u001b[0m\u001b[0;34m)\u001b[0m\u001b[0;34m\u001b[0m\u001b[0;34m\u001b[0m\u001b[0m\n",
      "\u001b[0;31mNameError\u001b[0m: name 'Chart' is not defined"
     ]
    }
   ],
   "source": [
    "if Run:\n",
    "    from rknot.events import Event\n",
    "\n",
    "    params = {'square': 10, 'Ro': 2.5, 'days': 50, 'imndur': 365, 'infdur': 365}\n",
    "    group1 = dict(name='1', n=10, n_inf=5)\n",
    "\n",
    "    show = Event(name='show', xy=(5,5), start_tick=5, groups=[0], capacity=10)\n",
    "    events = [show]\n",
    "\n",
    "    sim = Sim(groups=group1, events=events, **params)\n",
    "    sim.run(dotlog=True)\n",
    "    chart = Chart(sim, figsize=(16,8), config='dots_only', show_intro=False)\n",
    "if SHOW_CHARTS:\n",
    "    HTML(chart.animate.to_html5_video())\n",
    "if SAVE_CHARTS:\n",
    "    chart.animate.save('vids/concepts/event1.mp4', writer=FFMpegWriter(fps=5))"
   ]
  },
  {
   "cell_type": "markdown",
   "metadata": {},
   "source": [
    "<video width='705' height='340' \n",
    "    src='https://storage.googleapis.com/rknotvids/keycons/event1.mp4' controls>alternative text</video>"
   ]
  },
  {
   "cell_type": "markdown",
   "metadata": {},
   "source": [
    "If you look closely at the animation on frame 6, you'll see that all the dots seemingly disappear, save for one, at location 5,5. \n",
    "\n",
    "In fact, all 10 dots are *actually at that location at the same time*.\n",
    "\n",
    "We can confirm this by inspecting the [Dot Matrix](#) on that day via the `dotlog` attribute."
   ]
  },
  {
   "cell_type": "code",
   "execution_count": 30,
   "metadata": {},
   "outputs": [
    {
     "data": {
      "text/plain": [
       "array([[5, 5],\n",
       "       [5, 5],\n",
       "       [5, 5],\n",
       "       [5, 5],\n",
       "       [5, 5],\n",
       "       [5, 5],\n",
       "       [5, 5],\n",
       "       [5, 5],\n",
       "       [5, 5],\n",
       "       [5, 5]])"
      ]
     },
     "execution_count": 30,
     "metadata": {},
     "output_type": "execute_result"
    }
   ],
   "source": [
    "from rknot.dots import MATRIX_COL_LABELS as ML\n",
    "sim.dotlog[5][:, ML['x']:ML['y']+1]"
   ]
  },
  {
   "cell_type": "markdown",
   "metadata": {},
   "source": [
    "We can see the event more clearly if we extend the duration to 10 days. We also significantly reduced the frame rate."
   ]
  },
  {
   "cell_type": "markdown",
   "metadata": {},
   "source": [
    "```python\n",
    "show = Event(name='show', xy=(5,5), start_tick=5, groups=[0], capacity=10, duration=10)\n",
    "events = [show]\n",
    "\n",
    "sim = Sim(groups=group1, events=events, **params)\n",
    "sim.run()\n",
    "\n",
    "chart = Chart(\n",
    "    sim, figsize=(16,8), dot_size=1000, interval=300, \n",
    "    config='dots_only', show_intro=False\n",
    ")\n",
    "```"
   ]
  },
  {
   "cell_type": "code",
   "execution_count": 31,
   "metadata": {
    "nbsphinx": "hidden"
   },
   "outputs": [],
   "source": [
    "if RUN:\n",
    "    show = Event(name='show', xy=(5,5), start_tick=5, groups=[0], capacity=10, duration=10)\n",
    "    events = [show]\n",
    "\n",
    "    sim = Sim(groups=group1, events=events, **params)\n",
    "    sim.run()\n",
    "    chart = Chart(\n",
    "        sim, figsize=(16,8), dot_size=1000, interval=300, \n",
    "        config='dots_only', show_intro=False\n",
    "    )\n",
    "if SHOW_CHARTS:\n",
    "    HTML(chart.animate.to_html5_video())\n",
    "if SAVE_CHARTS:\n",
    "    chart.animate.save('vids/concepts/event2.mp4', writer=FFMpegWriter(fps=2.5))"
   ]
  },
  {
   "cell_type": "markdown",
   "metadata": {},
   "source": [
    "<video width='705' height='340' \n",
    "    src='https://storage.googleapis.com/rknotvids/keycons/event2.mp4' controls>alternative text</video>"
   ]
  },
  {
   "cell_type": "markdown",
   "metadata": {},
   "source": [
    "Many event objects can be specified at once, in various combinations of groups."
   ]
  },
  {
   "cell_type": "markdown",
   "metadata": {},
   "source": [
    "```python\n",
    "group1 = dict(name='1', n=10, n_inf=5)\n",
    "group2 = dict(name='2', n=10, n_inf=0)\n",
    "\n",
    "show = Event(name='show', xy=(5,5), start_tick=5, groups=[0,1], capacity=5, recurring=30)\n",
    "game = Event(name='game', xy=(1,1), start_tick=5, groups=[0], capacity=5, recurring=14)\n",
    "church = Event(name='church', xy=(1,1), start_tick=5, groups=[1], capacity=10, recurring=7)\n",
    "\n",
    "groups = [group1, group2]\n",
    "events = [show, game, church]\n",
    "\n",
    "sim = Sim(groups=groups, events=events, **params)\n",
    "sim.run()\n",
    "\n",
    "chart = Chart(\n",
    "    sim, interval=300, dot_size=1000, config='no_details', show_intro=False\n",
    ")\n",
    "chart.animate.to_html5_video()\n",
    "```"
   ]
  },
  {
   "cell_type": "code",
   "execution_count": 32,
   "metadata": {
    "nbsphinx": "hidden"
   },
   "outputs": [],
   "source": [
    "if RUN:\n",
    "    group1 = dict(name='1', n=10, n_inf=5)\n",
    "    group2 = dict(name='2', n=10, n_inf=0)\n",
    "\n",
    "    show = Event(name='show', xy=(5,5), start_tick=5, groups=[0,1], capacity=5, recurring=30)\n",
    "    game = Event(name='game', xy=(1,1), start_tick=5, groups=[0], capacity=5, recurring=14)\n",
    "    church = Event(name='church', xy=(1,1), start_tick=5, groups=[1], capacity=10, recurring=7)\n",
    "\n",
    "    groups = [group1, group2]\n",
    "    events = [show, game, church]\n",
    "\n",
    "    sim = Sim(groups=groups, events=events, **params)\n",
    "    sim.run()\n",
    "    chart = Chart(\n",
    "        sim, interval=300, dot_size=1000, config='no_details', show_intro=False\n",
    "    )\n",
    "if SHOW_CHARTS:\n",
    "    HTML(chart.animate.to_html5_video())\n",
    "if SAVE_CHARTS:\n",
    "    chart.animate.save('vids/concepts/event3.mp4', writer=FFMpegWriter(fps=5))"
   ]
  },
  {
   "cell_type": "markdown",
   "metadata": {},
   "source": [
    "<video width='705' height='340' \n",
    "    src='https://storage.googleapis.com/rknotvids/keycons/event3.mp4' controls>alternative text</video>\n",
    "<br>"
   ]
  },
  {
   "cell_type": "markdown",
   "metadata": {},
   "source": [
    "___\n",
    "#### Travel ####\n",
    "Travel is a special type of event that allows a subject to enter a gate.\n",
    "\n",
    "When a dot enters a gate via a Travel object, its box and gate attributes are temporarily adjusted to match those of the groups within the gate. The attributes revert when the event ends (determined by `duration` parameter).\n",
    "\n",
    "Once inside the gate, the dot(s) are free to interact with other dots normally."
   ]
  },
  {
   "cell_type": "markdown",
   "metadata": {},
   "source": [
    "```python\n",
    "from rknot.events import Travel\n",
    "\n",
    "params = {'square': 10, 'Ro': 2.5, 'days': 50, 'imndur': 365, 'infdur': 365}\n",
    "\n",
    "group1 = dict(name='1', n=1, n_inf=1, box=[1,5,1,5], box_is_gated=True)\n",
    "group2 = dict(name='2', n=10, n_inf=0, box=[6,10,6,10], box_is_gated=True)\n",
    "\n",
    "visit = Travel(\n",
    "    name='visit', xy=[1,1], start_tick=3, groups=[1], capacity=1, duration=5, recurring=10\n",
    ")\n",
    "\n",
    "groups = [group1, group2]\n",
    "events = [visit]\n",
    "\n",
    "sim = Sim(groups=groups, events=events, **params)\n",
    "sim.run()\n",
    "\n",
    "chart = Chart(\n",
    "    sim, interval=200, dot_size=2000, config='no_details', show_intro=False\n",
    ")\n",
    "chart.animate.to_html5_video()\n",
    "```"
   ]
  },
  {
   "cell_type": "code",
   "execution_count": 33,
   "metadata": {
    "nbsphinx": "hidden"
   },
   "outputs": [],
   "source": [
    "if RUN:\n",
    "    from rknot.events import Travel\n",
    "\n",
    "    params = {'square': 10, 'Ro': 2.5, 'days': 50, 'imndur': 365, 'infdur': 365}\n",
    "\n",
    "    group1 = dict(name='1', n=1, n_inf=1, box=[1,5,1,5], box_is_gated=True)\n",
    "    group2 = dict(name='2', n=10, n_inf=0, box=[6,10,6,10], box_is_gated=True)\n",
    "\n",
    "    visit = Travel(\n",
    "        name='visit', xy=[1,1], start_tick=3, groups=[1], capacity=1, duration=5, recurring=10\n",
    "    )\n",
    "\n",
    "    groups = [group1, group2]\n",
    "    events = [visit]\n",
    "\n",
    "    sim = Sim(groups=groups, events=events, **params)\n",
    "    sim.run()\n",
    "    chart = Chart(\n",
    "        sim, interval=200, dot_size=2000, config='no_details', show_intro=False\n",
    "    )\n",
    "if SHOW_CHARTS:\n",
    "    HTML(chart.animate.to_html5_video())\n",
    "if SAVE_CHARTS:\n",
    "    chart.animate.save('vids/concepts/travel1.mp4', writer=FFMpegWriter(fps=5))"
   ]
  },
  {
   "cell_type": "markdown",
   "metadata": {},
   "source": [
    "<video width='705' height='340' \n",
    "    src='https://storage.googleapis.com/rknotvids/keycons/travel1.mp4' controls>alternative text</video>"
   ]
  },
  {
   "cell_type": "markdown",
   "metadata": {},
   "source": [
    "Many unique configurations can be achieved with this structure. Below, the `group1` box will be vacated by the solitary `group1` dot (essentially switching places with a dot from `group2`)."
   ]
  },
  {
   "cell_type": "markdown",
   "metadata": {},
   "source": [
    "```python\n",
    "from rknot.events import Travel\n",
    "\n",
    "params = {'square': 10, 'Ro': 2.5, 'days': 50, 'imndur': 365, 'infdur': 365}\n",
    "\n",
    "group1 = dict(name='1', n=1, n_inf=1, box=[1,5,1,5], box_is_gated=True)\n",
    "group2 = dict(name='2', n=10, n_inf=0, box=[6,10,6,10], box_is_gated=True)\n",
    "\n",
    "visit2 = Travel(\n",
    "    name='visit2', xy=[9,9], start_tick=3, groups=[0], capacity=1, duration=5, recurring=10\n",
    ")\n",
    "visit1 = Travel(\n",
    "    name='visit1', xy=[1,1], start_tick=3, groups=[1], capacity=1, duration=5, recurring=10\n",
    ")\n",
    "groups = [group1, group2]\n",
    "events = [visit2, visit1]\n",
    "\n",
    "sim = Sim(groups=groups, events=events, **params)\n",
    "sim.run()\n",
    "\n",
    "chart = Chart(\n",
    "    sim, interval=200, dot_size=2000, config='no_details', show_intro=False\n",
    ")\n",
    "chart.animate.to_html5_video()\n",
    "```"
   ]
  },
  {
   "cell_type": "code",
   "execution_count": 34,
   "metadata": {
    "nbsphinx": "hidden"
   },
   "outputs": [],
   "source": [
    "if RUN:\n",
    "    from rknot.events import Travel\n",
    "\n",
    "    params = {'square': 10, 'Ro': 2.5, 'days': 50, 'imndur': 365, 'infdur': 365}\n",
    "\n",
    "    group1 = dict(name='1', n=1, n_inf=1, box=[1,5,1,5], box_is_gated=True)\n",
    "    group2 = dict(name='2', n=10, n_inf=0, box=[6,10,6,10], box_is_gated=True)\n",
    "\n",
    "    visit2 = Travel(\n",
    "        name='visit2', xy=[9,9], start_tick=3, groups=[0], capacity=1, duration=5, recurring=10\n",
    "    )\n",
    "    visit1 = Travel(\n",
    "        name='visit1', xy=[1,1], start_tick=3, groups=[1], capacity=1, duration=5, recurring=10\n",
    "    )\n",
    "    groups = [group1, group2]\n",
    "    events = [visit2, visit1]\n",
    "\n",
    "    sim = Sim(groups=groups, events=events, **params)\n",
    "    sim.run()\n",
    "    chart = Chart(\n",
    "        sim, interval=200, dot_size=2000, config='no_details', show_intro=False\n",
    "    )\n",
    "if SHOW_CHARTS:\n",
    "    HTML(chart.animate.to_html5_video())\n",
    "if SAVE_CHARTS:\n",
    "    chart.animate.save('vids/concepts/travel2.mp4', writer=FFMpegWriter(fps=5))"
   ]
  },
  {
   "cell_type": "markdown",
   "metadata": {},
   "source": [
    "<video width='705' height='340' \n",
    "    src='https://storage.googleapis.com/rknotvids/keycons/travel2.mp4' controls>alternative text</video>\n",
    "<br>"
   ]
  },
  {
   "cell_type": "markdown",
   "metadata": {},
   "source": [
    "___\n",
    "#### Quarantine ###\n",
    "\n",
    "A quarantine is an event object that makes several changes to a dots state\n",
    "in order to restrict its movement.\n",
    "\n",
    "When a dot is quarantined,\n",
    "    \n",
    "1. it goes back to its home location ([see Dot Matrix](#Dot-Matrix))\n",
    "2. its boxes and gates are reset to match its group\n",
    "3. its mover function is changed to 'quarantine'\n",
    "\n",
    "In addition, a Quarantine object will create a additional restriction objects that disallow events during the quarantine ([see Restrictions below](#Restrictions))"
   ]
  },
  {
   "cell_type": "markdown",
   "metadata": {},
   "source": [
    "```python\n",
    "from rknot.events import Quarantine\n",
    "\n",
    "params = {'square': 10, 'Ro': 2.5, 'days': 50, 'imndur': 365, 'infdur': 365}\n",
    "\n",
    "group1 = dict(name='1', n=2, n_inf=1, box=[1,5,1,5], box_is_gated=True)\n",
    "group2 = dict(name='2', n=2, n_inf=0, box=[6,10,6,10], box_is_gated=True)\n",
    "\n",
    "quar = Quarantine(name='all', start_tick=5, groups=[0,1], duration=30)\n",
    "\n",
    "groups = [group1, group2]\n",
    "events = [quar]\n",
    "\n",
    "sim = Sim(groups=groups, events=events, **params)\n",
    "sim.run()\n",
    "\n",
    "chart = Chart(\n",
    "    sim, interval=200, dot_size=2000, config='no_details', show_intro=False\n",
    ")\n",
    "chart.animate.to_html5_video()\n",
    "```"
   ]
  },
  {
   "cell_type": "code",
   "execution_count": 35,
   "metadata": {
    "nbsphinx": "hidden"
   },
   "outputs": [],
   "source": [
    "if RUN:\n",
    "    from rknot.events import Quarantine\n",
    "\n",
    "    params = {'square': 10, 'Ro': 2.5, 'days': 50, 'imndur': 365, 'infdur': 365}\n",
    "\n",
    "    group1 = dict(name='1', n=2, n_inf=1, box=[1,5,1,5], box_is_gated=True)\n",
    "    group2 = dict(name='2', n=2, n_inf=0, box=[6,10,6,10], box_is_gated=True)\n",
    "\n",
    "    quar = Quarantine(name='all', start_tick=5, groups=[0,1], duration=30)\n",
    "\n",
    "    groups = [group1, group2]\n",
    "    events = [quar]\n",
    "\n",
    "    sim = Sim(groups=groups, events=events, **params)\n",
    "    sim.run()\n",
    "    chart = Chart(\n",
    "        sim, interval=200, dot_size=2000, config='no_details', show_intro=False\n",
    "    )\n",
    "if SHOW_CHARTS:\n",
    "    HTML(chart.animate.to_html5_video())\n",
    "if SAVE_CHARTS:\n",
    "    chart.animate.save('vids/concepts/quar1.mp4', writer=FFMpegWriter(fps=5))"
   ]
  },
  {
   "cell_type": "markdown",
   "metadata": {},
   "source": [
    "<video width='705' height='340' \n",
    "    src='https://storage.googleapis.com/rknotvids/keycons/quar1.mp4' controls>alternative text</video>"
   ]
  },
  {
   "cell_type": "markdown",
   "metadata": {},
   "source": [
    "We can see from above that once in quaratine, the subjects barely move. We can include events in our structure. The events will be restricted during the quarantine period, then will resume when the quarantine ends."
   ]
  },
  {
   "cell_type": "markdown",
   "metadata": {},
   "source": [
    "```python\n",
    "params = {'square': 10, 'Ro': 2.5, 'days': 100, 'imndur': 365, 'infdur': 365}\n",
    "\n",
    "group1 = dict(name='1', n=1, n_inf=1, box=[1,5,1,5], box_is_gated=True)\n",
    "group2 = dict(name='2', n=10, n_inf=0, box=[6,10,6,10], box_is_gated=True)\n",
    "\n",
    "show = Event(name='show', xy=(6,6), start_tick=5, groups=[1], capacity=5, recurring=30)\n",
    "visit2 = Travel(\n",
    "    name='visit2', xy=[9,9], start_tick=3, groups=[0], capacity=1, duration=5, recurring=10\n",
    ")\n",
    "visit1 = Travel(\n",
    "    name='visit1', xy=[1,1], start_tick=3, groups=[1], capacity=1, duration=5, recurring=10\n",
    ")\n",
    "\n",
    "groups = [group1, group2]\n",
    "events = [show, visit2, visit1, quar]\n",
    "\n",
    "sim = Sim(groups=groups, events=events, **params)\n",
    "sim.run()\n",
    "\n",
    "chart = Chart(\n",
    "    sim, interval=200, dot_size=2000, config='no_details', show_intro=False\n",
    ")\n",
    "chart.animate.to_html5_video()\n",
    "```"
   ]
  },
  {
   "cell_type": "code",
   "execution_count": 36,
   "metadata": {
    "nbsphinx": "hidden"
   },
   "outputs": [
    {
     "name": "stdout",
     "output_type": "stream",
     "text": [
      "\n"
     ]
    }
   ],
   "source": [
    "if RUN:\n",
    "    params = {'square': 10, 'Ro': 2.5, 'days': 100, 'imndur': 365, 'infdur': 365}\n",
    "\n",
    "    group1 = dict(name='1', n=1, n_inf=1, box=[1,5,1,5], box_is_gated=True)\n",
    "    group2 = dict(name='2', n=10, n_inf=0, box=[6,10,6,10], box_is_gated=True)\n",
    "\n",
    "    show = Event(name='show', xy=(6,6), start_tick=5, groups=[1], capacity=5, recurring=30)\n",
    "    visit2 = Travel(\n",
    "        name='visit2', xy=[9,9], start_tick=3, groups=[0], capacity=1, duration=5, recurring=10\n",
    "    )\n",
    "    visit1 = Travel(\n",
    "        name='visit1', xy=[1,1], start_tick=3, groups=[1], capacity=1, duration=5, recurring=10\n",
    "    )\n",
    "\n",
    "    groups = [group1, group2]\n",
    "    events = [show, visit2, visit1, quar]\n",
    "\n",
    "    sim = Sim(groups=groups, events=events, **params)\n",
    "    sim.run()\n",
    "    chart = Chart(\n",
    "        sim, interval=200, dot_size=2000, config='no_details', show_intro=False\n",
    "    )    \n",
    "if SHOW_CHARTS:\n",
    "    HTML(chart.animate.to_html5_video())    \n",
    "if SAVE_CHARTS:\n",
    "    chart.animate.save('vids/concepts/quar2.mp4', writer=FFMpegWriter(fps=5))"
   ]
  },
  {
   "cell_type": "markdown",
   "metadata": {},
   "source": [
    "<video width='705' height='340' \n",
    "    src='https://storage.googleapis.com/rknotvids/keycons/quar2.mp4' controls>alternative text</video>\n",
    "<br>"
   ]
  },
  {
   "cell_type": "markdown",
   "metadata": {},
   "source": [
    "___\n",
    "#### Social Distancing ####\n",
    "Event to mimick social distancing practices.\n",
    "\n",
    "Social distancing is assumed to impact the Transmission Factor, $\\tau$ of each dot. The core hypothesis is that practices such as maintaining 6-feet of distance or mask wearing don't reduce the number of contacts, but do reduce the likelihood that a contact will result in a new infection (ceterus paribus).\n",
    "\n",
    "You can see use of this object [here](hit.ipynb#3.-Social-Distancing)."
   ]
  },
  {
   "cell_type": "markdown",
   "metadata": {},
   "source": [
    "___\n",
    "#### Vaccination ###\n",
    "TBD"
   ]
  },
  {
   "cell_type": "markdown",
   "metadata": {},
   "source": [
    "___\n",
    "#### Restrictions ####\n",
    "A restriction object restricts attendance to events that fall within the specified criteria. Each event has a `restricted` attribute that defaults to `False`. A restriction object filters out events from the event schedule by setting `restricted=True` for each event that satisfies the criteria.\n",
    "\n",
    "To clarify, a Restriction is *not* an event. Events act on dots. Restrictions act on events.\n",
    "\n",
    "Restrictions have potential as a versatile tool that can be used to investigate the impact of various government and business policy decisions that impact spread."
   ]
  },
  {
   "cell_type": "markdown",
   "metadata": {},
   "source": [
    "The Restriction object has a `criteria` parameter that accepts a `dict`, with keywords related to event object attributes. Acceptable `criteria` keys are currently:"
   ]
  },
  {
   "cell_type": "code",
   "execution_count": 37,
   "metadata": {
    "nbsphinx": "hidden"
   },
   "outputs": [],
   "source": [
    "from rknot.events import Restriction\n",
    "msg = ' '.join(list(Restriction.OPERATORS.keys()))"
   ]
  },
  {
   "cell_type": "code",
   "execution_count": 38,
   "metadata": {
    "hide_input": true
   },
   "outputs": [
    {
     "data": {
      "text/markdown": [
       "capacity name ticks groups loc_id"
      ],
      "text/plain": [
       "<IPython.core.display.Markdown object>"
      ]
     },
     "execution_count": 38,
     "metadata": {},
     "output_type": "execute_result"
    }
   ],
   "source": [
    "md(msg)"
   ]
  },
  {
   "cell_type": "markdown",
   "metadata": {},
   "source": [
    "The simplest way to restrict an event is by its name."
   ]
  },
  {
   "cell_type": "markdown",
   "metadata": {},
   "source": [
    "```python\n",
    "from rknot.events import Restriction\n",
    "\n",
    "params = {'square': 10, 'Ro': 2.5, 'days': 100, 'imndur': 365, 'infdur': 365}\n",
    "\n",
    "group1 = dict(name='1', n=10, n_inf=1, box=[1,5,1,5], box_is_gated=True)\n",
    "group2 = dict(name='2', n=10, n_inf=0, box=[6,10,6,10], box_is_gated=True)\n",
    "\n",
    "show1 = Event(name='show1', xy=(1,1), start_tick=2, groups=[0], capacity=10, recurring=2)\n",
    "show2 = Event(name='show2', xy=(10,10), start_tick=2, groups=[1], capacity=10, recurring=2)\n",
    "\n",
    "\n",
    "criteria = {'name': 'show1'}\n",
    "res1 = Restriction(name='no_show1', start_tick=10, duration=20, criteria=criteria)\n",
    "\n",
    "groups = [group1, group2]\n",
    "events = [show1, show2, res1]\n",
    "\n",
    "sim = Sim(groups=groups, events=events, **params)\n",
    "sim.run(dotlog=True)\n",
    "\n",
    "chart = Chart(\n",
    "    sim, interval=300, dot_size=2000, config='no_details', show_intro=False\n",
    ")\n",
    "chart.animate.to_html5_video()\n",
    "```"
   ]
  },
  {
   "cell_type": "code",
   "execution_count": 39,
   "metadata": {
    "nbsphinx": "hidden"
   },
   "outputs": [],
   "source": [
    "if RUN:\n",
    "    from rknot.events import Restriction\n",
    "\n",
    "    params = {'square': 10, 'Ro': 2.5, 'days': 100, 'imndur': 365, 'infdur': 365}\n",
    "\n",
    "    group1 = dict(name='1', n=10, n_inf=1, box=[1,5,1,5], box_is_gated=True)\n",
    "    group2 = dict(name='2', n=10, n_inf=0, box=[6,10,6,10], box_is_gated=True)\n",
    "\n",
    "    show1 = Event(name='show1', xy=(1,1), start_tick=2, groups=[0], capacity=10, recurring=2)\n",
    "    show2 = Event(name='show2', xy=(10,10), start_tick=2, groups=[1], capacity=10, recurring=2)\n",
    "\n",
    "\n",
    "    criteria = {'name': 'show1'}\n",
    "    res1 = Restriction(name='no_show1', start_tick=10, duration=20, criteria=criteria)\n",
    "\n",
    "    groups = [group1, group2]\n",
    "    events = [show1, show2, res1]\n",
    "\n",
    "    sim = Sim(groups=groups, events=events, **params)\n",
    "    sim.run(dotlog=True)\n",
    "    chart = Chart(\n",
    "        sim, interval=300, dot_size=2000, config='no_details', show_intro=False\n",
    "    )\n",
    "if SHOW_CHARTS:\n",
    "    HTML(chart.animate.to_html5_video())      \n",
    "if SAVE_CHARTS:\n",
    "    chart.animate.save('vids/concepts/restrict1.mp4', writer=FFMpegWriter(fps=2.5))"
   ]
  },
  {
   "cell_type": "markdown",
   "metadata": {},
   "source": [
    "<video width='705' height='340' \n",
    "    src='https://storage.googleapis.com/rknotvids/keycons/restrict1.mp4' controls>alternative text</video>"
   ]
  },
  {
   "cell_type": "markdown",
   "metadata": {},
   "source": [
    "In the above, we can see that every other day both group boxes have events that are attended by all dots in the group.\n",
    "\n",
    "But on day 10, the `group1` dots no longer converge on location `(1,1)`. Instead, they are spread throughout their box. So `res1` has successfully restricted attendance to `show1`.\n",
    "\n",
    "Unlike `Quarantine` objects, however, the `group1` dots have not changed their standard movement patterns. The dots simply revert to their designated `mover` function (*in fact, `Quarantine` is an event object and it creates `Restriction` objects internally to eliminate events during the quarantine*).\n",
    "\n",
    "We can restrict multiple events via the other criteria. Next we will restrict events based on their capacity. Events with more than 5 subjects in attendance will be restricted."
   ]
  },
  {
   "cell_type": "markdown",
   "metadata": {},
   "source": [
    "```python\n",
    "criteria = {'capacity': 5}\n",
    "res1 = Restriction(name='cap5', start_tick=10, duration=20, criteria=criteria)\n",
    "\n",
    "groups = [group1, group2]\n",
    "events = [show1, show2, res1]\n",
    "\n",
    "sim = Sim(groups=groups, events=events, **params)\n",
    "sim.run()\n",
    "\n",
    "chart = Chart(\n",
    "    sim, interval=300, dot_size=2000, config='no_details', show_intro=False\n",
    ")\n",
    "chart.animate.to_html5_video()\n",
    "```"
   ]
  },
  {
   "cell_type": "code",
   "execution_count": 40,
   "metadata": {
    "nbsphinx": "hidden"
   },
   "outputs": [],
   "source": [
    "if RUN:\n",
    "    criteria = {'capacity': 5}\n",
    "    res1 = Restriction(name='cap5', start_tick=10, duration=20, criteria=criteria)\n",
    "\n",
    "    groups = [group1, group2]\n",
    "    events = [show1, show2, res1]\n",
    "\n",
    "    sim = Sim(groups=groups, events=events, **params)\n",
    "    sim.run()\n",
    "    chart = Chart(\n",
    "        sim, interval=300, dot_size=2000, config='no_details', show_intro=False\n",
    "    )\n",
    "if SHOW_CHARTS:\n",
    "    HTML(chart.animate.to_html5_video())\n",
    "if SAVE_CHARTS:\n",
    "    chart.animate.save('vids/concepts/restrict2.mp4', writer=FFMpegWriter(fps=2.5))"
   ]
  },
  {
   "cell_type": "markdown",
   "metadata": {},
   "source": [
    "<video width='705' height='340' \n",
    "    src='https://storage.googleapis.com/rknotvids/keycons/restrict2.mp4' controls>alternative text</video>"
   ]
  },
  {
   "cell_type": "markdown",
   "metadata": {},
   "source": [
    "In the above we see that neither of the groups had events from day 10 onward during the quarantine period."
   ]
  },
  {
   "cell_type": "markdown",
   "metadata": {},
   "source": [
    "Restrictions can be chained together as desired to form a complex and tailored policy recipe for the population of the sim. [See this example](hit.ipynb#A-Fulsome-Scenario)."
   ]
  },
  {
   "cell_type": "markdown",
   "metadata": {},
   "source": [
    "### Dot Matrix ###"
   ]
  },
  {
   "cell_type": "code",
   "execution_count": 41,
   "metadata": {
    "nbsphinx": "hidden"
   },
   "outputs": [],
   "source": [
    "from rknot.dots import MATRIX_LABELS as LABELS\n",
    "msg = \"The dot matrix is RKnot's canonical form of data structure. \"\n",
    "msg += \"The matrix is simply a 2D `numpy` array of shape $n*${} \".format(len(LABELS))\n",
    "msg += \"with each of the $n$ rows representing a dot and each column representing \"\n",
    "msg += \"an attribute.\\n\""
   ]
  },
  {
   "cell_type": "code",
   "execution_count": 42,
   "metadata": {},
   "outputs": [
    {
     "data": {
      "text/markdown": [
       "The dot matrix is RKnot's canonical form of data structure. The matrix is simply a 2D `numpy` array of shape $n*$22 with each of the $n$ rows representing a dot and each column representing an attribute.\n"
      ],
      "text/plain": [
       "<IPython.core.display.Markdown object>"
      ]
     },
     "execution_count": 42,
     "metadata": {},
     "output_type": "execute_result"
    }
   ],
   "source": [
    "md(msg)"
   ]
  },
  {
   "cell_type": "markdown",
   "metadata": {},
   "source": [
    " More typical Python objects have been eschewed in favor the Dot Matrix because:\n",
    "\n",
    "* **RKnot** relies heavily on [Ray](https://docs.ray.io/en/latest/) for parallel processing and [Numba](https://numba.pydata.org/) for just-in-time compilation and vectorization to improve processing speed.\n",
    "* `Numpy` arrays have several advantages in **Ray** including [rapid serialization](https://ray-project.github.io/2017/10/15/fast-python-serialization-with-ray-and-arrow.html) and ease of batching.\n",
    "* **Numba** also integrates well with `numpy`, providing many of its features and leads to major performance improvements.\n",
    "* Aside from **Ray** and **Numba**, the object approach is much slower, more cumbersome, and more memory intensive than the simple data structure deployed in **RKnot**."
   ]
  },
  {
   "cell_type": "markdown",
   "metadata": {},
   "source": [
    "The dot matrix is created inside a **Ray** actor at instantiation and is only passed back to the main `Sim` object when the simulation is completed.\n",
    "\n",
    "It can be accessed via the `dots` attribute. Below is a sample of 4 dots:"
   ]
  },
  {
   "cell_type": "code",
   "execution_count": 43,
   "metadata": {},
   "outputs": [
    {
     "data": {
      "text/plain": [
       "array([[   0,    0,    1,    0,    1,    0,    0,    5,    1,    6,    3,\n",
       "           8,    0,    0, -999,    0,  100,  650,   -1,   -1,   -1,   -1],\n",
       "       [   1,    0,    1,    0,    1,    0,    0,    2,    1,    3,    6,\n",
       "           3,    0,    0, -999,    0,  100,  650,   -1,   -1,   -1,   -1],\n",
       "       [   2,    0,    1,    0,    0,    1,    1,   88,    9,    9,    8,\n",
       "           4,    0,    0, -999,    0,  100,  650,    0,   -1,  365,  730],\n",
       "       [   3,    0,    1,    0,    0,    1,    1,   52,    6,    3,    4,\n",
       "           1,    0,    0, -999,    0,  100,  650,    0,   -1,  365,  730]])"
      ]
     },
     "execution_count": 43,
     "metadata": {},
     "output_type": "execute_result"
    }
   ],
   "source": [
    "sim.dots[:4]"
   ]
  },
  {
   "cell_type": "code",
   "execution_count": 44,
   "metadata": {
    "hide_input": true,
    "nbsphinx": "hidden"
   },
   "outputs": [],
   "source": [
    "msg = \"Labels for the individual columns are available via the `MATRIX_LABELS` property. \""
   ]
  },
  {
   "cell_type": "code",
   "execution_count": 45,
   "metadata": {
    "hide_input": true
   },
   "outputs": [
    {
     "data": {
      "text/markdown": [
       "Labels for the individual columns are available via the `MATRIX_LABELS` property. "
      ],
      "text/plain": [
       "<IPython.core.display.Markdown object>"
      ]
     },
     "execution_count": 45,
     "metadata": {},
     "output_type": "execute_result"
    }
   ],
   "source": [
    "md(msg)"
   ]
  },
  {
   "cell_type": "code",
   "execution_count": 46,
   "metadata": {},
   "outputs": [
    {
     "name": "stdout",
     "output_type": "stream",
     "text": [
      "['id', 'group_id', 'is_alive', 'is_vaxxed', 'is_sus', 'is_inf', 'ever_inf', 'loc_id', 'x', 'y', 'homex', 'homey', 'go_home', 'box_id', 'event_id', 'mover', 'tmf', 'ifr', 'inf_tick', 'depart', 'recover', 'relapse']\n"
     ]
    }
   ],
   "source": [
    "from rknot.dots import MATRIX_LABELS\n",
    "print (MATRIX_LABELS)"
   ]
  },
  {
   "cell_type": "markdown",
   "metadata": {},
   "source": [
    "With the labels, the matrix above can be shown in a table."
   ]
  },
  {
   "cell_type": "code",
   "execution_count": 47,
   "metadata": {
    "nbsphinx": "hidden"
   },
   "outputs": [],
   "source": [
    "from rknot.dots import MATRIX_LABELS, MATRIX_COL_DEFNS as DEFNS\n",
    "\n",
    "msg = '| ' + ' '.join(['{} |'.format(label) for label in MATRIX_LABELS])\n",
    "msg += ' \\n'\n",
    "msg += '| ' + ' '.join([':---: |' for label in MATRIX_LABELS])\n",
    "for dot in sim.dots[:5]:\n",
    "    msg += ' \\n'\n",
    "    msg += '| ' + ' '.join(['{} |'.format(dot[i]) for i, label in enumerate(MATRIX_LABELS)])    "
   ]
  },
  {
   "cell_type": "code",
   "execution_count": 48,
   "metadata": {},
   "outputs": [
    {
     "data": {
      "text/markdown": [
       "| id | group_id | is_alive | is_vaxxed | is_sus | is_inf | ever_inf | loc_id | x | y | homex | homey | go_home | box_id | event_id | mover | tmf | ifr | inf_tick | depart | recover | relapse | \n",
       "| :---: | :---: | :---: | :---: | :---: | :---: | :---: | :---: | :---: | :---: | :---: | :---: | :---: | :---: | :---: | :---: | :---: | :---: | :---: | :---: | :---: | :---: | \n",
       "| 0 | 0 | 1 | 0 | 1 | 0 | 0 | 5 | 1 | 6 | 3 | 8 | 0 | 0 | -999 | 0 | 100 | 650 | -1 | -1 | -1 | -1 | \n",
       "| 1 | 0 | 1 | 0 | 1 | 0 | 0 | 2 | 1 | 3 | 6 | 3 | 0 | 0 | -999 | 0 | 100 | 650 | -1 | -1 | -1 | -1 | \n",
       "| 2 | 0 | 1 | 0 | 0 | 1 | 1 | 88 | 9 | 9 | 8 | 4 | 0 | 0 | -999 | 0 | 100 | 650 | 0 | -1 | 365 | 730 | \n",
       "| 3 | 0 | 1 | 0 | 0 | 1 | 1 | 52 | 6 | 3 | 4 | 1 | 0 | 0 | -999 | 0 | 100 | 650 | 0 | -1 | 365 | 730 | \n",
       "| 4 | 0 | 1 | 0 | 0 | 1 | 1 | 63 | 7 | 4 | 7 | 6 | 0 | 0 | -999 | 0 | 100 | 650 | 0 | -1 | 365 | 730 |"
      ],
      "text/plain": [
       "<IPython.core.display.Markdown object>"
      ]
     },
     "execution_count": 48,
     "metadata": {},
     "output_type": "execute_result"
    }
   ],
   "source": [
    "md(msg)"
   ]
  },
  {
   "cell_type": "markdown",
   "metadata": {},
   "source": [
    "There are several data types at work:    \n",
    "\n",
    "* *categorical integers*; used to identify related objects\n",
    "    * `id`, `group_id`, `loc_id`, `box_id`, `event_id`, `mover`\n",
    "    \n",
    "* *boolean integers*; used to set boolean flags\n",
    "    * `0` means `False` and `1` means `True`\n",
    "    * `is_alive`, `is_vaxxed`, `is_sus`, `is_inf`, `ever_inf`, `go_home`\n",
    "\n",
    "* *coordinates*; used to identify locations\n",
    "    * `x`, `y`, `homex`, `homey`\n",
    "\n",
    "* *event ticks*; integers that trigger an event on the given tick\n",
    "    * `depart`, `recover`, `relapse`\n",
    "\n",
    "* *factors*; scaled integers that must be unscaled before being used in multiplicative formulas\n",
    "    * `tmf`, `ifr`"
   ]
  },
  {
   "cell_type": "markdown",
   "metadata": {},
   "source": [
    "The column attributes are defined as follows:"
   ]
  },
  {
   "cell_type": "code",
   "execution_count": 49,
   "metadata": {
    "nbsphinx": "hidden"
   },
   "outputs": [],
   "source": [
    "table = '| Label | Definition '*2 + '|'\n",
    "table += ' \\n'\n",
    "table += '|:---:|:---'*2 + '|'\n",
    "table += ' \\n'\n",
    "defns = list(DEFNS.items())\n",
    "tablen = len(defns) // 2\n",
    "for i,j in zip(defns[:tablen], defns[tablen:]):\n",
    "    table += '| ' + i[0] + ' | ' + i[1] + ' |' + j[0] + ' | ' + j[1] + ' |'\n",
    "    table += '\\n'"
   ]
  },
  {
   "cell_type": "code",
   "execution_count": 50,
   "metadata": {
    "remove_input": true
   },
   "outputs": [
    {
     "data": {
      "text/markdown": [
       "| Label | Definition | Label | Definition | \n",
       "|:---:|:---|:---:|:---| \n",
       "| id | the subject's unique identifier  |homey | y coord of the subject's home location (its original starting point)  |\n",
       "| group_id | the unique identifier of the subject's group  |go_home | is the subject going home on the next move? |\n",
       "| is_alive | Is the subject alive?  |box_id | id of the box the subject belongs to  |\n",
       "| is_vaxxed | Has the subject been vaccinated?  |event_id | id of the event the subject is attending  |\n",
       "| is_sus | Is the subject susceptible to infection?  |mover | id of the subject's mover function |\n",
       "| is_inf | Is the subject infected?  |tmf | the subject's transmission factor  |\n",
       "| ever_inf | Has the subject ever been infected?  |ifr | the subject's infection fatality rate  |\n",
       "| loc_id | id of the subject's current location  |inf_tick | the tick a subject is infected |\n",
       "| x | x coord of the subject's current location  |depart | the tick an infected subject will depart |\n",
       "| y | y coord of the subject's curretn location  |recover | the tick an infected subject will no longer be infected or susceptible  |\n",
       "| homex | x coord of the subject's home location (its original starting point)  |relapse | the tick a recovered subject will again become susceptible  |\n"
      ],
      "text/plain": [
       "<IPython.core.display.Markdown object>"
      ]
     },
     "execution_count": 50,
     "metadata": {},
     "output_type": "execute_result"
    }
   ],
   "source": [
    "md(table)"
   ]
  },
  {
   "cell_type": "code",
   "execution_count": 98,
   "metadata": {
    "nbsphinx": "hidden"
   },
   "outputs": [
    {
     "data": {
      "text/plain": [
       "'/Users/spindicate/Documents/programming/rknot/docs/docs/concepts.ipynb'"
      ]
     },
     "execution_count": 98,
     "metadata": {},
     "output_type": "execute_result"
    }
   ],
   "source": [
    "import os\n",
    "dir_ = os.getcwd()\n",
    "dir_docs = dir_ + '/docs/docs'\n",
    "filename = '/concepts.ipynb'\n",
    "\n",
    "from shutil import copyfile\n",
    "copyfile(dir_ + filename, dir_docs + filename)"
   ]
  },
  {
   "cell_type": "code",
   "execution_count": null,
   "metadata": {
    "nbsphinx": "hidden"
   },
   "outputs": [],
   "source": []
  }
 ],
 "metadata": {
  "celltoolbar": "Edit Metadata",
  "kernelspec": {
   "display_name": "Python 3",
   "language": "python",
   "name": "python3"
  },
  "language_info": {
   "codemirror_mode": {
    "name": "ipython",
    "version": 3
   },
   "file_extension": ".py",
   "mimetype": "text/x-python",
   "name": "python",
   "nbconvert_exporter": "python",
   "pygments_lexer": "ipython3",
   "version": "3.8.5"
  }
 },
 "nbformat": 4,
 "nbformat_minor": 4
}
