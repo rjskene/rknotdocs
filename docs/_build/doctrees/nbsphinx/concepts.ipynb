{
 "cells": [
  {
   "cell_type": "markdown",
   "metadata": {},
   "source": [
    "## Key Concepts ##"
   ]
  },
  {
   "cell_type": "markdown",
   "metadata": {},
   "source": [
    "RKnot builds a simulation across four dimensions of global properties:\n",
    "\n",
    "* **Time**\n",
    "    * The fundamental unit of time is a `tick`. \n",
    "    * Each iteration of the simulation is one tick. During a tick, the following occurs:\n",
    "        * subjects can move to new locatioccns\n",
    "        * subjects can contact other subjects\n",
    "        * attributes of the subjects can change\n",
    "    * Many of the fundamental properties of a virus are measured in days. RKnot translates daily inputs into ticks.\n",
    "    * Currently, only one `tick` per day is supported. The goal is to support any number of ticks during a day.\n",
    "* **Space**\n",
    "    * Subjects interact in an two-dimensional environment called the Grid.\n",
    "    * The Grid *must* be a square. The Grid size can be passed manually or it can be determined automatically for a specified density level.\n",
    "    * Each pair of xy coordinates in the Grid is a location. \n",
    "    * A *contact* occurs when an infected subject and a susceptible subject occupy the same location at the same tick.\n",
    "    * There is no limit to the number of subjects that can occupy a single location at the same time.\n",
    "    * Subjects move through the Grid according to user-specified `mover` [functions](#Mover-Functions). These functions typically incorporate a degree of randomness.\n",
    "    * A subject can also move by attending an [Event](#Events).\n",
    "    * Portions of the Grid may be restricted by [Boxes and/or Gates](#Boxes-and-Gates).\n",
    "\n",
    "* **Subjects**\n",
    "    * subjects (also referred to as \"dots\") are the analog of people in the simulation.\n",
    "    * subjects carry many attributes through the life of the simulation that are updated and changed as required [see Dot Matrix](#Dot-Matrix)).\n",
    "    \n",
    "* **Virus**\n",
    "    * the user may pass several characteristics fundamental to the simulated virus. RKnot may infer others. Virus characteristics include:\n",
    "        * $R_0$\n",
    "        * Duration of Infection\n",
    "        * Transmission Risk\n",
    "        * Duration of Immunity\n",
    "        * Infection Fatality Rate"
   ]
  },
  {
   "cell_type": "markdown",
   "metadata": {},
   "source": [
    "### The Sim ###\n",
    "The `Sim` object is the user interface for the RKnot simulation package and acts as a thin wrapper for the Server and Worker classes of **Ray** actors that form the core of a simulation. \n",
    "\n",
    "A Sim object is instantiated with pre-defined characteristics of the space, the subjects, and the virus.\n",
    "\n",
    "For demonstration purposes, a quick default simulation can be run by simply providing a few parameters."
   ]
  },
  {
   "cell_type": "code",
   "execution_count": 1,
   "metadata": {
    "nbsphinx": "hidden"
   },
   "outputs": [],
   "source": [
    "### HIDDEN CELL ###\n",
    "%load_ext autoreload\n",
    "%autoreload 2\n",
    "\n",
    "from IPython.core.display import HTML\n",
    "\n",
    "RUN = True\n",
    "SHOW_CHARTS = False\n",
    "SAVE_CHARTS = False\n",
    "\n",
    "PATH = 'vids/concepts/tests/'"
   ]
  },
  {
   "cell_type": "markdown",
   "metadata": {
    "scrolled": false
   },
   "source": [
    "```python\n",
    "from rknot import Sim, Chart\n",
    "\n",
    "params = {'square': 4, 'R0': 2.5, 'days': 50, 'imndur': 365, 'infdur': 365}\n",
    "group = {'n': 2, 'n_inf': 1}\n",
    "sim = Sim(groups=group, **params)\n",
    "```\n",
    "\n",
    "`run` is the main method of the `Sim` object. `run` iterates through each `tick` in the simulation. Currently, one day == one tick.\n",
    "\n",
    "```python\n",
    "sim.run()\n",
    "```\n",
    "\n",
    "`sim.run()` does not return any values, but it does update various attributes of the `sim` object. After calling `run`, you can then pass `sim` to the `Chart` object, which will generate an animation of the simulation across time.\n",
    "\n",
    "```python\n",
    "chart = Chart(sim, dotsize=2000, interval=200, show_intro=False, use_init_func=False)\n",
    "chart.to_html5_video()\n",
    "```"
   ]
  },
  {
   "cell_type": "code",
   "execution_count": 3,
   "metadata": {
    "nbsphinx": "hidden"
   },
   "outputs": [
    {
     "data": {
      "application/vnd.jupyter.widget-view+json": {
       "model_id": "536d8c96278d4298a313b26f5cc2f5c3",
       "version_major": 2,
       "version_minor": 0
      },
      "text/plain": [
       "HBox(children=(FloatProgress(value=0.0, layout=Layout(flex='2'), max=93.0), HTML(value='')), layout=Layout(dis…"
      ]
     },
     "metadata": {},
     "output_type": "display_data"
    },
    {
     "name": "stderr",
     "output_type": "stream",
     "text": [
      "/Users/spindicate/Documents/programming/rknot/rknot/sim.py:209: UserWarning: You did not provide a `groups` parameter. A default group has been created, but this is not recommended.\n",
      "  warnings.warn(msg)\n"
     ]
    },
    {
     "name": "stdout",
     "output_type": "stream",
     "text": [
      "\n"
     ]
    },
    {
     "data": {
      "application/vnd.jupyter.widget-view+json": {
       "model_id": "0ab77786b8a84f0d8a2990030e159b8d",
       "version_major": 2,
       "version_minor": 0
      },
      "text/plain": [
       "HBox(children=(FloatProgress(value=0.0, layout=Layout(flex='2'), max=50.0), HTML(value='')), layout=Layout(dis…"
      ]
     },
     "metadata": {},
     "output_type": "display_data"
    },
    {
     "name": "stdout",
     "output_type": "stream",
     "text": [
      "\n"
     ]
    }
   ],
   "source": [
    "if RUN:\n",
    "    from rknot import Sim, Chart\n",
    "    params = {'square': 4, 'R0': 2.5, 'days': 50, 'imndur': 365, 'infdur': 365}\n",
    "    sim = Sim(**params)\n",
    "    sim.run()\n",
    "\n",
    "if SHOW_CHARTS:\n",
    "    chart = Chart(\n",
    "        sim, dotsize=2000, show_intro=False, \n",
    "        use_init_func=False, interval=200,\n",
    "    )\n",
    "    HTML(chart.to_html5_video())\n",
    "\n",
    "if SAVE_CHARTS:\n",
    "    chart_params = dict(\n",
    "        show_intro=False, use_init_func=False, \n",
    "        dotsize=200, interval=200, reso_format='web'\n",
    "    )\n",
    "    chart = Chart(sim, **chart_params).save(PATH + 'intro.mp4')"
   ]
  },
  {
   "cell_type": "markdown",
   "metadata": {},
   "source": [
    "<video width='705' height='340' \n",
    "    src='https://storage.googleapis.com/rknotvids/keycons/intro.mp4' controls>alternative text</video>\n",
    "<p></p>"
   ]
  },
  {
   "cell_type": "markdown",
   "metadata": {},
   "source": [
    "The animation is split in 3 sections: \n",
    "* **Interactions**\n",
    "    * the visual representation of subjects in the Grid. Each marker is a subject and each cross-section of gridlines is a point (for larger grids the lines are removed).\n",
    "* **Details**\n",
    "    * provides several on-the-run statistics including Effective Reproduction Number, total fatalities, and fatalities by group.\n",
    "* **Infections**\n",
    "    * shows the change in infection level over each day, showing both current infection level and total penetration (\"Ever\" in the legend)\n",
    "    \n",
    "The animation is built on AxesSubPlot components that can be arranged in any fashion desired, including a handful of preset layouts. [see Chart for more details](#Chart)."
   ]
  },
  {
   "cell_type": "markdown",
   "metadata": {},
   "source": [
    "As per the animation above, the default simulation is of a single infected subject, moving across a 4x4 two-dimensional space according to the `equal` mover function. The subject is equally likely to move to any location in the Grid on any tick."
   ]
  },
  {
   "cell_type": "markdown",
   "metadata": {},
   "source": [
    "___\n",
    "### Subjects ###"
   ]
  },
  {
   "cell_type": "markdown",
   "metadata": {},
   "source": [
    "#### Dots ###\n",
    "Dots are subjects/people in the simulation space. A subject has many attributes that are adjusted over time, including:\n",
    "\n",
    "* which Group it belongs to\n",
    "* if it is alive\n",
    "* if it is infected\n",
    "* if it is susceptible\n",
    "* its location\n",
    "* any restricted areas that apply to it ([see Boxes and Gates](#Boxes-and-Gates))\n",
    "* if infected, when it will recover (or when it will succumb)\n",
    "* if recovered, when it will again become susceptible\n",
    "* its fatality rate\n",
    "* its `mover` function\n",
    "\n",
    "[see Dot Matrix](#Dot-Matrix) for a more fulsome discussion."
   ]
  },
  {
   "cell_type": "markdown",
   "metadata": {},
   "source": [
    "#### Groups ####\n",
    "Dots are the fundamental subjects of the simulation, but dots can **only** be created via a Group object.\n",
    "\n",
    "To create our group objects, we can pass a list of dictionaries to the `groups` parameter of Sim. The dictionaries correspond to the attributes of the group, which in turn correspond to the attributes of its constituent dots at initiation."
   ]
  },
  {
   "cell_type": "markdown",
   "metadata": {},
   "source": [
    "To create a group, you need only provide two parameters:\n",
    "\n",
    "* `n`, population size of the group at initiation\n",
    "* `n_inf`, number of infected subjects in the group at initiation"
   ]
  },
  {
   "cell_type": "markdown",
   "metadata": {},
   "source": [
    "*If only one group is being provided, you can pass a dictionary. With multiple groups, pass an iterable of dicts.*"
   ]
  },
  {
   "cell_type": "markdown",
   "metadata": {},
   "source": [
    "```python\n",
    "params = {'square': 10, 'R0': 2.5, 'days': 50, 'imndur': 365, 'infdur': 365}\n",
    "group = dict(n=2, n_inf=1)\n",
    "\n",
    "sim = Sim(groups=group, **params)\n",
    "sim.run()\n",
    "\n",
    "chart = Chart(\n",
    "    sim, figsize=(16,8), dotsize=2000, interval=200,\n",
    "    layout='dots_only', show_intro=False\n",
    ")\n",
    "chart.to_html5_video()\n",
    "```"
   ]
  },
  {
   "cell_type": "markdown",
   "metadata": {},
   "source": [
    "Below we see this structure creates a 10x10 Grid with two subjects, only one of which is infected at the outset."
   ]
  },
  {
   "cell_type": "code",
   "execution_count": 4,
   "metadata": {
    "nbsphinx": "hidden"
   },
   "outputs": [
    {
     "data": {
      "application/vnd.jupyter.widget-view+json": {
       "model_id": "6e418edf8b03445d860bcf82ad1f8f21",
       "version_major": 2,
       "version_minor": 0
      },
      "text/plain": [
       "HBox(children=(FloatProgress(value=0.0, layout=Layout(flex='2'), max=93.0), HTML(value='')), layout=Layout(dis…"
      ]
     },
     "metadata": {},
     "output_type": "display_data"
    },
    {
     "name": "stdout",
     "output_type": "stream",
     "text": [
      "\n"
     ]
    },
    {
     "data": {
      "application/vnd.jupyter.widget-view+json": {
       "model_id": "d6e5aa271d864f2ba7cbc4f9e6ded7c4",
       "version_major": 2,
       "version_minor": 0
      },
      "text/plain": [
       "HBox(children=(FloatProgress(value=0.0, layout=Layout(flex='2'), max=50.0), HTML(value='')), layout=Layout(dis…"
      ]
     },
     "metadata": {},
     "output_type": "display_data"
    },
    {
     "name": "stdout",
     "output_type": "stream",
     "text": [
      "\n"
     ]
    }
   ],
   "source": [
    "if RUN:\n",
    "    params = {'square': 10, 'R0': 2.5, 'days': 50, 'imndur': 365, 'infdur': 365}\n",
    "    group = dict(n=2, n_inf=1)\n",
    "\n",
    "    sim = Sim(groups=group, **params)\n",
    "    sim.run()\n",
    "if SHOW_CHARTS:\n",
    "    HTML(chart.animate.to_html5_video())\n",
    "if SAVE_CHARTS:\n",
    "    chart_params = dict(\n",
    "        show_intro=False, use_init_func=False, \n",
    "        dotsize=200, interval=200, \n",
    "        layout='dots_only', reso_format='web'\n",
    "    )\n",
    "    chart = Chart(sim, **chart_params).save(PATH + 'group1.mp4')"
   ]
  },
  {
   "cell_type": "markdown",
   "metadata": {},
   "source": [
    "<video width='705' height='340' \n",
    "    src='https://storage.googleapis.com/rknotvids/keycons/group1.mp4' controls>alternative text</video>\n",
    "<p></p>"
   ]
  },
  {
   "cell_type": "markdown",
   "metadata": {},
   "source": [
    "There are many other parameters and customizations that can provided:\n",
    "\n",
    "* `name`\n",
    "    * if not provided, Sim will create one\n",
    "* `box` & `box_is_gate` \n",
    "    * see [Boxes and Gates](#Boxes-and-Gates)\n",
    "* `mover`\n",
    "    * function used to dictate a dot's movement ([see Mover Functions](#Mover-Functions))\n",
    "* `tmf`\n",
    "    * [*transmission factor*](theory.ipynb), $T$, applied to each of the dots interactions.\n",
    "    * default: 1 \n",
    "* `susf`\n",
    "    * *susceptiblity factor*; the fraction of subjects in a group that will be made susceptible to the virus at initiation\n",
    "    * the inverse of `susf` ($1/{susf}$) is the number of subjects in a group that already have immunity.\n",
    "* `ifr`\n",
    "    * *infection fatality rate*; or the likelihood that an infection will be fatal"
   ]
  },
  {
   "cell_type": "markdown",
   "metadata": {},
   "source": [
    "These can again be passed as a dictionary of a single group: "
   ]
  },
  {
   "cell_type": "markdown",
   "metadata": {},
   "source": [
    "```python\n",
    "group = dict(\n",
    "    name='main', n=2, n_inf=1, mover='equal', \n",
    "    tmf=1.25, susf=.75, ifr=0.005\n",
    ")\n",
    "\n",
    "sim = Sim(groups=group, **params)\n",
    "sim.run()\n",
    "\n",
    "chart = Chart(\n",
    "    sim, figsize=(16,8), dotsize=2000, interval=200, \n",
    "    layout='dots_only', show_intro=False\n",
    ") \n",
    "chart.to_html5_video()\n",
    "```"
   ]
  },
  {
   "cell_type": "code",
   "execution_count": 4,
   "metadata": {
    "nbsphinx": "hidden"
   },
   "outputs": [],
   "source": [
    "if RUN:\n",
    "    group = dict(name='main', n=2, n_inf=1, mover='local', tmf=1.25, susf=.75, ifr=0.005)\n",
    "\n",
    "    sim = Sim(groups=group, **params)\n",
    "    sim.run()\n",
    "if SHOW_CHARTS:\n",
    "    chart = Chart(\n",
    "        sim, figsize=(16,8), dotsize=2000, interval=200, \n",
    "        layout='dots_only', show_intro=False\n",
    "    ) \n",
    "    HTML(chart.animate.to_html5_video())\n",
    "if SAVE_CHARTS:\n",
    "    chart_params = dict(\n",
    "        show_intro=False, use_init_func=False, \n",
    "        dotsize=200, interval=200, \n",
    "        layout='dots_only', reso_format='web'\n",
    "    )\n",
    "    chart = Chart(sim, **chart_params).save(PATH + 'group2.mp4')"
   ]
  },
  {
   "cell_type": "markdown",
   "metadata": {},
   "source": [
    "<video width='705' height='340' \n",
    "    src='https://storage.googleapis.com/rknotvids/keycons/group2.mp4' controls>alternative text</video>\n",
    "<p></p>"
   ]
  },
  {
   "cell_type": "markdown",
   "metadata": {},
   "source": [
    "Or as an iterable of dictionaries. Each group is assigned a unique marker in the animation."
   ]
  },
  {
   "cell_type": "markdown",
   "metadata": {},
   "source": [
    "```python\n",
    "group1 = dict(name='1', n=1, n_inf=1, mover='local', tmf=1.25, susf=.75, ifr=0.005)\n",
    "group2 = dict(name='2', n=1, n_inf=0, mover='equal', tmf=0.75, susf=0.95, ifr=0.05)\n",
    "group3 = dict(name='3', n=1, n_inf=0, mover='equal', tmf=0.25, susf=0.5, ifr=0.4)    \n",
    "groups = [group1, group2, group3]\n",
    "\n",
    "sim = Sim(groups=groups, **params)\n",
    "sim.run()\n",
    "\n",
    "chart = Chart(\n",
    "    sim, figsize=(16,8), dotsize=2000, interval=200, \n",
    "    layout='dots_only', show_intro=False\n",
    ")\n",
    "chart.to_html5_video()\n",
    "```"
   ]
  },
  {
   "cell_type": "code",
   "execution_count": 5,
   "metadata": {
    "nbsphinx": "hidden"
   },
   "outputs": [],
   "source": [
    "if RUN:\n",
    "    from rknot import Sim\n",
    "    params = {'square': 10, 'R0': 2.5, 'days': 50, 'imndur': 365, 'infdur': 365}\n",
    "    \n",
    "    group1 = dict(name='1', n=1, n_inf=1, mover='local', tmf=1.25, susf=.75, ifr=0.005)\n",
    "    group2 = dict(name='2', n=1, n_inf=0, mover='equal', tmf=0.75, susf=0.95, ifr=0.05)\n",
    "    group3 = dict(name='3', n=1, n_inf=0, mover='equal', tmf=0.25, susf=0.5, ifr=0.4)    \n",
    "    groups = [group1, group2, group3]\n",
    "\n",
    "    sim = Sim(groups=groups, **params)\n",
    "    sim.run()\n",
    "\n",
    "if SHOW_CHARTS:\n",
    "    from rknot import Chart\n",
    "    chart = Chart(\n",
    "        sim, figsize=(16,8), dotsize=2000, interval=200, \n",
    "        layout='dots_only', show_intro=False\n",
    "    )\n",
    "\n",
    "    HTML(chart.animate.to_html5_video())\n",
    "if SAVE_CHARTS:\n",
    "    from rknot import Chart    \n",
    "    chart_params = dict(\n",
    "        show_intro=False, use_init_func=False, \n",
    "        dotsize=200, interval=200, \n",
    "        layout='dots_only', reso_format='web'\n",
    "    )\n",
    "    chart = Chart(sim, **chart_params).save(PATH + 'group3.mp4')"
   ]
  },
  {
   "cell_type": "markdown",
   "metadata": {},
   "source": [
    "<video width='705' height='340' \n",
    "    src='https://storage.googleapis.com/rknotvids/keycons/group3.mp4' controls>alternative text</video>\n",
    "<br>"
   ]
  },
  {
   "cell_type": "markdown",
   "metadata": {},
   "source": [
    "___\n",
    "### The Grid ###\n",
    "\n",
    "All interactions in an RKnot simulation take place inside the Grid. The grid is a `Grid` object, which in turn is a sub-classed numpy array with some additional features.\n",
    "\n",
    "The Grid size can be determined by passing the `square` or `density` parameters. Each `density` accepts either a `str` or a `float`. The `float` value is a specific desired subject per location and a `str` must be on of the three categories below."
   ]
  },
  {
   "cell_type": "code",
   "execution_count": 8,
   "metadata": {
    "tags": [
     "hide_input"
    ]
   },
   "outputs": [
    {
     "data": {
      "text/markdown": [
       "Available `str` values for `density` and their corresponding densities are: \n",
       "\n",
       "low: 0.2\n",
       "\n",
       "med: 1\n",
       "\n",
       "high: 10\n",
       "\n"
      ],
      "text/plain": [
       "<IPython.core.display.Markdown object>"
      ]
     },
     "metadata": {},
     "output_type": "display_data"
    }
   ],
   "source": [
    "from rknot.notebook import md\n",
    "from rknot import Sim\n",
    "msg = 'Available `str` values for `density` and their corresponding densities are: \\n\\n'\n",
    "dlevels = ['{}: {}\\n\\n'.format(level, density) for level, density in Sim.DENSITIES.items()]\n",
    "msg += ''.join(dlevels)\n",
    "md(msg)"
   ]
  },
  {
   "cell_type": "markdown",
   "metadata": {},
   "source": [
    "If we set `density=med`, the Grid will be set such that the density is 1 subject per location. For a group of 100 subjects, that will result in a 10x10 grid. We can see these attributes by passing `details=True`."
   ]
  },
  {
   "cell_type": "code",
   "execution_count": 9,
   "metadata": {},
   "outputs": [
    {
     "data": {
      "application/vnd.jupyter.widget-view+json": {
       "model_id": "a59f636dcbad493ebb636076aa2b1375",
       "version_major": 2,
       "version_minor": 0
      },
      "text/plain": [
       "HBox(children=(FloatProgress(value=0.0, layout=Layout(flex='2'), max=93.0), HTML(value='')), layout=Layout(dis…"
      ]
     },
     "metadata": {},
     "output_type": "display_data"
    },
    {
     "name": "stdout",
     "output_type": "stream",
     "text": [
      "---------------------------------------------------------------------------------\n",
      "|                                  SIM DETAILS                                  |\n",
      "|-------------------------------------------------------------------------------|\n",
      "|           Boundary|      [ 1 10  1 10]|          Locations|                100|\n",
      "|-------------------|-------------------|-------------------|-------------------|\n",
      "|         Population|                100|            Density|                1.0|\n",
      "|-------------------|-------------------|-------------------|-------------------|\n",
      "|       Contact Rate|               1.01|                   |                   |\n",
      "|-------------------|-------------------|-------------------|-------------------|\n",
      "\n"
     ]
    }
   ],
   "source": [
    "params = {'R0': 2.5, 'days': 50, 'imndur': 365, 'infdur': 365}\n",
    "group = dict(name='main', n=100, n_inf=1)\n",
    "\n",
    "sim = Sim(groups=group, density='med', details=True, **params)"
   ]
  },
  {
   "cell_type": "markdown",
   "metadata": {},
   "source": [
    "```python\n",
    "sim.run()\n",
    "\n",
    "chart = Chart(\n",
    "    sim, figsize=(16,8), layout='dots_only', \n",
    "    show_intro=False, use_init_func=False\n",
    ")\n",
    "chart.to_html5_video()\n",
    "```"
   ]
  },
  {
   "cell_type": "code",
   "execution_count": 10,
   "metadata": {
    "nbsphinx": "hidden"
   },
   "outputs": [
    {
     "data": {
      "application/vnd.jupyter.widget-view+json": {
       "model_id": "120c2d539b8d4fa9a1463e2d47aca31f",
       "version_major": 2,
       "version_minor": 0
      },
      "text/plain": [
       "HBox(children=(FloatProgress(value=0.0, layout=Layout(flex='2'), max=50.0), HTML(value='')), layout=Layout(dis…"
      ]
     },
     "metadata": {},
     "output_type": "display_data"
    },
    {
     "name": "stdout",
     "output_type": "stream",
     "text": [
      "\n"
     ]
    }
   ],
   "source": [
    "if RUN:\n",
    "    sim.run()\n",
    "if SHOW_CHARTS:\n",
    "    chart = Chart(sim, figsize=(16,8), layout='dots_only', show_intro=False)\n",
    "    HTML(chart.to_html5_video())\n",
    "\n",
    "if SAVE_CHARTS:\n",
    "    chart_params = dict(\n",
    "        show_intro=False, use_init_func=False, \n",
    "        interval=200, \n",
    "        layout='dots_only', reso_format='web'\n",
    "    )\n",
    "    chart = Chart(sim, **chart_params).save(PATH + 'grid1.mp4')"
   ]
  },
  {
   "cell_type": "markdown",
   "metadata": {},
   "source": [
    "<video width='705' height='340' \n",
    "    src='https://storage.googleapis.com/rknotvids/keycons/grid1.mp4' controls>alternative text</video>\n",
    "<p></p>"
   ]
  },
  {
   "cell_type": "markdown",
   "metadata": {},
   "source": [
    "For smaller populations, the density level can only be approximated. RKnot defaults to rounding up to the nearest square value.\n",
    "\n",
    "You can also pass a float value to `density` in order to create a specified density. Here, we set `density=3.5`"
   ]
  },
  {
   "cell_type": "code",
   "execution_count": 13,
   "metadata": {},
   "outputs": [
    {
     "data": {
      "application/vnd.jupyter.widget-view+json": {
       "model_id": "0334ce6fc616472aa10abcf1220e87f5",
       "version_major": 2,
       "version_minor": 0
      },
      "text/plain": [
       "HBox(children=(FloatProgress(value=0.0, layout=Layout(flex='2'), max=93.0), HTML(value='')), layout=Layout(dis…"
      ]
     },
     "metadata": {},
     "output_type": "display_data"
    },
    {
     "name": "stdout",
     "output_type": "stream",
     "text": [
      "---------------------------------------------------------------------------------\n",
      "|                                  SIM DETAILS                                  |\n",
      "|-------------------------------------------------------------------------------|\n",
      "|           Boundary|      [ 1 18  1 18]|          Locations|                324|\n",
      "|-------------------|-------------------|-------------------|-------------------|\n",
      "|         Population|              1,020|            Density|               3.15|\n",
      "|-------------------|-------------------|-------------------|-------------------|\n",
      "|       Contact Rate|               3.16|                   |                   |\n",
      "|-------------------|-------------------|-------------------|-------------------|\n",
      "\n"
     ]
    }
   ],
   "source": [
    "group1 = dict(name='1', n=1000, n_inf=1)\n",
    "group2 = dict(name='2', n=20, n_inf=20)\n",
    "groups = [group1, group2]\n",
    "\n",
    "sim = Sim(groups=groups, density=3.5, details=True, **params)"
   ]
  },
  {
   "cell_type": "markdown",
   "metadata": {},
   "source": [
    "```python\n",
    "sim.run()\n",
    "\n",
    "chart = Chart(sim, figsize=(16,8), layout='dots_only', show_intro=False)\n",
    "chart.to_html5_video()\n",
    "```"
   ]
  },
  {
   "cell_type": "code",
   "execution_count": 14,
   "metadata": {
    "nbsphinx": "hidden"
   },
   "outputs": [
    {
     "data": {
      "application/vnd.jupyter.widget-view+json": {
       "model_id": "0b5981bea6c54085bf767605f0dd9def",
       "version_major": 2,
       "version_minor": 0
      },
      "text/plain": [
       "HBox(children=(FloatProgress(value=0.0, layout=Layout(flex='2'), max=50.0), HTML(value='')), layout=Layout(dis…"
      ]
     },
     "metadata": {},
     "output_type": "display_data"
    },
    {
     "name": "stdout",
     "output_type": "stream",
     "text": [
      "\n"
     ]
    }
   ],
   "source": [
    "if RUN:\n",
    "    sim.run()\n",
    "if SHOW_CHARTS:\n",
    "    chart = Chart(sim, figsize=(16,8), layout='dots_only', show_intro=False)\n",
    "    HTML(chart.animate.to_html5_video())\n",
    "if SAVE_CHARTS:\n",
    "    chart_params = dict(\n",
    "        show_intro=False, use_init_func=False, \n",
    "        interval=200, \n",
    "        layout='dots_only', reso_format='web'\n",
    "    )\n",
    "    chart = Chart(sim, **chart_params).save(PATH + 'grid2.mp4')"
   ]
  },
  {
   "cell_type": "markdown",
   "metadata": {},
   "source": [
    "<video width='705' height='340' style=\"display:block; margin: 0 auto;\"\n",
    "    src='https://storage.googleapis.com/rknotvids/keycons/grid2.mp4' controls>alternative text</video>\n",
    "<br>"
   ]
  },
  {
   "cell_type": "markdown",
   "metadata": {},
   "source": [
    "___\n",
    "#### Mover Functions ####\n",
    "\n",
    "When a subject changes locations, this is called a ‘move’. A move is completed during a tick and the movement of a subject on any tick is governed by its mover function. Movers select a location according to a pre-defined probability distribution, so the general movement pattern of a dot can be pre-determined, but any one movement occurs randomly.\n",
    "\n",
    "There are currently 5 mover functions. Their respective definitions, along with examples of their movement are provided below. A `float` value is also accepted which is used as the `p-value` in a geometric movement pattern."
   ]
  },
  {
   "cell_type": "code",
   "execution_count": 11,
   "metadata": {
    "nbsphinx": "hidden",
    "scrolled": true
   },
   "outputs": [],
   "source": [
    "### HIDDEN ###\n",
    "from rknot.space import MOVERS\n",
    "\n",
    "if SAVE_CHARTS:\n",
    "    for mover in MOVERS:\n",
    "        group1 = dict(name='1', n=1, n_inf=1, mover=mover.__name__)\n",
    "\n",
    "        sim = Sim(groups=group1, square=10, **params)\n",
    "        sim.run()\n",
    "\n",
    "        chart_params = dict(\n",
    "            show_intro=False, use_init_func=False, \n",
    "            interval=200, \n",
    "            layout='dots_only', reso_format='web'\n",
    "        )\n",
    "        chart = Chart(sim, **chart_params).save(PATH + '{}.mp4'.format(mover.__name__))"
   ]
  },
  {
   "cell_type": "code",
   "execution_count": 24,
   "metadata": {
    "tags": [
     "hide_input"
    ]
   },
   "outputs": [
    {
     "data": {
      "text/markdown": [
       "\n",
       "\n",
       "<h6 style=\"text-align: center;\">Equal</h6><p style=\"text-align: center;\">The subject is equally likely to move to any location.</p><video style=\"display:block; margin: 0 auto;\" width=\"705\" height=\"340\" src=\"https://storage.googleapis.com/rknotvids/keycons/equal.mp4\" controls>alternative text</video><p></p>\n",
       "\n",
       "<h6 style=\"text-align: center;\">Local</h6><p style=\"text-align: center;\">The subject has a strong bias towards dots only in its immediate vicinity.</p><video style=\"display:block; margin: 0 auto;\" width=\"705\" height=\"340\" src=\"https://storage.googleapis.com/rknotvids/keycons/local.mp4\" controls>alternative text</video><p></p>\n",
       "\n",
       "<h6 style=\"text-align: center;\">Traveller</h6><p style=\"text-align: center;\">The subject commonly moves to locations far across the Grid.</p><video style=\"display:block; margin: 0 auto;\" width=\"705\" height=\"340\" src=\"https://storage.googleapis.com/rknotvids/keycons/traveller.mp4\" controls>alternative text</video><p></p>\n",
       "\n",
       "<h6 style=\"text-align: center;\">Quarantine</h6><p style=\"text-align: center;\">The subject has a strong bias towards not moving, with only some movement occuring.</p><video style=\"display:block; margin: 0 auto;\" width=\"705\" height=\"340\" src=\"https://storage.googleapis.com/rknotvids/keycons/quarantine.mp4\" controls>alternative text</video><p></p>\n",
       "\n",
       "<h6 style=\"text-align: center;\">Social</h6><p style=\"text-align: center;\">The subject moves mostly within its vicinty but also to other more medium distance location.</p><video style=\"display:block; margin: 0 auto;\" width=\"705\" height=\"340\" src=\"https://storage.googleapis.com/rknotvids/keycons/social.mp4\" controls>alternative text</video><p></p>\n",
       "\n",
       "<h6 style=\"text-align: center;\">Hutch_local</h6><p style=\"text-align: center;\">Similar to local mover, except with stronger bias to shorter distance. Used in conjuction with large number of events.</p><video style=\"display:block; margin: 0 auto;\" width=\"705\" height=\"340\" src=\"https://storage.googleapis.com/rknotvids/keycons/hutch_local.mp4\" controls>alternative text</video><p></p>"
      ],
      "text/plain": [
       "<IPython.core.display.Markdown object>"
      ]
     },
     "metadata": {},
     "output_type": "display_data"
    }
   ],
   "source": [
    "from rknot.space.movers import MOVER_DEFNS, MOVER_NAMES\n",
    "text = ''\n",
    "for i, mover in enumerate(MOVER_NAMES):\n",
    "    text += '\\n\\n<h6 style=\"text-align: center;\">{}</h6>'.format(mover.capitalize())\n",
    "    text += '<p style=\"text-align: center;\">{}</p>'.format(MOVER_DEFNS[i])\n",
    "    text += '<video style=\"display:block; margin: 0 auto;\" width=\"705\" height=\"340\" src=\"https://storage.googleapis.com/rknotvids/keycons/{}.mp4\" controls>alternative text</video>'.format(mover)\n",
    "    text += '<p></p>'\n",
    "\n",
    "md(text)"
   ]
  },
  {
   "cell_type": "markdown",
   "metadata": {},
   "source": [
    "In addition to specifying a mover function, the user can also simply specify a `float` value between 0 and 1. \n",
    "\n",
    "This value corresponds to a `p-value` used in a geometric distrubtion. The relationship between `p-value` and movement is shown below.\n",
    "\n",
    "<img \n",
    "    src='https://storage.googleapis.com/rknotvids/imgs/sizing_local_bias.png'\n",
    "    alt='Drawing' style='width: 600px;' align='center'\n",
    "/>"
   ]
  },
  {
   "cell_type": "markdown",
   "metadata": {},
   "source": [
    "The higher the `p-value`, the greater the bias towards shorter moves. Increasing `p-value`, all else equal, should decrease the number of contacts in a sim. This is explored further [here](sizing.ipynb#Movement-Changes).\n",
    "\n",
    "Below we compare the movement patterns of two subjects with very different `p-value`."
   ]
  },
  {
   "cell_type": "markdown",
   "metadata": {},
   "source": [
    "```python\n",
    "params = {'R0': 2.5, 'days': 50, 'imndur': 365, 'infdur': 365}\n",
    "\n",
    "group1 = dict(n=1, n_inf=1, mover=.25)\n",
    "group2 = dict(n=1, n_inf=1, mover=.95)\n",
    "groups = [group1, group2]\n",
    "sim = Sim(groups=groups, square=10, **params)\n",
    "sim.run()\n",
    "\n",
    "chart = Chart(sim, figsize=(16,8), layout='dots_only', show_intro=False)\n",
    "chart.to_html5_video()\n",
    "```"
   ]
  },
  {
   "cell_type": "code",
   "execution_count": 27,
   "metadata": {
    "nbsphinx": "hidden"
   },
   "outputs": [
    {
     "data": {
      "application/vnd.jupyter.widget-view+json": {
       "model_id": "0332f1417b844ff1aa3b20add0f409cf",
       "version_major": 2,
       "version_minor": 0
      },
      "text/plain": [
       "HBox(children=(FloatProgress(value=0.0, layout=Layout(flex='2'), max=93.0), HTML(value='')), layout=Layout(dis…"
      ]
     },
     "metadata": {},
     "output_type": "display_data"
    },
    {
     "name": "stdout",
     "output_type": "stream",
     "text": [
      "\n"
     ]
    },
    {
     "data": {
      "application/vnd.jupyter.widget-view+json": {
       "model_id": "08c2f26ca65c4be79efe62f2b3486f8b",
       "version_major": 2,
       "version_minor": 0
      },
      "text/plain": [
       "HBox(children=(FloatProgress(value=0.0, layout=Layout(flex='2'), max=50.0), HTML(value='')), layout=Layout(dis…"
      ]
     },
     "metadata": {},
     "output_type": "display_data"
    },
    {
     "name": "stdout",
     "output_type": "stream",
     "text": [
      "\n",
      "\n",
      "\n",
      "\n",
      "\n",
      "\n",
      "\n",
      "\n"
     ]
    },
    {
     "data": {
      "application/vnd.jupyter.widget-view+json": {
       "model_id": "ae39cd4d3fb24389aaa97d08acefc055",
       "version_major": 2,
       "version_minor": 0
      },
      "text/plain": [
       "HBox(children=(FloatProgress(value=0.0, max=50.0), HTML(value='')))"
      ]
     },
     "metadata": {},
     "output_type": "display_data"
    }
   ],
   "source": [
    "### HIDDEN ###\n",
    "from rknot.space import MOVERS\n",
    "\n",
    "if SAVE_CHARTS:\n",
    "    params = {'R0': 2.5, 'days': 50, 'imndur': 365, 'infdur': 365}\n",
    "    \n",
    "    group1 = dict(n=1, n_inf=1, mover=.25)\n",
    "    group2 = dict(n=1, n_inf=1, mover=.95)\n",
    "    groups = [group1, group2]\n",
    "    sim = Sim(groups=groups, square=10, **params)\n",
    "    sim.run()\n",
    "\n",
    "    chart_params = dict(\n",
    "        dotsize=200,\n",
    "        show_intro=False, use_init_func=False, \n",
    "        interval=200, \n",
    "        layout='dots_only', reso_format='web'\n",
    "    )\n",
    "    chart = Chart(sim, **chart_params).save(PATH + 'float_mover.mp4')"
   ]
  },
  {
   "cell_type": "markdown",
   "metadata": {},
   "source": [
    "<video width='705' height='340' style=\"display:block; margin: 0 auto;\"\n",
    "    src='https://storage.googleapis.com/rknotvids/keycons/float_mover.mp4' controls>alternative text</video>\n",
    "<p></p>"
   ]
  },
  {
   "cell_type": "markdown",
   "metadata": {},
   "source": [
    "___\n",
    "### Boxes and Gates ###\n",
    "The movement of a subject across the Grid can be restricted by two concepts known as Boxes and Gates. These concepts are designed to mimick certain funcitonal or perceived boundaries between groups, such as international borders or closed-access communities like assisted-living facilities.\n",
    "\n",
    "The distinction between boxes and gates is simple:\n",
    "\n",
    "* Subjects *cannot* **exit** Boxes\n",
    "* Subjects *cannot* **enter** Gates"
   ]
  },
  {
   "cell_type": "markdown",
   "metadata": {},
   "source": [
    "#### Boxes ####\n",
    "A box is a $m*n$ subset of locations within the Grid that a subject(s) cannot leave.\n",
    "\n",
    "The locations are specified by passing a four element iterable that specifies the coordinates of the \"four corners\" of the box according to [$x_0$, $x_1$, $y_0$, $y_1$]\n",
    "\n",
    "So passing:\n",
    "```python\n",
    "box = [2,6,3,9]\n",
    "```\n",
    "creates a box with the four corners:\n",
    "```python\n",
    "(2,3)   (2,9)    (6,3)   (6,9)\n",
    "```"
   ]
  },
  {
   "cell_type": "code",
   "execution_count": 17,
   "metadata": {
    "tags": [
     "hide_input"
    ]
   },
   "outputs": [
    {
     "data": {
      "text/markdown": [
       "and a total of 35 locations."
      ],
      "text/plain": [
       "<IPython.core.display.Markdown object>"
      ]
     },
     "metadata": {},
     "output_type": "display_data"
    }
   ],
   "source": [
    "from rknot.space import Box\n",
    "box = Box([2,6,3,9], square=10)\n",
    "msg = \"and a total of {} locations.\".format(box.n_locs)\n",
    "\n",
    "md(msg)"
   ]
  },
  {
   "cell_type": "markdown",
   "metadata": {},
   "source": [
    "Currently, a box *can only be specified* by \n",
    "\n",
    "1. passing the `box` parameter as group keyword\n",
    "2. by passing a [`vbox`](#VBoxes). \n",
    "\n",
    "Every dot in the group can only move within the `box`, regardless of the size of the Grid."
   ]
  },
  {
   "cell_type": "markdown",
   "metadata": {},
   "source": [
    "```python\n",
    "group1 = dict(name='1', n=2, n_inf=1, box=[1,3,2,4])\n",
    "\n",
    "sim = Sim(groups=group1, square=10, **params)\n",
    "sim.run()\n",
    "\n",
    "chart = Chart(\n",
    "    sim, figsize=(16,8), dotsize=2000, \n",
    "    layout='dots_only', show_intro=False, use_init_func=False\n",
    ")\n",
    "chart.to_html5_video()\n",
    "```"
   ]
  },
  {
   "cell_type": "code",
   "execution_count": 18,
   "metadata": {
    "nbsphinx": "hidden"
   },
   "outputs": [
    {
     "data": {
      "application/vnd.jupyter.widget-view+json": {
       "model_id": "2f3b65f905874f2fbc3216bc9f928ed4",
       "version_major": 2,
       "version_minor": 0
      },
      "text/plain": [
       "HBox(children=(FloatProgress(value=0.0, layout=Layout(flex='2'), max=93.0), HTML(value='')), layout=Layout(dis…"
      ]
     },
     "metadata": {},
     "output_type": "display_data"
    },
    {
     "name": "stdout",
     "output_type": "stream",
     "text": [
      "\n"
     ]
    },
    {
     "data": {
      "application/vnd.jupyter.widget-view+json": {
       "model_id": "d558f73cb05f4c1ca64d5829759eca97",
       "version_major": 2,
       "version_minor": 0
      },
      "text/plain": [
       "HBox(children=(FloatProgress(value=0.0, layout=Layout(flex='2'), max=50.0), HTML(value='')), layout=Layout(dis…"
      ]
     },
     "metadata": {},
     "output_type": "display_data"
    },
    {
     "name": "stdout",
     "output_type": "stream",
     "text": [
      "\n"
     ]
    }
   ],
   "source": [
    "if RUN:\n",
    "    group1 = dict(name='1', n=2, n_inf=1, box=[1,3,2,4])\n",
    "\n",
    "    sim = Sim(groups=group1, square=10, **params)    \n",
    "    sim.run()\n",
    "if SHOW_CHARTS:\n",
    "    chart = Chart(sim, figsize=(16,8), dotsize=2000, layout='dots_only', show_intro=False)    \n",
    "    HTML(chart.animate.to_html5_video())\n",
    "if SAVE_CHARTS:\n",
    "    chart_params = dict(\n",
    "            show_intro=False, use_init_func=False, \n",
    "            interval=200,\n",
    "            layout='dots_only', reso_format='web'\n",
    "        )\n",
    "    chart = Chart(sim, **chart_params).save(PATH + 'boxes1.mp4')"
   ]
  },
  {
   "cell_type": "markdown",
   "metadata": {},
   "source": [
    "<video width='705' height='340' \n",
    "    src='https://storage.googleapis.com/rknotvids/keycons/boxes1.mp4' controls>alternative text</video>\n",
    "<p></p>"
   ]
  },
  {
   "cell_type": "markdown",
   "metadata": {},
   "source": [
    "A group can only have one box and each group can have its own box."
   ]
  },
  {
   "cell_type": "markdown",
   "metadata": {},
   "source": [
    "```python\n",
    "group1 = dict(name='1', n=2, n_inf=1, box=[1,3,2,4])\n",
    "group2 = dict(name='2', n=2, n_inf=0, box=[6,9,6,10])\n",
    "groups = [group1, group2]\n",
    "\n",
    "sim = Sim(groups=groups, square=10, **params)\n",
    "sim.run()\n",
    "\n",
    "chart = Chart(\n",
    "    sim, figsize=(16,8), dotsize=2000, \n",
    "    layout='dots_only', show_intro=False, use_init_func=False\n",
    ")\n",
    "chart.to_html5_video()\n",
    "```"
   ]
  },
  {
   "cell_type": "code",
   "execution_count": 19,
   "metadata": {
    "nbsphinx": "hidden"
   },
   "outputs": [
    {
     "data": {
      "application/vnd.jupyter.widget-view+json": {
       "model_id": "bcc2005a7d3541a2a456dcf0bfa15e30",
       "version_major": 2,
       "version_minor": 0
      },
      "text/plain": [
       "HBox(children=(FloatProgress(value=0.0, layout=Layout(flex='2'), max=93.0), HTML(value='')), layout=Layout(dis…"
      ]
     },
     "metadata": {},
     "output_type": "display_data"
    },
    {
     "name": "stdout",
     "output_type": "stream",
     "text": [
      "\n"
     ]
    },
    {
     "data": {
      "application/vnd.jupyter.widget-view+json": {
       "model_id": "4eb6585204f54bcdb8808927076883ec",
       "version_major": 2,
       "version_minor": 0
      },
      "text/plain": [
       "HBox(children=(FloatProgress(value=0.0, layout=Layout(flex='2'), max=50.0), HTML(value='')), layout=Layout(dis…"
      ]
     },
     "metadata": {},
     "output_type": "display_data"
    },
    {
     "name": "stdout",
     "output_type": "stream",
     "text": [
      "\n"
     ]
    }
   ],
   "source": [
    "if RUN:\n",
    "    group1 = dict(name='1', n=2, n_inf=1, box=[1,3,2,4])\n",
    "    group2 = dict(name='2', n=2, n_inf=0, box=[6,9,6,10])\n",
    "    groups = [group1, group2]\n",
    "    \n",
    "    sim = Sim(groups=groups, square=10, **params)\n",
    "    sim.run()\n",
    "if SHOW_CHARTS:\n",
    "    chart = Chart(sim, figsize=(16,8), dotsize=2000, layout='dots_only', show_intro=False) \n",
    "    HTML(chart.animate.to_html5_video())\n",
    "if SAVE_CHARTS:\n",
    "    chart_params = dict(\n",
    "            show_intro=False, use_init_func=False, \n",
    "            interval=200, \n",
    "            layout='dots_only', reso_format='web'\n",
    "        )\n",
    "    chart = Chart(sim, **chart_params).save(PATH + 'boxes2.mp4')"
   ]
  },
  {
   "cell_type": "markdown",
   "metadata": {},
   "source": [
    "<video width='705' height='340' \n",
    "    src='https://storage.googleapis.com/rknotvids/keycons/boxes2.mp4' controls>alternative text</video>\n",
    "<p></p>"
   ]
  },
  {
   "cell_type": "markdown",
   "metadata": {},
   "source": [
    "Remember that a box only restricts the subjects in that group from *leaving* the space. Other dots not assigned to that box can move into the space without restriction."
   ]
  },
  {
   "cell_type": "markdown",
   "metadata": {},
   "source": [
    "```python\n",
    "group1 = dict(name='1', n=5, n_inf=1, box=[1,3,1,3])\n",
    "group2 = dict(name='2', n=5, n_inf=0)\n",
    "groups = [group1, group2]\n",
    "\n",
    "sim = Sim(groups=groups, square=10, **params)\n",
    "sim.run()\n",
    "\n",
    "chart = Chart(sim, figsize=(16,8), dotsize=2000, layout='dots_only', show_intro=False)\n",
    "chart.to_html5_video()\n",
    "```"
   ]
  },
  {
   "cell_type": "code",
   "execution_count": 20,
   "metadata": {
    "nbsphinx": "hidden"
   },
   "outputs": [
    {
     "data": {
      "application/vnd.jupyter.widget-view+json": {
       "model_id": "f93ea0bde5084ba1a099d5c8e4015ebc",
       "version_major": 2,
       "version_minor": 0
      },
      "text/plain": [
       "HBox(children=(FloatProgress(value=0.0, layout=Layout(flex='2'), max=93.0), HTML(value='')), layout=Layout(dis…"
      ]
     },
     "metadata": {},
     "output_type": "display_data"
    },
    {
     "name": "stdout",
     "output_type": "stream",
     "text": [
      "\n"
     ]
    },
    {
     "data": {
      "application/vnd.jupyter.widget-view+json": {
       "model_id": "100ceb125f0f421489c91787a61f96ef",
       "version_major": 2,
       "version_minor": 0
      },
      "text/plain": [
       "HBox(children=(FloatProgress(value=0.0, layout=Layout(flex='2'), max=50.0), HTML(value='')), layout=Layout(dis…"
      ]
     },
     "metadata": {},
     "output_type": "display_data"
    },
    {
     "name": "stdout",
     "output_type": "stream",
     "text": [
      "\n"
     ]
    }
   ],
   "source": [
    "if RUN:\n",
    "    params = {'R0': 2.5, 'days': 50, 'imndur': 365, 'infdur': 365}\n",
    "    group1 = dict(name='1', n=5, n_inf=1, box=[1,3,1,3])\n",
    "    group2 = dict(name='2', n=5, n_inf=0)\n",
    "    groups = [group1, group2]\n",
    "\n",
    "    sim = Sim(groups=groups, square=10, **params)\n",
    "    sim.run()\n",
    "if SHOW_CHARTS:\n",
    "    chart = Chart(sim, figsize=(16,8), dotsize=2000, layout='dots_only', show_intro=False)\n",
    "    HTML(chart.animate.to_html5_video())\n",
    "\n",
    "if SAVE_CHARTS:\n",
    "    chart_params = dict(\n",
    "            show_intro=False, use_init_func=False, \n",
    "            interval=200, \n",
    "            layout='dots_only', reso_format='web'\n",
    "        )\n",
    "    chart = Chart(sim, **chart_params).save(PATH + 'boxes3.mp4')"
   ]
  },
  {
   "cell_type": "markdown",
   "metadata": {},
   "source": [
    "<video width='705' height='340' \n",
    "    src='https://storage.googleapis.com/rknotvids/keycons/boxes3.mp4' controls>alternative text</video>\n",
    "<br>\n",
    "<p></p>"
   ]
  },
  {
   "cell_type": "markdown",
   "metadata": {},
   "source": [
    "#### Gates ####\n",
    "Gates are the inverse of boxes. A gate is an area that subjects cannot enter.\n",
    "\n",
    "Gates are a Gate object, which are a subclass of the Box class (in turn a subclass of ndarray), and they are created via the same 4 element iterable. For now, a gate can only be created by passing the `box_is_gated=True` flag as a keyword in a group dictionary, or by specifying a `vbox`.\n",
    "\n",
    "Using the previous example, we can see that `group2` dots can no longer enter the `group1` box."
   ]
  },
  {
   "cell_type": "markdown",
   "metadata": {},
   "source": [
    "```python\n",
    "group1 = dict(name='1', n=5, n_inf=1, box=[1,3,1,3], box_is_gated=True)\n",
    "group2 = dict(name='2', n=5, n_inf=0)\n",
    "groups = [group1, group2]\n",
    "\n",
    "sim = Sim(groups=groups, square=10, **params)\n",
    "sim.run()\n",
    "\n",
    "chart = Chart(\n",
    "    sim, figsize=(16,8), dotsize=2000, layout='dots_only', show_intro=False,\n",
    "    use_init_func=False\n",
    ")\n",
    "chart.to_html5_video()\n",
    "```"
   ]
  },
  {
   "cell_type": "code",
   "execution_count": 21,
   "metadata": {
    "nbsphinx": "hidden"
   },
   "outputs": [
    {
     "data": {
      "application/vnd.jupyter.widget-view+json": {
       "model_id": "30762c4cc27f44a482c24b84804cfd9d",
       "version_major": 2,
       "version_minor": 0
      },
      "text/plain": [
       "HBox(children=(FloatProgress(value=0.0, layout=Layout(flex='2'), max=93.0), HTML(value='')), layout=Layout(dis…"
      ]
     },
     "metadata": {},
     "output_type": "display_data"
    },
    {
     "name": "stdout",
     "output_type": "stream",
     "text": [
      "\n"
     ]
    },
    {
     "data": {
      "application/vnd.jupyter.widget-view+json": {
       "model_id": "100831ab52cc4fb1a41e4bbf54abd1a5",
       "version_major": 2,
       "version_minor": 0
      },
      "text/plain": [
       "HBox(children=(FloatProgress(value=0.0, layout=Layout(flex='2'), max=50.0), HTML(value='')), layout=Layout(dis…"
      ]
     },
     "metadata": {},
     "output_type": "display_data"
    },
    {
     "name": "stdout",
     "output_type": "stream",
     "text": [
      "\n"
     ]
    }
   ],
   "source": [
    "if RUN:\n",
    "    group1 = dict(name='1', n=5, n_inf=1, box=[1,3,1,3], box_is_gated=True)\n",
    "    group2 = dict(name='2', n=5, n_inf=0)\n",
    "    groups = [group1, group2]\n",
    "\n",
    "    sim = Sim(groups=groups, square=10, **params)\n",
    "    sim.run()\n",
    "if SHOW_CHARTS:\n",
    "    chart = Chart(\n",
    "        sim, figsize=(16,8), dotsize=2000, layout='dots_only', show_intro=False, use_init_func=False\n",
    "    )\n",
    "    HTML(chart.to_html5_video())\n",
    "if SAVE_CHARTS:\n",
    "    chart_params = dict(\n",
    "            show_intro=False, use_init_func=False, \n",
    "            interval=200, \n",
    "            layout='dots_only', reso_format='web'\n",
    "        )\n",
    "    chart = Chart(sim, **chart_params).save(PATH + 'gates1.mp4')"
   ]
  },
  {
   "cell_type": "markdown",
   "metadata": {},
   "source": [
    "<video width='705' height='340' \n",
    "    src='https://storage.googleapis.com/rknotvids/keycons/gates1.mp4' controls>alternative text</video>\n",
    "<p></p>"
   ]
  },
  {
   "cell_type": "markdown",
   "metadata": {},
   "source": [
    "This structure allows for intricate movement patterns. We show isolated groups below. \n",
    "\n",
    "We will also provide the `show_restricted=True` flag, which will outline the boxes and gates for us. It will also the label the restricted area with the name of the group used to form the it."
   ]
  },
  {
   "cell_type": "markdown",
   "metadata": {},
   "source": [
    "```python\n",
    "group1 = dict(name='1', n=50, n_inf=5, box=[1,5,1,20], box_is_gated=True)\n",
    "group2 = dict(name='2', n=50, n_inf=5, box=[6,25,3,10], box_is_gated=True)\n",
    "group3 = dict(name='3', n=50, n_inf=5, box=[10,21,16,22], box_is_gated=True)\n",
    "group4 = dict(name='4', n=50, n_inf=5, box=[2,15,23,25], box_is_gated=True)\n",
    "groups = [group1, group2, group3, group4]\n",
    "\n",
    "sim = Sim(groups=groups, square=25, **params)\n",
    "sim.run()\n",
    "\n",
    "chart = Chart(sim, \n",
    "    figsize=(16,8), layout='dots_only', show_intro=False, use_init_func=False,\n",
    "    show_restricted=True,\n",
    ")\n",
    "chart.to_html5_video()\n",
    "```"
   ]
  },
  {
   "cell_type": "code",
   "execution_count": null,
   "metadata": {
    "nbsphinx": "hidden"
   },
   "outputs": [],
   "source": [
    "if RUN:\n",
    "    group1 = dict(name='1', n=50, n_inf=5, box=[1,5,1,20], box_is_gated=True)\n",
    "    group2 = dict(name='2', n=50, n_inf=5, box=[6,25,3,10], box_is_gated=True)\n",
    "    group3 = dict(name='3', n=50, n_inf=5, box=[10,21,16,22], box_is_gated=True)\n",
    "    group4 = dict(name='4', n=50, n_inf=5, box=[2,15,23,25], box_is_gated=True)\n",
    "    groups = [group1, group2, group3, group4]\n",
    "\n",
    "    sim = Sim(groups=groups, square=25, **params)\n",
    "    sim.run()"
   ]
  },
  {
   "cell_type": "code",
   "execution_count": 38,
   "metadata": {
    "nbsphinx": "hidden"
   },
   "outputs": [],
   "source": [
    "if SHOW_CHARTS:\n",
    "    chart = Chart(sim, figsize=(16,8), dotsize=200, layout='dots_only', show_intro=False, \n",
    "        show_restricted=True,\n",
    "    )\n",
    "    HTML(chart.to_html5_video())"
   ]
  },
  {
   "cell_type": "code",
   "execution_count": 3,
   "metadata": {
    "nbsphinx": "hidden"
   },
   "outputs": [],
   "source": [
    "if SAVE_CHARTS:\n",
    "    chart_params = dict(\n",
    "            show_intro=False, use_init_func=False, \n",
    "            interval=200, dotsize=5,\n",
    "            layout='dots_only', reso_format='web',\n",
    "            show_restricted=True,\n",
    "    )\n",
    "    chart = Chart(sim, **chart_params).save(PATH + 'gates2.mp4')"
   ]
  },
  {
   "cell_type": "markdown",
   "metadata": {},
   "source": [
    "<video width='705' height='340' \n",
    "    src='https://storage.googleapis.com/rknotvids/keycons/gates2.mp4' controls>alternative text</video>\n",
    "<p></p>"
   ]
  },
  {
   "cell_type": "markdown",
   "metadata": {},
   "source": [
    "And here some isolated and some free moving."
   ]
  },
  {
   "cell_type": "markdown",
   "metadata": {},
   "source": [
    "```python\n",
    "group1 = dict(name='1', n=50, n_inf=5, box=[1,5,1,5], box_is_gated=True)\n",
    "group2 = dict(name='2', n=50, n_inf=5, box=[14,19,14,19], box_is_gated=True)\n",
    "group3 = dict(name='4', n=10, n_inf=5)\n",
    "group4 = dict(name='4', n=10, n_inf=5)\n",
    "groups = [group1, group2, group3, group4]\n",
    "\n",
    "sim = Sim(groups=groups, square=25, **params)\n",
    "sim.run()\n",
    "\n",
    "chart = Chart(\n",
    "    sim, figsize=(16,8), layout='dots_only', \n",
    "      show_intro=False, use_init_func=False\n",
    ")\n",
    "chart.to_html5_video()\n",
    "```"
   ]
  },
  {
   "cell_type": "code",
   "execution_count": 6,
   "metadata": {
    "nbsphinx": "hidden"
   },
   "outputs": [
    {
     "data": {
      "application/vnd.jupyter.widget-view+json": {
       "model_id": "28b1e92f6af8487cadcfd4b7fc6742ee",
       "version_major": 2,
       "version_minor": 0
      },
      "text/plain": [
       "HBox(children=(FloatProgress(value=0.0, layout=Layout(flex='2'), max=93.0), HTML(value='')), layout=Layout(dis…"
      ]
     },
     "metadata": {},
     "output_type": "display_data"
    },
    {
     "name": "stdout",
     "output_type": "stream",
     "text": [
      "\n"
     ]
    },
    {
     "data": {
      "application/vnd.jupyter.widget-view+json": {
       "model_id": "c302402c590041d3b695a8e83e100436",
       "version_major": 2,
       "version_minor": 0
      },
      "text/plain": [
       "HBox(children=(FloatProgress(value=0.0, layout=Layout(flex='2'), max=50.0), HTML(value='')), layout=Layout(dis…"
      ]
     },
     "metadata": {},
     "output_type": "display_data"
    },
    {
     "name": "stdout",
     "output_type": "stream",
     "text": [
      "\n"
     ]
    }
   ],
   "source": [
    "if RUN:\n",
    "    from rknot import Sim\n",
    "    \n",
    "    params = {'R0': 2.5, 'days': 50, 'imndur': 365, 'infdur': 365}\n",
    "    group1 = dict(name='1', n=50, n_inf=5, box=[1,5,1,5], box_is_gated=True)\n",
    "    group2 = dict(name='2', n=50, n_inf=5, box=[14,19,14,19], box_is_gated=True)\n",
    "    group3 = dict(name='4', n=10, n_inf=5)\n",
    "    group4 = dict(name='4', n=10, n_inf=5)\n",
    "    groups = [group1, group2, group3, group4]\n",
    "\n",
    "    sim = Sim(groups=groups, square=25, **params)\n",
    "    sim.run()\n",
    "if SHOW_CHARTS:\n",
    "    chart = Chart(sim, figsize=(16,8), layout='dots_only', show_intro=False)\n",
    "    HTML(chart.animate.to_html5_video())\n",
    "if SAVE_CHARTS:\n",
    "    chart_params = dict(\n",
    "            show_intro=False, use_init_func=False, \n",
    "            interval=200, dotsize=5,\n",
    "            layout='dots_only', reso_format='web'\n",
    "        )\n",
    "    chart = Chart(sim, **chart_params).save(PATH + 'gates3.mp4')"
   ]
  },
  {
   "cell_type": "markdown",
   "metadata": {},
   "source": [
    "<video width='705' height='340' style=\"display:block; margin: 0 auto;\"\n",
    "    src='https://storage.googleapis.com/rknotvids/keycons/gates3.mp4' controls>alternative text</video>\n",
    "<br>"
   ]
  },
  {
   "cell_type": "markdown",
   "metadata": {},
   "source": [
    "#### VBoxes ####\n",
    "\n",
    "A VBox is a vacant area of the Grid, meaning there are no subjects inside the box at the initiation of the Sim and that no subjects can enter the VBox except via Travel events.\n",
    "\n",
    "VBoxes can be used to customize contact patterns, as done in the [Dynamic Transmission Risk](load.ipynb) simulations. They can also be used to mimick areas that people typically only visit, rather than reside in, such as hospitals, sports arenas, office buildings, etc.\n",
    "\n",
    "VBoxes are simply box objects and can be created by passing the `vboxes` parameter to `Sim`. VBoxes are always setup with a corresponding gate.\n",
    "\n",
    "***IMPORANT***: A VBox is $\\underline{\\text{not}}$ included in the density calculation of the grid size."
   ]
  },
  {
   "cell_type": "markdown",
   "metadata": {},
   "source": [
    "If we pass an integer, `Sim` will create a VBox with the value corresponding to the number of locations in the VBox. The VBox will be placed in the top-left corner of the Grid."
   ]
  },
  {
   "cell_type": "markdown",
   "metadata": {},
   "source": [
    "```python\n",
    "from rknot import Sim\n",
    "\n",
    "vbox = 4\n",
    "\n",
    "groups = [\n",
    "    dict(n=10, n_inf=1, mover='social'),\n",
    "    dict(n=10, n_inf=1, mover='local')\n",
    "]\n",
    "params = {'R0': 2.5, 'days': 50, 'imndur': 365, 'infdur': 365, 'vboxes': vbox}\n",
    "sim = Sim(groups=groups, **params)\n",
    "sim.run(dotlog=True)\n",
    "\n",
    "chart = Chart(\n",
    "    sim, figsize=(16,8), layout='dots_only', \n",
    "      show_intro=False, use_init_func=False\n",
    ")\n",
    "chart.to_html5_video()\n",
    "```"
   ]
  },
  {
   "cell_type": "code",
   "execution_count": 4,
   "metadata": {
    "nbsphinx": "hidden"
   },
   "outputs": [
    {
     "data": {
      "application/vnd.jupyter.widget-view+json": {
       "model_id": "3e59912338e54d5ea3b2c6db98fd0325",
       "version_major": 2,
       "version_minor": 0
      },
      "text/plain": [
       "HBox(children=(FloatProgress(value=0.0, layout=Layout(flex='2'), max=93.0), HTML(value='')), layout=Layout(dis…"
      ]
     },
     "metadata": {},
     "output_type": "display_data"
    },
    {
     "name": "stdout",
     "output_type": "stream",
     "text": [
      "[4]\n",
      "\n"
     ]
    },
    {
     "data": {
      "application/vnd.jupyter.widget-view+json": {
       "model_id": "37df5d9f1f9a41988978fe5d468c7852",
       "version_major": 2,
       "version_minor": 0
      },
      "text/plain": [
       "HBox(children=(FloatProgress(value=0.0, layout=Layout(flex='2'), max=50.0), HTML(value='')), layout=Layout(dis…"
      ]
     },
     "metadata": {},
     "output_type": "display_data"
    },
    {
     "name": "stdout",
     "output_type": "stream",
     "text": [
      "\n"
     ]
    },
    {
     "name": "stderr",
     "output_type": "stream",
     "text": [
      "/Users/spindicate/Documents/programming/rknot/rknot/animate/main.py:226: UserWarning: When `reso_format='web', you must call the save method at the same time as instantiating the object, or it will hang.\n",
      "  warnings.warn(msg)\n"
     ]
    },
    {
     "data": {
      "application/vnd.jupyter.widget-view+json": {
       "model_id": "cc3c851e78cb47be8519244fea779bdc",
       "version_major": 2,
       "version_minor": 0
      },
      "text/plain": [
       "HBox(children=(FloatProgress(value=0.0, max=50.0), HTML(value='')))"
      ]
     },
     "metadata": {},
     "output_type": "display_data"
    }
   ],
   "source": [
    "if RUN:\n",
    "    from rknot import Sim\n",
    "    \n",
    "    vbox = 4\n",
    "\n",
    "    groups = [\n",
    "        dict(n=10, n_inf=1, mover='social'),\n",
    "        dict(n=10, n_inf=1, mover='local')\n",
    "    ]\n",
    "    params = {'R0': 2.5, 'days': 50, 'imndur': 365, 'infdur': 365, 'vboxes': vbox}\n",
    "    sim = Sim(groups=groups, **params)\n",
    "    sim.run(dotlog=True)\n",
    "    \n",
    "if SHOW_CHARTS:\n",
    "    chart = Chart(sim, figsize=(16,8), layout='dots_only', show_intro=False)\n",
    "    HTML(chart.animate.to_html5_video())\n",
    "if SAVE_CHARTS:\n",
    "    from rknot import Chart\n",
    "    chart_params = dict(\n",
    "            show_intro=False, use_init_func=False, \n",
    "            interval=200, dotsize=5, show_restricted=True,\n",
    "            layout='dots_only', reso_format='web'\n",
    "        )\n",
    "    chart = Chart(sim, **chart_params).save(PATH + 'vbox1.mp4')"
   ]
  },
  {
   "cell_type": "markdown",
   "metadata": {},
   "source": [
    "<video width='705' height='340' style=\"display:block; margin: 0 auto;\"\n",
    "    src='https://storage.googleapis.com/rknotvids/keycons/vbox1.mp4' controls>alternative text</video>\n",
    "<p></p>"
   ]
  },
  {
   "cell_type": "markdown",
   "metadata": {},
   "source": [
    "We can also pass a boundary as a 4 item iterable."
   ]
  },
  {
   "cell_type": "markdown",
   "metadata": {},
   "source": [
    "```python\n",
    "from rknot import Sim\n",
    "\n",
    "vbox = [1,3,1,3]\n",
    "\n",
    "groups = [\n",
    "    dict(n=10, n_inf=1, mover='social'),\n",
    "    dict(n=10, n_inf=1, mover='local')\n",
    "]\n",
    "params = {'R0': 2.5, 'days': 50, 'imndur': 365, 'infdur': 365, 'vboxes': vbox}\n",
    "sim = Sim(groups=groups, **params)\n",
    "sim.run(dotlog=True)\n",
    "\n",
    "chart = Chart(\n",
    "    sim, figsize=(16,8), layout='dots_only', \n",
    "      show_intro=False, use_init_func=False\n",
    ")\n",
    "chart.to_html5_video()\n",
    "```"
   ]
  },
  {
   "cell_type": "code",
   "execution_count": 5,
   "metadata": {
    "nbsphinx": "hidden"
   },
   "outputs": [
    {
     "data": {
      "application/vnd.jupyter.widget-view+json": {
       "model_id": "87fadc29157e4cd3b372eb26015de391",
       "version_major": 2,
       "version_minor": 0
      },
      "text/plain": [
       "HBox(children=(FloatProgress(value=0.0, layout=Layout(flex='2'), max=93.0), HTML(value='')), layout=Layout(dis…"
      ]
     },
     "metadata": {},
     "output_type": "display_data"
    },
    {
     "name": "stdout",
     "output_type": "stream",
     "text": [
      "\n"
     ]
    },
    {
     "data": {
      "application/vnd.jupyter.widget-view+json": {
       "model_id": "bed6984809ce4e88876efa86b8b1ffbb",
       "version_major": 2,
       "version_minor": 0
      },
      "text/plain": [
       "HBox(children=(FloatProgress(value=0.0, layout=Layout(flex='2'), max=50.0), HTML(value='')), layout=Layout(dis…"
      ]
     },
     "metadata": {},
     "output_type": "display_data"
    },
    {
     "name": "stdout",
     "output_type": "stream",
     "text": [
      "\n"
     ]
    },
    {
     "name": "stderr",
     "output_type": "stream",
     "text": [
      "/Users/spindicate/Documents/programming/rknot/rknot/animate/main.py:226: UserWarning: When `reso_format='web', you must call the save method at the same time as instantiating the object, or it will hang.\n",
      "  warnings.warn(msg)\n"
     ]
    },
    {
     "data": {
      "application/vnd.jupyter.widget-view+json": {
       "model_id": "53bf4e911acf4a198c886b49561ec986",
       "version_major": 2,
       "version_minor": 0
      },
      "text/plain": [
       "HBox(children=(FloatProgress(value=0.0, max=50.0), HTML(value='')))"
      ]
     },
     "metadata": {},
     "output_type": "display_data"
    }
   ],
   "source": [
    "if RUN:\n",
    "    from rknot import Sim\n",
    "    \n",
    "    vbox = [1,3,1,3]\n",
    "\n",
    "    groups = [\n",
    "        dict(n=10, n_inf=1, mover='social'),\n",
    "        dict(n=10, n_inf=1, mover='local')\n",
    "    ]\n",
    "    params = {'R0': 2.5, 'days': 50, 'imndur': 365, 'infdur': 365, 'vboxes': vbox}\n",
    "    sim = Sim(groups=groups, **params)\n",
    "    sim.run(dotlog=True)\n",
    "    \n",
    "if SHOW_CHARTS:\n",
    "    chart = Chart(sim, figsize=(16,8), layout='dots_only', show_intro=False)\n",
    "    HTML(chart.animate.to_html5_video())\n",
    "if SAVE_CHARTS:\n",
    "    from rknot import Chart\n",
    "    chart_params = dict(\n",
    "            show_intro=False, use_init_func=False, \n",
    "            interval=200, dotsize=5, show_restricted=True,\n",
    "            layout='dots_only', reso_format='web'\n",
    "        )\n",
    "    chart = Chart(sim, **chart_params).save(PATH + 'vbox2.mp4')"
   ]
  },
  {
   "cell_type": "markdown",
   "metadata": {},
   "source": [
    "<video width='705' height='340' style=\"display:block; margin: 0 auto;\"\n",
    "    src='https://storage.googleapis.com/rknotvids/keycons/vbox2.mp4' controls>alternative text</video>\n",
    "<p></p>"
   ]
  },
  {
   "cell_type": "markdown",
   "metadata": {},
   "source": [
    "We can pass a dictionary and include the `label` keyword to indicate a name for the VBox.\n",
    "\n",
    "We've included a couple `Travel` objects to show how the VBox can be accessed. Simply assign the index of the `vbox` as a parameter to `Travel` and the `Sim` will determine the location automatically."
   ]
  },
  {
   "cell_type": "markdown",
   "metadata": {},
   "source": [
    "```python\n",
    "from rknot import Sim\n",
    "from rknot.events import Travel\n",
    "\n",
    "vbox = {'box': [1,3,1,3], 'label': 'Hospital'}\n",
    "\n",
    "groups = [\n",
    "    dict(n=10, n_inf=1, mover='social'),\n",
    "    dict(n=10, n_inf=1, mover='local')\n",
    "]\n",
    "params = {'R0': 2.5, 'days': 50, 'imndur': 365, 'infdur': 365, 'vboxes': vbox}\n",
    "events = [\n",
    "    Travel(\n",
    "        name='vbox_event', start_tick=3, recurring=3,\n",
    "        groups=[0,1], capacity=1, vbox=0, \n",
    "    )\n",
    "]\n",
    "sim = Sim(groups=groups, events=events, **params)\n",
    "sim.run(dotlog=True)\n",
    "\n",
    "chart = Chart(\n",
    "    sim, figsize=(16,8), layout='dots_only', \n",
    "      show_intro=False, use_init_func=False\n",
    ")\n",
    "chart.to_html5_video()\n",
    "```"
   ]
  },
  {
   "cell_type": "code",
   "execution_count": 32,
   "metadata": {
    "nbsphinx": "hidden"
   },
   "outputs": [
    {
     "data": {
      "application/vnd.jupyter.widget-view+json": {
       "model_id": "3137243f602b4b41a803ed765e0e47b0",
       "version_major": 2,
       "version_minor": 0
      },
      "text/plain": [
       "HBox(children=(FloatProgress(value=0.0, layout=Layout(flex='2'), max=93.0), HTML(value='')), layout=Layout(dis…"
      ]
     },
     "metadata": {},
     "output_type": "display_data"
    },
    {
     "name": "stdout",
     "output_type": "stream",
     "text": [
      "[{'box': [1, 3, 1, 3], 'label': 'Hospital'}]\n",
      "\n"
     ]
    },
    {
     "data": {
      "application/vnd.jupyter.widget-view+json": {
       "model_id": "18fbf29404f54b4cab80bf5316552ab3",
       "version_major": 2,
       "version_minor": 0
      },
      "text/plain": [
       "HBox(children=(FloatProgress(value=0.0, layout=Layout(flex='2'), max=50.0), HTML(value='')), layout=Layout(dis…"
      ]
     },
     "metadata": {},
     "output_type": "display_data"
    },
    {
     "name": "stdout",
     "output_type": "stream",
     "text": [
      "\n"
     ]
    },
    {
     "name": "stderr",
     "output_type": "stream",
     "text": [
      "/Users/spindicate/Documents/programming/rknot/rknot/animate/main.py:226: UserWarning: When `reso_format='web', you must call the save method at the same time as instantiating the object, or it will hang.\n",
      "  warnings.warn(msg)\n"
     ]
    },
    {
     "data": {
      "application/vnd.jupyter.widget-view+json": {
       "model_id": "85fd4163c6bb4270bcf5fe39c9ba4e84",
       "version_major": 2,
       "version_minor": 0
      },
      "text/plain": [
       "HBox(children=(FloatProgress(value=0.0, max=50.0), HTML(value='')))"
      ]
     },
     "metadata": {},
     "output_type": "display_data"
    }
   ],
   "source": [
    "RUN = SAVE_CHARTS = True\n",
    "if RUN:\n",
    "    from rknot import Sim\n",
    "    from rknot.events import Travel\n",
    "    \n",
    "    vbox = {'box': [1,3,1,3], 'label': 'Hospital'}\n",
    "\n",
    "    groups = [\n",
    "        dict(n=10, n_inf=1, mover='social'),\n",
    "        dict(n=10, n_inf=1, mover='local')\n",
    "    ]\n",
    "    events = [\n",
    "        Travel(\n",
    "            name='travel1', start_tick=3, recurring=3,\n",
    "            groups=[0,1], capacity=1, vbox=0, \n",
    "        ),\n",
    "        Travel(\n",
    "            name='travel2', start_tick=2, recurring=4,\n",
    "            groups=[0,1], capacity=2, vbox=0, \n",
    "        ),\n",
    "    ]\n",
    "    params = {'R0': 2.5, 'days': 50, 'imndur': 365, 'infdur': 365, 'vboxes': vbox}\n",
    "    sim = Sim(groups=groups, events=events, **params)\n",
    "    sim.run(dotlog=True)\n",
    "    \n",
    "if SHOW_CHARTS:\n",
    "    chart = Chart(sim, figsize=(16,8), layout='dots_only', show_intro=False)\n",
    "    HTML(chart.animate.to_html5_video())\n",
    "if SAVE_CHARTS:\n",
    "    from rknot import Chart\n",
    "    chart_params = dict(\n",
    "            show_intro=False, use_init_func=False, \n",
    "            interval=200, dotsize=5, show_restricted=True,\n",
    "            layout='dots_only', reso_format='web'\n",
    "        )\n",
    "    chart = Chart(sim, **chart_params).save(PATH + 'vbox3.mp4')"
   ]
  },
  {
   "cell_type": "markdown",
   "metadata": {},
   "source": [
    "<video width='705' height='340' \n",
    "    src='https://storage.googleapis.com/rknotvids/keycons/vbox3.mp4' controls>alternative text</video>\n",
    "<p></p>"
   ]
  },
  {
   "cell_type": "markdown",
   "metadata": {},
   "source": [
    "Finally, we can pass multiple VBoxes as a list of dictionaries."
   ]
  },
  {
   "cell_type": "markdown",
   "metadata": {},
   "source": [
    "```python\n",
    "from rknot import Sim\n",
    "\n",
    "vboxes = [\n",
    "    {'box': [1,3,1,3], 'label': 'Hospital'},\n",
    "    {'box': [5,7,1,3], 'label': 'Arena'}\n",
    "]\n",
    "\n",
    "groups = [\n",
    "    dict(n=20, n_inf=1, mover='social'),\n",
    "    dict(n=20, n_inf=1, mover='local')\n",
    "]\n",
    "params = {'R0': 2.5, 'days': 50, 'imndur': 365, 'infdur': 365, 'vboxes': vbox}\n",
    "sim = Sim(groups=groups, **params)\n",
    "sim.run(dotlog=True)\n",
    "\n",
    "chart = Chart(\n",
    "    sim, figsize=(16,8), layout='dots_only', \n",
    "      show_intro=False, use_init_func=False\n",
    ")\n",
    "chart.to_html5_video()\n",
    "```"
   ]
  },
  {
   "cell_type": "code",
   "execution_count": 10,
   "metadata": {
    "nbsphinx": "hidden"
   },
   "outputs": [
    {
     "data": {
      "application/vnd.jupyter.widget-view+json": {
       "model_id": "7d07ed37d1434ac082a65ea221709c16",
       "version_major": 2,
       "version_minor": 0
      },
      "text/plain": [
       "HBox(children=(FloatProgress(value=0.0, layout=Layout(flex='2'), max=93.0), HTML(value='')), layout=Layout(dis…"
      ]
     },
     "metadata": {},
     "output_type": "display_data"
    },
    {
     "name": "stdout",
     "output_type": "stream",
     "text": [
      "\n"
     ]
    },
    {
     "data": {
      "application/vnd.jupyter.widget-view+json": {
       "model_id": "9bc00697a190493eafea27d694e19a34",
       "version_major": 2,
       "version_minor": 0
      },
      "text/plain": [
       "HBox(children=(FloatProgress(value=0.0, layout=Layout(flex='2'), max=50.0), HTML(value='')), layout=Layout(dis…"
      ]
     },
     "metadata": {},
     "output_type": "display_data"
    },
    {
     "name": "stdout",
     "output_type": "stream",
     "text": [
      "\n"
     ]
    },
    {
     "name": "stderr",
     "output_type": "stream",
     "text": [
      "/Users/spindicate/Documents/programming/rknot/rknot/animate/main.py:226: UserWarning: When `reso_format='web', you must call the save method at the same time as instantiating the object, or it will hang.\n",
      "  warnings.warn(msg)\n"
     ]
    },
    {
     "data": {
      "application/vnd.jupyter.widget-view+json": {
       "model_id": "11efe47ba38d4235ace6dc686838ede8",
       "version_major": 2,
       "version_minor": 0
      },
      "text/plain": [
       "HBox(children=(FloatProgress(value=0.0, max=50.0), HTML(value='')))"
      ]
     },
     "metadata": {},
     "output_type": "display_data"
    }
   ],
   "source": [
    "if RUN:\n",
    "    from rknot import Sim\n",
    "    \n",
    "    vboxes = [\n",
    "        {'box': [1,3,1,3], 'label': 'Hospital'},\n",
    "        {'box': [5,7,1,3], 'label': 'Arena'}\n",
    "    ]\n",
    "\n",
    "    groups = [\n",
    "        dict(n=20, n_inf=1, mover='social'),\n",
    "        dict(n=20, n_inf=1, mover='local')\n",
    "    ]\n",
    "    params = {'R0': 2.5, 'days': 50, 'imndur': 365, 'infdur': 365, 'vboxes': vboxes}\n",
    "    sim = Sim(groups=groups, **params)\n",
    "    sim.run(dotlog=True)\n",
    "    \n",
    "if SHOW_CHARTS:\n",
    "    chart = Chart(sim, figsize=(16,8), layout='dots_only', show_intro=False)\n",
    "    HTML(chart.animate.to_html5_video())\n",
    "if SAVE_CHARTS:\n",
    "    from rknot import Chart\n",
    "    chart_params = dict(\n",
    "            show_intro=False, use_init_func=False, \n",
    "            interval=200, dotsize=5, show_restricted=True,\n",
    "            layout='dots_only', reso_format='web'\n",
    "        )\n",
    "    chart = Chart(sim, **chart_params).save(PATH + 'vbox4.mp4')"
   ]
  },
  {
   "cell_type": "markdown",
   "metadata": {},
   "source": [
    "<video width='705' height='340' \n",
    "    src='https://storage.googleapis.com/rknotvids/keycons/vbox4.mp4' controls>alternative text</video>\n",
    "<p></p>"
   ]
  },
  {
   "cell_type": "markdown",
   "metadata": {},
   "source": [
    "___\n",
    "### Events ###\n",
    "Events impact the attributes of subjects over the course of the simulation.\n",
    "\n",
    "Events are utilized to better simulate real-world behavior. \n",
    "\n",
    "For instance, people do not move in consistent, prescribed ways. They move in regular ways most of the time with contacts that are well defined, but sometimes they attend events (perhaps periodically or uniquely) that are not governed by their regular movement patterns."
   ]
  },
  {
   "cell_type": "markdown",
   "metadata": {},
   "source": [
    "#### Event ####\n",
    "An `Event` is an event that occurs at a particular location.\n",
    "\n",
    "An `Event` accepts the following parameters:\n",
    "\n",
    "* `xy`, the xy coordinates of the location\n",
    "* `start_tick`, the tick when the event begins\n",
    "* `groups`, an iterable of group ids that are eligible for the event\n",
    "* `capacity`, the number of subjects that should attend\n",
    "* `recurring`, how often the event recurs (i.e. every *nth* tick); if set to 0, the event does *not* recur\n",
    "\n",
    "When an `Event` concludes, the subject returns to its `home` location as specified in the dot matrix.\n",
    "\n",
    "To schedule an event, you must pass a list of event objects to the `events` parameter.\n",
    "\n",
    "To begin with, we'll create a single `Event` object, called `show`, that occurs once on day 5."
   ]
  },
  {
   "cell_type": "markdown",
   "metadata": {},
   "source": [
    "```python\n",
    "from rknot.events import Event\n",
    "\n",
    "params = {'square': 10, 'R0': 2.5, 'days': 50, 'imndur': 365, 'infdur': 365}\n",
    "group1 = dict(name='1', n=10, n_inf=5)\n",
    "\n",
    "show = Event(name='show', xy=(5,5), start_tick=5, groups=[0], capacity=10)\n",
    "events = [show]\n",
    "\n",
    "sim = Sim(groups=group1, events=events, **params)\n",
    "sim.run(dotlog=True)\n",
    "\n",
    "chart = Chart(sim, figsize=(16,8), layout='dots_only', show_intro=False)\n",
    "chart.to_html5_video()\n",
    "```"
   ]
  },
  {
   "cell_type": "code",
   "execution_count": 20,
   "metadata": {
    "nbsphinx": "hidden"
   },
   "outputs": [],
   "source": [
    "if RUN:\n",
    "    from rknot.events import Event\n",
    "\n",
    "    params = {'square': 10, 'R0': 2.5, 'days': 50, 'imndur': 365, 'infdur': 365}\n",
    "    group1 = dict(name='1', n=10, n_inf=5)\n",
    "\n",
    "    show = Event(name='show', xy=(5,5), start_tick=5, groups=[0], capacity=10)\n",
    "    events = [show]\n",
    "\n",
    "    sim = Sim(groups=group1, events=events, **params)\n",
    "    sim.run(dotlog=True)\n",
    "\n",
    "if SHOW_CHARTS:\n",
    "    chart = Chart(sim, figsize=(16,8), layout='dots_only', show_intro=False)    \n",
    "    HTML(chart.to_html5_video())\n",
    "if SAVE_CHARTS:\n",
    "    chart_params = dict(\n",
    "            show_intro=False, use_init_func=False, \n",
    "            interval=200,\n",
    "            layout='dots_only', reso_format='web'\n",
    "        )\n",
    "    chart = Chart(sim, **chart_params).save(PATH + 'event1.mp4')"
   ]
  },
  {
   "cell_type": "markdown",
   "metadata": {},
   "source": [
    "<video width='705' height='340' \n",
    "    src='https://storage.googleapis.com/rknotvids/keycons/event1.mp4' controls>alternative text</video>\n",
    "<p></p>"
   ]
  },
  {
   "cell_type": "markdown",
   "metadata": {},
   "source": [
    "If you watch closely, you'll see on Day 5 that all the dots seemingly disappear, save for one, at location (5,5). \n",
    "\n",
    "In fact, all 10 dots are *actually at that location at the same time*.\n",
    "\n",
    "We can confirm this by inspecting the [Dot Matrix](#) on that day via the `dotlog` attribute."
   ]
  },
  {
   "cell_type": "code",
   "execution_count": 21,
   "metadata": {
    "nbsphinx": "hidden"
   },
   "outputs": [
    {
     "data": {
      "application/vnd.jupyter.widget-view+json": {
       "model_id": "5bf21eba05624f07ba55e32f2c21ed62",
       "version_major": 2,
       "version_minor": 0
      },
      "text/plain": [
       "HBox(children=(FloatProgress(value=0.0, max=50.0), HTML(value='')))"
      ]
     },
     "metadata": {},
     "output_type": "display_data"
    }
   ],
   "source": [
    "from rknot.events import Event\n",
    "\n",
    "params = {'square': 10, 'R0': 2.5, 'days': 50, 'imndur': 365, 'infdur': 365}\n",
    "group1 = dict(name='1', n=10, n_inf=5)\n",
    "\n",
    "show = Event(name='show', xy=(5,5), start_tick=5, groups=[0], capacity=10)\n",
    "events = [show]\n",
    "\n",
    "sim = Sim(groups=group1, events=events, **params)\n",
    "sim.run(dotlog=True)"
   ]
  },
  {
   "cell_type": "code",
   "execution_count": 22,
   "metadata": {},
   "outputs": [
    {
     "data": {
      "text/plain": [
       "array([[5, 5],\n",
       "       [5, 5],\n",
       "       [5, 5],\n",
       "       [5, 5],\n",
       "       [5, 5],\n",
       "       [5, 5],\n",
       "       [5, 5],\n",
       "       [5, 5],\n",
       "       [5, 5],\n",
       "       [5, 5]])"
      ]
     },
     "execution_count": 22,
     "metadata": {},
     "output_type": "execute_result"
    }
   ],
   "source": [
    "from rknot.dots import MATRIX_COL_LABELS as ML\n",
    "sim.dotlog[4][:, ML['x']:ML['y']+1]"
   ]
  },
  {
   "cell_type": "markdown",
   "metadata": {},
   "source": [
    "We can see the event more clearly if we extend the duration to 10 days. We also significantly reduced the frame rate."
   ]
  },
  {
   "cell_type": "markdown",
   "metadata": {},
   "source": [
    "```python\n",
    "show = Event(name='show', xy=(5,5), start_tick=5, groups=[0], capacity=10, duration=10)\n",
    "events = [show]\n",
    "\n",
    "sim = Sim(groups=group1, events=events, **params)\n",
    "sim.run()\n",
    "\n",
    "chart = Chart(\n",
    "    sim, figsize=(16,8), dotsize=1000, interval=300, \n",
    "    layout='dots_only', show_intro=False, use_init_func=False\n",
    ")\n",
    "chart.to_html5.video()\n",
    "```"
   ]
  },
  {
   "cell_type": "code",
   "execution_count": 23,
   "metadata": {
    "nbsphinx": "hidden"
   },
   "outputs": [],
   "source": [
    "if RUN:\n",
    "    show = Event(name='show', xy=(5,5), start_tick=5, groups=[0], capacity=10, duration=10)\n",
    "    events = [show]\n",
    "\n",
    "    sim = Sim(groups=group1, events=events, **params)\n",
    "    sim.run()\n",
    "if SHOW_CHARTS:\n",
    "    chart = Chart(\n",
    "        sim, figsize=(16,8), dotsize=1000, interval=300, \n",
    "        layout='dots_only', show_intro=False\n",
    "    )\n",
    "    HTML(chart.animate.to_html5_video())\n",
    "if SAVE_CHARTS:\n",
    "    chart_params = dict(\n",
    "            show_intro=False, use_init_func=False, \n",
    "            interval=300, dotsize=5,\n",
    "            layout='dots_only', reso_format='web'\n",
    "        )\n",
    "    chart = Chart(sim, **chart_params).save(PATH + 'event2.mp4')"
   ]
  },
  {
   "cell_type": "markdown",
   "metadata": {},
   "source": [
    "<video width='705' height='340' \n",
    "    src='https://storage.googleapis.com/rknotvids/keycons/event2.mp4' controls>alternative text</video>\n",
    "<p></p>"
   ]
  },
  {
   "cell_type": "markdown",
   "metadata": {},
   "source": [
    "Many event objects can be specified at once, in various combinations of groups."
   ]
  },
  {
   "cell_type": "markdown",
   "metadata": {},
   "source": [
    "```python\n",
    "group1 = dict(name='1', n=10, n_inf=5)\n",
    "group2 = dict(name='2', n=10, n_inf=0)\n",
    "\n",
    "show = Event(name='show', xy=(5,5), start_tick=5, groups=[0,1], capacity=5, recurring=30)\n",
    "game = Event(name='game', xy=(1,1), start_tick=5, groups=[0], capacity=5, recurring=14)\n",
    "church = Event(name='church', xy=(1,1), start_tick=5, groups=[1], capacity=10, recurring=7)\n",
    "\n",
    "groups = [group1, group2]\n",
    "events = [show, game, church]\n",
    "\n",
    "sim = Sim(groups=groups, events=events, **params)\n",
    "sim.run()\n",
    "\n",
    "chart = Chart(\n",
    "    sim, interval=300, dotsize=1000, layout='dots_only', show_intro=False,\n",
    "    use_init_func=False\n",
    ")\n",
    "chart.to_html5_video()\n",
    "```"
   ]
  },
  {
   "cell_type": "code",
   "execution_count": 24,
   "metadata": {
    "nbsphinx": "hidden"
   },
   "outputs": [],
   "source": [
    "if RUN:\n",
    "    group1 = dict(name='1', n=10, n_inf=5)\n",
    "    group2 = dict(name='2', n=10, n_inf=0)\n",
    "\n",
    "    show = Event(name='show', xy=(5,5), start_tick=5, groups=[0,1], capacity=5, recurring=30)\n",
    "    game = Event(name='game', xy=(1,1), start_tick=5, groups=[0], capacity=5, recurring=14)\n",
    "    church = Event(name='church', xy=(1,1), start_tick=5, groups=[1], capacity=10, recurring=7)\n",
    "\n",
    "    groups = [group1, group2]\n",
    "    events = [show, game, church]\n",
    "\n",
    "    sim = Sim(groups=groups, events=events, **params)\n",
    "    sim.run()\n",
    "if SHOW_CHARTS:\n",
    "    chart = Chart(\n",
    "        sim, interval=300, dotsize=1000, layout='dots_only', show_intro=False\n",
    "    )\n",
    "    HTML(chart.animate.to_html5_video())\n",
    "if SAVE_CHARTS:\n",
    "    chart_params = dict(\n",
    "            show_intro=False, use_init_func=False, \n",
    "            interval=200,\n",
    "            layout='dots_only', reso_format='web'\n",
    "        )\n",
    "    chart = Chart(sim, **chart_params).save(PATH + 'event3.mp4')"
   ]
  },
  {
   "cell_type": "markdown",
   "metadata": {},
   "source": [
    "<video width='705' height='340' \n",
    "    src='https://storage.googleapis.com/rknotvids/keycons/event3.mp4' controls>alternative text</video>\n",
    "<br>"
   ]
  },
  {
   "cell_type": "markdown",
   "metadata": {},
   "source": [
    "___\n",
    "#### Travel ####\n",
    "Travel is a special type of event that allows a subject to enter a gate.\n",
    "\n",
    "When a dot enters a gate via a Travel object, its box and gate attributes are temporarily adjusted to match those of the groups within the gate. The attributes revert when the event ends (determined by `duration` parameter).\n",
    "\n",
    "Once inside the gate, the dot(s) are free to interact with other dots normally."
   ]
  },
  {
   "cell_type": "markdown",
   "metadata": {},
   "source": [
    "```python\n",
    "from rknot.events import Travel\n",
    "\n",
    "params = {'square': 10, 'R0': 2.5, 'days': 50, 'imndur': 365, 'infdur': 365}\n",
    "\n",
    "group1 = dict(name='1', n=1, n_inf=1, box=[1,5,1,5], box_is_gated=True)\n",
    "group2 = dict(name='2', n=10, n_inf=0, box=[6,10,6,10], box_is_gated=True)\n",
    "\n",
    "visit = Travel(\n",
    "    name='visit', xy=[1,1], start_tick=3, groups=[1], capacity=1, duration=5, recurring=10\n",
    ")\n",
    "\n",
    "groups = [group1, group2]\n",
    "events = [visit]\n",
    "\n",
    "sim = Sim(groups=groups, events=events, **params)\n",
    "sim.run()\n",
    "\n",
    "chart = Chart(\n",
    "    sim, interval=200, dotsize=2000, layout='dots_only', show_intro=False\n",
    "    use_init_func=False\n",
    ")\n",
    "chartto_html5_video()\n",
    "```"
   ]
  },
  {
   "cell_type": "code",
   "execution_count": 25,
   "metadata": {
    "nbsphinx": "hidden"
   },
   "outputs": [],
   "source": [
    "if RUN:\n",
    "    from rknot.events import Travel\n",
    "\n",
    "    params = {'square': 10, 'R0': 2.5, 'days': 50, 'imndur': 365, 'infdur': 365}\n",
    "\n",
    "    group1 = dict(name='1', n=1, n_inf=1, box=[1,5,1,5], box_is_gated=True)\n",
    "    group2 = dict(name='2', n=10, n_inf=0, box=[6,10,6,10], box_is_gated=True)\n",
    "\n",
    "    visit = Travel(\n",
    "        name='visit', xy=[1,1], start_tick=3, groups=[1], capacity=1, duration=5, recurring=10\n",
    "    )\n",
    "\n",
    "    groups = [group1, group2]\n",
    "    events = [visit]\n",
    "\n",
    "    sim = Sim(groups=groups, events=events, **params)\n",
    "    sim.run()\n",
    "if SHOW_CHARTS:\n",
    "    chart = Chart(\n",
    "        sim, interval=200, dotsize=2000, layout='dots_only', show_intro=False\n",
    "    )\n",
    "    HTML(chart.animate.to_html5_video())\n",
    "if SAVE_CHARTS:\n",
    "    chart_params = dict(\n",
    "            show_intro=False, use_init_func=False, \n",
    "            interval=200, dotsize=5,\n",
    "            layout='dots_only', reso_format='web'\n",
    "        )\n",
    "    chart = Chart(sim, **chart_params).save(PATH + 'travel1.mp4')"
   ]
  },
  {
   "cell_type": "markdown",
   "metadata": {},
   "source": [
    "<video width='705' height='340' \n",
    "    src='https://storage.googleapis.com/rknotvids/keycons/travel1.mp4' controls>alternative text</video>\n",
    "<p></p>"
   ]
  },
  {
   "cell_type": "markdown",
   "metadata": {},
   "source": [
    "Many unique layouturations can be achieved with this structure. Below, the `group1` box will be vacated by the solitary `group1` dot (essentially switching places with a dot from `group2`)."
   ]
  },
  {
   "cell_type": "markdown",
   "metadata": {},
   "source": [
    "```python\n",
    "from rknot.events import Travel\n",
    "\n",
    "params = {'square': 10, 'R0': 2.5, 'days': 50, 'imndur': 365, 'infdur': 365}\n",
    "\n",
    "group1 = dict(name='1', n=1, n_inf=1, box=[1,5,1,5], box_is_gated=True)\n",
    "group2 = dict(name='2', n=10, n_inf=0, box=[6,10,6,10], box_is_gated=True)\n",
    "\n",
    "visit2 = Travel(\n",
    "    name='visit2', xy=[9,9], start_tick=3, groups=[0], capacity=1, duration=5, recurring=10\n",
    ")\n",
    "visit1 = Travel(\n",
    "    name='visit1', xy=[1,1], start_tick=3, groups=[1], capacity=1, duration=5, recurring=10\n",
    ")\n",
    "groups = [group1, group2]\n",
    "events = [visit2, visit1]\n",
    "\n",
    "sim = Sim(groups=groups, events=events, **params)\n",
    "sim.run()\n",
    "\n",
    "chart = Chart(\n",
    "    sim, interval=200, dotsize=2000, layout='dots_only', show_intro=False,\n",
    "    use_init_func=False\n",
    ")\n",
    "chart.to_html5_video()\n",
    "```"
   ]
  },
  {
   "cell_type": "code",
   "execution_count": 26,
   "metadata": {
    "nbsphinx": "hidden"
   },
   "outputs": [],
   "source": [
    "if RUN:\n",
    "    from rknot.events import Travel\n",
    "\n",
    "    params = {'square': 10, 'R0': 2.5, 'days': 50, 'imndur': 365, 'infdur': 365}\n",
    "\n",
    "    group1 = dict(name='1', n=1, n_inf=1, box=[1,5,1,5], box_is_gated=True)\n",
    "    group2 = dict(name='2', n=10, n_inf=0, box=[6,10,6,10], box_is_gated=True)\n",
    "\n",
    "    visit2 = Travel(\n",
    "        name='visit2', xy=[9,9], start_tick=3, groups=[0], capacity=1, duration=5, recurring=10\n",
    "    )\n",
    "    visit1 = Travel(\n",
    "        name='visit1', xy=[1,1], start_tick=3, groups=[1], capacity=1, duration=5, recurring=10\n",
    "    )\n",
    "    groups = [group1, group2]\n",
    "    events = [visit2, visit1]\n",
    "\n",
    "    sim = Sim(groups=groups, events=events, **params)\n",
    "    sim.run()\n",
    "if SHOW_CHARTS:\n",
    "    chart = Chart(\n",
    "        sim, interval=200, dotsize=2000, layout='dots_only', show_intro=False\n",
    "    )\n",
    "    HTML(chart.animate.to_html5_video())\n",
    "if SAVE_CHARTS:\n",
    "    chart_params = dict(\n",
    "            show_intro=False, use_init_func=False, \n",
    "            interval=200, dotsize=5,\n",
    "            layout='dots_only', reso_format='web'\n",
    "        )\n",
    "    chart = Chart(sim, **chart_params).save(PATH + 'travel2.mp4')"
   ]
  },
  {
   "cell_type": "markdown",
   "metadata": {},
   "source": [
    "<video width='705' height='340' \n",
    "    src='https://storage.googleapis.com/rknotvids/keycons/travel2.mp4' controls>alternative text</video>\n",
    "<br>"
   ]
  },
  {
   "cell_type": "markdown",
   "metadata": {},
   "source": [
    "___\n",
    "#### Quarantine ###\n",
    "\n",
    "A quarantine is an event object that makes several changes to a dots state\n",
    "in order to restrict its movement.\n",
    "\n",
    "When a dot is quarantined,\n",
    "    \n",
    "1. it goes back to its home location ([see Dot Matrix](#Dot-Matrix))\n",
    "2. its boxes and gates are reset to match its group\n",
    "3. its mover function is changed to 'quarantine'\n",
    "\n",
    "In addition, a Quarantine object will create a additional restriction objects that disallow events during the quarantine ([see Restrictions below](#Restrictions))"
   ]
  },
  {
   "cell_type": "markdown",
   "metadata": {},
   "source": [
    "```python\n",
    "from rknot.events import Quarantine\n",
    "\n",
    "params = {'square': 10, 'R0': 2.5, 'days': 50, 'imndur': 365, 'infdur': 365}\n",
    "\n",
    "group1 = dict(name='1', n=2, n_inf=1, box=[1,5,1,5], box_is_gated=True)\n",
    "group2 = dict(name='2', n=2, n_inf=0, box=[6,10,6,10], box_is_gated=True)\n",
    "\n",
    "quar = Quarantine(name='all', start_tick=5, groups=[0,1], duration=30)\n",
    "\n",
    "groups = [group1, group2]\n",
    "events = [quar]\n",
    "\n",
    "sim = Sim(groups=groups, events=events, **params)\n",
    "sim.run()\n",
    "\n",
    "chart = Chart(\n",
    "    sim, interval=200, dotsize=2000, layout='dots_only', show_intro=False,\n",
    "    use_init_func=False\n",
    ")\n",
    "chart.to_html5_video()\n",
    "```"
   ]
  },
  {
   "cell_type": "code",
   "execution_count": 27,
   "metadata": {
    "nbsphinx": "hidden"
   },
   "outputs": [],
   "source": [
    "if RUN:\n",
    "    from rknot.events import Quarantine\n",
    "\n",
    "    params = {'square': 10, 'R0': 2.5, 'days': 50, 'imndur': 365, 'infdur': 365}\n",
    "\n",
    "    group1 = dict(name='1', n=2, n_inf=1, box=[1,5,1,5], box_is_gated=True)\n",
    "    group2 = dict(name='2', n=2, n_inf=0, box=[6,10,6,10], box_is_gated=True)\n",
    "\n",
    "    quar = Quarantine(name='all', start_tick=5, groups=[0,1], duration=30)\n",
    "\n",
    "    groups = [group1, group2]\n",
    "    events = [quar]\n",
    "\n",
    "    sim = Sim(groups=groups, events=events, **params)\n",
    "    sim.run()\n",
    "if SHOW_CHARTS:\n",
    "    chart = Chart(\n",
    "        sim, interval=200, dotsize=2000, layout='dots_only', show_intro=False,\n",
    "        use_init_func=False\n",
    "    )\n",
    "    HTML(chart.animate.to_html5_video())\n",
    "if SAVE_CHARTS:\n",
    "    chart_params = dict(\n",
    "            show_intro=False, use_init_func=False, \n",
    "            interval=200, dotsize=5,\n",
    "            layout='dots_only', reso_format='web'\n",
    "        )\n",
    "    chart = Chart(sim, **chart_params).save(PATH + 'quar1.mp4')"
   ]
  },
  {
   "cell_type": "markdown",
   "metadata": {},
   "source": [
    "<video width='705' height='340' \n",
    "    src='https://storage.googleapis.com/rknotvids/keycons/quar1.mp4' controls>alternative text</video>"
   ]
  },
  {
   "cell_type": "markdown",
   "metadata": {},
   "source": [
    "We can see from above that once in quaratine, the subjects barely move. We can include events in our structure. The events will be restricted during the quarantine period, then will resume when the quarantine ends."
   ]
  },
  {
   "cell_type": "markdown",
   "metadata": {},
   "source": [
    "```python\n",
    "params = {'square': 10, 'R0': 2.5, 'days': 100, 'imndur': 365, 'infdur': 365}\n",
    "\n",
    "group1 = dict(name='1', n=1, n_inf=1, box=[1,5,1,5], box_is_gated=True)\n",
    "group2 = dict(name='2', n=10, n_inf=0, box=[6,10,6,10], box_is_gated=True)\n",
    "\n",
    "show = Event(name='show', xy=(6,6), start_tick=5, groups=[1], capacity=5, recurring=30)\n",
    "visit2 = Travel(\n",
    "    name='visit2', xy=[9,9], start_tick=3, groups=[0], capacity=1, duration=5, recurring=10\n",
    ")\n",
    "visit1 = Travel(\n",
    "    name='visit1', xy=[1,1], start_tick=3, groups=[1], capacity=1, duration=5, recurring=10\n",
    ")\n",
    "\n",
    "groups = [group1, group2]\n",
    "events = [show, visit2, visit1, quar]\n",
    "\n",
    "sim = Sim(groups=groups, events=events, **params)\n",
    "sim.run()\n",
    "\n",
    "chart = Chart(\n",
    "    sim, interval=200, dotsize=2000, layout='dots_only', show_intro=False,\n",
    "    use_init_func=False,\n",
    ")\n",
    "chart.to_html5_video()\n",
    "```"
   ]
  },
  {
   "cell_type": "code",
   "execution_count": 28,
   "metadata": {
    "nbsphinx": "hidden"
   },
   "outputs": [],
   "source": [
    "if RUN:\n",
    "    params = {'square': 10, 'R0': 2.5, 'days': 100, 'imndur': 365, 'infdur': 365}\n",
    "\n",
    "    group1 = dict(name='1', n=1, n_inf=1, box=[1,5,1,5], box_is_gated=True)\n",
    "    group2 = dict(name='2', n=10, n_inf=0, box=[6,10,6,10], box_is_gated=True)\n",
    "\n",
    "    show = Event(name='show', xy=(6,6), start_tick=5, groups=[1], capacity=5, recurring=30)\n",
    "    visit2 = Travel(\n",
    "        name='visit2', xy=[9,9], start_tick=3, groups=[0], capacity=1, duration=5, recurring=10\n",
    "    )\n",
    "    visit1 = Travel(\n",
    "        name='visit1', xy=[1,1], start_tick=3, groups=[1], capacity=1, duration=5, recurring=10\n",
    "    )\n",
    "\n",
    "    groups = [group1, group2]\n",
    "    events = [show, visit2, visit1, quar]\n",
    "\n",
    "    sim = Sim(groups=groups, events=events, **params)\n",
    "    sim.run()\n",
    "if SHOW_CHARTS:\n",
    "    chart = Chart(\n",
    "        sim, interval=200, dotsize=2000, layout='no_details', show_intro=False\n",
    "    )    \n",
    "    HTML(chart.animate.to_html5_video())    \n",
    "if SAVE_CHARTS:\n",
    "    chart_params = dict(\n",
    "            show_intro=False, use_init_func=False, \n",
    "            interval=200, dotsize=5,\n",
    "            layout='dots_only', reso_format='web'\n",
    "        )\n",
    "    chart = Chart(sim, **chart_params).save(PATH + 'quar2.mp4')"
   ]
  },
  {
   "cell_type": "markdown",
   "metadata": {},
   "source": [
    "<video width='705' height='340' \n",
    "    src='https://storage.googleapis.com/rknotvids/keycons/quar2.mp4' controls>alternative text</video>\n",
    "<br>"
   ]
  },
  {
   "cell_type": "markdown",
   "metadata": {},
   "source": [
    "___\n",
    "#### Social Distancing ####\n",
    "Event to mimick social distancing practices.\n",
    "\n",
    "Social distancing is assumed to impact the Transmission Factor, $\\tau$ of each dot. The core hypothesis is that practices such as maintaining 6-feet of distance or mask wearing don't reduce the number of contacts, but do reduce the likelihood that a contact will result in a new infection (ceterus paribus).\n",
    "\n",
    "You can see use of this object [here](sir.ipynb#2.-Social-Distancing)."
   ]
  },
  {
   "cell_type": "markdown",
   "metadata": {},
   "source": [
    "___\n",
    "#### Vaccination ###\n",
    "TBD"
   ]
  },
  {
   "cell_type": "markdown",
   "metadata": {},
   "source": [
    "___\n",
    "#### Restrictions ####\n",
    "A restriction object restricts attendance to events that fall within the specified criteria. Each event has a `restricted` attribute that defaults to `False`. A restriction object filters out events from the event schedule by setting `restricted=True` for each event that satisfies the criteria.\n",
    "\n",
    "To clarify, a Restriction is *not* an event. Events act on dots. Restrictions act on events.\n",
    "\n",
    "Restrictions have potential as a versatile tool that can be used to investigate the impact of various government and business policy decisions that impact spread."
   ]
  },
  {
   "cell_type": "markdown",
   "metadata": {},
   "source": [
    "The Restriction object has a `criteria` parameter that accepts a `dict`, with keywords related to event object attributes. Acceptable `criteria` keys are currently:"
   ]
  },
  {
   "cell_type": "code",
   "execution_count": 29,
   "metadata": {
    "tags": [
     "hide_input"
    ]
   },
   "outputs": [
    {
     "data": {
      "text/markdown": [
       "capacity name ticks groups loc_id"
      ],
      "text/plain": [
       "<IPython.core.display.Markdown object>"
      ]
     },
     "metadata": {},
     "output_type": "display_data"
    }
   ],
   "source": [
    "from rknot.helpers import md\n",
    "from rknot.events import Restriction\n",
    "msg = ' '.join(list(Restriction.OPERATORS.keys()))\n",
    "md(msg)"
   ]
  },
  {
   "cell_type": "markdown",
   "metadata": {},
   "source": [
    "The simplest way to restrict an event is by its name:"
   ]
  },
  {
   "cell_type": "markdown",
   "metadata": {},
   "source": [
    "```python\n",
    "from rknot.events import Restriction\n",
    "\n",
    "params = {'square': 10, 'R0': 2.5, 'days': 100, 'imndur': 365, 'infdur': 365}\n",
    "\n",
    "group1 = dict(name='1', n=10, n_inf=1, box=[1,5,1,5], box_is_gated=True)\n",
    "group2 = dict(name='2', n=10, n_inf=0, box=[6,10,6,10], box_is_gated=True)\n",
    "\n",
    "show1 = Event(name='show1', xy=(1,1), start_tick=2, groups=[0], capacity=10, recurring=2)\n",
    "show2 = Event(name='show2', xy=(10,10), start_tick=2, groups=[1], capacity=10, recurring=2)\n",
    "\n",
    "\n",
    "criteria = {'name': 'show1'}\n",
    "res1 = Restriction(name='no_show1', start_tick=10, duration=20, criteria=criteria)\n",
    "\n",
    "groups = [group1, group2]\n",
    "events = [show1, show2, res1]\n",
    "\n",
    "sim = Sim(groups=groups, events=events, **params)\n",
    "sim.run(dotlog=True)\n",
    "\n",
    "chart = Chart(\n",
    "    sim, interval=300, dotsize=2000, layout='dots_only', show_intro=False,\n",
    "    use_init_func=False,\n",
    ")\n",
    "chart.to_html5_video()\n",
    "```"
   ]
  },
  {
   "cell_type": "code",
   "execution_count": 30,
   "metadata": {
    "nbsphinx": "hidden"
   },
   "outputs": [],
   "source": [
    "if RUN:\n",
    "    from rknot.events import Restriction\n",
    "\n",
    "    params = {'square': 10, 'R0': 2.5, 'days': 100, 'imndur': 365, 'infdur': 365}\n",
    "\n",
    "    group1 = dict(name='1', n=10, n_inf=1, box=[1,5,1,5], box_is_gated=True)\n",
    "    group2 = dict(name='2', n=10, n_inf=0, box=[6,10,6,10], box_is_gated=True)\n",
    "\n",
    "    show1 = Event(name='show1', xy=(1,1), start_tick=2, groups=[0], capacity=10, recurring=2)\n",
    "    show2 = Event(name='show2', xy=(10,10), start_tick=2, groups=[1], capacity=10, recurring=2)\n",
    "\n",
    "\n",
    "    criteria = {'name': 'show1'}\n",
    "    res1 = Restriction(name='no_show1', start_tick=10, duration=20, criteria=criteria)\n",
    "\n",
    "    groups = [group1, group2]\n",
    "    events = [show1, show2, res1]\n",
    "\n",
    "    sim = Sim(groups=groups, events=events, **params)\n",
    "    sim.run(dotlog=True)\n",
    "if SHOW_CHARTS:\n",
    "    chart = Chart(\n",
    "        sim, interval=300, dotsize=2000, layout='dots_only', show_intro=False\n",
    "    )\n",
    "    HTML(chart.animate.to_html5_video())      \n",
    "if SAVE_CHARTS:\n",
    "    chart_params = dict(\n",
    "            show_intro=False, use_init_func=False, \n",
    "            interval=300,\n",
    "            layout='dots_only', reso_format='web'\n",
    "        )\n",
    "    chart = Chart(sim, **chart_params).save(PATH + 'restrict1.mp4')"
   ]
  },
  {
   "cell_type": "markdown",
   "metadata": {},
   "source": [
    "<video width='705' height='340' \n",
    "    src='https://storage.googleapis.com/rknotvids/keycons/restrict1.mp4' controls>alternative text</video>\n",
    "<p></p>"
   ]
  },
  {
   "cell_type": "markdown",
   "metadata": {},
   "source": [
    "In the above, we can see that every other day both group boxes have events that are attended by all dots in the group.\n",
    "\n",
    "But on day 10, the `group1` dots no longer converge on location (1,1). Instead, they are spread throughout their box. So `res1` has successfully restricted attendance to `show1`.\n",
    "\n",
    "Unlike `Quarantine` objects, however, the `group1` dots have not changed their standard movement patterns.\n",
    "\n",
    "We can restrict multiple events via the other criteria. Next we will restrict events based on their capacity. Events with more than 5 subjects in attendance will be restricted."
   ]
  },
  {
   "cell_type": "markdown",
   "metadata": {},
   "source": [
    "```python\n",
    "criteria = {'capacity': 5}\n",
    "res1 = Restriction(name='cap5', start_tick=10, duration=20, criteria=criteria)\n",
    "\n",
    "groups = [group1, group2]\n",
    "events = [show1, show2, res1]\n",
    "\n",
    "sim = Sim(groups=groups, events=events, **params)\n",
    "sim.run()\n",
    "\n",
    "chart = Chart(\n",
    "    sim, interval=300, dotsize=2000, layout='dots_only', show_intro=False,\n",
    "    use_init_func=False,\n",
    ")\n",
    "chart.to_html5_video()\n",
    "```"
   ]
  },
  {
   "cell_type": "code",
   "execution_count": 31,
   "metadata": {
    "nbsphinx": "hidden"
   },
   "outputs": [],
   "source": [
    "if RUN:\n",
    "    criteria = {'capacity': 5}\n",
    "    res1 = Restriction(name='cap5', start_tick=10, duration=20, criteria=criteria)\n",
    "\n",
    "    groups = [group1, group2]\n",
    "    events = [show1, show2, res1]\n",
    "\n",
    "    sim = Sim(groups=groups, events=events, **params)\n",
    "    sim.run()\n",
    "if SHOW_CHARTS:\n",
    "    chart = Chart(\n",
    "        sim, interval=300, dotsize=2000, layout='dots_only', show_intro=False\n",
    "    )\n",
    "    HTML(chart.animate.to_html5_video())\n",
    "if SAVE_CHARTS:\n",
    "    chart_params = dict(\n",
    "            show_intro=False, use_init_func=False, \n",
    "            interval=300,\n",
    "            layout='dots_only', reso_format='web'\n",
    "        )\n",
    "    chart = Chart(sim, **chart_params).save(PATH + 'restrict2.mp4')"
   ]
  },
  {
   "cell_type": "markdown",
   "metadata": {},
   "source": [
    "<video width='705' height='340' \n",
    "    src='https://storage.googleapis.com/rknotvids/keycons/restrict2.mp4' controls>alternative text</video>\n",
    "<p></p>"
   ]
  },
  {
   "cell_type": "markdown",
   "metadata": {},
   "source": [
    "In the above we see that neither of the groups had events from day 10 onward during the restriction period."
   ]
  },
  {
   "cell_type": "markdown",
   "metadata": {},
   "source": [
    "Restrictions can be chained together as desired to form a complex and tailored policy recipe for the population of the sim. [See this example](#)."
   ]
  },
  {
   "cell_type": "markdown",
   "metadata": {},
   "source": [
    "### Dot Matrix ###"
   ]
  },
  {
   "cell_type": "code",
   "execution_count": 32,
   "metadata": {
    "tags": [
     "hide_input"
    ]
   },
   "outputs": [
    {
     "data": {
      "text/markdown": [
       "The dot matrix is essentially RKnot's canonical form of data structure. The matrix is simply a 2D `numpy` array of shape (*n*, 23) with each of the *n* rows representing a dot and each column representing an attribute.\n"
      ],
      "text/plain": [
       "<IPython.core.display.Markdown object>"
      ]
     },
     "metadata": {},
     "output_type": "display_data"
    }
   ],
   "source": [
    "from rknot.dots import MATRIX_LABELS as LABELS\n",
    "msg = \"The dot matrix is essentially RKnot's canonical form of data structure. \"\n",
    "msg += \"The matrix is simply a 2D `numpy` array of shape (*n*, {}) \".format(len(LABELS))\n",
    "msg += \"with each of the *n* rows representing a dot and each column representing \"\n",
    "msg += \"an attribute.\\n\"\n",
    "\n",
    "md(msg)"
   ]
  },
  {
   "cell_type": "markdown",
   "metadata": {},
   "source": [
    " More typical Python objects have been eschewed in favor the Dot Matrix because:\n",
    "\n",
    "* **RKnot** relies heavily on [Ray](https://docs.ray.io/en/latest/) for parallel processing and [Numba](https://numba.pydata.org/) for just-in-time compilation and vectorization to improve processing speed.\n",
    "* `Numpy` arrays have several advantages in **Ray** including [rapid serialization](https://ray-project.github.io/2017/10/15/fast-python-serialization-with-ray-and-arrow.html) and ease of batching.\n",
    "* **Numba** also integrates well with `numpy`, supporting many of its features and leads to major performance improvements."
   ]
  },
  {
   "cell_type": "markdown",
   "metadata": {},
   "source": [
    "The dot matrix is created inside a **Ray** actor at instantiation and is only passed back to the main `Sim` object when the simulation is completed.\n",
    "\n",
    "It can be accessed via the `dots` attribute. Below is a sample of 4 dots:"
   ]
  },
  {
   "cell_type": "code",
   "execution_count": 33,
   "metadata": {
    "scrolled": true
   },
   "outputs": [
    {
     "data": {
      "text/plain": [
       "array([[  0,   0,   1,   0,   0,   1,   1,  65,   7,   6,  54,   6,   5,\n",
       "          0,   0,  -1,   0, 100, 650,   0,  -1, 365, 730],\n",
       "       [  1,   0,   1,   0,   0,   1,   1,  77,   8,   8,  22,   3,   3,\n",
       "          0,   0,  -1,   0, 100, 650,   0,  -1, 365, 730],\n",
       "       [  2,   0,   1,   0,   0,   1,   1,  11,   2,   2,  88,   9,   9,\n",
       "          0,   0,  -1,   0, 100, 650,   0,  -1, 365, 730],\n",
       "       [  3,   0,   1,   0,   0,   1,   1,  27,   3,   8,  96,  10,   7,\n",
       "          0,   0,  -1,   0, 100, 650,  42,  -1, 407, 772]])"
      ]
     },
     "execution_count": 33,
     "metadata": {},
     "output_type": "execute_result"
    }
   ],
   "source": [
    "sim.dots[:4]"
   ]
  },
  {
   "cell_type": "markdown",
   "metadata": {},
   "source": [
    "The column attributes have corresponding labels:"
   ]
  },
  {
   "cell_type": "code",
   "execution_count": 11,
   "metadata": {},
   "outputs": [
    {
     "name": "stdout",
     "output_type": "stream",
     "text": [
      "['id', 'group_id', 'is_alive', 'is_vaxxed', 'is_sus', 'is_inf', 'ever_inf', 'loc_id', 'x', 'y', 'home_id', 'homex', 'homey', 'go_home', 'box_id', 'event_id', 'mover', 'mover_p', 'tmf', 'ifr', 'inf_tick', 'depart', 'recover', 'relapse']\n"
     ]
    }
   ],
   "source": [
    "from rknot.dots import MATRIX_LABELS\n",
    "print (MATRIX_LABELS)"
   ]
  },
  {
   "cell_type": "markdown",
   "metadata": {},
   "source": [
    "With these labels, the 4 dot matrix above can be shown in a table."
   ]
  },
  {
   "cell_type": "code",
   "execution_count": 13,
   "metadata": {
    "tags": [
     "hide_input"
    ]
   },
   "outputs": [
    {
     "data": {
      "text/markdown": [
       "| id | group_id | is_alive | is_vaxxed | is_sus | is_inf | ever_inf | loc_id | x | y | home_id | homex | homey | go_home | box_id | event_id | mover | mover_p | tmf | ifr | inf_tick | depart | recover | relapse | \n",
       "| :---: | :---: | :---: | :---: | :---: | :---: | :---: | :---: | :---: | :---: | :---: | :---: | :---: | :---: | :---: | :---: | :---: | :---: | :---: | :---: | :---: | :---: | :---: | :---: | \n",
       "| 0 | 0 | 1 | 0 | 1 | 0 | 0 | 46 | 6 | 7 | 36 | 5 | 5 | 0 | 0 | -1 | 4 | -999 | 100 | 0 | -1 | -1 | -1 | -1 | \n",
       "| 1 | 0 | 1 | 0 | 1 | 0 | 0 | 61 | 8 | 6 | 27 | 4 | 4 | 0 | 0 | -1 | 4 | -999 | 100 | 0 | -1 | -1 | -1 | -1 | \n",
       "| 2 | 0 | 1 | 0 | 1 | 0 | 0 | 52 | 7 | 5 | 58 | 8 | 3 | 0 | 0 | -1 | 4 | -999 | 100 | 0 | -1 | -1 | -1 | -1 | \n",
       "| 3 | 0 | 1 | 0 | 1 | 0 | 0 | 20 | 3 | 5 | 3 | 1 | 4 | 0 | 0 | -1 | 4 | -999 | 100 | 0 | -1 | -1 | -1 | -1 | \n",
       "| 4 | 0 | 1 | 0 | 1 | 0 | 0 | 15 | 2 | 8 | 24 | 4 | 1 | 0 | 0 | -1 | 4 | -999 | 100 | 0 | -1 | -1 | -1 | -1 |"
      ],
      "text/plain": [
       "<IPython.core.display.Markdown object>"
      ]
     },
     "metadata": {},
     "output_type": "display_data"
    }
   ],
   "source": [
    "from rknot.notebook import md\n",
    "\n",
    "msg = '| ' + ' '.join(['{} |'.format(label) for label in MATRIX_LABELS])\n",
    "msg += ' \\n'\n",
    "msg += '| ' + ' '.join([':---: |' for label in MATRIX_LABELS])\n",
    "for dot in sim.dots[:5]:\n",
    "    msg += ' \\n'\n",
    "    msg += '| ' + ' '.join(['{} |'.format(dot[i]) for i, label in enumerate(MATRIX_LABELS)])\n",
    "    \n",
    "md(msg)"
   ]
  },
  {
   "cell_type": "markdown",
   "metadata": {},
   "source": [
    "There are several data types at work:    \n",
    "\n",
    "* *categorical integers*; used to identify related objects\n",
    "    * `id`, `group_id`, `loc_id`, `home_id`, `box_id`, `event_id`, `mover`\n",
    "    \n",
    "* *boolean integers*; used to set boolean flags\n",
    "    * `0` means `False` and `1` means `True`\n",
    "    * `is_alive`, `is_vaxxed`, `is_sus`, `is_inf`, `ever_inf`, `go_home`\n",
    "\n",
    "* *coordinates*; used to identify locations\n",
    "    * `x`, `y`, `homex`, `homey`\n",
    "\n",
    "* *event ticks*; integers that trigger an event on the given tick\n",
    "    * `depart`, `recover`, `relapse`\n",
    "\n",
    "* *factors*; scaled integers that must be unscaled before being used in multiplicative formulas\n",
    "    * `tmf`, `ifr`"
   ]
  },
  {
   "cell_type": "markdown",
   "metadata": {},
   "source": [
    "The column attributes are defined as follows:"
   ]
  },
  {
   "cell_type": "code",
   "execution_count": 14,
   "metadata": {
    "tags": [
     "hide_input"
    ]
   },
   "outputs": [
    {
     "data": {
      "text/markdown": [
       "| Label | Definition | Label | Definition | \n",
       "|:---:|:---|:---:|:---| \n",
       "| id | the subject's unique identifier  |homey | y coord of the subject's home location |\n",
       "| group_id | the unique identifier of the subject's group  |go_home | is the subject going home on the next move? |\n",
       "| is_alive | Is the subject alive?  |box_id | id of the box the subject belongs to  |\n",
       "| is_vaxxed | Has the subject been vaccinated?  |event_id | id of the event the subject is attending  |\n",
       "| is_sus | Is the subject susceptible to infection?  |mover | id of the subject's mover function |\n",
       "| is_inf | Is the subject infected?  |mover_p | p-value of custom mover function |\n",
       "| ever_inf | Has the subject ever been infected?  |tmf | the subject's transmission factor  |\n",
       "| loc_id | id of the subject's current location  |ifr | the subject's infection fatality rate  |\n",
       "| x | x coord of the subject's current location  |inf_tick | the tick a subject is infected |\n",
       "| y | y coord of the subject's curretn location  |depart | the tick an infected subject will depart |\n",
       "| home_id | id of the subject's home location |recover | the tick an infected subject will no longer be infected or susceptible  |\n",
       "| homex | x coord of the subject's home location  |relapse | the tick a recovered subject will again become susceptible  |\n"
      ],
      "text/plain": [
       "<IPython.core.display.Markdown object>"
      ]
     },
     "metadata": {},
     "output_type": "display_data"
    }
   ],
   "source": [
    "from rknot.dots.matrix import MATRIX_COL_DEFNS as DEFNS\n",
    "table = '| Label | Definition '*2 + '|'\n",
    "table += ' \\n'\n",
    "table += '|:---:|:---'*2 + '|'\n",
    "table += ' \\n'\n",
    "defns = list(DEFNS.items())\n",
    "tablen = len(defns) // 2\n",
    "for i,j in zip(defns[:tablen], defns[tablen:]):\n",
    "    table += '| ' + i[0] + ' | ' + i[1] + ' |' + j[0] + ' | ' + j[1] + ' |'\n",
    "    table += '\\n'\n",
    "    \n",
    "md(table)"
   ]
  },
  {
   "cell_type": "code",
   "execution_count": null,
   "metadata": {
    "nbsphinx": "hidden"
   },
   "outputs": [],
   "source": [
    "%%javascript\n",
    "IPython.notebook.save_notebook()"
   ]
  },
  {
   "cell_type": "code",
   "execution_count": 34,
   "metadata": {
    "nbsphinx": "hidden"
   },
   "outputs": [],
   "source": [
    "from rknot.notebook import move_to_doc_folder\n",
    "move_to_doc_folder('concepts.ipynb')"
   ]
  },
  {
   "cell_type": "code",
   "execution_count": null,
   "metadata": {
    "nbsphinx": "hidden"
   },
   "outputs": [],
   "source": []
  }
 ],
 "metadata": {
  "celltoolbar": "Edit Metadata",
  "kernelspec": {
   "display_name": "Python 3",
   "language": "python",
   "name": "python3"
  },
  "language_info": {
   "codemirror_mode": {
    "name": "ipython",
    "version": 3
   },
   "file_extension": ".py",
   "mimetype": "text/x-python",
   "name": "python",
   "nbconvert_exporter": "python",
   "pygments_lexer": "ipython3",
   "version": "3.8.6"
  }
 },
 "nbformat": 4,
 "nbformat_minor": 4
}
