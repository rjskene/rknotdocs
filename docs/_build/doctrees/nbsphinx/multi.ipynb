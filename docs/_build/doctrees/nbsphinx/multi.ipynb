{
 "cells": [
  {
   "cell_type": "markdown",
   "metadata": {},
   "source": [
    "### Multiple Jurisdictions ###\n",
    "\n",
    "With our credible model for dynamic transmission at the contact level and our ability to size environments with approriate contact distributions, we can show the true power of **RKnot** in modelling complex scenarios.\n",
    "\n",
    "We [have previously shown](load.ipynb#Capacity-Restriction) that contact restrictions and social distancing in any one community *should* be effective in eliminating `sars-cov-2` relatively quickly. Across the world, howvever, many states, provinces, and countries, have experienced second and third waves spaced out months apart despite various forms of strict quarantines and lockdowns.\n",
    "\n",
    "So why haven't they been effective?\n",
    "\n",
    "In part, this has resulted from the many exceptions made to these restrictions, in particular, [schools remaining open](load.ipynb#Restriction-for-Schools) in many jurisdictions.\n",
    "\n",
    "We must also consider the impact of multiple jurisdictions that have unique characteristics, set policy independently, and, importantly, allow travel between them.\n",
    "\n",
    "We will focus on two jurisdictions to start, building to four, and building in complexity along the way."
   ]
  },
  {
   "cell_type": "markdown",
   "metadata": {},
   "source": [
    "To start, we will simply double the size of the environment used in [our dynamic transmission risk models](load.ipynb). Thus,\n",
    "\n",
    "* n = 20,000\n",
    "* 8 groups, split evenly into two states: \"East State\" and \"West State\"\n",
    "* the states will be exact reflections of each other: \n",
    "    * same size, n = 10,000\n",
    "    * same demographic mix\n",
    "    * same number of events\n",
    "* the event structrue for each state is detailed in [Sizing](sizing.ipynb#Complex-Environments) (and imported from a pickled object as per below).\n",
    "* each state will have its own vbox. The `East State` vbox must be reassigned and the events adjusted to point to the correct groups."
   ]
  },
  {
   "cell_type": "markdown",
   "metadata": {},
   "source": [
    "```python\n",
    "from copy import deepcopy\n",
    "\n",
    "from rknot import Sim, Chart\n",
    "from rknot.events import Restriction, Quarantine\n",
    "from rknot.dots.fhutch import tmr\n",
    "\n",
    "group1 = dict(name='W0-19', n=2700, n_inf=0, ifr=0.00003, mover=.98)\n",
    "group2 = dict(name='W20-49', n=4100, n_inf=1, ifr=0.0002, mover=.98)\n",
    "group3 = dict(name='W50-69', n=2300, n_inf=1, ifr=0.005, mover=.98)\n",
    "group4 = dict(name='W70+', n=900, n_inf=0, ifr=0.054, mover=.98)\n",
    "wstate = [group1, group2, group3, group4]\n",
    "\n",
    "wbox = {'label': 'W Main', 'box': 344}\n",
    "wevents = deepcopy(us_w_load_18.events)\n",
    "wrsxns = deepcopy(us_w_load_18.rsxns)\n",
    "\n",
    "group5 = dict(name='E0-19', n=2700, n_inf=0, ifr=0.00003, mover=.98)\n",
    "group6 = dict(name='E20-49', n=4100, n_inf=1, ifr=0.0002, mover=.98)\n",
    "group7 = dict(name='E50-69', n=2300, n_inf=1, ifr=0.005, mover=.98)\n",
    "group8 = dict(name='E70+', n=900, n_inf=0, ifr=0.054, mover=.98)\n",
    "estate =  [group5, group6, group7, group8]\n",
    "\n",
    "ebox = {'label': 'E Main', 'box': 344}\n",
    "eevents = deepcopy(us_w_load_18.events)\n",
    "\n",
    "for e in eevents:\n",
    "    e.groups = [4,5,6,7]\n",
    "    e.vbox = 1\n",
    "\n",
    "groups = wstate + estate\n",
    "vboxes = [wbox, ebox]\n",
    "events = wevents + eevents\n",
    "\n",
    "params = {\n",
    "    'groups': groups, 'density': 1, 'days': 365, 'tmr_curve': tmr, \n",
    "    'vboxes': vboxes, 'events': events\n",
    "}\n",
    "\n",
    "sim = Sim(**params)\n",
    "sim.run()\n",
    "```"
   ]
  },
  {
   "cell_type": "markdown",
   "metadata": {},
   "source": [
    "Below, we show the arrangement of all of the dots mixed throughout the space. The only difference from the single jurisdiction structure is the presence of two vboxes (instead of one)."
   ]
  },
  {
   "cell_type": "code",
   "execution_count": 25,
   "metadata": {
    "tags": [
     "hide_input"
    ]
   },
   "outputs": [
    {
     "data": {
      "text/html": [
       "\n",
       "        <div style=\"text-align: center\">\n",
       "            <video width='900px' height='376.56903765690373px'\n",
       "            src=\"https://storage.googleapis.com/rknotvids/multi/mixed_agg_dots_only.mp4\" controls>Video Failed to Load</video>\n",
       "        </div>\n",
       "        <p></p>\n",
       "    "
      ],
      "text/plain": [
       "<IPython.core.display.HTML object>"
      ]
     },
     "metadata": {},
     "output_type": "display_data"
    }
   ],
   "source": [
    "from IPython.core.display import display, HTML\n",
    "from rknot.notebook import animHTML\n",
    "\n",
    "display(HTML(animHTML('multi/mixed_agg_dots_only')))"
   ]
  },
  {
   "cell_type": "markdown",
   "metadata": {},
   "source": [
    "On a proportionate basis, this structure is indistinguishable from the `n=10000`, 4 group structure used in the viral load simulations. And it should result in the same outbreak curve, on average."
   ]
  },
  {
   "cell_type": "code",
   "execution_count": 18,
   "metadata": {
    "tags": [
     "hide_input"
    ]
   },
   "outputs": [],
   "source": [
    "from IPython.core.display import display, HTML\n",
    "\n",
    "\n",
    "import os\n",
    "from datetime import datetime as dt\n",
    "import numpy as np\n",
    "\n",
    "from rknot.helpers import pickload, find_means, find_seconly, find_means_seconly, get_results\n",
    "from rknot.notebook import curve_table, md\n",
    "from rknot.helpers import pickload\n",
    "\n",
    "path = 'vids/multi'\n",
    "slug = 'mixed-pickled'\n",
    "\n",
    "file_ = os.path.join(path, slug)\n",
    "sims = pickload(file_)\n",
    "\n",
    "last_date = sorted([dt.strptime(date, '%Y-%m-%d') for date in sims.keys()])[-1]\n",
    "last_date = last_date.strftime('%Y-%m-%d')\n",
    "\n",
    "res = [get_results(sim) for sim in sims[last_date]['sims']]\n",
    "\n",
    "headers = ['Mixed', r'Mixed<br>$R_0$>0'] \n",
    "m = find_means(res)\n",
    "m_gt0 = find_means_seconly(res, m)\n",
    "sizes = [res.shape[0], find_seconly(res).shape[0]]\n",
    "\n",
    "args = [m, m_gt0]\n",
    "display(HTML(curve_table(headers, args, sizes)))"
   ]
  },
  {
   "cell_type": "markdown",
   "metadata": {},
   "source": [
    "As expected, we can see above that, on average, the spread results generated in this structure match those of the [Events structure](load.ipynb#Events) from the viral load analysis."
   ]
  },
  {
   "cell_type": "markdown",
   "metadata": {},
   "source": [
    "The curves do tend to have a different shape, however, as per the sample sim below:"
   ]
  },
  {
   "cell_type": "code",
   "execution_count": 23,
   "metadata": {
    "tags": [
     "hide_input"
    ]
   },
   "outputs": [
    {
     "data": {
      "text/html": [
       "\n",
       "        <div style=\"text-align: center\">\n",
       "            <video width='900px' height='376.56903765690373px'\n",
       "            src=\"https://storage.googleapis.com/rknotvids/multi/mixed_agg.mp4\" controls>Video Failed to Load</video>\n",
       "        </div>\n",
       "        <p></p>\n",
       "    "
      ],
      "text/plain": [
       "<IPython.core.display.HTML object>"
      ]
     },
     "metadata": {},
     "output_type": "display_data"
    }
   ],
   "source": [
    "from IPython.core.display import display, HTML\n",
    "from rknot.notebook import animHTML\n",
    "\n",
    "display(HTML(animHTML('multi/mixed_agg')))"
   ]
  },
  {
   "cell_type": "markdown",
   "metadata": {},
   "source": [
    "Above, we can see a \"wave\" effect later in the outbreak. We can seperate the curve among the constituent states to see how each state's curve added to the aggregate."
   ]
  },
  {
   "cell_type": "code",
   "execution_count": 24,
   "metadata": {
    "tags": [
     "hide_input"
    ]
   },
   "outputs": [
    {
     "data": {
      "text/html": [
       "\n",
       "        <div style=\"text-align: center\">\n",
       "            <video width='900px' height='376.56903765690373px'\n",
       "            src=\"https://storage.googleapis.com/rknotvids/multi/mixed_peaks.mp4\" controls>Video Failed to Load</video>\n",
       "        </div>\n",
       "        <p></p>\n",
       "    "
      ],
      "text/plain": [
       "<IPython.core.display.HTML object>"
      ]
     },
     "metadata": {},
     "output_type": "display_data"
    }
   ],
   "source": [
    "from IPython.core.display import display, HTML\n",
    "from rknot.notebook import animHTML\n",
    "\n",
    "display(HTML(animHTML('multi/mixed_peaks')))"
   ]
  },
  {
   "cell_type": "markdown",
   "metadata": {},
   "source": [
    "So, from above, we can see that what looked like a single curve and a single outbreak was, in fact, two outbreaks among the two \"states\", West and East.\n",
    "\n",
    "What is remarkable is that the dots from both states are free to mix in the main grid. The separate waves result simply from isolated event spaces where only the largest events (3+ capacity) occur within the state groups.\n",
    "\n",
    "Next we will show the impact of further isolating the two states."
   ]
  },
  {
   "cell_type": "markdown",
   "metadata": {},
   "source": [
    "\n",
    "To be continued ..."
   ]
  },
  {
   "cell_type": "code",
   "execution_count": null,
   "metadata": {
    "nbsphinx": "hidden"
   },
   "outputs": [],
   "source": [
    "%%javascript\n",
    "IPython.notebook.save_notebook()"
   ]
  },
  {
   "cell_type": "code",
   "execution_count": 27,
   "metadata": {
    "nbsphinx": "hidden"
   },
   "outputs": [],
   "source": [
    "from rknot.notebook import move_to_doc_folder\n",
    "move_to_doc_folder('multi.ipynb')"
   ]
  },
  {
   "cell_type": "code",
   "execution_count": null,
   "metadata": {
    "nbsphinx": "hidden"
   },
   "outputs": [],
   "source": []
  }
 ],
 "metadata": {
  "celltoolbar": "Edit Metadata",
  "kernelspec": {
   "display_name": "Python 3",
   "language": "python",
   "name": "python3"
  },
  "language_info": {
   "codemirror_mode": {
    "name": "ipython",
    "version": 3
   },
   "file_extension": ".py",
   "mimetype": "text/x-python",
   "name": "python",
   "nbconvert_exporter": "python",
   "pygments_lexer": "ipython3",
   "version": "3.8.6"
  }
 },
 "nbformat": 4,
 "nbformat_minor": 4
}
