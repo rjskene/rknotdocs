{
 "cells": [
  {
   "cell_type": "markdown",
   "metadata": {},
   "source": [
    "### Sizing ###\n",
    "\n",
    "\n",
    "The appropriate sizing of a simulation space is often more art than science but we can use several tools in the RKnot package to ensure that any particular simulation has the appropriate attributes and initial conditions."
   ]
  },
  {
   "cell_type": "code",
   "execution_count": 1,
   "metadata": {
    "nbsphinx": "hidden"
   },
   "outputs": [],
   "source": [
    "%load_ext autoreload\n",
    "%autoreload 2"
   ]
  },
  {
   "cell_type": "code",
   "execution_count": 2,
   "metadata": {
    "nbsphinx": "hidden"
   },
   "outputs": [],
   "source": [
    "import shelve\n",
    "file = 'tests/data/R0'\n",
    "# db.close()\n",
    "db = shelve.open(file, writeback=True)"
   ]
  },
  {
   "cell_type": "code",
   "execution_count": 3,
   "metadata": {
    "nbsphinx": "hidden"
   },
   "outputs": [],
   "source": [
    "import numpy as np\n",
    "\n",
    "from rknot import Sim\n",
    "from rknot.dots.matrix import ML, MLNB\n",
    "from rknot.helpers import md, contacts_of_init_inf, find_n_sec\n",
    "\n",
    "UPDATEDB = True"
   ]
  },
  {
   "cell_type": "markdown",
   "metadata": {},
   "source": [
    "#### SIR: Confirming Contacts ####"
   ]
  },
  {
   "cell_type": "markdown",
   "metadata": {},
   "source": [
    "For instance, in our [SIR-based simulations](sir.ipynb) with constant transmission risk, the SIR model is mostly faithfully replicated with a contact rate of 1 per day ... and [we have seen mathematically](theory.ipynb#Expected-Contact-Rate) that a density level of 1 dot per location should result in a contact rate of ~1 per day.\n",
    "\n",
    "Below, we will investigate if, in fact, that is the case."
   ]
  },
  {
   "cell_type": "markdown",
   "metadata": {},
   "source": [
    "First, create a small population of 100 subjects with no movement bias and a single infected subject."
   ]
  },
  {
   "cell_type": "code",
   "execution_count": 4,
   "metadata": {},
   "outputs": [],
   "source": [
    "from rknot import Sim\n",
    "\n",
    "group = dict(\n",
    "    name='all',\n",
    "    n=100,\n",
    "    n_inf=1,\n",
    "    ifr=0,\n",
    "    mover='equal',\n",
    ")"
   ]
  },
  {
   "cell_type": "markdown",
   "metadata": {},
   "source": [
    "We will restrict the simulation to just 14 days. We set `dlevel=med`, which sets the population density to 1 subject per location."
   ]
  },
  {
   "cell_type": "code",
   "execution_count": 5,
   "metadata": {},
   "outputs": [],
   "source": [
    "params = dict(\n",
    "    dlevel='med',\n",
    "    R0=3,\n",
    "    infdur=14,\n",
    "    days=14,\n",
    ")"
   ]
  },
  {
   "cell_type": "markdown",
   "metadata": {},
   "source": [
    "When running the sim, set `dotlog=True`. The `dotlog` is 3d record of the dot matrix at each tick in the simulation. We can use it to test several things.\n",
    "\n",
    "`dotlog` defaults to `False` as it can impact performance for large populations and longer simulations."
   ]
  },
  {
   "cell_type": "code",
   "execution_count": 6,
   "metadata": {
    "scrolled": true
   },
   "outputs": [
    {
     "data": {
      "application/vnd.jupyter.widget-view+json": {
       "model_id": "4f282c0cc8d6481aafb849ff5242297d",
       "version_major": 2,
       "version_minor": 0
      },
      "text/plain": [
       "HBox(children=(FloatProgress(value=0.0, max=14.0), HTML(value='')))"
      ]
     },
     "metadata": {},
     "output_type": "display_data"
    }
   ],
   "source": [
    "sim = Sim(groups=group, **params)\n",
    "sim.run(dotlog=True)"
   ]
  },
  {
   "cell_type": "code",
   "execution_count": 7,
   "metadata": {
    "tags": [
     "hide_input"
    ]
   },
   "outputs": [
    {
     "data": {
      "text/markdown": [
       "Upon completion of the sim, an attribute `dotlog` has been added. We can see it has shape (14, 100, 23), corresponding to 14 ticks, 100 dots, and the 23 attributes in the dot matrix."
      ],
      "text/plain": [
       "<IPython.core.display.Markdown object>"
      ]
     },
     "metadata": {},
     "output_type": "display_data"
    }
   ],
   "source": [
    "msg = 'Upon completion of the sim, an attribute `dotlog` has been added. '\n",
    "msg += 'We can see it has shape (14, 100, {}), corresponding to 14 ticks, 100 dots, '.format(sim.dotlog.shape[2])\n",
    "msg += 'and the {} attributes in the dot matrix.'.format(sim.dotlog.shape[2])\n",
    "\n",
    "md(msg)"
   ]
  },
  {
   "cell_type": "markdown",
   "metadata": {},
   "source": [
    "The initial infected dot is chosen at random, so we cannot isolate and track its movements ahead of time. But we *can* isolate it in the first first frame of the `dotlog` and review its entire history in the sim."
   ]
  },
  {
   "cell_type": "code",
   "execution_count": 8,
   "metadata": {
    "scrolled": true
   },
   "outputs": [
    {
     "data": {
      "text/plain": [
       "array([[[ 64,   0,   1,   0,   0,   1,   1,  89,   9,  10,  40,   5,\n",
       "           1,   0,   0,  -1,   0, 100,   0,   0,  -1,  15, 381]],\n",
       "\n",
       "       [[ 64,   0,   1,   0,   0,   1,   1,  16,   2,   7,  40,   5,\n",
       "           1,   0,   0,  -1,   0, 100,   0,   0,  -1,  15, 381]],\n",
       "\n",
       "       [[ 64,   0,   1,   0,   0,   1,   1,  17,   2,   8,  40,   5,\n",
       "           1,   0,   0,  -1,   0, 100,   0,   0,  -1,  15, 381]],\n",
       "\n",
       "       [[ 64,   0,   1,   0,   0,   1,   1,   2,   1,   3,  40,   5,\n",
       "           1,   0,   0,  -1,   0, 100,   0,   0,  -1,  15, 381]],\n",
       "\n",
       "       [[ 64,   0,   1,   0,   0,   1,   1,  46,   5,   7,  40,   5,\n",
       "           1,   0,   0,  -1,   0, 100,   0,   0,  -1,  15, 381]],\n",
       "\n",
       "       [[ 64,   0,   1,   0,   0,   1,   1,  30,   4,   1,  40,   5,\n",
       "           1,   0,   0,  -1,   0, 100,   0,   0,  -1,  15, 381]],\n",
       "\n",
       "       [[ 64,   0,   1,   0,   0,   1,   1,  12,   2,   3,  40,   5,\n",
       "           1,   0,   0,  -1,   0, 100,   0,   0,  -1,  15, 381]],\n",
       "\n",
       "       [[ 64,   0,   1,   0,   0,   1,   1,   0,   1,   1,  40,   5,\n",
       "           1,   0,   0,  -1,   0, 100,   0,   0,  -1,  15, 381]],\n",
       "\n",
       "       [[ 64,   0,   1,   0,   0,   1,   1,  68,   7,   9,  40,   5,\n",
       "           1,   0,   0,  -1,   0, 100,   0,   0,  -1,  15, 381]],\n",
       "\n",
       "       [[ 64,   0,   1,   0,   0,   1,   1,  59,   6,  10,  40,   5,\n",
       "           1,   0,   0,  -1,   0, 100,   0,   0,  -1,  15, 381]],\n",
       "\n",
       "       [[ 64,   0,   1,   0,   0,   1,   1,  31,   4,   2,  40,   5,\n",
       "           1,   0,   0,  -1,   0, 100,   0,   0,  -1,  15, 381]],\n",
       "\n",
       "       [[ 64,   0,   1,   0,   0,   1,   1,  81,   9,   2,  40,   5,\n",
       "           1,   0,   0,  -1,   0, 100,   0,   0,  -1,  15, 381]],\n",
       "\n",
       "       [[ 64,   0,   1,   0,   0,   1,   1,  81,   9,   2,  40,   5,\n",
       "           1,   0,   0,  -1,   0, 100,   0,   0,  -1,  15, 381]],\n",
       "\n",
       "       [[ 64,   0,   1,   0,   0,   1,   1,  82,   9,   3,  40,   5,\n",
       "           1,   0,   0,  -1,   0, 100,   0,   0,  -1,  15, 381]]])"
      ]
     },
     "execution_count": 8,
     "metadata": {},
     "output_type": "execute_result"
    }
   ],
   "source": [
    "import numpy as np\n",
    "from rknot.dots.matrix import ML, MLNB\n",
    "\n",
    "\n",
    "i_inf = np.argwhere(sim.dotlog[0][:, ML['is_inf']] == 1).ravel()\n",
    "sim.dotlog[:, i_inf]"
   ]
  },
  {
   "cell_type": "markdown",
   "metadata": {},
   "source": [
    "We can then determine which locations the dot visited at each tick."
   ]
  },
  {
   "cell_type": "code",
   "execution_count": 9,
   "metadata": {},
   "outputs": [
    {
     "data": {
      "text/plain": [
       "array([89, 16, 17,  2, 46, 30, 12,  0, 68, 59, 31, 81, 81, 82])"
      ]
     },
     "execution_count": 9,
     "metadata": {},
     "output_type": "execute_result"
    }
   ],
   "source": [
    "locs_visited = sim.dotlog[:, i_inf, ML['loc_id']].ravel()\n",
    "locs_visited"
   ]
  },
  {
   "cell_type": "code",
   "execution_count": 10,
   "metadata": {
    "nbsphinx": "hidden"
   },
   "outputs": [],
   "source": [
    "db['locs_visited1'] = locs_visited"
   ]
  },
  {
   "cell_type": "markdown",
   "metadata": {},
   "source": [
    "Next, find how many total dots were at the same location at the same time as the initial infected."
   ]
  },
  {
   "cell_type": "code",
   "execution_count": 11,
   "metadata": {},
   "outputs": [
    {
     "data": {
      "text/plain": [
       "array([3, 2, 1, 2, 1, 1, 1, 2, 1, 2, 3, 1, 4, 2])"
      ]
     },
     "execution_count": 11,
     "metadata": {},
     "output_type": "execute_result"
    }
   ],
   "source": [
    "dots_at_loc = sim.dotlog[:,:,ML['loc_id']] == locs_visited[:, None]\n",
    "dots_at_loc.sum(axis=1)"
   ]
  },
  {
   "cell_type": "code",
   "execution_count": 12,
   "metadata": {
    "nbsphinx": "hidden"
   },
   "outputs": [],
   "source": [
    "db['dots_at_loc1'] = dots_at_loc"
   ]
  },
  {
   "cell_type": "code",
   "execution_count": 13,
   "metadata": {
    "tags": [
     "hide_input"
    ]
   },
   "outputs": [
    {
     "data": {
      "text/markdown": [
       "The array above tells us there we 3 dots at location id 89 on the first tick, 2 dots at location id 16 on the second tick, etc."
      ],
      "text/plain": [
       "<IPython.core.display.Markdown object>"
      ]
     },
     "metadata": {},
     "output_type": "display_data"
    }
   ],
   "source": [
    "msg = 'The array above tells us there we {} dots '.format(db['dots_at_loc1'].sum(axis=1)[0])\n",
    "msg += 'at location id {} on the first tick, '.format(db['locs_visited1'][0])\n",
    "msg += '{} dots at '.format(db['dots_at_loc1'].sum(axis=1)[1])\n",
    "msg += 'location id {} on the second tick, etc.'.format(db['locs_visited1'][1])\n",
    "\n",
    "md(msg)"
   ]
  },
  {
   "cell_type": "code",
   "execution_count": 14,
   "metadata": {},
   "outputs": [],
   "source": [
    "assert (sim.dotlog[0, :, ML['loc_id']] == db['locs_visited1'][0]).sum() == dots_at_loc.sum(axis=1)[0]\n",
    "assert (sim.dotlog[1, :, ML['loc_id']] == db['locs_visited1'][1]).sum() == dots_at_loc.sum(axis=1)[1]"
   ]
  },
  {
   "cell_type": "markdown",
   "metadata": {},
   "source": [
    "Again, the expected contact rate ~1 per day. First, we subtract 1 from `dots_at_loc` since a contact constitutes two or more dots. Then find the mean and variance of the infected dot's daily contacts."
   ]
  },
  {
   "cell_type": "code",
   "execution_count": 15,
   "metadata": {},
   "outputs": [],
   "source": [
    "contacts = dots_at_loc.sum(axis=1) - 1\n",
    "mean = contacts.mean()\n",
    "var = contacts.var()"
   ]
  },
  {
   "cell_type": "code",
   "execution_count": 16,
   "metadata": {
    "nbshpinx": "hidden"
   },
   "outputs": [],
   "source": [
    "if UPDATEDB:\n",
    "    db['mean, var 1'] = (mean, var, contacts)\n",
    "mean, var, contacts = db['mean, var 1']"
   ]
  },
  {
   "cell_type": "code",
   "execution_count": 17,
   "metadata": {},
   "outputs": [
    {
     "name": "stdout",
     "output_type": "stream",
     "text": [
      "0.86 0.84\n"
     ]
    }
   ],
   "source": [
    "print (round(mean, 2), round(var, 2))"
   ]
  },
  {
   "cell_type": "markdown",
   "metadata": {},
   "source": [
    "The contact distribution is as follows:"
   ]
  },
  {
   "cell_type": "code",
   "execution_count": 18,
   "metadata": {},
   "outputs": [
    {
     "data": {
      "image/png": "[encoded data removed]",
      "text/plain": [
       "<Figure size 432x288 with 1 Axes>"
      ]
     },
     "metadata": {
      "needs_background": "light"
     },
     "output_type": "display_data"
    }
   ],
   "source": [
    "import matplotlib.pyplot as plt\n",
    "\n",
    "plt.hist(contacts, bins=np.arange(contacts.max() + 2) - 0.5)\n",
    "plt.xticks(range(contacts.max() + 1))\n",
    "plt.show()"
   ]
  },
  {
   "cell_type": "markdown",
   "metadata": {},
   "source": [
    "The contact rate is in range of the expected value of 1, but this example has a very small sample size. We can expand the sample by continuing to isolate the initial infected dot but increasing the simulation length. \n",
    "\n",
    "The code above has been factored into a helper function `contacts_of_init_inf`."
   ]
  },
  {
   "cell_type": "code",
   "execution_count": 19,
   "metadata": {},
   "outputs": [
    {
     "data": {
      "application/vnd.jupyter.widget-view+json": {
       "model_id": "a15c7ce12b5f4a2ca440633d5f7420a9",
       "version_major": 2,
       "version_minor": 0
      },
      "text/plain": [
       "HBox(children=(FloatProgress(value=0.0), HTML(value='')))"
      ]
     },
     "metadata": {},
     "output_type": "display_data"
    },
    {
     "name": "stdout",
     "output_type": "stream",
     "text": [
      "\n"
     ]
    }
   ],
   "source": [
    "from rknot import Sim\n",
    "\n",
    "params = dict(\n",
    "    dlevel='med',\n",
    "    R0=3,\n",
    "    infdur=14,\n",
    "    days=100,\n",
    ")\n",
    "\n",
    "sim = Sim(groups=group, **params)\n",
    "sim.run(dotlog=True)"
   ]
  },
  {
   "cell_type": "code",
   "execution_count": 20,
   "metadata": {},
   "outputs": [],
   "source": [
    "from rknot.helpers import contacts_of_init_inf\n",
    "\n",
    "contacts = contacts_of_init_inf(sim.dotlog)\n",
    "mean = np.mean(contacts)\n",
    "var = np.var(contacts)"
   ]
  },
  {
   "cell_type": "code",
   "execution_count": 21,
   "metadata": {
    "nbsphinx": "hidden"
   },
   "outputs": [],
   "source": [
    "if UPDATEDB:\n",
    "    db['mean, var 2'] = (mean, var, contacts)\n",
    "mean, var, contacts =  db['mean, var 2']"
   ]
  },
  {
   "cell_type": "code",
   "execution_count": 22,
   "metadata": {},
   "outputs": [
    {
     "name": "stdout",
     "output_type": "stream",
     "text": [
      "1.1666666666666667 0.8055555555555555\n"
     ]
    }
   ],
   "source": [
    "print (mean, var)"
   ]
  },
  {
   "cell_type": "code",
   "execution_count": 23,
   "metadata": {},
   "outputs": [
    {
     "data": {
      "image/png": "[encoded data removed]",
      "text/plain": [
       "<Figure size 432x288 with 1 Axes>"
      ]
     },
     "metadata": {
      "needs_background": "light"
     },
     "output_type": "display_data"
    }
   ],
   "source": [
    "plt.hist(contacts, bins=np.arange(contacts.max() + 2) - 0.5)\n",
    "plt.xticks(range(contacts.max() + 1))\n",
    "plt.show()"
   ]
  },
  {
   "cell_type": "markdown",
   "metadata": {},
   "source": [
    "Again, we find a similar average contact rate and variance, although histogram shape is altered somewhat.\n",
    "\n",
    "For an even larger sample, we can repeat the above process for every dot in the simulation. The loop below gives us a record of every daily contact count for every dot in the sim."
   ]
  },
  {
   "cell_type": "code",
   "execution_count": 24,
   "metadata": {},
   "outputs": [],
   "source": [
    "from numba import njit, prange\n",
    "from rknot.dots.matrix import MLNB\n",
    "\n",
    "@njit(cache=True, parallel=True)\n",
    "def find_all_contacts(dotlog, MLNB):\n",
    "    days = dotlog.shape[0]\n",
    "    n = dotlog.shape[1]\n",
    "    all_contacts = np.zeros(days*n, dtype=np.int32)\n",
    "    for i in prange(n):\n",
    "        locs_visited = dotlog[:, i, MLNB['loc_id']]\n",
    "        dots_at_loc = dotlog[:,:,MLNB['loc_id']] == locs_visited.copy().reshape(-1,1)\n",
    "        contacts = dots_at_loc.sum(axis=1) - 1\n",
    "        all_contacts[i*days:i*days+days] = contacts\n",
    "    \n",
    "    return all_contacts\n",
    "\n",
    "all_contacts = find_all_contacts(sim.dotlog[:14], MLNB)\n",
    "mean = all_contacts.mean()\n",
    "var = all_contacts.var()"
   ]
  },
  {
   "cell_type": "code",
   "execution_count": 25,
   "metadata": {},
   "outputs": [],
   "source": [
    "if UPDATEDB:\n",
    "    db['mean, var 3'] = (mean, var, all_contacts)\n",
    "mean, var, all_contacts = db['mean, var 3']"
   ]
  },
  {
   "cell_type": "code",
   "execution_count": 26,
   "metadata": {},
   "outputs": [
    {
     "name": "stdout",
     "output_type": "stream",
     "text": [
      "0.9571428571428572 0.8724489795918366\n"
     ]
    }
   ],
   "source": [
    "print (mean, var)"
   ]
  },
  {
   "cell_type": "code",
   "execution_count": 27,
   "metadata": {
    "scrolled": true
   },
   "outputs": [
    {
     "data": {
      "image/png": "[encoded data removed]",
      "text/plain": [
       "<Figure size 432x288 with 1 Axes>"
      ]
     },
     "metadata": {
      "needs_background": "light"
     },
     "output_type": "display_data"
    }
   ],
   "source": [
    "plt.hist(all_contacts, bins=np.arange(all_contacts.max() + 2) - 0.5, density=False)\n",
    "plt.xticks(range(all_contacts.max() + 1))\n",
    "plt.show()"
   ]
  },
  {
   "cell_type": "markdown",
   "metadata": {},
   "source": [
    "We find that all the dots in the sim had a contact rate near 1 (as expected) and variance near 1.\n",
    "\n",
    "Yet another approach would be to iterate over a number of different sims and look for the mean and variance of contacts for the infected dot across those sims."
   ]
  },
  {
   "cell_type": "code",
   "execution_count": 33,
   "metadata": {},
   "outputs": [
    {
     "data": {
      "application/vnd.jupyter.widget-view+json": {
       "model_id": "f7df301df5524734a33d345618863589",
       "version_major": 2,
       "version_minor": 0
      },
      "text/plain": [
       "HBox(children=(FloatProgress(value=0.0, max=50.0), HTML(value='')))"
      ]
     },
     "metadata": {},
     "output_type": "display_data"
    },
    {
     "name": "stdout",
     "output_type": "stream",
     "text": [
      "\n"
     ]
    }
   ],
   "source": [
    "from tqdm.auto import trange\n",
    "\n",
    "days = 14\n",
    "infdur = 14\n",
    "n = 50\n",
    "params = {'dlevel': 'med', 'R0': 3, 'infdur': infdur, 'days': days}\n",
    "\n",
    "contacts = np.zeros(days*n, dtype=np.int32)\n",
    "for i in trange(n):\n",
    "    sim = Sim(groups=group, **params)\n",
    "    sim.run(dotlog=True, pbar_on=False)\n",
    "    inf_contacts = contacts_of_init_inf(sim.dotlog)\n",
    "    contacts[i*days:i*days + days] = inf_contacts\n",
    "\n",
    "mean, var = contacts.mean(), contacts.var()"
   ]
  },
  {
   "cell_type": "code",
   "execution_count": 34,
   "metadata": {},
   "outputs": [],
   "source": [
    "if UPDATEDB:\n",
    "    db['mean, var 3'] = (mean, var, contacts)\n",
    "mean, var, contacts = db['mean, var 3']"
   ]
  },
  {
   "cell_type": "code",
   "execution_count": 35,
   "metadata": {},
   "outputs": [
    {
     "name": "stdout",
     "output_type": "stream",
     "text": [
      "1.0114285714285713 14.16\n"
     ]
    }
   ],
   "source": [
    "print (contacts.mean(), contacts.reshape(-1,14).sum(axis=1).mean())"
   ]
  },
  {
   "cell_type": "markdown",
   "metadata": {},
   "source": [
    "Above we see that the infected dot average close to 1 contact per day or 14 contacts over the duration of the infection."
   ]
  },
  {
   "cell_type": "markdown",
   "metadata": {},
   "source": [
    "#### SIR: Confirming $R_0$ ####\n",
    "\n",
    "We can similarly use the dotlog to confirm that the simulation results in the correct level of $R_0$, whether passed explicitly or implied through other parameters."
   ]
  },
  {
   "cell_type": "code",
   "execution_count": 36,
   "metadata": {},
   "outputs": [
    {
     "data": {
      "application/vnd.jupyter.widget-view+json": {
       "model_id": "c0400899de0e4d0aa39522fb985f6fb9",
       "version_major": 2,
       "version_minor": 0
      },
      "text/plain": [
       "HBox(children=(FloatProgress(value=0.0, max=20.0), HTML(value='')))"
      ]
     },
     "metadata": {},
     "output_type": "display_data"
    }
   ],
   "source": [
    "params = dict(\n",
    "    dlevel='med',\n",
    "    R0=3,\n",
    "    infdur=14,\n",
    "    days=20,\n",
    ")\n",
    "\n",
    "sim = Sim(groups=group, **params)\n",
    "sim.run(dotlog=True)"
   ]
  },
  {
   "cell_type": "markdown",
   "metadata": {},
   "source": [
    "Again, we can find the ids that had contact with the infected dot at each tick."
   ]
  },
  {
   "cell_type": "code",
   "execution_count": 37,
   "metadata": {},
   "outputs": [],
   "source": [
    "i_inf = np.argwhere(sim.dotlog[0][:, ML['is_inf']] == 1).ravel()\n",
    "locs_visited = sim.dotlog[:, i_inf, ML['loc_id']].ravel()\n",
    "dots_at_loc = sim.dotlog[:,:,ML['loc_id']] == locs_visited[:, None]"
   ]
  },
  {
   "cell_type": "markdown",
   "metadata": {},
   "source": [
    "Now, we will check each dots' `is_inf` attribute *before* and *after* the contact occurs.\n",
    "\n",
    "Remember, transmission is the last step in each tick and that the dot matrix is update at the beginning of each tick. So, the status of the dot at tick i is its status *before* contact.\n",
    "\n",
    "We sum the dots infected before and subtract the dots infected after, which gives the dots infected at that contact."
   ]
  },
  {
   "cell_type": "code",
   "execution_count": 38,
   "metadata": {},
   "outputs": [],
   "source": [
    "i_contact = np.argwhere(dots_at_loc) # ids of each dot at each location\n",
    "i_contact = i_contact[i_contact[:,1] != i_inf] # excludes the initial infected dot\n",
    "\n",
    "# the infection status of each dot, before each contact\n",
    "infs_pre = sim.dotlog[i_contact[:, 0], i_contact[:, 1], ML['is_inf']].sum() \n",
    "\n",
    "fwd_inf = i_contact + [1, 0] # shift the ticks for each contact one tick forward\n",
    "fwd_mask = fwd_inf[:, 0] < sim.ticks \n",
    "\n",
    "# the infection status of each dot, after each contact\n",
    "infs_post = sim.dotlog[fwd_inf[fwd_mask][:,0], fwd_inf[fwd_mask][:,1], ML['is_inf']].sum()\n",
    "\n",
    "# Number of secondary infections created by the initial infected dot\n",
    "n_sec = infs_post - infs_pre"
   ]
  },
  {
   "cell_type": "code",
   "execution_count": 39,
   "metadata": {
    "nbsphinx": "hidden"
   },
   "outputs": [],
   "source": [
    "if UPDATEDB:\n",
    "    db['nsec 1 run'] = n_sec\n",
    "n_sec = db['nsec 1 run']"
   ]
  },
  {
   "cell_type": "code",
   "execution_count": 40,
   "metadata": {},
   "outputs": [
    {
     "data": {
      "text/markdown": [
       "The sim above resulted in 5 infections."
      ],
      "text/plain": [
       "<IPython.core.display.Markdown object>"
      ]
     },
     "metadata": {},
     "output_type": "display_data"
    }
   ],
   "source": [
    "msg = 'The sim above resulted in {} infections.'.format(n_sec)\n",
    "md(msg)"
   ]
  },
  {
   "cell_type": "markdown",
   "metadata": {},
   "source": [
    "Again, transmission is stochastic. We can find a more useful mean by averaging the $R_0$ over several simulations.\n",
    "\n",
    "The code used above has been factored into the function `find_n_sec`."
   ]
  },
  {
   "cell_type": "code",
   "execution_count": 41,
   "metadata": {},
   "outputs": [
    {
     "data": {
      "application/vnd.jupyter.widget-view+json": {
       "model_id": "149f542693d541d6b8a3383e035ece2b",
       "version_major": 2,
       "version_minor": 0
      },
      "text/plain": [
       "HBox(children=(FloatProgress(value=0.0), HTML(value='')))"
      ]
     },
     "metadata": {},
     "output_type": "display_data"
    },
    {
     "name": "stdout",
     "output_type": "stream",
     "text": [
      "\n",
      "\n",
      "\n"
     ]
    }
   ],
   "source": [
    "from rknot.helpers import find_n_sec\n",
    "\n",
    "days = 20\n",
    "infdur = 14\n",
    "n = 100\n",
    "params = {'dlevel': 'med', 'R0': 3, 'infdur': infdur, 'days': days}\n",
    "\n",
    "contacts = np.zeros(infdur*n, dtype=np.int32)\n",
    "n_secs = np.zeros(n, dtype=np.int32)\n",
    "for i in trange(n):\n",
    "    sim = Sim(groups=group, **params)\n",
    "    sim.run(dotlog=True, pbar_on=False)\n",
    "    n_secs[i] = find_n_sec(sim.dotlog[:infdur+1])\n",
    "    inf_contacts = contacts_of_init_inf(sim.dotlog[:infdur])\n",
    "    contacts[i*infdur:i*infdur + infdur] = inf_contacts\n",
    "\n",
    "mean, var = n_secs.mean(), n_secs.var()"
   ]
  },
  {
   "cell_type": "code",
   "execution_count": 42,
   "metadata": {
    "nbsphinx": "hidden"
   },
   "outputs": [],
   "source": [
    "if UPDATEDB:\n",
    "    db['nsecs mean, var 1'] = (n_secs.mean(), n_secs.var(), contacts)\n",
    "mean, var, contacts = db['nsecs mean, var 1']"
   ]
  },
  {
   "cell_type": "code",
   "execution_count": 43,
   "metadata": {},
   "outputs": [
    {
     "name": "stdout",
     "output_type": "stream",
     "text": [
      "2.42 2.2036000000000002 13.79\n"
     ]
    }
   ],
   "source": [
    "print (mean, var, contacts[:infdur*n].reshape(-1,14).sum(axis=1).mean())"
   ]
  },
  {
   "cell_type": "markdown",
   "metadata": {},
   "source": [
    "We can see that the $R_0$ resulting in the sims, on average, is relatively close to the $R_0$ provided."
   ]
  },
  {
   "cell_type": "markdown",
   "metadata": {},
   "source": [
    "#### SIR: Impact of Changes in Mover Function ###\n",
    "\n",
    "With the veracity of the SIR model and the assessment process confirmed, we can check the impact of changes to various attributes of the sim, including the `mover` function."
   ]
  },
  {
   "cell_type": "code",
   "execution_count": 44,
   "metadata": {},
   "outputs": [
    {
     "data": {
      "application/vnd.jupyter.widget-view+json": {
       "model_id": "a66ed27ca2664279a9e43dd2b0c144a6",
       "version_major": 2,
       "version_minor": 0
      },
      "text/plain": [
       "HBox(children=(FloatProgress(value=0.0, max=20.0), HTML(value='')))"
      ]
     },
     "metadata": {},
     "output_type": "display_data"
    },
    {
     "name": "stdout",
     "output_type": "stream",
     "text": [
      "\n"
     ]
    }
   ],
   "source": [
    "group = dict(\n",
    "    name='all',\n",
    "    n=100,\n",
    "    n_inf=1,\n",
    "    ifr=0,\n",
    "    mover='local',\n",
    ")\n",
    "days = 20\n",
    "infdur = 14\n",
    "params = {'dlevel': 'med', 'R0': 3, 'infdur': infdur, 'days': days}\n",
    "\n",
    "n = 20\n",
    "contacts = np.zeros(infdur*n, dtype=np.int32)\n",
    "n_secs = np.zeros(n, dtype=np.int32)\n",
    "for i in trange(n):\n",
    "    sim = Sim(groups=group, **params)\n",
    "    sim.run(dotlog=True, pbar_on=False)\n",
    "    n_secs[i] = find_n_sec(sim.dotlog[:infdur+1])\n",
    "    inf_contacts = contacts_of_init_inf(sim.dotlog[:infdur])\n",
    "    contacts[i*infdur:i*infdur + infdur] = inf_contacts\n",
    "    \n",
    "mean_ktr, var_ktr = contacts.mean(), contacts.var()\n",
    "mean_nsec, var_nsec = n_secs.mean(), n_secs.var()"
   ]
  },
  {
   "cell_type": "code",
   "execution_count": 45,
   "metadata": {},
   "outputs": [],
   "source": [
    "if UPDATEDB:\n",
    "    db['contacts mean, var local'] = (contacts.mean(), contacts.var())\n",
    "    db['nsecs mean, var local'] = (n_secs.mean(), n_secs.var())\n",
    "\n",
    "mean_ktr, var_ktr = db['contacts mean, var local']\n",
    "mean_nsec, var_nsec = db['nsecs mean, var local']"
   ]
  },
  {
   "cell_type": "code",
   "execution_count": 46,
   "metadata": {},
   "outputs": [
    {
     "name": "stdout",
     "output_type": "stream",
     "text": [
      "0.9607142857142857 0.9305994897959183\n",
      "2.9 2.59\n"
     ]
    }
   ],
   "source": [
    "print (mean_ktr, var_ktr)\n",
    "print (mean_nsec, var_nsec)"
   ]
  },
  {
   "cell_type": "markdown",
   "metadata": {},
   "source": [
    "Despite the signficant change in movement pattern, [which we know results in a very different infection curve](sir.ipynb#1.-Local), the $R_0$ is only slightly different than that predicted under SIR conditions."
   ]
  },
  {
   "cell_type": "markdown",
   "metadata": {},
   "source": [
    "#### Customization ####\n",
    "\n",
    "We can use this testing approach to structure simulation space to fit a set of desired properties.\n",
    "\n",
    "For example, in this [paper](https://www.medrxiv.org/content/10.1101/2020.08.07.20169920v3.full.pdf), the authors fit a transmission risk profile of the virus to several properties of the environment including:\n",
    "+ mean $R_0$ of 1.8\n",
    "+ 4 contacts per day\n",
    "+ 40 variance of contacts\n",
    "\n",
    "\n",
    "We can import the tmr curve from `rknot.dots.fhutch`.\n",
    "\n",
    "We will pass a density level of 4 dots per location (which will lead to ~4 contacts per day) and we extend the simulation to 21 days, given the `tmr` curve has shape 20."
   ]
  },
  {
   "cell_type": "code",
   "execution_count": 47,
   "metadata": {},
   "outputs": [
    {
     "data": {
      "application/vnd.jupyter.widget-view+json": {
       "model_id": "0ab5ec7fd1834ab3a8f69d7c48e3e85d",
       "version_major": 2,
       "version_minor": 0
      },
      "text/plain": [
       "HBox(children=(FloatProgress(value=0.0), HTML(value='')))"
      ]
     },
     "metadata": {},
     "output_type": "display_data"
    },
    {
     "name": "stdout",
     "output_type": "stream",
     "text": [
      "\n"
     ]
    }
   ],
   "source": [
    "from rknot.dots.fhutch import tmr\n",
    "\n",
    "group = dict(\n",
    "    name='all',\n",
    "    n=100,\n",
    "    n_inf=1,\n",
    "    ifr=0,\n",
    "    mover='equal',\n",
    ")\n",
    "\n",
    "days = 21\n",
    "infdur = 14\n",
    "params = {'dlevel': 4, 'R0': 3, 'inf_curve': tmr,  'days': days}\n",
    "\n",
    "n = 100\n",
    "contacts = np.zeros(infdur*n, dtype=np.int32)\n",
    "n_secs = np.zeros(n, dtype=np.int32)\n",
    "for i in trange(n):\n",
    "    sim = Sim(groups=group, **params)\n",
    "    sim.run(dotlog=True, pbar_on=False)\n",
    "    n_secs[i] = find_n_sec(sim.dotlog[:infdur+1])\n",
    "    inf_contacts = contacts_of_init_inf(sim.dotlog[:infdur])\n",
    "    contacts[i*infdur:i*infdur + infdur] = inf_contacts\n",
    "    \n",
    "mean_ktr, var_ktr = contacts.mean(), contacts.var()\n",
    "mean_nsec, var_nsec = n_secs.mean(), n_secs.var()"
   ]
  },
  {
   "cell_type": "code",
   "execution_count": 48,
   "metadata": {},
   "outputs": [],
   "source": [
    "if UPDATEDB:\n",
    "    db['contacts mean, var 2'] = (contacts.mean(), contacts.var())\n",
    "    db['nsecs mean, var 2'] = (n_secs.mean(), n_secs.var())\n",
    "\n",
    "mean_ktr, var_ktr = db['contacts mean, var 2']\n",
    "mean_nsec, var_nsec = db['nsecs mean, var 2']"
   ]
  },
  {
   "cell_type": "code",
   "execution_count": 49,
   "metadata": {},
   "outputs": [
    {
     "name": "stdout",
     "output_type": "stream",
     "text": [
      "3.9957142857142856 3.8985530612244905\n",
      "1.98 2.4196\n"
     ]
    }
   ],
   "source": [
    "print (mean_ktr, var_ktr)\n",
    "print (mean_nsec, var_nsec)"
   ]
  },
  {
   "cell_type": "markdown",
   "metadata": {},
   "source": [
    "The $R_0$ is close to the expected value of 1.8. We can also see that the contact rate is close to 4, however, the variance is well below the required 40.\n",
    "\n",
    "RKnot's event based structure (which more closely mimicks real world movement pattern) can help us increase the variance of contacts. \n",
    "\n",
    "We will use the root [`baseus` structure](constant.ipynb#sir) to work with a larger population.\n",
    "\n",
    "Because we are adding many larger events, we should be able to tune down the density level, but still reach the average 4 contacts per day level. Below we will use `dlevel=3.5`.\n",
    "\n",
    "We also augment the events so that they fit inside the grid space."
   ]
  },
  {
   "cell_type": "code",
   "execution_count": 50,
   "metadata": {},
   "outputs": [],
   "source": [
    "from rknot.events import Event\n",
    "from rknot.sims import baseus\n",
    "\n",
    "groups = baseus.groups\n",
    "groups[2]['n_inf'] = 0\n",
    "\n",
    "school1 = Event(name='school1', xy=[25,42], start_tick=2, groups=[0], capacity=25, recurring=2)\n",
    "school2 = Event(name='school2', xy=[34,16], start_tick=3, groups=[0], capacity=50, recurring=2)\n",
    "school3 = Event(name='school3', xy=[47,28], start_tick=4, groups=[0], capacity=25, recurring=2)\n",
    "game1 = Event(name='game1', xy=[50,39], start_tick=6, groups=[0,1,2,3], capacity=100, recurring=14)\n",
    "game2 = Event(name='game2', xy=[24,25], start_tick=5, groups=[0,1,2], capacity=76, recurring=14)\n",
    "game3 = Event(name='game3', xy=[6,43], start_tick=1, groups=[0,1,2], capacity=56, recurring=14)\n",
    "game4 = Event(name='game4', xy=[26,53], start_tick=3, groups=[1,2], capacity=113, recurring=28)\n",
    "concert1 = Event(name='concert1', xy=[10,10], start_tick=7, groups=[0,1], capacity=50, recurring=14)                 \n",
    "concert2 = Event(name='concert2', xy=[53,46], start_tick=3, groups=[1], capacity=50, recurring=14)\n",
    "concert3 = Event(name='concert3', xy=[31,19], start_tick=1, groups=[2,3], capacity=25, recurring=14)\n",
    "concert4 = Event(name='concert4', xy=[19,21], start_tick=5, groups=[1,2], capacity=50, recurring=28)\n",
    "concert5 = Event(name='concert5', xy=[19,20], start_tick=3, groups=[1,2], capacity=25, recurring=21)\n",
    "concert6 = Event(name='concert6', xy=[8,41], start_tick=5, groups=[1,2], capacity=50, recurring=28)\n",
    "concert7 = Event(name='concert7', xy=[1,21], start_tick=2, groups=[0,1,2], capacity=125, recurring=14)\n",
    "bar1 = Event(name='bar1', xy=[9,12], start_tick=4, groups=[1], capacity=5, recurring=3)\n",
    "bar2 = Event(name='bar2', xy=[49,9], start_tick=5, groups=[1], capacity=5, recurring=4)\n",
    "bar3 = Event(name='bar3', xy=[26,45], start_tick=6, groups=[1,2], capacity=5, recurring=3)\n",
    "bar4 = Event(name='bar4', xy=[8,14], start_tick=7, groups=[1,2,3], capacity=4, recurring=7)\n",
    "church = Event(name='church', xy=[2,51], start_tick=7, groups=[2,3], capacity=20, recurring=7)\n",
    "\n",
    "events = [\n",
    "    school1, school2, school3, game1, game2, game3, game4, \n",
    "    concert1, concert2, concert3, concert4, concert5, concert6, concert7,\n",
    "    bar1, bar2, bar3, bar4,\n",
    "    church\n",
    "]"
   ]
  },
  {
   "cell_type": "code",
   "execution_count": 51,
   "metadata": {},
   "outputs": [],
   "source": [
    "days = 21\n",
    "params = dict(\n",
    "    days=days,\n",
    "    inf_curve=tmr,\n",
    "    dlevel=3.5,\n",
    "    imndur=365,\n",
    ")"
   ]
  },
  {
   "cell_type": "code",
   "execution_count": 52,
   "metadata": {},
   "outputs": [
    {
     "data": {
      "application/vnd.jupyter.widget-view+json": {
       "model_id": "5d1b85d330894d6b80b28244259ee408",
       "version_major": 2,
       "version_minor": 0
      },
      "text/plain": [
       "HBox(children=(FloatProgress(value=0.0), HTML(value='')))"
      ]
     },
     "metadata": {},
     "output_type": "display_data"
    },
    {
     "name": "stdout",
     "output_type": "stream",
     "text": [
      "\n"
     ]
    }
   ],
   "source": [
    "length = tmr.shape[0]\n",
    "n = 100\n",
    "contacts = np.zeros(length*n, dtype=np.int32)\n",
    "n_secs = np.zeros(n, dtype=np.int32)\n",
    "for i in trange(n):\n",
    "    sim = Sim(groups=groups, events=events, **params)\n",
    "    sim.run(dotlog=True, pbar_on=False)\n",
    "    n_secs[i] = find_n_sec(sim.dotlog[:length+1])\n",
    "    inf_contacts = contacts_of_init_inf(sim.dotlog[:length])\n",
    "    contacts[i*length:i*length + length] = inf_contacts\n",
    "    \n",
    "mean_ktr, var_ktr = contacts.mean(), contacts.var()\n",
    "mean_nsec, var_nsec = n_secs.mean(), n_secs.var()"
   ]
  },
  {
   "cell_type": "code",
   "execution_count": 53,
   "metadata": {},
   "outputs": [],
   "source": [
    "if UPDATEDB:\n",
    "    db['contacts mean, var 4'] = (contacts.mean(), contacts.var())\n",
    "    db['nsecs mean, var 4'] = (n_secs.mean(), n_secs.var())\n",
    "\n",
    "mean_ktr, var_ktr = db['contacts mean, var 4']\n",
    "mean_nsec, var_nsec = db['nsecs mean, var 4']"
   ]
  },
  {
   "cell_type": "code",
   "execution_count": 57,
   "metadata": {},
   "outputs": [
    {
     "data": {
      "text/plain": [
       "[{'name': '0-19', 'n': 2700, 'n_inf': 0, 'ifr': 3e-05, 'mover': 'local'},\n",
       " {'name': '20-49', 'n': 4100, 'n_inf': 1, 'ifr': 0.0002, 'mover': 'local'},\n",
       " {'name': '50-69', 'n': 2300, 'n_inf': 0, 'ifr': 0.005, 'mover': 'local'},\n",
       " {'name': '70+', 'n': 900, 'n_inf': 0, 'ifr': 0.054, 'mover': 'local'}]"
      ]
     },
     "execution_count": 57,
     "metadata": {},
     "output_type": "execute_result"
    }
   ],
   "source": [
    "groups"
   ]
  },
  {
   "cell_type": "code",
   "execution_count": 54,
   "metadata": {},
   "outputs": [
    {
     "name": "stdout",
     "output_type": "stream",
     "text": [
      "3.899 49.89179899999999\n",
      "1.96 5.538399999999999\n"
     ]
    }
   ],
   "source": [
    "print (mean_ktr, var_ktr)\n",
    "print (mean_nsec, var_nsec)"
   ]
  },
  {
   "cell_type": "markdown",
   "metadata": {},
   "source": [
    "We can see this simulation fits the FREDHUTCH model quite nicely. This space is used as the base structure for the [experiments in viral load found here.](load.ipynb#Events)."
   ]
  },
  {
   "cell_type": "code",
   "execution_count": null,
   "metadata": {
    "nbsphinx": "hidden"
   },
   "outputs": [],
   "source": [
    "%%javascript\n",
    "IPython.notebook.save_notebook()"
   ]
  },
  {
   "cell_type": "code",
   "execution_count": 56,
   "metadata": {
    "nbsphinx": "hidden"
   },
   "outputs": [],
   "source": [
    "from rknot.helpers import move_to_doc_folder\n",
    "move_to_doc_folder('sizing.ipynb')"
   ]
  },
  {
   "cell_type": "code",
   "execution_count": null,
   "metadata": {
    "nbsphinx": "hidden"
   },
   "outputs": [],
   "source": []
  }
 ],
 "metadata": {
  "celltoolbar": "Edit Metadata",
  "kernelspec": {
   "display_name": "Python 3",
   "language": "python",
   "name": "python3"
  },
  "language_info": {
   "codemirror_mode": {
    "name": "ipython",
    "version": 3
   },
   "file_extension": ".py",
   "mimetype": "text/x-python",
   "name": "python",
   "nbconvert_exporter": "python",
   "pygments_lexer": "ipython3",
   "version": "3.8.6"
  }
 },
 "nbformat": 4,
 "nbformat_minor": 4
}
