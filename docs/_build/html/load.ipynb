{
 "cells": [
  {
   "cell_type": "markdown",
   "metadata": {},
   "source": [
    "## Dynamic Transmission Risk ##"
   ]
  },
  {
   "cell_type": "markdown",
   "metadata": {},
   "source": [
    "### Structure ###\n",
    "\n",
    "In [SIR: Factors Influencing Spread](sir.ipynb), we assumed a constant daily rate of transmission risk during the infectious period. This is in keeping with the SIR model, however, in reality we know that transmission risk is influenced by an infected person's viral load, which is a dynamic property.\n",
    "\n",
    "**RKnot** can incorporate dynamic transmission rate and we will compare its impact to the outcomes of some of the simulations used in SIR. The model and parameters used in this scenario are derived from this paper from the [Fred Hutchinson Cancer Research Center](https://www.medrxiv.org/content/10.1101/2020.08.07.20169920v3.full.pdf), hence forth known as the Hutch model.\n",
    "\n",
    "In particular, parameters for the FHUTCH model require:\n",
    "\n",
    "* average of 4 contacts per day\n",
    "* variance of 40 contacts$^2$ per day\n",
    "* The paper notes that these parameters should result in an $R_0$ of 1.8x.\n",
    "\n",
    "The group structure continues to be informed by [CDC Best Planning Scenario](https://www.cdc.gov/coronavirus/2019-ncov/hcp/planning-scenarios.html) guidelines for IFR.\n",
    "\n",
    "Other assumptions:\n",
    "\n",
    "* Population of 10,000\n",
    "    * proportionately split among the 4 age groups to match [US Census data](https://www.census.gov/prod/cen2010/briefs/c2010br-03.pdf).\n",
    "* Initial Infected of 2\n",
    "* Duration of Immunity 365 days\n",
    "* Density of 1 dot / location (excluding the vbox)\n",
    "* a collection of 9,142 separate events, each recurring every 30 days.\n",
    "\n",
    "*See [Sizing](sizing.ipynb#Complex-Environments) for a detailed exercise on building this sim space.*\n",
    "\n",
    "We will try to replicate several of the simulations to those in [SIR: Factors Influencing Spread](sir.ipynb)."
   ]
  },
  {
   "cell_type": "markdown",
   "metadata": {},
   "source": [
    "The transmission risk curve used in these simulations is visualized below. See [Hutch Model](theory.ipynb#Hutch-Model) for the derivation."
   ]
  },
  {
   "cell_type": "markdown",
   "metadata": {},
   "source": [
    "<img \n",
    "    src='https://storage.googleapis.com/rknotvids/imgs/tmr_curve.png'\n",
    "    alt='Drawing' style='width: 600px;' align='center'\n",
    "/>"
   ]
  },
  {
   "cell_type": "code",
   "execution_count": 3,
   "metadata": {
    "nbsphinx": "hidden"
   },
   "outputs": [
    {
     "name": "stdout",
     "output_type": "stream",
     "text": [
      "The autoreload extension is already loaded. To reload it, use:\n",
      "  %reload_ext autoreload\n"
     ]
    }
   ],
   "source": [
    "%load_ext autoreload\n",
    "%autoreload 2\n",
    "\n",
    "from datetime import datetime as dt\n",
    "\n",
    "\n",
    "from rknot.notebook import md, modulereload, results_table\n",
    "from rknot.helpers import get_results\n",
    "import rknot.styles as styles"
   ]
  },
  {
   "cell_type": "code",
   "execution_count": 4,
   "metadata": {
    "nbsphinx": "hidden"
   },
   "outputs": [],
   "source": [
    "### HIDDEN ###\n",
    "IMPORT = False\n",
    "RUN = False\n",
    "SAVE = False\n",
    "SAVE_CHARTS = True\n",
    "PATH = 'vids/us_w_load/tests/'\n",
    "\n",
    "fps = 10\n",
    "chart_params = dict(use_init_func=False, show_intro=False, dotsize=0.1, h_base=10, interval=1000/fps)\n",
    "writer_params = dict(fps=fps, bitrate=11000)\n",
    "save_params = dict(dpi=1000)"
   ]
  },
  {
   "cell_type": "markdown",
   "metadata": {},
   "source": [
    "#### 1. Events ####\n",
    "\n",
    "Here we show the basic outcome of a viral load, gamma-distributed contact approach to spread.\n",
    "\n",
    "All of the 9,000+ events occur in the \"Events\" vbox. All events have capacities of 3 subjects or more. "
   ]
  },
  {
   "cell_type": "markdown",
   "metadata": {},
   "source": [
    "```python\n",
    "from rknot.sims.us_w_load_18 import params, groups, events\n",
    "\n",
    "from rknot.events import Event\n",
    "\n",
    "sim = Sim(groups=groups, events=events, **params)\n",
    "sim.run()\n",
    "\n",
    "chart = Chart(sim).to_html5_video()\n",
    "```"
   ]
  },
  {
   "cell_type": "code",
   "execution_count": 5,
   "metadata": {
    "nbsphinx": "hidden"
   },
   "outputs": [],
   "source": [
    "if IMPORT:\n",
    "    from rknot import Sim, Chart\n",
    "    from rknot.sims import us_w_load_18\n",
    "\n",
    "    modulereload(us_w_load_18)\n",
    "    \n",
    "    assert 'susf' not in us_w_load_18.groups[1]   \n",
    "    assert all(g['mover'] == .98 for g in us_w_load_18.groups)"
   ]
  },
  {
   "cell_type": "code",
   "execution_count": 6,
   "metadata": {
    "nbsphinx": "hidden",
    "scrolled": true
   },
   "outputs": [],
   "source": [
    "if RUN:\n",
    "    from rknot.sim import recycler\n",
    "    \n",
    "    sim_cycler = recycler(100)\n",
    "    while True:\n",
    "        for event in us_w_load_18.params['events']:\n",
    "            event.recurring = 30\n",
    "    \n",
    "        sim = sim_cycler(pbar_leave=False, pbar=False, **us_w_load_18.params)\n",
    "        sim.run(dotlog=True, pbar_leave=False, pbar=False)\n",
    "\n",
    "        res = get_results(sim)\n",
    "        print (res[1], .38 < res[1] < .43)\n",
    "        if .38 < res[1] < .43:\n",
    "            sim.shutdown()\n",
    "            break"
   ]
  },
  {
   "cell_type": "code",
   "execution_count": 25,
   "metadata": {
    "nbsphinx": "hidden"
   },
   "outputs": [
    {
     "name": "stdout",
     "output_type": "stream",
     "text": [
      "\n"
     ]
    }
   ],
   "source": [
    "from datetime import datetime as dt\n",
    "from rknot.helpers import picksave, pickload\n",
    "file = 'vids/us_w_load/events'\n",
    "\n",
    "if SAVE:\n",
    "    delattr(sim, 'server')\n",
    "    delattr(sim, 'workers')\n",
    "    sims = pickload(file)\n",
    "    sims[dt.now()] = sim\n",
    "    picksave(file, sims)\n",
    "\n",
    "    sims = pickload(file)\n",
    "    run_date, sim = sorted(sims.items())[-1] # Get the most recent saved sim\n",
    "else:\n",
    "    sims = pickload(file)\n",
    "    run_date, sim = sorted(sims.items())[-1] # Get the most recent saved sim\n",
    "    res = get_results(sim)"
   ]
  },
  {
   "cell_type": "code",
   "execution_count": 23,
   "metadata": {
    "nbsphinx": "hidden"
   },
   "outputs": [
    {
     "name": "stderr",
     "output_type": "stream",
     "text": [
      "/Users/spindicate/Documents/programming/rknot/rknot/animate/main.py:226: UserWarning: When `reso_format='web', you must call the save method at the same time as instantiating the object, or it will hang.\n",
      "  warnings.warn(msg)\n"
     ]
    },
    {
     "data": {
      "application/vnd.jupyter.widget-view+json": {
       "model_id": "007612b0a1aa4d27ace7d956a967cdbd",
       "version_major": 2,
       "version_minor": 0
      },
      "text/plain": [
       "HBox(children=(FloatProgress(value=0.0, max=161.0), HTML(value='')))"
      ]
     },
     "metadata": {},
     "output_type": "display_data"
    },
    {
     "name": "stdout",
     "output_type": "stream",
     "text": [
      "\n"
     ]
    }
   ],
   "source": [
    "if SAVE_CHARTS:\n",
    "    from rknot import Chart\n",
    "    chart_params = dict(reso_format='web', dotsize=.1)\n",
    "    chart = Chart(sim, show_intro=True, show_restricted=True, **chart_params).save(PATH + 'events.mp4')"
   ]
  },
  {
   "cell_type": "markdown",
   "metadata": {},
   "source": [
    "<video width='705' height='340'\n",
    "    src='https://storage.googleapis.com/rknotvids/us_w_load/events.mp4' controls>Video Failed to Load</video>"
   ]
  },
  {
   "cell_type": "code",
   "execution_count": 26,
   "metadata": {
    "tags": [
     "hide_input"
    ]
   },
   "outputs": [
    {
     "data": {
      "text/markdown": [
       "Results: \n",
       "\n",
       "|      |      | \n",
       "| ------------- |:-------------:| \n",
       "| Peak      |   35.6% | \n",
       "| HIT      | 42.4%      | \n",
       "| Total      | 50.2%      | \n",
       "| Fatalities | 0.30%      | \n",
       "| % > 70 | 24.0%      | \n",
       "| IFR | 0.60%        | \n",
       "| Days to Peak |   63 | \n"
      ],
      "text/plain": [
       "<IPython.core.display.Markdown object>"
      ]
     },
     "metadata": {},
     "output_type": "display_data"
    }
   ],
   "source": [
    "md(results_table(res))"
   ]
  },
  {
   "cell_type": "markdown",
   "metadata": {},
   "source": [
    "The results relative to the [SIR Events](sir.ipynb#5.-Events) simulation are lower across the board, which is mainly attributable to the lower $R_0$ utilized.\n",
    "\n",
    "With $R_0$ of 1.8, we would expect HIT of ~44%, which is close to the result here. Beyond the absolute level of outcomes, note that the difference between peak/hit/total infections appears to be tighter, suggesting a somewhat more dramatic decline once the peak is reached.\n",
    "\n",
    "Fatalty measures are inline with expectations from SIR model, as well.\n",
    "\n",
    "Below, we show the distribution of outcomes of the 250 iterations of this scenario. The example scenario shown above is representative of those scenarios that had a signifcant level of secondary infections."
   ]
  },
  {
   "cell_type": "code",
   "execution_count": 9,
   "metadata": {
    "nbsphinx": "hidden"
   },
   "outputs": [
    {
     "name": "stdout",
     "output_type": "stream",
     "text": [
      "This date does not exist for the specified key.\n",
      "Enter 0 to use the most recent date (default).\n",
      "Enter 1 to add a new entry.\n",
      "\n"
     ]
    }
   ],
   "source": [
    "from rknot.helpers import ShelfHelp\n",
    "\n",
    "file = 'tests/data/sizing_complex'\n",
    "key = 'complex_1.8_iters_RESULTS_n_inf_2'\n",
    "\n",
    "args = []\n",
    "with ShelfHelp(file, key) as sh:\n",
    "    n, sim_tmr, c1, nsecs1, res1 = sh.values(*args)"
   ]
  },
  {
   "cell_type": "code",
   "execution_count": 29,
   "metadata": {
    "tags": [
     "hide_input"
    ]
   },
   "outputs": [
    {
     "data": {
      "text/markdown": [
       "Average Values\n",
       "\n",
       "|      | Events  | Events ex. 0 $R_0$   | \n",
       "| -------------|:-------------:|:-------------:| \n",
       "| Peak      |   8.9%|   33.1%| \n",
       "| HIT       |   11.1%|   41.1%| \n",
       "| Total   |   14.0%|   52.3%| \n",
       "| Days to Peak   |   24.3|   37.7| \n",
       "| No Secondary  |   51.6%|   0.0%|"
      ],
      "text/plain": [
       "<IPython.core.display.Markdown object>"
      ]
     },
     "metadata": {},
     "output_type": "display_data"
    }
   ],
   "source": [
    "import numpy as np\n",
    "\n",
    "from rknot.notebook import curve_table\n",
    "\n",
    "i_table = [0,1,2,-1]\n",
    "res1 = np.around(res1, 3)\n",
    "res1 = res1[:, i_table]\n",
    "\n",
    "persec = np.array([(np.sum(res1[:,1] == 0) / res1.shape[0])])\n",
    "means1 = np.concatenate((res1.mean(axis=0), persec))\n",
    "\n",
    "means1_gt_0 = np.zeros(5)\n",
    "for i in range(res1.shape[1]):\n",
    "    exc = res1[:,i][np.argwhere(res1[:,i] >= 0.1).ravel()].mean()\n",
    "    means1_gt_0[i] = exc\n",
    "\n",
    "headers = ['Events', r'Events ex. 0 $R_0$'] \n",
    "args = [t for tup in zip(means1, means1_gt_0) for t in tup]\n",
    "    \n",
    "md(curve_table(2, headers, args))"
   ]
  },
  {
   "cell_type": "code",
   "execution_count": 10,
   "metadata": {
    "nbsphinx": "hidden",
    "tags": [
     "hide_input"
    ]
   },
   "outputs": [
    {
     "name": "stderr",
     "output_type": "stream",
     "text": [
      "No handles with labels found to put in legend.\n"
     ]
    },
    {
     "data": {
      "image/png": "[encoded data removed]",
      "text/plain": [
       "<Figure size 1152x720 with 1 Axes>"
      ]
     },
     "metadata": {
      "needs_background": "light"
     },
     "output_type": "display_data"
    }
   ],
   "source": [
    "from rknot.notebook import curvehist\n",
    "savepath = 'vids/us_w_load/events_hist'\n",
    "\n",
    "labels = [None]\n",
    "title = r'HIT: 250 Simulations of Hutch-based Events Scenario'\n",
    "curvehist([res1[:,1]], labels, title=title, which='hit', savepath=savepath)"
   ]
  },
  {
   "cell_type": "markdown",
   "metadata": {},
   "source": [
    "<img \n",
    "    src='https://storage.googleapis.com/rknotvids/us_w_load/events_hist.png'\n",
    "    alt='Drawing' style='width: 700px;' align='center'\n",
    "/>"
   ]
  },
  {
   "cell_type": "markdown",
   "metadata": {},
   "source": [
    "#### 6. Gates ####\n",
    "We can further improve the real world relevance of interactions by introducing [gates](concepts.ipynb#Gates). Subjects are not always freely able to interact with all other people in a population. Often their movement is restricted to within certain areas. Furthermore, other people's access into those areas is restricted.\n",
    "\n",
    "Elderly people living in retirement homes or assisted living centers is an example. To simulate this, we will split `group4` into two separate groups. \n",
    "\n",
    "* `group4a`\n",
    "    * population of 600 (2/3s of `group4`) \n",
    "    * IFR of 4.2%\n",
    "    * move freely throughout the entire grid as previously\n",
    "* `group4b` \n",
    "    * population of 300 (1/3rd of `group4`)\n",
    "    * IFR of 7.8%\n",
    "    * movement restricted to 6x6 box\n",
    "\n",
    "We have also adjusted the IFR on the basis that `group4b` is likely older and also probably more frail than `group4a`. IFRs approximate those found [here](https://www.publichealthontario.ca/-/media/documents/ncov/epi/2020/06/covid19-epi-case-identification-age-only-template.pdf?la=en).\n",
    "\n",
    "In addition, we will add an event specifically for the new group inside the gate."
   ]
  },
  {
   "cell_type": "markdown",
   "metadata": {},
   "source": [
    "```python\n",
    "group4a = dict(\n",
    "    name='70+',\n",
    "    n=600,\n",
    "    n_inf=0,\n",
    "    ifr=0.042,\n",
    "    mover='local',\n",
    ")\n",
    "group4b = dict(\n",
    "    name='70+G',\n",
    "    n=300,\n",
    "    n_inf=0,\n",
    "    ifr=0.0683,\n",
    "    mover='local',\n",
    "    box=[1,6,1,6],\n",
    "    box_is_gated=True,\n",
    ")\n",
    "groups = [group1, group2, group3, group4a, group4b]\n",
    "\n",
    "church2 = Event(\n",
    "    name='church2', xy=[2,3], start_tick=7, \n",
    "    groups=[4], capacity=5, recurring=7\n",
    ")\n",
    "\n",
    "events_gated = [\n",
    "    school1, school2, school3, game1, game2, game3, game4, \n",
    "    concert1, concert2, concert3, concert4, \n",
    "    bar1, bar2, bar3, bar4, bar5, \n",
    "    church, church2,\n",
    "]\n",
    "```"
   ]
  },
  {
   "cell_type": "markdown",
   "metadata": {},
   "source": [
    "Now, such elderly populations are entirely sealed of from the rest of the world. In fact, they are often visited by family members or friends. We can mimick this with the use of a Travel object.\n",
    "\n",
    "In this sim, at least one person will enter into the `group4b` gate for a day only. And this will repeat every day of the sim."
   ]
  },
  {
   "cell_type": "markdown",
   "metadata": {},
   "source": [
    "```python\n",
    "from rknot.events import Travel\n",
    "\n",
    "visit = Travel(\n",
    "    name='visit', xy=[1,1], start_tick=3, \n",
    "    groups=[1,2], capacity=1, duration=1, recurring=1\n",
    ")\n",
    "events.append(visit)\n",
    "\n",
    "sim = Sim(groups=groups, events=events, **params)\n",
    "sim.run()\n",
    "\n",
    "chart = Chart(sim, use_init_func=True)\n",
    "chart.animate.to_html5_video()\n",
    "```"
   ]
  },
  {
   "cell_type": "code",
   "execution_count": 7,
   "metadata": {
    "nbsphinx": "hidden"
   },
   "outputs": [
    {
     "name": "stdout",
     "output_type": "stream",
     "text": [
      "\u001b[2m\u001b[36m(pid=80775)\u001b[0m [Box([ 1, 50,  1, 50]), Box([1, 3, 1, 3])]\n",
      "\u001b[2m\u001b[36m(pid=80775)\u001b[0m [Box([ 1, 50,  1, 50]), Box([1, 3, 1, 3]), Box([25, 25, 42, 42]), Box([34, 34, 16, 16]), Box([47, 47, 28, 28]), Box([50, 50, 39, 39]), Box([24, 24, 25, 25]), Box([ 6,  6, 43, 43]), Box([26, 26, 49, 49]), Box([10, 10, 10, 10]), Box([45, 45, 46, 46]), Box([31, 31, 19, 19]), Box([19, 19, 21, 21]), Box([ 9,  9, 12, 12]), Box([43, 43,  9,  9]), Box([26, 26, 45, 45]), Box([ 8,  8, 14, 14]), Box([44, 44, 23, 23]), Box([ 2,  2, 46, 46]), Box([2, 2, 3, 3]), Box([1, 1, 1, 1])]\n"
     ]
    },
    {
     "data": {
      "application/vnd.jupyter.widget-view+json": {
       "model_id": "18b9eb8ca5344e359b9be8b0df4c9df4",
       "version_major": 2,
       "version_minor": 0
      },
      "text/plain": [
       "HBox(children=(FloatProgress(value=0.0, max=365.0), HTML(value='')))"
      ]
     },
     "metadata": {},
     "output_type": "display_data"
    },
    {
     "name": "stdout",
     "output_type": "stream",
     "text": [
      "\n",
      "['38%', '56%', '71%', '0.44%', '33%', '0.62%', '63']\n"
     ]
    }
   ],
   "source": [
    "if IMPORT:\n",
    "    from rknot import Sim, Chart\n",
    "    from rknot.sims import us_w_load\n",
    "    \n",
    "    modulereload(us_w_load)\n",
    "    assert 'susf' not in us_w_load.groups_gated[1]    \n",
    "    assert all(g['mover'] == 'local' for g in us_w_load.groups)\n",
    "    \n",
    "if RUN:\n",
    "    sim6 = Sim(groups=us_w_load.groups_gated, events=us_w_load.events_gated, **us_w_load.params)\n",
    "    sim6.run()\n",
    "    print (get_results(sim6))"
   ]
  },
  {
   "cell_type": "code",
   "execution_count": 8,
   "metadata": {
    "nbsphinx": "hidden"
   },
   "outputs": [],
   "source": [
    "if SAVE:\n",
    "    results = get_results(sim6)\n",
    "    db['6'] = results"
   ]
  },
  {
   "cell_type": "code",
   "execution_count": 13,
   "metadata": {
    "nbsphinx": "hidden"
   },
   "outputs": [
    {
     "data": {
      "application/vnd.jupyter.widget-view+json": {
       "model_id": "f27574a78e1548a08e93ed987650bedb",
       "version_major": 2,
       "version_minor": 0
      },
      "text/plain": [
       "HBox(children=(FloatProgress(value=0.0, max=175.0), HTML(value='')))"
      ]
     },
     "metadata": {},
     "output_type": "display_data"
    },
    {
     "data": {
      "image/png": "[encoded data removed]",
      "text/plain": [
       "<Figure size 337.824x141.12 with 7 Axes>"
      ]
     },
     "metadata": {
      "needs_background": "light"
     },
     "output_type": "display_data"
    }
   ],
   "source": [
    "if SAVE_CHARTS:\n",
    "    chart = Chart(sim6, **chart_params)\n",
    "    chart.animate.save(\n",
    "        PATH + '6.mp4', \n",
    "        writer=FFMpegWriter(metadata=meta, **writer_params), \n",
    "        **save_params\n",
    "    )"
   ]
  },
  {
   "cell_type": "markdown",
   "metadata": {},
   "source": [
    "<video width='705' height='340'\n",
    "    src='https://storage.googleapis.com/rknotvids/baseus/6.mp4' controls>Video Failed to Load</video>"
   ]
  },
  {
   "cell_type": "code",
   "execution_count": 9,
   "metadata": {
    "tags": [
     "hide_input"
    ]
   },
   "outputs": [
    {
     "data": {
      "text/markdown": [
       "Results: \n",
       "\n",
       "|      |      | \n",
       "| ------------- |:-------------:| \n",
       "| Peak      |   38% | \n",
       "| HIT      | 56%      | \n",
       "| Total      | 71%      | \n",
       "| Fatalities | 0.44%      | \n",
       "| % > 70 | 33%      | \n",
       "| IFR | 0.62%      | \n",
       "| Days to Peak |   63 | \n"
      ],
      "text/plain": [
       "<IPython.core.display.Markdown object>"
      ]
     },
     "metadata": {},
     "output_type": "display_data"
    }
   ],
   "source": [
    "md(results_table(*db['6']))"
   ]
  },
  {
   "cell_type": "markdown",
   "metadata": {},
   "source": [
    "Again, the gated structure is intended to mimic [Example 1](#1.-Equal), [Example 3](#3.-Social), and [Example 5](#5.-Events).\n",
    "\n",
    "The use for Events and Gates will become clear when we explore the impact of [Policy Decisions](#Policy)."
   ]
  },
  {
   "cell_type": "markdown",
   "metadata": {},
   "source": [
    "#### 9. Self Aware Social Distancing + Pre-Immunity ####\n",
    "In a self-aware population, we can also incorporate an assumption that certain members of the population will implement social distancing practices (even in the absence of prescribed government policy). For example, individuals might wear masks or face shields while in public. \n",
    "\n",
    "This is implemented via a SocialDistancing object, which reduces the transmission factor of the subjects in the applicable group."
   ]
  },
  {
   "cell_type": "markdown",
   "metadata": {},
   "source": [
    "```python\n",
    "from rknot.events import SocialDistancing as SD\n",
    "\n",
    "sd = SD(name='6-feet', tmfs=[.975,.95,.75,.5], groups=[1,2,3,4], start_tick=5, duration=90)\n",
    "events.append(sd)\n",
    "\n",
    "sim = Sim(groups=groups, events=events, **params)\n",
    "sim.run()\n",
    "\n",
    "chart = Chart(sim, use_init_func=True)\n",
    "chart.animate.to_html5_video()\n",
    "```"
   ]
  },
  {
   "cell_type": "code",
   "execution_count": 14,
   "metadata": {
    "nbsphinx": "hidden"
   },
   "outputs": [
    {
     "name": "stdout",
     "output_type": "stream",
     "text": [
      "\n"
     ]
    },
    {
     "data": {
      "application/vnd.jupyter.widget-view+json": {
       "model_id": "be1181d52ef64dcb8ce18477a4c1646e",
       "version_major": 2,
       "version_minor": 0
      },
      "text/plain": [
       "HBox(children=(FloatProgress(value=0.0, max=365.0), HTML(value='')))"
      ]
     },
     "metadata": {},
     "output_type": "display_data"
    },
    {
     "name": "stdout",
     "output_type": "stream",
     "text": [
      "\n",
      "['19%', '34%', '45%', '0.50%', '48%', '1.11%', '112']\n"
     ]
    }
   ],
   "source": [
    "if IMPORT:\n",
    "    from rknot import Sim, Chart\n",
    "    from rknot.sims import us_w_load\n",
    "    modulereload(us_w_load)\n",
    "    assert len(us_w_load.events_gated) == 19\n",
    "    assert 'susf' not in us_w_load.groups_gated[1]\n",
    "\n",
    "    from rknot.events import SocialDistancing as SD\n",
    "    \n",
    "    groups_gated = us_w_load.groups_gated\n",
    "    events_gated = us_w_load.events_gated\n",
    "\n",
    "    groups_gated[1]['susf'] = .8\n",
    "    groups_gated[2]['susf'] = .65    \n",
    "\n",
    "    sd = SD(name='6-feet', tmfs=[.975,.95,.75,.5], groups=[1,2,3,4], start_tick=5, duration=90)\n",
    "    events_gated.append(sd)\n",
    "if RUN:\n",
    "    sim9 = Sim(groups=groups_gated, events=events_gated, **us_w_load.params)\n",
    "    sim9.run()\n",
    "    print (get_results(sim9))"
   ]
  },
  {
   "cell_type": "code",
   "execution_count": 38,
   "metadata": {
    "nbsphinx": "hidden"
   },
   "outputs": [],
   "source": [
    "if SAVE_CHARTS:\n",
    "    chart = Chart(sim9, **chart_params)\n",
    "    chart.animate.save(\n",
    "        PATH + '9.mp4', \n",
    "        writer=FFMpegWriter(metadata=meta, **writer_params), \n",
    "        **save_params\n",
    "    )"
   ]
  },
  {
   "cell_type": "code",
   "execution_count": 39,
   "metadata": {
    "nbsphinx": "hidden"
   },
   "outputs": [],
   "source": [
    "if SAVE:\n",
    "    results = get_results(sim9)\n",
    "    db['9'] = results"
   ]
  },
  {
   "cell_type": "markdown",
   "metadata": {},
   "source": [
    "<video width='705' height='340'\n",
    "    src='https://storage.googleapis.com/rknotvids/baseus/9.mp4' controls>Video Failed to Load</video>"
   ]
  },
  {
   "cell_type": "code",
   "execution_count": 40,
   "metadata": {
    "tags": [
     "hide_input"
    ]
   },
   "outputs": [
    {
     "data": {
      "text/markdown": [
       "Results: \n",
       "\n",
       "|      |      | \n",
       "| ------------- |:-------------:| \n",
       "| Peak      |   14% | \n",
       "| HIT      | 36%      | \n",
       "| Total      | 60%      | \n",
       "| Fatalities | 0.33%      | \n",
       "| % > 70 | 27%      | \n",
       "| IFR | 0.55%      | \n",
       "| Days to Peak |   92 | \n"
      ],
      "text/plain": [
       "<IPython.core.display.Markdown object>"
      ]
     },
     "metadata": {},
     "output_type": "display_data"
    }
   ],
   "source": [
    "md(results_table(*db['9']))"
   ]
  },
  {
   "cell_type": "markdown",
   "metadata": {},
   "source": [
    "Here we see that just the combination of pre-immunity and a modest amount of social distancing reduces all aspects of the infection curve.\n",
    "\n",
    "Note that, despite the continued visits from outside, an outbreak in the 70+G group did *not* occur until *after* the social distancing practices were ceased. This outbreak resulted in a small surge in cases (visible in a rebound in the curve at ~100 days) and a tripling in fatalities in a short period.\n",
    "\n",
    "So social distancing practices were helpful, but only so long as they were maintained."
   ]
  },
  {
   "cell_type": "markdown",
   "metadata": {},
   "source": [
    "### Policy ###\n",
    "\n",
    "With a more realistic model of subject interaction, we can begin to experiment with the impact of different policy measures.\n",
    "\n",
    "*RKnot* can simulate policy measures via `Restriction`, `SocialDistancing`, and `Quarantine` objects. Further details [here](concepts.ipynb#Restrictions).\n",
    "\n",
    "The simulations are based on [this scenario](#6.-Gates) and so the impact of the policy measures contemplated should be considered relative to that scenario.\n",
    "\n",
    "The structure can be imported as follows:\n",
    "\n",
    "```python\n",
    "from rknot.sims.baseus import params, events_gated, groups_gated\n",
    "```"
   ]
  },
  {
   "cell_type": "code",
   "execution_count": 41,
   "metadata": {
    "nbsphinx": "hidden"
   },
   "outputs": [],
   "source": [
    "### HIDDEN ###\n",
    "import matplotlib\n",
    "matplotlib.use('Qt5Agg')\n",
    "\n",
    "from matplotlib.animation import FFMpegWriter\n",
    "\n",
    "from rknot import Sim, Chart"
   ]
  },
  {
   "cell_type": "markdown",
   "metadata": {},
   "source": [
    "#### 1. Restrict Large Gatherings ####\n",
    "We'll start by simply restricting large gathers, which for this sim is any event with 10+ capacity (0.1% of the entire population). The restrictions will last for 60 days.\n",
    "\n",
    "When considering capacity, remember that a 100,000-seat stadium in a 10 million person catchment represents 1% of the population.\n",
    "\n",
    "We assume this policy are implemented on day 30, when the population finally realizes there is a pandemic and government has had time to implement prevention measures.\n",
    "\n",
    "The restriction will last for 60 days."
   ]
  },
  {
   "cell_type": "markdown",
   "metadata": {},
   "source": [
    "```python\n",
    "from rknot.events import Restriction\n",
    "\n",
    "large_gatherings = Restriction(\n",
    "    name='large', start_tick=30, duration=60, criteria={'capacity': 10}\n",
    ")\n",
    "events_w_res = events_gated + [large_gatherings]\n",
    "\n",
    "sim = Sim(groups=groups_gated, events=events_w_res, details=True, **params)\n",
    "sim.run()\n",
    "\n",
    "chart = Chart(sim, use_init_func=True)\n",
    "chart.animate.to_html5_video()\n",
    "```"
   ]
  },
  {
   "cell_type": "code",
   "execution_count": 42,
   "metadata": {
    "nbsphinx": "hidden"
   },
   "outputs": [],
   "source": [
    "if IMPORT:\n",
    "    from rknot.sims import baseus\n",
    "    modulereload(baseus)\n",
    "    assert len(baseus.events_gated) == 19\n",
    "    assert 'susf' not in baseus.groups_gated[1]    \n",
    "    \n",
    "    from rknot.events import Restriction\n",
    "\n",
    "    large_gatherings = Restriction(\n",
    "        name='large', start_tick=30, duration=120, criteria={'capacity': 10}\n",
    "    )\n",
    "    events_w_res = baseus.events_gated + [large_gatherings]\n",
    "if RUN:\n",
    "    sim10 = Sim(groups=baseus.groups_gated, events=events_w_res, **baseus.params)\n",
    "    sim10.run()\n",
    "    print (get_results(sim10))"
   ]
  },
  {
   "cell_type": "code",
   "execution_count": 43,
   "metadata": {
    "nbsphinx": "hidden"
   },
   "outputs": [],
   "source": [
    "if SAVE:\n",
    "    results = get_results(sim10)\n",
    "    db['large'] = results"
   ]
  },
  {
   "cell_type": "code",
   "execution_count": 44,
   "metadata": {
    "nbsphinx": "hidden"
   },
   "outputs": [],
   "source": [
    "if SAVE_CHARTS:\n",
    "    chart = Chart(sim10, **chart_params)\n",
    "    chart.animate.save(\n",
    "        PATH + 'large.mp4', \n",
    "        writer=FFMpegWriter(metadata=meta, **writer_params), \n",
    "        **save_params\n",
    "    )"
   ]
  },
  {
   "cell_type": "markdown",
   "metadata": {},
   "source": [
    "<video width='705' height='340'\n",
    "    src='https://storage.googleapis.com/rknotvids/baseus/large.mp4' controls>Video Failed to Load</video>\n",
    "    "
   ]
  },
  {
   "cell_type": "code",
   "execution_count": 45,
   "metadata": {
    "tags": [
     "hide_input"
    ]
   },
   "outputs": [
    {
     "data": {
      "text/markdown": [
       "Results: \n",
       "\n",
       "|      |      | \n",
       "| ------------- |:-------------:| \n",
       "| Peak      |   15% | \n",
       "| HIT      | 28%      | \n",
       "| Total      | 73%      | \n",
       "| Fatalities | 0.45%      | \n",
       "| % > 70 | 38%      | \n",
       "| IFR | 0.62%      | \n",
       "| Days to Peak |   69 | \n"
      ],
      "text/plain": [
       "<IPython.core.display.Markdown object>"
      ]
     },
     "metadata": {},
     "output_type": "display_data"
    }
   ],
   "source": [
    "md(results_table(*db['large']))"
   ]
  },
  {
   "cell_type": "markdown",
   "metadata": {},
   "source": [
    "We see that the curve is flattened significantly during the restriction period. Infections have a much lower peak, BUT also a much longer tail (evident by the still high relatively high level of total infections).\n",
    "\n",
    "This results as the event restriction is lifted, which leads to a slower rate of decline of the virus."
   ]
  },
  {
   "cell_type": "markdown",
   "metadata": {},
   "source": [
    "#### 2. Social Distancing ####\n",
    "We can mimick the implementation of Social Distancing policies in certain settings via the `SocialDistancing` object. Mask wearing, hand sanitizing, and 6-foot perimeters all provide varying levels of protection.\n",
    "\n",
    "It is hard to estimate the degree of protection from each, and even harder in combination. For instance, [this study](https://pubmed.ncbi.nlm.nih.gov/23498357/) found anywhere between a 1.1- and 55-fold reduction in exposure to influenza with varying mask designs.\n",
    "\n",
    "So we provide `tmfs` here for illustration purposes only, attempting to catch all social distancing practices. We also provide different `tmfs` for the different age groups, meant to simulate adherence to policy.\n",
    "\n",
    "The policy measure is implemented on day 30 and maintained for 120 days."
   ]
  },
  {
   "cell_type": "markdown",
   "metadata": {},
   "source": [
    "```python\n",
    "from rknot.events import SocialDistancing as SD\n",
    "\n",
    "sd = SD(\n",
    "    name='all', tmfs=[.8,.8,.7,.65,.5], \n",
    "    groups=[0,1,2,3,4], start_tick=30, duration=120\n",
    ")\n",
    "events_w_res = events_gated + [sd]\n",
    "\n",
    "sim = Sim(groups=groups_gated, events=events_w_res, **params)\n",
    "sim.run()\n",
    "\n",
    "chart = Chart(sim, use_init_func=True)\n",
    "chart.animate.to_html5_video()\n",
    "```"
   ]
  },
  {
   "cell_type": "code",
   "execution_count": 46,
   "metadata": {
    "nbsphinx": "hidden"
   },
   "outputs": [],
   "source": [
    "if IMPORT:\n",
    "    from rknot.sims import baseus\n",
    "    modulereload(baseus)\n",
    "    assert len(baseus.events_gated) == 19\n",
    "    assert 'susf' not in baseus.groups_gated[1]\n",
    "if RUN:\n",
    "    from rknot.events import SocialDistancing as SD\n",
    "\n",
    "    sd = SD(name='all', tmfs=[.8,.8,.7,.65,.5], groups=[0,1,2,3,4], start_tick=30, duration=120)\n",
    "    events_w_res = baseus.events_gated + [sd]\n",
    "\n",
    "    sim11 = Sim(groups=baseus.groups_gated, events=events_w_res, **baseus.params)\n",
    "    sim11.run()\n",
    "    print (get_results(sim11))"
   ]
  },
  {
   "cell_type": "code",
   "execution_count": 47,
   "metadata": {
    "nbsphinx": "hidden"
   },
   "outputs": [],
   "source": [
    "if SAVE_CHARTS:\n",
    "    chart = Chart(sim11, **chart_params)\n",
    "    chart.animate.save(\n",
    "        PATH + 'policy_sd.mp4', \n",
    "        writer=FFMpegWriter(metadata=meta, **writer_params), \n",
    "        **save_params\n",
    "    )"
   ]
  },
  {
   "cell_type": "code",
   "execution_count": 48,
   "metadata": {
    "nbsphinx": "hidden"
   },
   "outputs": [],
   "source": [
    "if SAVE:\n",
    "    results = get_results(sim11)\n",
    "    db['policy_sd'] = results"
   ]
  },
  {
   "cell_type": "markdown",
   "metadata": {},
   "source": [
    "<video width='705' height='340'\n",
    "       src='https://storage.googleapis.com/rknotvids/baseus/policy_sd.mp4' controls>Video Failed to Load</video>"
   ]
  },
  {
   "cell_type": "code",
   "execution_count": 49,
   "metadata": {
    "scrolled": false,
    "tags": [
     "hide_input"
    ]
   },
   "outputs": [
    {
     "data": {
      "text/markdown": [
       "Results: \n",
       "\n",
       "|      |      | \n",
       "| ------------- |:-------------:| \n",
       "| Peak      |   8% | \n",
       "| HIT      | 24%      | \n",
       "| Total      | 68%      | \n",
       "| Fatalities | 0.39%      | \n",
       "| % > 70 | 33%      | \n",
       "| IFR | 0.57%      | \n",
       "| Days to Peak |   96 | \n"
      ],
      "text/plain": [
       "<IPython.core.display.Markdown object>"
      ]
     },
     "metadata": {},
     "output_type": "display_data"
    }
   ],
   "source": [
    "md(results_table(*db['policy_sd']))"
   ]
  },
  {
   "cell_type": "markdown",
   "metadata": {},
   "source": [
    "We can see that social distancing is certainly the most effective approach in terms of \"flattening the curve\" with the lowest HIT and peak infections seen thus far. \n",
    "\n",
    "The social distancing methods are successful in preventing an outbreak among the 70+G group until ~120 days, well after peak infections are reach.\n",
    "\n",
    "However, consistent with the [restriction on large gatherings](#1.-Restrict-Large-Gatherings), the infection curve has protracted tail coinciding with the restriction being lifted. Over an extended time frame, the virus still infects a fairly large portion of the population."
   ]
  },
  {
   "cell_type": "markdown",
   "metadata": {},
   "source": [
    "#### 3. Restrict Elderly Visits ####\n",
    "We can restrict events by name by passing `name` key to `criteria`. We can do this to restrict the travel event to the `70+G` area. \n",
    "\n",
    "The policy measure is implemented on day 30 and maintained for another 120 days. There will be no other restrictions.\n",
    "\n",
    "```python\n",
    "no_visits = Restriction(\n",
    "    name='no_visits', start_tick=30, \n",
    "    duration=120, criteria={'name': 'visit'}\n",
    ")\n",
    "events_w_res = events_gated + [no_visits]\n",
    "\n",
    "sim = Sim(groups=groups_gated, events=events_w_res, **params)\n",
    "sim.run()\n",
    "\n",
    "chart = Chart(sim, use_init_func=True)\n",
    "chart.animate.to_html5_video()\n",
    "```"
   ]
  },
  {
   "cell_type": "code",
   "execution_count": 50,
   "metadata": {
    "nbsphinx": "hidden"
   },
   "outputs": [],
   "source": [
    "if IMPORT:\n",
    "    from rknot.sims import baseus\n",
    "    modulereload(baseus)\n",
    "    assert len(baseus.events_gated) == 19\n",
    "    assert 'susf' not in baseus.groups_gated[1]\n",
    "if RUN:\n",
    "    from rknot.events import Restriction    \n",
    "    no_visits = Restriction(\n",
    "        name='no_visits', start_tick=30, duration=120, criteria={'name': 'visit'}\n",
    "    )\n",
    "    events_w_res = baseus.events_gated + [no_visits]\n",
    "\n",
    "    sim12 = Sim(groups=baseus.groups_gated, events=events_w_res, **baseus.params)\n",
    "    sim12.run()\n",
    "    print (get_results(sim12))"
   ]
  },
  {
   "cell_type": "code",
   "execution_count": 51,
   "metadata": {
    "nbsphinx": "hidden"
   },
   "outputs": [],
   "source": [
    "if SAVE:\n",
    "    results = get_results(sim12)\n",
    "    db['no_visits'] = results"
   ]
  },
  {
   "cell_type": "code",
   "execution_count": 52,
   "metadata": {
    "nbsphinx": "hidden"
   },
   "outputs": [],
   "source": [
    "if SAVE_CHARTS:\n",
    "    chart = Chart(sim12, **chart_params)\n",
    "    chart.animate.save(\n",
    "        PATH + 'no_visits.mp4', \n",
    "        writer=FFMpegWriter(metadata=meta, **writer_params), \n",
    "        **save_params\n",
    "    )"
   ]
  },
  {
   "cell_type": "markdown",
   "metadata": {},
   "source": [
    "<video width='705' height='340' \n",
    "    src='https://storage.googleapis.com/rknotvids/baseus/no_visits.mp4' controls>Video Failed to Load</video>"
   ]
  },
  {
   "cell_type": "code",
   "execution_count": 53,
   "metadata": {
    "tags": [
     "hide_input"
    ]
   },
   "outputs": [
    {
     "data": {
      "text/markdown": [
       "Results: \n",
       "\n",
       "|      |      | \n",
       "| ------------- |:-------------:| \n",
       "| Peak      |   27% | \n",
       "| HIT      | 54%      | \n",
       "| Total      | 80%      | \n",
       "| Fatalities | 0.29%      | \n",
       "| % > 70 | 17%      | \n",
       "| IFR | 0.36%      | \n",
       "| Days to Peak |   77 | \n"
      ],
      "text/plain": [
       "<IPython.core.display.Markdown object>"
      ]
     },
     "metadata": {},
     "output_type": "display_data"
    }
   ],
   "source": [
    "md(results_table(*db['no_visits']))"
   ]
  },
  {
   "cell_type": "markdown",
   "metadata": {},
   "source": [
    "By simply quarantining the elderly, we see the most dramatic reduction in fatalities of any scenario thus far. An outbreak NEVER occurs in the 70+G gated area, even AFTER the policy restrictions are lifted, because the virus has already been eradicated by that time. \n",
    "\n",
    "We can see here that allowing a *high level of infection* among the **least susceptible** has resulted in a *low level of fatalities* among the **most susceptible**.\n",
    "\n",
    "This is a controversial approach and does have difficult ethical implications, but its power to reduce death cannot be ignored."
   ]
  },
  {
   "cell_type": "markdown",
   "metadata": {},
   "source": [
    "#### 4. Social Distancing and Restrict Elderly Visits and Large Gatherings ####\n",
    "What happens if we combine the three approaches above?"
   ]
  },
  {
   "cell_type": "markdown",
   "metadata": {},
   "source": [
    "```python\n",
    "large_gatherings = Restriction(\n",
    "    name='large', start_tick=30, duration=60, criteria={'capacity': 10}\n",
    ")\n",
    "no_visits = Restriction(\n",
    "    name='no_visits', start_tick=30, \n",
    "    duration=120, criteria={'name': 'visit'}\n",
    ")\n",
    "sd = SD(\n",
    "    name='all', tmfs=[.8,.8,.7,.65,.5], \n",
    "    groups=[0,1,2,3,4], start_tick=30, duration=120\n",
    ")\n",
    "events_w_res = events_gated + [large_gatherings, no_visits, sd]\n",
    "\n",
    "sim = Sim(groups=groups_gated, events=events_w_res, **params)\n",
    "sim.run()\n",
    "\n",
    "chart = Chart(sim, use_init_func=True)\n",
    "chart.animate.to_html5_video()\n",
    "```"
   ]
  },
  {
   "cell_type": "code",
   "execution_count": 54,
   "metadata": {
    "nbsphinx": "hidden"
   },
   "outputs": [],
   "source": [
    "if IMPORT:\n",
    "    from rknot.sims import baseus\n",
    "    modulereload(baseus)\n",
    "    assert len(baseus.events_gated) == 19\n",
    "    assert 'susf' not in baseus.groups_gated[1]\n",
    "if RUN:\n",
    "    large_gatherings = Restriction(\n",
    "        name='large', start_tick=30, duration=120, criteria={'capacity': 10}\n",
    "    )\n",
    "    no_visits = Restriction(\n",
    "        name='no_visits', start_tick=30, duration=120, criteria={'name': 'visit'}\n",
    "    )\n",
    "    sd = SD(name='all', tmfs=[.8,.8,.7,.65,.5], groups=[0,1,2,3,4], start_tick=30, duration=120)\n",
    "    events_w_res = baseus.events_gated + [large_gatherings, no_visits, sd]\n",
    "\n",
    "    sim13 = Sim(groups=baseus.groups_gated, events=events_w_res, **baseus.params)\n",
    "    sim13.run()\n",
    "    print (get_results(sim13))"
   ]
  },
  {
   "cell_type": "code",
   "execution_count": 55,
   "metadata": {
    "nbsphinx": "hidden"
   },
   "outputs": [],
   "source": [
    "if SAVE:\n",
    "    results = get_results(sim13)\n",
    "    db['sd_large_no_visits'] = results"
   ]
  },
  {
   "cell_type": "code",
   "execution_count": 56,
   "metadata": {
    "nbsphinx": "hidden"
   },
   "outputs": [],
   "source": [
    "if SAVE_CHARTS:\n",
    "    chart = Chart(sim13, **chart_params)\n",
    "    chart.animate.save(\n",
    "        PATH + 'sd_&_no_large_&_no_visits.mp4', \n",
    "        writer=FFMpegWriter(metadata=meta, **writer_params), \n",
    "        **save_params\n",
    "    )"
   ]
  },
  {
   "cell_type": "markdown",
   "metadata": {},
   "source": [
    "<video width='705' height='340'\n",
    "    src='https://storage.googleapis.com/rknotvids/baseus/sd_%26_no_large_%26_no_visits.mp4' controls>Video Failed to Load</video>"
   ]
  },
  {
   "cell_type": "code",
   "execution_count": 57,
   "metadata": {
    "tags": [
     "hide_input"
    ]
   },
   "outputs": [
    {
     "data": {
      "text/markdown": [
       "Results: \n",
       "\n",
       "|      |      | \n",
       "| ------------- |:-------------:| \n",
       "| Peak      |   24% | \n",
       "| HIT      | 55%      | \n",
       "| Total      | 82%      | \n",
       "| Fatalities | 0.42%      | \n",
       "| % > 70 | 36%      | \n",
       "| IFR | 0.51%      | \n",
       "| Days to Peak |   199 | \n"
      ],
      "text/plain": [
       "<IPython.core.display.Markdown object>"
      ]
     },
     "metadata": {},
     "output_type": "display_data"
    }
   ],
   "source": [
    "md(results_table(*db['sd_large_no_visits']))"
   ]
  },
  {
   "cell_type": "markdown",
   "metadata": {},
   "source": [
    "Incredibly, the combination of restrictions leads to worse outcomes than any of the individual restrictions on their own.\n",
    "\n",
    "While in place, the restrictions do tightly contain infections and signficantly delay the onset of the pandemic. But once they are lifted, the virus spreads unabated through a still highly susceptible population.\n",
    "\n",
    "i.e. Not enough subjects have achieved immunity by the time the restrictions are lifted."
   ]
  },
  {
   "cell_type": "markdown",
   "metadata": {},
   "source": [
    "#### 5. Quarantine ####\n",
    "We can even mimick the impact of quarantines via the Quarantine object.\n",
    "\n",
    "Here we show the impact of a 30-day quarantine for all groups in the Sim. We include a restriction on visits to the elderly during the quarantine."
   ]
  },
  {
   "cell_type": "markdown",
   "metadata": {},
   "source": [
    "```python\n",
    "from rknot.events import Quarantine\n",
    "\n",
    "quarantine = Quarantine(\n",
    "    name='all', start_tick=30, \n",
    "    groups=[0,1,2,3,4], duration=30\n",
    ")\n",
    "no_visits = Restriction(\n",
    "    name='no_visits', start_tick=30, \n",
    "    duration=30, criteria={'name': 'visit'}\n",
    ")\n",
    "\n",
    "events_w_res = events_gated + [quarantine, no_visits]\n",
    "\n",
    "sim = Sim(groups=groups_gated, events=events_w_res, **params)\n",
    "sim.run()\n",
    "\n",
    "chart = Chart(sim, use_init_func=True)\n",
    "chart.animate.to_html5_video()\n",
    "```"
   ]
  },
  {
   "cell_type": "code",
   "execution_count": 58,
   "metadata": {
    "nbsphinx": "hidden",
    "scrolled": true
   },
   "outputs": [],
   "source": [
    "if IMPORT:\n",
    "    from rknot.sims import baseus\n",
    "    modulereload(baseus)\n",
    "    assert len(baseus.events_gated) == 19\n",
    "    assert 'susf' not in baseus.groups_gated[1]\n",
    "if RUN:\n",
    "    from rknot.events import Quarantine\n",
    "\n",
    "    quarantine = Quarantine(name='all', start_tick=30, groups=[0,1,2,3,4], duration=30)\n",
    "    no_visits = Restriction(\n",
    "        name='no_visits', start_tick=30, \n",
    "        duration=30, criteria={'name': 'visit'}\n",
    "    )\n",
    "\n",
    "    events_w_res = baseus.events_gated + [quarantine, no_visits]\n",
    "    \n",
    "    sim14 = Sim(groups=baseus.groups_gated, events=events_w_res, **baseus.params)\n",
    "    sim14.run()\n",
    "    print (get_results(sim14))"
   ]
  },
  {
   "cell_type": "code",
   "execution_count": 59,
   "metadata": {
    "nbsphinx": "hidden"
   },
   "outputs": [],
   "source": [
    "if SAVE:\n",
    "    results = get_results(sim14)\n",
    "    db['quarantine'] = results"
   ]
  },
  {
   "cell_type": "code",
   "execution_count": 60,
   "metadata": {
    "nbsphinx": "hidden"
   },
   "outputs": [],
   "source": [
    "if SAVE_CHARTS:\n",
    "    chart = Chart(sim14, **chart_params)\n",
    "    chart.animate.save(\n",
    "        PATH + 'quarantine.mp4', \n",
    "        writer=FFMpegWriter(metadata=meta, **writer_params), \n",
    "        **save_params\n",
    "    )"
   ]
  },
  {
   "cell_type": "markdown",
   "metadata": {},
   "source": [
    "<video width='705' height='340'\n",
    "       src='https://storage.googleapis.com/rknotvids/baseus/quarantine.mp4' controls>Video Failed to Load</video>\n",
    "       "
   ]
  },
  {
   "cell_type": "code",
   "execution_count": 61,
   "metadata": {
    "tags": [
     "hide_input"
    ]
   },
   "outputs": [
    {
     "data": {
      "text/markdown": [
       "Results: \n",
       "\n",
       "|      |      | \n",
       "| ------------- |:-------------:| \n",
       "| Peak      |   1% | \n",
       "| HIT      | 1%      | \n",
       "| Total      | 1%      | \n",
       "| Fatalities | 0.00%      | \n",
       "| % > 70 | 0%      | \n",
       "| IFR | 0.00%      | \n",
       "| Days to Peak |   32 | \n"
      ],
      "text/plain": [
       "<IPython.core.display.Markdown object>"
      ]
     },
     "metadata": {},
     "output_type": "display_data"
    }
   ],
   "source": [
    "md(results_table(*db['quarantine']))"
   ]
  },
  {
   "cell_type": "markdown",
   "metadata": {},
   "source": [
    "The pandemic never materializes in this simulation. The quarantine eradicates the virus swiftly upon implementation. \n",
    "\n",
    "This is an interesting result. This obvioulsy did not occur in many places in the real world that took this approach. There are several possible reasons worth considering:\n",
    "\n",
    "* Random Variation: if you run this simulation multiple times, you will note some sims where spread does occur.\n",
    "* Scale: a larger simulation would increase the possibility that a very small number of subjects can continue to pass around the virus while it is muted in the broader population\n",
    "* Adherence: real-world adherence to the implemented policies was much lower than this simulation suggests.\n",
    "* Inconsistency: some areas implemented strict quarantines while others did not, and there was mixing among those populations."
   ]
  },
  {
   "cell_type": "markdown",
   "metadata": {},
   "source": [
    "#### 6. Quarantine with Adherence ####\n",
    "\n",
    "We can investigate the impact of low adherence to quarantine requirements by setting the `adherence` property of the `Quarantine` object.\n",
    "\n",
    "```python\n",
    "from rknot.events import Quarantine\n",
    "\n",
    "quarantine = Quarantine(\n",
    "    name='all', start_tick=30, \n",
    "    groups=[0,1,2,3,4], duration=30\n",
    ")\n",
    "no_visits = Restriction(\n",
    "    name='no_visits', start_tick=30, \n",
    "    duration=30, criteria={'name': 'visit'}\n",
    ")\n",
    "\n",
    "events_w_res = events_gated + [quarantine, no_visits]\n",
    "\n",
    "sim = Sim(groups=groups_gated, events=events_w_res, **params)\n",
    "sim.run()\n",
    "\n",
    "chart = Chart(sim, use_init_func=True)\n",
    "chart.animate.to_html5_video()\n",
    "```"
   ]
  },
  {
   "cell_type": "code",
   "execution_count": 62,
   "metadata": {
    "nbsphinx": "hidden"
   },
   "outputs": [],
   "source": [
    "if IMPORT:\n",
    "    from rknot.sims import baseus\n",
    "    modulereload(baseus)\n",
    "    assert len(baseus.events_gated) == 19\n",
    "    assert 'susf' not in baseus.groups_gated[1]\n",
    "if RUN:\n",
    "    from rknot.events import Quarantine\n",
    "\n",
    "    quarantine = Quarantine(\n",
    "        name='all', start_tick=30, groups=[0,1,2,3,4], duration=30, adherence=.9\n",
    "    )\n",
    "    no_visits = Restriction(\n",
    "        name='no_visits', start_tick=30, \n",
    "        duration=30, criteria={'name': 'visit'}\n",
    "    )\n",
    "\n",
    "    events_w_res = baseus.events_gated + [quarantine, no_visits]\n",
    "    \n",
    "    sim15 = Sim(groups=baseus.groups_gated, events=events_w_res, **baseus.params)\n",
    "    sim15.run()\n",
    "    print (get_results(sim15))"
   ]
  },
  {
   "cell_type": "code",
   "execution_count": 63,
   "metadata": {
    "nbsphinx": "hidden"
   },
   "outputs": [],
   "source": [
    "if SAVE:\n",
    "    results = get_results(sim15)\n",
    "    db['quarantine_w_ad'] = results"
   ]
  },
  {
   "cell_type": "code",
   "execution_count": 64,
   "metadata": {
    "nbsphinx": "hidden"
   },
   "outputs": [],
   "source": [
    "if SAVE_CHARTS:\n",
    "    chart = Chart(sim15, **chart_params)\n",
    "    chart.animate.save(\n",
    "        PATH + 'quarantine_w_ad.mp4', \n",
    "        writer=FFMpegWriter(metadata=meta, **writer_params), \n",
    "        **save_params\n",
    "    )"
   ]
  },
  {
   "cell_type": "markdown",
   "metadata": {},
   "source": [
    "<video width='705' height='295'\n",
    "       src='https://storage.googleapis.com/rknotvids/baseus/quarantine_w_ad.mp4' controls>Video Failed to Load</video>"
   ]
  },
  {
   "cell_type": "code",
   "execution_count": 65,
   "metadata": {
    "nbsphinx": "hidden",
    "scrolled": true
   },
   "outputs": [
    {
     "data": {
      "text/markdown": [
       "Results: \n",
       "\n",
       "|      |      | \n",
       "| ------------- |:-------------:| \n",
       "| Peak      |   21% | \n",
       "| HIT      | 52%      | \n",
       "| Total      | 80%      | \n",
       "| Fatalities | 0.58%      | \n",
       "| % > 70 | 47%      | \n",
       "| IFR | 0.72%      | \n",
       "| Days to Peak |   79 | \n"
      ],
      "text/plain": [
       "<IPython.core.display.Markdown object>"
      ]
     },
     "metadata": {},
     "output_type": "display_data"
    }
   ],
   "source": [
    "md(results_table(*db['quarantine_w_ad']))"
   ]
  },
  {
   "cell_type": "markdown",
   "metadata": {},
   "source": [
    "With just 10% of the population ignoring the quarantine requirements, the virus spreads almost as though there was no quarantine at all."
   ]
  },
  {
   "cell_type": "markdown",
   "metadata": {
    "nbsphinx": "hidden"
   },
   "source": [
    "### A Fulsome Scenario ###\n",
    "\n",
    "We'll now create a more fulsome scenario encompassing many of the factors discussed.\n",
    "\n",
    "Adjustments to prior scenarios include:\n",
    "\n",
    "* add additional group with `mover='social'` in the 20-49 cohort. this cohort also flaunts social distancing guidelines as so its tmf in the SD object is `1.25`\n",
    "* add susceptibility factors for most groups\n",
    "* more fine-tuned capacity restrictions that gradually allow larger events over time\n",
    "* restrict visits to the elderly for a full year"
   ]
  },
  {
   "cell_type": "markdown",
   "metadata": {
    "nbsphinx": "hidden"
   },
   "source": [
    "```python\n",
    "### GROUPS ###\n",
    "group1 = dict(\n",
    "    name='0-19',\n",
    "    n=2700,\n",
    "    n_inf=0,\n",
    "    ifr=0.00003,\n",
    "    mover='local',\n",
    ")\n",
    "group2a = dict(\n",
    "    name='20-49L',\n",
    "    n=3900,\n",
    "    n_inf=1,\n",
    "    ifr=0.0002,\n",
    "    mover='local',\n",
    "    susf=0.85,    \n",
    ")\n",
    "group2b = dict(\n",
    "    name='20-49S',\n",
    "    n=200,\n",
    "    n_inf=1,\n",
    "    ifr=0.0002,\n",
    "    mover='social',\n",
    "    susf=0.85,    \n",
    ")\n",
    "group3 = dict(\n",
    "    name='50-69',\n",
    "    n=2300,\n",
    "    n_inf=1,\n",
    "    ifr=0.005,\n",
    "    susf=.7,\n",
    "    mover='local',\n",
    ")\n",
    "group4a = dict(\n",
    "    name='70+',\n",
    "    n=600,\n",
    "    n_inf=0,\n",
    "    ifr=0.042,\n",
    "    mover='local',\n",
    "    susf=0.9,    \n",
    ")\n",
    "group4b = dict(\n",
    "    name='70+G',\n",
    "    n=300,\n",
    "    n_inf=0,\n",
    "    ifr=0.0683,\n",
    "    mover='local',\n",
    "    box=[1,6,1,6],\n",
    "    box_is_gated=True,\n",
    ")\n",
    "groups = [group1, group2a, group2b, group3, group4a, group4b]\n",
    "params = {'dlevel': 'med', 'Ro':2.5, 'days': 365, 'imndur': 365, 'infdur': 14}\n",
    "\n",
    "### EVENTS ###\n",
    "from rknot.events import Event, Travel\n",
    "\n",
    "school1 = Event(name='school1', xy=[25,42], start_tick=2, groups=[0], capacity=10, recurring=2)\n",
    "school2 = Event(name='school2', xy=[78,82], start_tick=3, groups=[0], capacity=10, recurring=2)\n",
    "game = Event(name='game', xy=[50,84], start_tick=6, groups=[0,1,2,3], capacity=100, recurring=14)\n",
    "concert1 = Event(name='concert1', xy=[20,20], start_tick=7, groups=[1,2], capacity=50, recurring=14)                 \n",
    "concert2 = Event(name='concert2', xy=[91,92], start_tick=21, groups=[1,2], capacity=50, recurring=14)\n",
    "bar = Event(name='bar', xy=[17,24], start_tick=4, groups=[1,2], capacity=5, recurring=7)\n",
    "bar2 = Event(name='bar2', xy=[87,13], start_tick=5, groups=[1,2], capacity=5, recurring=7)\n",
    "bar3 = Event(name='bar3', xy=[52,89], start_tick=6, groups=[1,2,3], capacity=5, recurring=7)\n",
    "church = Event(name='church', xy=[2,91], start_tick=7, groups=[3,4], capacity=20, recurring=7)\n",
    "church2 = Event(name='church', xy=[2,3], start_tick=7, groups=[5], capacity=5, recurring=7)\n",
    "\n",
    "visit = Travel(name='visit', xy=[1,1], start_tick=3, groups=[1,2,3], capacity=1, duration=1, recurring=1)\n",
    "\n",
    "events = [\n",
    "    school1, school2,\n",
    "    game, concert1, concert2, bar, bar2, bar3, \n",
    "    church, church2, visit,\n",
    "]\n",
    "\n",
    "### RESTRICTIONS ###\n",
    "small_gatherings = Restriction(\n",
    "    name='small', start_tick=30, duration=30, criteria={'capacity': 5}\n",
    ")\n",
    "med_gatherings = Restriction(\n",
    "    name='med', start_tick=60, duration=30, criteria={'capacity': 10}\n",
    ")\n",
    "large_gatherings = Restriction(\n",
    "    name='large', start_tick=90, duration=30, criteria={'capacity': 50}\n",
    ")\n",
    "no_visits = Restriction(\n",
    "    name='no_visits', start_tick=30, duration=365, criteria={'name': 'visit'}\n",
    ")\n",
    "sd = SD(name='all', tmfs=[.8, .8, 1.25, .7,.65,.5], groups=[0,1,2,3,4,5], start_tick=30, duration=120)\n",
    "events_w_res = events + [small_gatherings, med_gatherings, large_gatherings, no_visits, sd]\n",
    "\n",
    "sim = Sim(groups=groups, events=events_w_res, **params)\n",
    "sim.run()\n",
    "\n",
    "chart = Chart(sim, use_init_func=True)\n",
    "chart.animate.to_html5_video()\n",
    "```"
   ]
  },
  {
   "cell_type": "code",
   "execution_count": 66,
   "metadata": {
    "nbsphinx": "hidden"
   },
   "outputs": [],
   "source": [
    "### HIDDEN ###\n",
    "if RUN:\n",
    "    ### GROUPS ###\n",
    "    group1 = dict(\n",
    "        name='0-19',\n",
    "        n=2700,\n",
    "        n_inf=0,\n",
    "        ifr=0.00003,\n",
    "        mover='local',\n",
    "    )\n",
    "    group2a = dict(\n",
    "        name='20-49L',\n",
    "        n=3900,\n",
    "        n_inf=1,\n",
    "        ifr=0.0002,\n",
    "        mover='local',\n",
    "        susf=0.85,    \n",
    "    )\n",
    "    group2b = dict(\n",
    "        name='20-49S',\n",
    "        n=200,\n",
    "        n_inf=1,\n",
    "        ifr=0.0002,\n",
    "        mover='social',\n",
    "        susf=0.85,    \n",
    "    )\n",
    "    group3 = dict(\n",
    "        name='50-69',\n",
    "        n=2300,\n",
    "        n_inf=1,\n",
    "        ifr=0.005,\n",
    "        susf=.7,\n",
    "        mover='local',\n",
    "    )\n",
    "    group4a = dict(\n",
    "        name='70+',\n",
    "        n=600,\n",
    "        n_inf=0,\n",
    "        ifr=0.042,\n",
    "        mover='local',\n",
    "        susf=0.9,    \n",
    "    )\n",
    "    group4b = dict(\n",
    "        name='70+G',\n",
    "        n=300,\n",
    "        n_inf=0,\n",
    "        ifr=0.0683,\n",
    "        mover='local',\n",
    "        box=[1,6,1,6],\n",
    "        box_is_gated=True,\n",
    "    )\n",
    "    groups = [group1, group2a, group2b, group3, group4a, group4b]\n",
    "    params = {'dlevel': 'med', 'Ro':2.5, 'days': 365, 'imndur': 365, 'infdur': 14}\n",
    "\n",
    "    ### EVENTS ###\n",
    "    from rknot.events import Event, Travelx\n",
    "\n",
    "    school1 = Event(name='school1', xy=[25,42], start_tick=2, groups=[0], capacity=10, recurring=2)\n",
    "    school2 = Event(name='school2', xy=[78,82], start_tick=3, groups=[0], capacity=10, recurring=2)\n",
    "    game = Event(name='game', xy=[50,84], start_tick=6, groups=[0,1,2,3], capacity=100, recurring=14)\n",
    "    concert1 = Event(name='concert1', xy=[20,20], start_tick=7, groups=[1,2], capacity=50, recurring=14)                 \n",
    "    concert2 = Event(name='concert2', xy=[91,92], start_tick=21, groups=[1,2], capacity=50, recurring=14)\n",
    "    bar = Event(name='bar', xy=[17,24], start_tick=4, groups=[1,2], capacity=5, recurring=7)\n",
    "    bar2 = Event(name='bar2', xy=[87,13], start_tick=5, groups=[1,2], capacity=5, recurring=7)\n",
    "    bar3 = Event(name='bar3', xy=[52,89], start_tick=6, groups=[1,2,3], capacity=5, recurring=7)\n",
    "    church = Event(name='church', xy=[2,91], start_tick=7, groups=[3,4], capacity=20, recurring=7)\n",
    "    church2 = Event(name='church', xy=[2,3], start_tick=7, groups=[5], capacity=5, recurring=7)\n",
    "\n",
    "    visit = Travel(name='visit', xy=[1,1], start_tick=3, groups=[1,2,3], capacity=1, duration=1, recurring=1)\n",
    "\n",
    "    events = [\n",
    "        school1, school2,\n",
    "        game, concert1, concert2, bar, bar2, bar3, \n",
    "        church, church2, visit,\n",
    "    ]\n",
    "\n",
    "    ### RESTRICTIONS ###\n",
    "    small_gatherings = Restriction(\n",
    "        name='small', start_tick=30, duration=30, criteria={'capacity': 5}\n",
    "    )\n",
    "    med_gatherings = Restriction(\n",
    "        name='med', start_tick=60, duration=30, criteria={'capacity': 10}\n",
    "    )\n",
    "    large_gatherings = Restriction(\n",
    "        name='large', start_tick=90, duration=30, criteria={'capacity': 50}\n",
    "    )\n",
    "    no_visits = Restriction(\n",
    "        name='no_visits', start_tick=30, duration=120, criteria={'name': 'visit'}\n",
    "    )\n",
    "    sd = SD(name='all', tmfs=[.8, .8, 1.25, .7,.65,.5], groups=[0,1,2,3,4,5], start_tick=30, duration=120)\n",
    "    events_w_res = events + [small_gatherings, med_gatherings, large_gatherings, no_visits, sd]\n",
    "\n",
    "    sim15 = Sim(groups=groups, events=events_w_res, **params)\n",
    "    sim15.run()\n",
    "\n",
    "\n",
    "if SAVE_CHARTS:\n",
    "    chart = Chart(sim15, **params)\n",
    "    chart.animate.save(PATH + 'fulsome.mp4', writer=FFMpegWriter(fps=10))"
   ]
  },
  {
   "cell_type": "code",
   "execution_count": 67,
   "metadata": {
    "nbsphinx": "hidden"
   },
   "outputs": [],
   "source": [
    "if SAVE:\n",
    "    results = get_results(sim)\n",
    "    db['ful'] = results"
   ]
  },
  {
   "cell_type": "markdown",
   "metadata": {},
   "source": [
    "<video width='705' height='340'\n",
    "       src='https://storage.googleapis.com/rknotvids/baseus/fulsome.mp4' controls>Video Failed to Load</video>"
   ]
  },
  {
   "cell_type": "code",
   "execution_count": 69,
   "metadata": {
    "nbsphinx": "hidden",
    "tags": [
     "hide_input"
    ]
   },
   "outputs": [],
   "source": [
    "# md(results_table(*db['ful']))"
   ]
  },
  {
   "cell_type": "markdown",
   "metadata": {},
   "source": [
    "The virus barely survives for the first 6-months of the outbreak, then as per other scenarios, once restrictions are lifted an outbreak occurs. Still, when the outbreak does occur, it is characterized by one of the lowest peaks and HITs in our analysis (due in part to the pre-immmunity of some of the groups).\n",
    "\n",
    "And it achieves the lowest fatality rate of the group, mainly by restricting access to the elderly population for the duration of the pandemic and ensuring an outbreak never occurs in that region."
   ]
  },
  {
   "cell_type": "code",
   "execution_count": 11,
   "metadata": {
    "nbsphinx": "hidden"
   },
   "outputs": [
    {
     "data": {
      "application/javascript": [
       "IPython.notebook.save_notebook()\n"
      ],
      "text/plain": [
       "<IPython.core.display.Javascript object>"
      ]
     },
     "metadata": {},
     "output_type": "display_data"
    }
   ],
   "source": [
    "%%javascript\n",
    "IPython.notebook.save_notebook()"
   ]
  },
  {
   "cell_type": "code",
   "execution_count": 12,
   "metadata": {
    "nbsphinx": "hidden"
   },
   "outputs": [
    {
     "ename": "NameError",
     "evalue": "name 'move_to_doc_folder' is not defined",
     "output_type": "error",
     "traceback": [
      "\u001b[0;31m---------------------------------------------------------------------------\u001b[0m",
      "\u001b[0;31mNameError\u001b[0m                                 Traceback (most recent call last)",
      "\u001b[0;32m<ipython-input-12-d83a08b620e2>\u001b[0m in \u001b[0;36m<module>\u001b[0;34m\u001b[0m\n\u001b[0;32m----> 1\u001b[0;31m \u001b[0mmove_to_doc_folder\u001b[0m\u001b[0;34m(\u001b[0m\u001b[0;34m)\u001b[0m\u001b[0;34m\u001b[0m\u001b[0;34m\u001b[0m\u001b[0m\n\u001b[0m",
      "\u001b[0;31mNameError\u001b[0m: name 'move_to_doc_folder' is not defined"
     ]
    }
   ],
   "source": [
    "move_to_doc_folder()"
   ]
  },
  {
   "cell_type": "code",
   "execution_count": null,
   "metadata": {
    "nbsphinx": "hidden"
   },
   "outputs": [],
   "source": []
  }
 ],
 "metadata": {
  "celltoolbar": "Edit Metadata",
  "kernelspec": {
   "display_name": "Python 3",
   "language": "python",
   "name": "python3"
  },
  "language_info": {
   "codemirror_mode": {
    "name": "ipython",
    "version": 3
   },
   "file_extension": ".py",
   "mimetype": "text/x-python",
   "name": "python",
   "nbconvert_exporter": "python",
   "pygments_lexer": "ipython3",
   "version": "3.8.6"
  }
 },
 "nbformat": 4,
 "nbformat_minor": 4
}
