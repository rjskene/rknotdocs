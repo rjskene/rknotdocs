{
 "cells": [
  {
   "cell_type": "markdown",
   "metadata": {},
   "source": [
    "## Factors Influencing HIT ##"
   ]
  },
  {
   "cell_type": "markdown",
   "metadata": {},
   "source": [
    "*BETA RELEASE: I should emphasize this project remains in the experimental stage and there are likely many tweaks to come that will improve/change outcomes. I do believe at this stage that the simulation provides good general insights regarding the relationship between various factors and viral spread.*"
   ]
  },
  {
   "cell_type": "markdown",
   "metadata": {},
   "source": [
    "### Base US Simulation ###\n",
    "\n",
    "To explore the various concepts of RKnot and viral spread, we'll use a simulation design based on [CDC Best Planning Scenario](https://www.cdc.gov/coronavirus/2019-ncov/hcp/planning-scenarios.html) guidelines for\n",
    "COVID-19 characteristics including:\n",
    "\n",
    "* $R_0$ 2.5\n",
    "* IFR for each of 4 age groups\n",
    "\n",
    "*Note while sars-cov-2 is obviously a topical globally, the goal of RKnot is to be applicable to any virus (or anything that spreads like a virus). sars-cov-2 is used only for illustration purposes.*\n",
    "\n",
    "Other assumptions:\n",
    "\n",
    "* Population of $10,000^1$\n",
    "* Initial Infected of 2\n",
    "* Duration of Infectiousness 14 days$^2$\n",
    "* Duration of Immunity 365 days\n",
    "* Density of ~1 subject per location (`dlevel='medium'`)\n",
    "\n",
    "$^1$*proportionately split among the 4 age groups to match US census data.*\n",
    "\n",
    "$^2$*equal likelihood of transmission on any day (i.e. no viral load curve)*\n",
    "\n",
    "[US Census Data](https://www.census.gov/prod/cen2010/briefs/c2010br-03.pdf)"
   ]
  },
  {
   "cell_type": "markdown",
   "metadata": {},
   "source": [
    "### Natural ###"
   ]
  },
  {
   "cell_type": "markdown",
   "metadata": {},
   "source": [
    "#### 1. Equal ####\n",
    "The first simulation makes the most homogeneous assumptions. \n",
    "\n",
    "+ No group is restricted in terms of movement. \n",
    "+ All dots are able to interact with one another. \n",
    "+ All dots are susceptible at initiation.\n",
    "+ All dots are equally likely to move to any dot on the grid (`mover='equal'`)"
   ]
  },
  {
   "cell_type": "code",
   "execution_count": 1,
   "metadata": {
    "nbsphinx": "hidden"
   },
   "outputs": [],
   "source": [
    "import matplotlib\n",
    "matplotlib.use('Qt5Agg')\n",
    "\n",
    "from matplotlib.animation import FFMpegWriter"
   ]
  },
  {
   "cell_type": "code",
   "execution_count": 2,
   "metadata": {},
   "outputs": [],
   "source": [
    "group1 = dict(\n",
    "    name='0-19',\n",
    "    n=2700,\n",
    "    n_inf=0,\n",
    "    ifr=0.00003,\n",
    "    mover='equal',\n",
    ")\n",
    "group2 = dict(\n",
    "    name='20-49',\n",
    "    n=4100,\n",
    "    n_inf=1,\n",
    "    ifr=0.0002,\n",
    "    mover='equal',\n",
    ")\n",
    "group3 = dict(\n",
    "    name='50-69',\n",
    "    n=2300,\n",
    "    n_inf=1,\n",
    "    ifr=0.005,\n",
    "    mover='equal',\n",
    ")\n",
    "group4 = dict(\n",
    "    name='70+',\n",
    "    n=900,\n",
    "    n_inf=0,\n",
    "    ifr=0.054,\n",
    "    mover='equal',\n",
    ")\n",
    "groups = [group1, group2, group3, group4]\n",
    "params = {'dlevel': 'med', 'Ro':2.5, 'days': 365, 'imndur': 365, 'infdur': 14}"
   ]
  },
  {
   "cell_type": "code",
   "execution_count": 3,
   "metadata": {},
   "outputs": [
    {
     "name": "stderr",
     "output_type": "stream",
     "text": [
      "2020-10-06 11:14:38,049\tINFO resource_spec.py:223 -- Starting Ray with 11.28 GiB memory available for workers and up to 5.66 GiB for objects. You can adjust these settings with ray.init(memory=<bytes>, object_store_memory=<bytes>).\n",
      "2020-10-06 11:14:38,588\tINFO services.py:1191 -- View the Ray dashboard at \u001b[1m\u001b[32mlocalhost:8265\u001b[39m\u001b[22m\n"
     ]
    },
    {
     "name": "stdout",
     "output_type": "stream",
     "text": [
      "---------------------------------------------------------------------------------\n",
      "|                                  SIM DETAILS                                  |\n",
      "|-------------------------------------------------------------------------------|\n",
      "|           boundary|  [  1 100   1 100]|             n_locs|              10000|\n",
      "|-------------------|-------------------|-------------------|-------------------|\n",
      "|                  n|              10000|            density|                1.0|\n",
      "|-------------------|-------------------|-------------------|-------------------|\n",
      "|                ktr|                1.0|                tmr|               0.18|\n",
      "|-------------------|-------------------|-------------------|-------------------|\n"
     ]
    }
   ],
   "source": [
    "from rknot.sim import Sim\n",
    "\n",
    "sim = Sim(groups=groups, **params)\n",
    "sim.run()"
   ]
  },
  {
   "cell_type": "markdown",
   "metadata": {},
   "source": [
    "Running the animation will result in a video as per below:"
   ]
  },
  {
   "cell_type": "code",
   "execution_count": 4,
   "metadata": {},
   "outputs": [],
   "source": [
    "from rknot.animate import SimChart\n",
    "\n",
    "chart = SimChart(sim)\n",
    "chart.animate.to_html5_video()"
   ]
  },
  {
   "cell_type": "code",
   "execution_count": 5,
   "metadata": {
    "nbsphinx": "hidden"
   },
   "outputs": [],
   "source": [
    "# chart.animate.save('vids/baseus/1.mp4', writer=FFMpegWriter(fps=10))"
   ]
  },
  {
   "cell_type": "markdown",
   "metadata": {},
   "source": [
    "<video width='705' height='340' \n",
    "    src='https://storage.googleapis.com/rknotvids/baseus/1.mp4' controls>alternative text</video>"
   ]
  },
  {
   "cell_type": "markdown",
   "metadata": {},
   "source": [
    "*Note embedded videos are used for convenience purposes. Given the random processes involved, running the same code will produce slightly different results each time.*"
   ]
  },
  {
   "cell_type": "markdown",
   "metadata": {},
   "source": [
    "The sim results in a relatively standard spread curve with \n",
    "\n",
    "|         |            |\n",
    "| ------------- |:-------------:|\n",
    "| Peak      |   46% |\n",
    "| HIT      | 70%      |\n",
    "| Fatalities | 0.7%      |\n",
    "\n",
    "You'll note this is higher than the expected HIT of 60% for $R_0$ 2.5. The differences result given:\n",
    "\n",
    "1. The simulation is a stochastic process and random variation will result in variation from the mathematical model in smaller populations.\n",
    "2. This is not an entirely homogeneous population, with different IFRs and different numbers of contacts between subjects. In particular, because dots can occupy the same location at the same time, and [multiple infected dots at the same location increase the transmission rate for any susceptible](intro.ipynb#Likelihood-of-Transmission), this tends to lead to faster spread than $R_0$ would suggest."
   ]
  },
  {
   "cell_type": "markdown",
   "metadata": {},
   "source": [
    "#### 2. Local ####\n",
    "In remaining simulations, we begin to introduce ever increasing homogeneity.\n",
    "\n",
    "Our first change is to adjust the subjects mover functions to `local`. The `local` mover has a strong bias towards locations only in its immediate vicinity, which is a better approximation of real world processes (though certainly not a perfect one)."
   ]
  },
  {
   "cell_type": "code",
   "execution_count": 6,
   "metadata": {},
   "outputs": [],
   "source": [
    "group1['mover'] = 'local'\n",
    "group2['mover'] = 'local'\n",
    "group3['mover'] = 'local'\n",
    "group4['mover'] = 'local'\n",
    "groups = [group1, group2, group3, group4]"
   ]
  },
  {
   "cell_type": "code",
   "execution_count": 7,
   "metadata": {},
   "outputs": [
    {
     "name": "stderr",
     "output_type": "stream",
     "text": [
      "2020-10-06 11:14:42,601\tINFO resource_spec.py:223 -- Starting Ray with 11.47 GiB memory available for workers and up to 5.76 GiB for objects. You can adjust these settings with ray.init(memory=<bytes>, object_store_memory=<bytes>).\n",
      "2020-10-06 11:14:43,110\tINFO services.py:1191 -- View the Ray dashboard at \u001b[1m\u001b[32mlocalhost:8265\u001b[39m\u001b[22m\n"
     ]
    },
    {
     "name": "stdout",
     "output_type": "stream",
     "text": [
      "---------------------------------------------------------------------------------\n",
      "|                                  SIM DETAILS                                  |\n",
      "|-------------------------------------------------------------------------------|\n",
      "|           boundary|  [  1 100   1 100]|             n_locs|              10000|\n",
      "|-------------------|-------------------|-------------------|-------------------|\n",
      "|                  n|              10000|            density|                1.0|\n",
      "|-------------------|-------------------|-------------------|-------------------|\n",
      "|                ktr|                1.0|                tmr|               0.18|\n",
      "|-------------------|-------------------|-------------------|-------------------|\n"
     ]
    }
   ],
   "source": [
    "sim = Sim(groups=groups, **params)\n",
    "sim.run()\n",
    "\n",
    "chart = SimChart(sim)\n",
    "chart.animate.to_html5_video()"
   ]
  },
  {
   "cell_type": "code",
   "execution_count": 8,
   "metadata": {
    "nbsphinx": "hidden"
   },
   "outputs": [],
   "source": [
    "# chart.animate.save('vids/baseus/2.mp4', writer=FFMpegWriter(fps=10))"
   ]
  },
  {
   "cell_type": "markdown",
   "metadata": {},
   "source": [
    "<video width='705' height='340' \n",
    "    src='https://storage.googleapis.com/rknotvids/baseus/2.mp4' controls>Video Failed To Load</video>"
   ]
  },
  {
   "cell_type": "markdown",
   "metadata": {},
   "source": [
    "This results in:\n",
    "\n",
    "|         |            |\n",
    "| ------------- |:-------------:|\n",
    "| Peak      |   5% |\n",
    "| HIT      | 30%      |\n",
    "| Fatalities | 0.6%      |\n",
    "\n",
    "We can see that restricting movement has a major impact on limiting spread, however, the virus does remain among the population and result in high penetration and relatively high deaths over time.\n",
    "\n",
    "*CAUTION: RKnot estimates transmission rate assuming all subjects are* `equal` *movers. Thus, where* `local` *movers are used, the transmission rate may (or may not) be underestimated. This is being investigated.*"
   ]
  },
  {
   "cell_type": "markdown",
   "metadata": {},
   "source": [
    "#### 3. Social Millenials ####\n",
    "In this simulation, we set `mover=social` for just the 20-49 age group. This is a rough approximation of that group's real-world propensity to travel more frequently (or go to more events)."
   ]
  },
  {
   "cell_type": "code",
   "execution_count": 9,
   "metadata": {},
   "outputs": [],
   "source": [
    "group1['mover'] = 'local'\n",
    "group2['mover'] = 'social'\n",
    "group3['mover'] = 'local'\n",
    "group4['mover'] = 'local'\n",
    "groups = [group1, group2, group3, group4]"
   ]
  },
  {
   "cell_type": "code",
   "execution_count": 10,
   "metadata": {},
   "outputs": [
    {
     "name": "stderr",
     "output_type": "stream",
     "text": [
      "2020-10-06 11:14:46,833\tINFO resource_spec.py:223 -- Starting Ray with 11.33 GiB memory available for workers and up to 5.68 GiB for objects. You can adjust these settings with ray.init(memory=<bytes>, object_store_memory=<bytes>).\n",
      "2020-10-06 11:14:47,362\tINFO services.py:1191 -- View the Ray dashboard at \u001b[1m\u001b[32mlocalhost:8265\u001b[39m\u001b[22m\n"
     ]
    },
    {
     "name": "stdout",
     "output_type": "stream",
     "text": [
      "---------------------------------------------------------------------------------\n",
      "|                                  SIM DETAILS                                  |\n",
      "|-------------------------------------------------------------------------------|\n",
      "|           boundary|  [  1 100   1 100]|             n_locs|              10000|\n",
      "|-------------------|-------------------|-------------------|-------------------|\n",
      "|                  n|              10000|            density|                1.0|\n",
      "|-------------------|-------------------|-------------------|-------------------|\n",
      "|                ktr|                1.0|                tmr|               0.18|\n",
      "|-------------------|-------------------|-------------------|-------------------|\n"
     ]
    }
   ],
   "source": [
    "sim = Sim(groups=groups, **params)\n",
    "sim.run()\n",
    "\n",
    "chart = SimChart(sim)\n",
    "chart.animate.to_html5_video()"
   ]
  },
  {
   "cell_type": "code",
   "execution_count": 11,
   "metadata": {
    "nbsphinx": "hidden"
   },
   "outputs": [],
   "source": [
    "# chart.animate.save('vids/baseus/3.mp4', writer=FFMpegWriter(fps=10))"
   ]
  },
  {
   "cell_type": "markdown",
   "metadata": {},
   "source": [
    "<video width='705' height='340' \n",
    "    src='https://storage.googleapis.com/rknotvids/baseus/3.mp4' controls>Video Failed To Load</video>"
   ]
  },
  {
   "cell_type": "markdown",
   "metadata": {},
   "source": [
    "This results in:\n",
    "\n",
    "|         |            |\n",
    "| ------------- |:-------------:|\n",
    "| Peak      |   40% |\n",
    "| HIT      | 65%      |\n",
    "| Fatalities | 0.5%      |\n",
    "\n",
    "We can see how powerful mixing is within a population. Even with the majority of subjects moving only locally, if a large enough population is moving broadly across the space, it will significantly increase the rate of spread."
   ]
  },
  {
   "cell_type": "markdown",
   "metadata": {},
   "source": [
    "#### 4. Pre-Existing Immunity ####\n",
    "In this scenario, we adjust the susceptibility factor for just two groups by relatively small amounts as follows:\n",
    "\n",
    "+ 20-49: 80%\n",
    "+ 50-69: 65%\n",
    "\n",
    "This means, in the inverse, that 10% and 25% of the subjects in the respective groups are already immune to the virus (whether through pre-existing T-cell immunity, anti-bodies, or otherwise).\n",
    "\n",
    "The older group is assumed to have a lower susceptibility factor as it is more likely that older people will have had more exposure to similar viruses over their lifetime.\n",
    "\n",
    "T-cell immunity to sars-cov-2 remains a controversial subject, but [many studies](https://www.bmj.com/content/370/bmj.m3563) have found prevalance of T-cells between 20% - 50% in *people unexposed to sars-cov-2*. It is suggested that exposure to \"common cold\" coronaviruses (or more dangerous ones) may convey this immunity."
   ]
  },
  {
   "cell_type": "code",
   "execution_count": 12,
   "metadata": {},
   "outputs": [],
   "source": [
    "group2['susf'] = .8\n",
    "group3['susf'] = .65\n",
    "groups = [group1, group2, group3, group4]\n",
    "sim = Sim(groups=groups, **params)\n",
    "sim.run()\n",
    "\n",
    "chart = SimChart(sim)\n",
    "chart.animate.to_html5_video()"
   ]
  },
  {
   "cell_type": "code",
   "execution_count": 13,
   "metadata": {
    "nbsphinx": "hidden"
   },
   "outputs": [],
   "source": [
    "# chart.animate.save('vids/baseus/4.mp4', writer=FFMpegWriter(fps=10))"
   ]
  },
  {
   "cell_type": "markdown",
   "metadata": {},
   "source": [
    "<video width='705' height='340'\n",
    "    src='https://storage.googleapis.com/rknotvids/baseus/4.mp4' controls>Video Failed to Load</video>"
   ]
  },
  {
   "cell_type": "markdown",
   "metadata": {},
   "source": [
    "This results in:\n",
    "\n",
    "|         |            |\n",
    "| ------------- |:-------------:|\n",
    "| Peak      |   22% |\n",
    "| HIT      | 41%      |\n",
    "| Fatalities | 0.4%      |\n",
    "\n",
    "We can see that pre-existing immunity would significantly reduce HIT, but perhaps not impact the fatality rate. This is likely because, in this Sim, the elderly are assumed to *not* have pre-existing immunity."
   ]
  },
  {
   "cell_type": "markdown",
   "metadata": {},
   "source": [
    "#### 5. Events ####\n",
    "Certainly, the vast majority of people in the US do not move in such pre-defined ways as set out by the `mover` function. In reality, people tend to move with a local bias with a small number of interactions, supplemented by larger movements to locations with a large number of interactions in a small amount of time.\n",
    "\n",
    "In RKnot, we can simulate this with Event objects. And we will incorporate a number of them in this simulation. \n",
    "\n",
    "First, we will reset the susceptibility factors of all the groups to 1 and reset all `mover` functions to `local`."
   ]
  },
  {
   "cell_type": "code",
   "execution_count": 14,
   "metadata": {},
   "outputs": [],
   "source": [
    "group2['mover'] = 'local'\n",
    "group2['susf'] = 1\n",
    "group3['susf'] = 1\n",
    "groups = [group1, group2, group3, group4]"
   ]
  },
  {
   "cell_type": "markdown",
   "metadata": {},
   "source": [
    "Then we will instantiate a handful of events recurring periodically over the duration of the sim."
   ]
  },
  {
   "cell_type": "code",
   "execution_count": 15,
   "metadata": {},
   "outputs": [],
   "source": [
    "from rknot.events import Event\n",
    "\n",
    "school1 = Event(name='school1', xy=[25,42], start_tick=2, groups=[0], capacity=10, recurring=2)\n",
    "school2 = Event(name='school2', xy=[78,82], start_tick=3, groups=[0], capacity=10, recurring=2)\n",
    "game = Event(name='game', xy=[50,84], start_tick=6, groups=[0,1,2], capacity=100, recurring=14)\n",
    "concert1 = Event(name='concert1', xy=[20,20], start_tick=7, groups=[1], capacity=50, recurring=14)                 \n",
    "concert2 = Event(name='concert2', xy=[91,92], start_tick=21, groups=[1], capacity=50, recurring=14)\n",
    "bar = Event(name='bar', xy=[17,24], start_tick=4, groups=[1], capacity=5, recurring=7)\n",
    "bar2 = Event(name='bar2', xy=[87,13], start_tick=5, groups=[1], capacity=5, recurring=7)\n",
    "bar3 = Event(name='bar3', xy=[52,89], start_tick=6, groups=[1,2], capacity=5, recurring=7)\n",
    "church = Event(name='church', xy=[2,91], start_tick=7, groups=[2,3], capacity=20, recurring=7)\n",
    "\n",
    "events = [school1, school2, game, concert1, concert2, bar, bar2, bar3, church]"
   ]
  },
  {
   "cell_type": "code",
   "execution_count": 16,
   "metadata": {},
   "outputs": [
    {
     "name": "stderr",
     "output_type": "stream",
     "text": [
      "2020-10-06 11:14:51,065\tINFO resource_spec.py:223 -- Starting Ray with 11.23 GiB memory available for workers and up to 5.64 GiB for objects. You can adjust these settings with ray.init(memory=<bytes>, object_store_memory=<bytes>).\n",
      "2020-10-06 11:14:51,559\tINFO services.py:1191 -- View the Ray dashboard at \u001b[1m\u001b[32mlocalhost:8265\u001b[39m\u001b[22m\n"
     ]
    },
    {
     "name": "stdout",
     "output_type": "stream",
     "text": [
      "---------------------------------------------------------------------------------\n",
      "|                                  SIM DETAILS                                  |\n",
      "|-------------------------------------------------------------------------------|\n",
      "|           boundary|  [  1 100   1 100]|             n_locs|              10000|\n",
      "|-------------------|-------------------|-------------------|-------------------|\n",
      "|                  n|              10000|            density|                1.0|\n",
      "|-------------------|-------------------|-------------------|-------------------|\n",
      "|                ktr|                1.0|                tmr|               0.18|\n",
      "|-------------------|-------------------|-------------------|-------------------|\n"
     ]
    }
   ],
   "source": [
    "sim = Sim(groups=groups, events=events, **params)\n",
    "sim.run()\n",
    "chart = SimChart(sim)\n",
    "chart.animate.to_html5_video()"
   ]
  },
  {
   "cell_type": "code",
   "execution_count": 17,
   "metadata": {
    "nbsphinx": "hidden"
   },
   "outputs": [],
   "source": [
    "# chart.animate.save('vids/baseus/5.mp4', writer=FFMpegWriter(fps=10))"
   ]
  },
  {
   "cell_type": "markdown",
   "metadata": {},
   "source": [
    "<video width='705' height='340'\n",
    "    src='https://storage.googleapis.com/rknotvids/baseus/5.mp4' controls>Video Failed to Load</video>"
   ]
  },
  {
   "cell_type": "markdown",
   "metadata": {},
   "source": [
    "This results in:\n",
    "\n",
    "|         |            |\n",
    "| ------------- |:-------------:|\n",
    "| Peak      |   18% |\n",
    "| HIT      | 49%      |\n",
    "| Fatalities | 0.5%      |\n",
    "\n",
    "We can see that this sort of event-based structure resulted in lower peak infections and HIT relative to Example 3. The curve is flatter and longer. \n",
    "\n",
    "The selection of events here is relatively arbitrary and perhaps not perfectly illustrative of the nature of movement but it does highlight how more heterogeneous movement might lead to lower HIT."
   ]
  },
  {
   "cell_type": "markdown",
   "metadata": {},
   "source": [
    "#### 6. Gates ####\n",
    "We can further improve the real world interactions by introducing gates. Subjects are not always freely able to interact with all other people in a population. Often their movement is restricted to within certain areas. Furthermore, other people's access into those areas is restricted.\n",
    "\n",
    "Elderly people living in retirement homes or assisted living centers is an example. To simulate this, we will split `group4` into two separate groups. \n",
    "\n",
    "* `group4a`\n",
    "    * population of 600 (2/3s of `group4`) \n",
    "    * IFR of 4.2%\n",
    "    * move freely throughout the entire grid as previously\n",
    "* `group4b` \n",
    "    * population of 300 (1/3rd of `group4`)\n",
    "    * IFR of 7.8%\n",
    "    * movement restricted to 6x6 box\n",
    "\n",
    "We have also adjusted the IFR on the basis that `group4b` is likely older and also probably more frail than `group4a`. IFRs approximate those found [here](https://www.publichealthontario.ca/-/media/documents/ncov/epi/2020/06/covid19-epi-case-identification-age-only-template.pdf?la=en).\n",
    "\n",
    "In addition, we will update certain events to account for the additional group including adding an event specifically for the new group."
   ]
  },
  {
   "cell_type": "code",
   "execution_count": 18,
   "metadata": {},
   "outputs": [],
   "source": [
    "group4a = dict(\n",
    "    name='70+',\n",
    "    n=600,\n",
    "    n_inf=0,\n",
    "    ifr=0.042,\n",
    "    mover='local',\n",
    ")\n",
    "group4b = dict(\n",
    "    name='70+G',\n",
    "    n=300,\n",
    "    n_inf=0,\n",
    "    ifr=0.0683,\n",
    "    mover='local',\n",
    "    box=[1,6,1,6],\n",
    "    box_is_gated=True,\n",
    ")\n",
    "groups = [group1, group2, group3, group4a, group4b]\n",
    "game = Event(name='game', xy=[50,84], start_tick=6, groups=[0,1,2,3], capacity=100, recurring=14)\n",
    "church = Event(name='church', xy=[2,91], start_tick=7, groups=[2,3], capacity=20, recurring=7)\n",
    "church2 = Event(name='church', xy=[2,3], start_tick=7, groups=[4], capacity=5, recurring=7)\n",
    "events = [game, concert1, concert2, bar, bar2, bar3, church, church2]"
   ]
  },
  {
   "cell_type": "markdown",
   "metadata": {},
   "source": [
    "Now, such elderly populations are not totally sealed of from the rest of the world. In fact, they are often visited by family members or friends. We can mimick this with the use of a Travel object.\n",
    "\n",
    "In this sim, at least one person will enter into the `group4b` gate for a day only. And this will repeat every day of the sim."
   ]
  },
  {
   "cell_type": "code",
   "execution_count": 19,
   "metadata": {},
   "outputs": [],
   "source": [
    "from rknot.events import Travel\n",
    "visit = Travel(name='visit', xy=[1,1], start_tick=3, groups=[1,2], capacity=1, duration=1, recurring=1)\n",
    "events.append(visit)"
   ]
  },
  {
   "cell_type": "code",
   "execution_count": 20,
   "metadata": {},
   "outputs": [
    {
     "name": "stderr",
     "output_type": "stream",
     "text": [
      "2020-10-06 11:14:55,389\tINFO resource_spec.py:223 -- Starting Ray with 11.23 GiB memory available for workers and up to 5.62 GiB for objects. You can adjust these settings with ray.init(memory=<bytes>, object_store_memory=<bytes>).\n",
      "2020-10-06 11:14:55,911\tINFO services.py:1191 -- View the Ray dashboard at \u001b[1m\u001b[32mlocalhost:8265\u001b[39m\u001b[22m\n"
     ]
    },
    {
     "name": "stdout",
     "output_type": "stream",
     "text": [
      "---------------------------------------------------------------------------------\n",
      "|                                  SIM DETAILS                                  |\n",
      "|-------------------------------------------------------------------------------|\n",
      "|           boundary|  [  1 100   1 100]|             n_locs|              10000|\n",
      "|-------------------|-------------------|-------------------|-------------------|\n",
      "|                  n|              10000|            density|                1.0|\n",
      "|-------------------|-------------------|-------------------|-------------------|\n",
      "|                ktr|                1.0|                tmr|               0.18|\n",
      "|-------------------|-------------------|-------------------|-------------------|\n"
     ]
    }
   ],
   "source": [
    "sim = Sim(groups=groups, events=events, **params)\n",
    "sim.run()\n",
    "chart = SimChart(sim)\n",
    "chart.animate.to_html5_video()"
   ]
  },
  {
   "cell_type": "code",
   "execution_count": 21,
   "metadata": {
    "nbsphinx": "hidden"
   },
   "outputs": [],
   "source": [
    "# chart.animate.save('vids/baseus/6.mp4', writer=FFMpegWriter(fps=10))"
   ]
  },
  {
   "cell_type": "markdown",
   "metadata": {},
   "source": [
    "<video width='705' height='340'\n",
    "    src='https://storage.googleapis.com/rknotvids/baseus/6.mp4' controls>Video Failed to Load</video>"
   ]
  },
  {
   "cell_type": "markdown",
   "metadata": {},
   "source": [
    "This results in:\n",
    "\n",
    "|         |            |\n",
    "| ------------- |:-------------:|\n",
    "| Peak      |   26% |\n",
    "| HIT      | 60%      |\n",
    "| Fatalities | 0.5%      |\n",
    "\n",
    "This gated structure results in essentially no impact. The use for this structure will become more evident in the disucssion on [Policy Decisions.](#Policy)"
   ]
  },
  {
   "cell_type": "markdown",
   "metadata": {},
   "source": [
    "#### 7. Events, Gates, and Pre-Immunity ####\n",
    "Now we can see how pre-immunity might impact viral spread in a population with more homogeneous interactions.\n",
    "\n",
    "We will also split `group2` into two separate groups with different movers (`group2a` and `group2b`. The 20-49 age group is a large cohort and not all members will move in the same way. Some will move socially, other more locally.\n",
    "\n",
    "Then, we update the group list and update our events for the new group structure."
   ]
  },
  {
   "cell_type": "code",
   "execution_count": 22,
   "metadata": {},
   "outputs": [],
   "source": [
    "group2['susf'] = .8\n",
    "group3['susf'] = .65\n",
    "groups = [group1, group2, group3, group4a, group4b]"
   ]
  },
  {
   "cell_type": "code",
   "execution_count": 23,
   "metadata": {},
   "outputs": [],
   "source": [
    "game = Event(name='game', xy=[50,84], start_tick=6, groups=[0,1,2], capacity=100, recurring=14)\n",
    "concert1 = Event(name='concert1', xy=[20,20], start_tick=7, groups=[1], capacity=50, recurring=14)                 \n",
    "concert2 = Event(name='concert2', xy=[91,92], start_tick=21, groups=[1], capacity=50, recurring=14)\n",
    "bar = Event(name='bar', xy=[17,24], start_tick=4, groups=[1], capacity=5, recurring=7)\n",
    "bar2 = Event(name='bar2', xy=[87,13], start_tick=5, groups=[1], capacity=5, recurring=7)\n",
    "bar3 = Event(name='bar3', xy=[52,89], start_tick=6, groups=[1,2], capacity=5, recurring=7)\n",
    "church = Event(name='church', xy=[2,91], start_tick=7, groups=[2,3], capacity=20, recurring=7)\n",
    "church2 = Event(name='church', xy=[2,3], start_tick=7, groups=[4], capacity=5, recurring=7)\n",
    "\n",
    "visit = Travel(name='visit', xy=[1,1], start_tick=3, groups=[1,2], capacity=1, duration=1, recurring=1)\n",
    "\n",
    "events = [\n",
    "    school1, school2,\n",
    "    game, concert1, concert2, bar, bar2, bar3, \n",
    "    church, church2, visit,\n",
    "]"
   ]
  },
  {
   "cell_type": "code",
   "execution_count": 24,
   "metadata": {},
   "outputs": [
    {
     "name": "stderr",
     "output_type": "stream",
     "text": [
      "2020-10-06 11:14:59,751\tINFO resource_spec.py:223 -- Starting Ray with 11.18 GiB memory available for workers and up to 5.59 GiB for objects. You can adjust these settings with ray.init(memory=<bytes>, object_store_memory=<bytes>).\n",
      "2020-10-06 11:15:00,249\tINFO services.py:1191 -- View the Ray dashboard at \u001b[1m\u001b[32mlocalhost:8265\u001b[39m\u001b[22m\n"
     ]
    },
    {
     "name": "stdout",
     "output_type": "stream",
     "text": [
      "---------------------------------------------------------------------------------\n",
      "|                                  SIM DETAILS                                  |\n",
      "|-------------------------------------------------------------------------------|\n",
      "|           boundary|  [  1 100   1 100]|             n_locs|              10000|\n",
      "|-------------------|-------------------|-------------------|-------------------|\n",
      "|                  n|              10000|            density|                1.0|\n",
      "|-------------------|-------------------|-------------------|-------------------|\n",
      "|                ktr|                1.0|                tmr|               0.18|\n",
      "|-------------------|-------------------|-------------------|-------------------|\n"
     ]
    }
   ],
   "source": [
    "sim = Sim(groups=groups, events=events, **params)\n",
    "sim.run()\n",
    "chart = SimChart(sim)\n",
    "chart.animate.to_html5_video()"
   ]
  },
  {
   "cell_type": "code",
   "execution_count": 25,
   "metadata": {
    "nbsphinx": "hidden"
   },
   "outputs": [],
   "source": [
    "# chart.animate.save('vids/baseus/7.mp4', writer=FFMpegWriter(fps=10))"
   ]
  },
  {
   "cell_type": "markdown",
   "metadata": {},
   "source": [
    "<video width='705' height='340'\n",
    "    src='https://storage.googleapis.com/rknotvids/baseus/7.mp4' controls>Video Failed to Load</video>"
   ]
  },
  {
   "cell_type": "markdown",
   "metadata": {},
   "source": [
    "This results in:\n",
    "\n",
    "|         |            |\n",
    "| ------------- |:-------------:|\n",
    "| Peak      |   16% |\n",
    "| HIT      | 33%      |\n",
    "| Fatalities | 0.4%      |\n",
    "\n",
    "So once again we see that pre-existing immunity would have the effect of significanlty reducing peak infections, HIT, and fatalities. Also note the longer tail that results compared to Example 4 (the flatter the curve, the longer the tail)."
   ]
  },
  {
   "cell_type": "markdown",
   "metadata": {},
   "source": [
    "#### 8. Self Aware Social Distancing ####\n",
    "In a self-aware population, we can also incorporate an assumption that certain members of the population will implement social distancing practices (even in the absence of prescribed government policy). For example, individuals might wear masks or face shields while in public. \n",
    "\n",
    "This is implemented via a SocialDistancing object, which reduces the transmission factor of the subjects in the applicable group."
   ]
  },
  {
   "cell_type": "code",
   "execution_count": 26,
   "metadata": {},
   "outputs": [],
   "source": [
    "from rknot.events import SocialDistancing as SD\n",
    "\n",
    "sd = SD(name='6-feet', tmfs=[.975,.95,.75,.5], groups=[1,2,3,4], start_tick=5, duration=90)\n",
    "\n",
    "events.append(sd)"
   ]
  },
  {
   "cell_type": "code",
   "execution_count": 27,
   "metadata": {},
   "outputs": [
    {
     "name": "stderr",
     "output_type": "stream",
     "text": [
      "2020-10-06 11:15:03,827\tINFO resource_spec.py:223 -- Starting Ray with 11.13 GiB memory available for workers and up to 5.58 GiB for objects. You can adjust these settings with ray.init(memory=<bytes>, object_store_memory=<bytes>).\n",
      "2020-10-06 11:15:04,318\tINFO services.py:1191 -- View the Ray dashboard at \u001b[1m\u001b[32mlocalhost:8265\u001b[39m\u001b[22m\n"
     ]
    },
    {
     "name": "stdout",
     "output_type": "stream",
     "text": [
      "---------------------------------------------------------------------------------\n",
      "|                                  SIM DETAILS                                  |\n",
      "|-------------------------------------------------------------------------------|\n",
      "|           boundary|  [  1 100   1 100]|             n_locs|              10000|\n",
      "|-------------------|-------------------|-------------------|-------------------|\n",
      "|                  n|              10000|            density|                1.0|\n",
      "|-------------------|-------------------|-------------------|-------------------|\n",
      "|                ktr|                1.0|                tmr|               0.18|\n",
      "|-------------------|-------------------|-------------------|-------------------|\n"
     ]
    }
   ],
   "source": [
    "sim = Sim(groups=groups, events=events, **params)\n",
    "sim.run()\n",
    "chart = SimChart(sim)\n",
    "chart.animate.to_html5_video()"
   ]
  },
  {
   "cell_type": "code",
   "execution_count": 28,
   "metadata": {
    "nbsphinx": "hidden"
   },
   "outputs": [],
   "source": [
    "# chart.animate.save('vids/baseus/8.mp4', writer=FFMpegWriter(fps=10))"
   ]
  },
  {
   "cell_type": "markdown",
   "metadata": {},
   "source": [
    "<video width='705' height='340'\n",
    "    src='https://storage.googleapis.com/rknotvids/baseus/8.mp4' controls>Video Failed to Load</video>"
   ]
  },
  {
   "cell_type": "markdown",
   "metadata": {},
   "source": [
    "This results in:\n",
    "\n",
    "|         |            |\n",
    "| ------------- |:-------------:|\n",
    "| Peak      |   12% |\n",
    "| HIT      | 34%      |\n",
    "| Fatalities | 0.2%      |\n",
    "\n",
    "Here we can that social distancing in a population does have a modest impact on peak infections. We also can see that social distancing among the most susceptible (i.e. `group4b`) was a key factor in a dramatically reduced fatality rate (50-75% reduction in fatalities).\n",
    "\n",
    "Essentially, in this simulation, social distancing prevented an outbreak in the `group4b` community (whereas outbreaks had previously occured there in prior sims).\n",
    "\n",
    "*Note that randomness in an important factor in viral transmission, so the results of the sim above will not be repeatable every time, though on balance we would expect this outcome to occur more often than in say, Example 7.*"
   ]
  },
  {
   "cell_type": "markdown",
   "metadata": {},
   "source": [
    "#### 9. Isolation ####\n",
    "TBD"
   ]
  },
  {
   "cell_type": "markdown",
   "metadata": {},
   "source": [
    "#### 10. Infectiousness Curve ####\n",
    "TBD"
   ]
  },
  {
   "cell_type": "markdown",
   "metadata": {},
   "source": [
    "### Policy ###\n",
    "\n",
    "With a more realistic model of subject interaction, we can begin to experiment with the impact of different policy measures.\n",
    "\n",
    "RKnot can simulate policy measures via `Restriction`, `SocialDistancing`, and `Quarantine` objects.\n",
    "\n",
    "First we will reset our groups. We will maintain the 5 group structure with 1/3rd of the 70+ population gated. No groups will have pre-existing immunity. Remaining characteristics are as [per here](#).\n",
    "\n",
    "Events are as [per here](#)."
   ]
  },
  {
   "cell_type": "code",
   "execution_count": 29,
   "metadata": {},
   "outputs": [],
   "source": [
    "group1 = dict(\n",
    "    name='0-19',\n",
    "    n=2700,\n",
    "    n_inf=0,\n",
    "    ifr=0.00003,\n",
    "    mover='local',\n",
    ")\n",
    "group2 = dict(\n",
    "    name='20-49',\n",
    "    n=4100,\n",
    "    n_inf=1,\n",
    "    ifr=0.0002,\n",
    "    mover='local',\n",
    ")\n",
    "group3 = dict(\n",
    "    name='50-69',\n",
    "    n=2300,\n",
    "    n_inf=1,\n",
    "    ifr=0.005,\n",
    "    mover='local',\n",
    ")\n",
    "group4a = dict(\n",
    "    name='70+',\n",
    "    n=600,\n",
    "    n_inf=0,\n",
    "    ifr=0.042,\n",
    "    mover='local',\n",
    ")\n",
    "group4b = dict(\n",
    "    name='70+G',\n",
    "    n=300,\n",
    "    n_inf=0,\n",
    "    ifr=0.0683,\n",
    "    mover='local',\n",
    "    box=[1,6,1,6],\n",
    "    box_is_gated=True,\n",
    ")\n",
    "groups = [group1, group2, group3, group4a, group4b]\n",
    "params = {'dlevel': 'med', 'Ro':2.5, 'days': 365, 'imndur': 365, 'infdur': 14}"
   ]
  },
  {
   "cell_type": "code",
   "execution_count": 30,
   "metadata": {},
   "outputs": [],
   "source": [
    "from rknot.events import Event, Travel\n",
    "\n",
    "school1 = Event(name='school1', xy=[25,42], start_tick=2, groups=[0], capacity=10, recurring=2)\n",
    "school2 = Event(name='school2', xy=[78,82], start_tick=3, groups=[0], capacity=10, recurring=2)\n",
    "game = Event(name='game', xy=[50,84], start_tick=6, groups=[0,1,2], capacity=100, recurring=14)\n",
    "concert1 = Event(name='concert1', xy=[20,20], start_tick=7, groups=[1], capacity=50, recurring=14)                 \n",
    "concert2 = Event(name='concert2', xy=[91,92], start_tick=21, groups=[1], capacity=50, recurring=14)\n",
    "bar = Event(name='bar', xy=[17,24], start_tick=4, groups=[1], capacity=5, recurring=7)\n",
    "bar2 = Event(name='bar2', xy=[87,13], start_tick=5, groups=[1], capacity=5, recurring=7)\n",
    "bar3 = Event(name='bar3', xy=[52,89], start_tick=6, groups=[1,2], capacity=5, recurring=7)\n",
    "church = Event(name='church', xy=[2,91], start_tick=7, groups=[2,3], capacity=20, recurring=7)\n",
    "church2 = Event(name='church', xy=[2,3], start_tick=7, groups=[4], capacity=5, recurring=7)\n",
    "\n",
    "visit = Travel(name='visit', xy=[1,1], start_tick=3, groups=[1,2], capacity=1, duration=1, recurring=1)\n",
    "\n",
    "events = [\n",
    "    school1, school2,\n",
    "    game, concert1, concert2, bar, bar2, bar3, \n",
    "    church, church2, visit,\n",
    "]"
   ]
  },
  {
   "cell_type": "markdown",
   "metadata": {},
   "source": [
    "#### 1. Restrict Large Gatherings ####\n",
    "We'll start by simply restricting large gathers, which for this sim is any event with 10+ capacity (0.1% of the entire population). The restrictions will last for 60 days.\n",
    "\n",
    "When considering capacity, remember that a 100,000-seat stadium in a 10 million person catchment represents 1% of the population.\n",
    "\n",
    "We assume this policy are implemented on day 30, when the population finally realizes there is a pandemic and government has had time to implement prevention measures.\n",
    "\n",
    "The restriction will last for 60 days."
   ]
  },
  {
   "cell_type": "code",
   "execution_count": 31,
   "metadata": {},
   "outputs": [],
   "source": [
    "from rknot.events import Restriction\n",
    "\n",
    "large_gatherings = Restriction(\n",
    "    name='large', start_tick=30, duration=60, criteria={'capacity': 10}\n",
    ")\n",
    "events_w_res = events + [large_gatherings]"
   ]
  },
  {
   "cell_type": "code",
   "execution_count": 32,
   "metadata": {},
   "outputs": [
    {
     "name": "stderr",
     "output_type": "stream",
     "text": [
      "2020-10-06 11:15:07,855\tINFO resource_spec.py:223 -- Starting Ray with 11.13 GiB memory available for workers and up to 5.59 GiB for objects. You can adjust these settings with ray.init(memory=<bytes>, object_store_memory=<bytes>).\n",
      "2020-10-06 11:15:08,351\tINFO services.py:1191 -- View the Ray dashboard at \u001b[1m\u001b[32mlocalhost:8265\u001b[39m\u001b[22m\n"
     ]
    },
    {
     "name": "stdout",
     "output_type": "stream",
     "text": [
      "---------------------------------------------------------------------------------\n",
      "|                                  SIM DETAILS                                  |\n",
      "|-------------------------------------------------------------------------------|\n",
      "|           boundary|  [  1 100   1 100]|             n_locs|              10000|\n",
      "|-------------------|-------------------|-------------------|-------------------|\n",
      "|                  n|              10000|            density|                1.0|\n",
      "|-------------------|-------------------|-------------------|-------------------|\n",
      "|                ktr|                1.0|                tmr|               0.18|\n",
      "|-------------------|-------------------|-------------------|-------------------|\n"
     ]
    }
   ],
   "source": [
    "sim = Sim(groups=groups, events=events_w_res, **params)\n",
    "sim.run()\n",
    "chart = SimChart(sim)\n",
    "chart.animate.to_html5_video()"
   ]
  },
  {
   "cell_type": "code",
   "execution_count": 33,
   "metadata": {
    "nbsphinx": "hidden"
   },
   "outputs": [],
   "source": [
    "# chart.animate.save('vids/baseus/large.mp4', writer=FFMpegWriter(fps=10))"
   ]
  },
  {
   "cell_type": "markdown",
   "metadata": {},
   "source": [
    "<video width='705' height='340'\n",
    "    src='https://storage.googleapis.com/rknotvids/baseus/large.mp4' controls>Video Failed to Load</video>\n"
   ]
  },
  {
   "cell_type": "markdown",
   "metadata": {},
   "source": [
    "This results in:\n",
    "\n",
    "|         |            |\n",
    "| ------------- |:-------------:|\n",
    "| Peak      |   25% |\n",
    "| HIT      | 56%      |\n",
    "| Fatalities | 0.6%      |\n",
    "\n",
    "We see that the curve is flattened significanlty during the restriction period and the peak of infections has been pushed way out to ~125+ days, but, as restrictions are lifted, the outbreak ensues and fatalities are actually higher than in many other sims."
   ]
  },
  {
   "cell_type": "markdown",
   "metadata": {},
   "source": [
    "#### 2. Restrict Elderly Visits ####\n",
    "We can restrict events by name by passing `name` key to `criteria`. We can do this to restrict the travel event to the 70+ gated area. \n",
    "\n",
    "The policy measure is implemented on day 30 and maintained for another 120 days. There will be no other restrictions."
   ]
  },
  {
   "cell_type": "code",
   "execution_count": 3,
   "metadata": {},
   "outputs": [],
   "source": [
    "no_visits = Restriction(\n",
    "    name='no_visits', start_tick=30, duration=120, criteria={'name': 'visit'}\n",
    ")\n",
    "events_w_res = events + [no_visits]"
   ]
  },
  {
   "cell_type": "code",
   "execution_count": 35,
   "metadata": {},
   "outputs": [
    {
     "name": "stderr",
     "output_type": "stream",
     "text": [
      "2020-10-06 11:15:12,250\tINFO resource_spec.py:223 -- Starting Ray with 11.08 GiB memory available for workers and up to 5.56 GiB for objects. You can adjust these settings with ray.init(memory=<bytes>, object_store_memory=<bytes>).\n",
      "2020-10-06 11:15:12,741\tINFO services.py:1191 -- View the Ray dashboard at \u001b[1m\u001b[32mlocalhost:8265\u001b[39m\u001b[22m\n"
     ]
    },
    {
     "name": "stdout",
     "output_type": "stream",
     "text": [
      "---------------------------------------------------------------------------------\n",
      "|                                  SIM DETAILS                                  |\n",
      "|-------------------------------------------------------------------------------|\n",
      "|           boundary|  [  1 100   1 100]|             n_locs|              10000|\n",
      "|-------------------|-------------------|-------------------|-------------------|\n",
      "|                  n|              10000|            density|                1.0|\n",
      "|-------------------|-------------------|-------------------|-------------------|\n",
      "|                ktr|                1.0|                tmr|               0.18|\n",
      "|-------------------|-------------------|-------------------|-------------------|\n"
     ]
    }
   ],
   "source": [
    "sim = Sim(groups=groups, events=events_w_res, **params)\n",
    "sim.run()\n",
    "chart = SimChart(sim)\n",
    "chart.animate.to_html5_video()"
   ]
  },
  {
   "cell_type": "code",
   "execution_count": 36,
   "metadata": {
    "nbsphinx": "hidden"
   },
   "outputs": [],
   "source": [
    "# chart.animate.save('vids/baseus/no_visits.mp4', writer=FFMpegWriter(fps=10))"
   ]
  },
  {
   "cell_type": "markdown",
   "metadata": {},
   "source": [
    "<video width='705' height='340' \n",
    "    src='https://storage.googleapis.com/rknotvids/baseus/no_visits.mp4' controls>Video Failed to Load</video>"
   ]
  },
  {
   "cell_type": "markdown",
   "metadata": {},
   "source": [
    "This results in:\n",
    "\n",
    "|         |            |\n",
    "| ------------- |:-------------:|\n",
    "| Peak      |   25% |\n",
    "| HIT      | 54%      |\n",
    "| Fatalities | 0.3%      |\n",
    "\n",
    "While this approach does not have a big impact on viral spread, it is the *only policy measure that reduces fatalities in the long run*. The most susceptible are protected during the peak and the virus has \"burned out\" fast enough that the elderly are not infected when visits resume."
   ]
  },
  {
   "cell_type": "markdown",
   "metadata": {},
   "source": [
    "#### 3. Social Distancing ####\n",
    "We can mimick the implementation of Social Distancing policies in certain settings via the `SocialDistancing` object. Mask wearing, hand sanitizing, and 6-foot perimeters all provide varying levels of protection.\n",
    "\n",
    "It is hard to estimate the degree of protection from each, and even harder in combination. For instance, [this study](https://pubmed.ncbi.nlm.nih.gov/23498357/) found anywhere between a 1.1- and 55-fold reduction in exposure to influenza with varying mask designs.\n",
    "\n",
    "So we provide `tmfs` here for illustration purposes only, attempting to catch all social distancing practices. We also provide different `tmfs` for the different age groups, meant to simulate adherence to policy.\n",
    "\n",
    "The policy measure is implemented on day 30 and maintained for 120 days."
   ]
  },
  {
   "cell_type": "code",
   "execution_count": 37,
   "metadata": {},
   "outputs": [],
   "source": [
    "from rknot.events import SocialDistancing as SD\n",
    "\n",
    "sd = SD(name='all', tmfs=[.8,.8,.7,.65,.5], groups=[0,1,2,3,4], start_tick=30, duration=120)\n",
    "events_w_res = events + [sd]"
   ]
  },
  {
   "cell_type": "code",
   "execution_count": 38,
   "metadata": {},
   "outputs": [
    {
     "name": "stderr",
     "output_type": "stream",
     "text": [
      "2020-10-06 11:15:16,375\tINFO resource_spec.py:223 -- Starting Ray with 11.13 GiB memory available for workers and up to 5.57 GiB for objects. You can adjust these settings with ray.init(memory=<bytes>, object_store_memory=<bytes>).\n",
      "2020-10-06 11:15:16,872\tINFO services.py:1191 -- View the Ray dashboard at \u001b[1m\u001b[32mlocalhost:8265\u001b[39m\u001b[22m\n"
     ]
    },
    {
     "name": "stdout",
     "output_type": "stream",
     "text": [
      "---------------------------------------------------------------------------------\n",
      "|                                  SIM DETAILS                                  |\n",
      "|-------------------------------------------------------------------------------|\n",
      "|           boundary|  [  1 100   1 100]|             n_locs|              10000|\n",
      "|-------------------|-------------------|-------------------|-------------------|\n",
      "|                  n|              10000|            density|                1.0|\n",
      "|-------------------|-------------------|-------------------|-------------------|\n",
      "|                ktr|                1.0|                tmr|               0.18|\n",
      "|-------------------|-------------------|-------------------|-------------------|\n"
     ]
    }
   ],
   "source": [
    "sim = Sim(groups=groups, events=events_w_res, **params)\n",
    "sim.run()\n",
    "chart = SimChart(sim)\n",
    "chart.animate.to_html5_video()"
   ]
  },
  {
   "cell_type": "code",
   "execution_count": 39,
   "metadata": {
    "nbsphinx": "hidden"
   },
   "outputs": [],
   "source": [
    "# chart.animate.save('vids/baseus/policy_sd.mp4', writer=FFMpegWriter(fps=10))"
   ]
  },
  {
   "cell_type": "markdown",
   "metadata": {},
   "source": [
    "<video width='705' height='340'\n",
    "       src='https://storage.googleapis.com/rknotvids/baseus/policy_sd.mp4' controls>Video Failed to Load</video>"
   ]
  },
  {
   "cell_type": "markdown",
   "metadata": {},
   "source": [
    "This results in:\n",
    "\n",
    "|         |            |\n",
    "| ------------- |:-------------:|\n",
    "| Peak      |   11% |\n",
    "| HIT      | 59%      |\n",
    "| Fatalities | 0.4%      |\n",
    "\n",
    "We can see that social distancing is certainly the most effective approach (of the last 3) to \"flattening the curve\" with spread remarkably limited during the policy period, reaching a peak only after ~175+ days. \n",
    "\n",
    "Still, once restrictions are lifted the virus spreads unabated and fatalties reach relatively high levels. We can also see the \"second wave\" effect where infections appear to peak around 100 days, only to rebound and reach a higher peak two months later."
   ]
  },
  {
   "cell_type": "markdown",
   "metadata": {},
   "source": [
    "#### 4. Social Distancing and Restrict Elderly Visits and Large Gatherings ####\n",
    "What happens if we combine the three approaches above?"
   ]
  },
  {
   "cell_type": "code",
   "execution_count": 40,
   "metadata": {},
   "outputs": [],
   "source": [
    "large_gatherings = Restriction(\n",
    "    name='large', start_tick=30, duration=60, criteria={'capacity': 10}\n",
    ")\n",
    "no_visits = Restriction(\n",
    "    name='no_visits', start_tick=30, duration=120, criteria={'name': 'visit'}\n",
    ")\n",
    "sd = SD(name='all', tmfs=[.8,.8,.7,.65,.5], groups=[0,1,2,3,4], start_tick=30, duration=120)\n",
    "events_w_res = events + [large_gatherings, no_visits, sd]"
   ]
  },
  {
   "cell_type": "code",
   "execution_count": 41,
   "metadata": {},
   "outputs": [
    {
     "name": "stderr",
     "output_type": "stream",
     "text": [
      "2020-10-06 11:15:20,474\tINFO resource_spec.py:223 -- Starting Ray with 11.13 GiB memory available for workers and up to 5.58 GiB for objects. You can adjust these settings with ray.init(memory=<bytes>, object_store_memory=<bytes>).\n",
      "2020-10-06 11:15:20,970\tINFO services.py:1191 -- View the Ray dashboard at \u001b[1m\u001b[32mlocalhost:8265\u001b[39m\u001b[22m\n"
     ]
    },
    {
     "name": "stdout",
     "output_type": "stream",
     "text": [
      "---------------------------------------------------------------------------------\n",
      "|                                  SIM DETAILS                                  |\n",
      "|-------------------------------------------------------------------------------|\n",
      "|           boundary|  [  1 100   1 100]|             n_locs|              10000|\n",
      "|-------------------|-------------------|-------------------|-------------------|\n",
      "|                  n|              10000|            density|                1.0|\n",
      "|-------------------|-------------------|-------------------|-------------------|\n",
      "|                ktr|                1.0|                tmr|               0.18|\n",
      "|-------------------|-------------------|-------------------|-------------------|\n"
     ]
    }
   ],
   "source": [
    "sim = Sim(groups=groups, events=events_w_res, **params)\n",
    "sim.run()\n",
    "chart = SimChart(sim)\n",
    "chart.animate.to_html5_video()"
   ]
  },
  {
   "cell_type": "code",
   "execution_count": 42,
   "metadata": {
    "nbsphinx": "hidden"
   },
   "outputs": [],
   "source": [
    "# chart.animate.save('vids/baseus/sd_&_no_large_&_no_visits.mp4', writer=FFMpegWriter(fps=10))"
   ]
  },
  {
   "cell_type": "markdown",
   "metadata": {},
   "source": [
    "<video width='705' height='340'\n",
    "    src='https://storage.googleapis.com/rknotvids/baseus/sd_%26_no_large_%26_no_visits.mp4' controls>Video Failed to Load</video>"
   ]
  },
  {
   "cell_type": "markdown",
   "metadata": {},
   "source": [
    "This results in:\n",
    "\n",
    "|         |            |\n",
    "| ------------- |:-------------:|\n",
    "| Peak      |   9% |\n",
    "| HIT      | 14%      |\n",
    "| Fatalities | 0.4%      |\n",
    "\n",
    "We can see that this combined approach results in one of the flattest curves yet with the virus slowly declining in a very long tail.\n",
    "\n",
    "Importantly, however, this does not result in signficantly lower fatalities as an outbreak occurs in the `group4b` gate just before the visit restriction kicks on day 30. "
   ]
  },
  {
   "cell_type": "markdown",
   "metadata": {},
   "source": [
    "Now is an important time to reiterate that there can be significant variance between simulations run with the same structure. Here is the same simulation, run a second time:\n",
    "\n"
   ]
  },
  {
   "cell_type": "code",
   "execution_count": 43,
   "metadata": {
    "nbsphinx": "hidden"
   },
   "outputs": [],
   "source": [
    "# chart.animate.save('vids/baseus/sd_&_no_large_&_no_visits_2.mp4', writer=FFMpegWriter(fps=10))"
   ]
  },
  {
   "cell_type": "markdown",
   "metadata": {},
   "source": [
    "<video width='705' height='340'\n",
    "   src='https://storage.googleapis.com/rknotvids/baseus/sd_%26_no_large_%26_no_visits_2.mp4' controls>Video Failed to Load</video>"
   ]
  },
  {
   "cell_type": "markdown",
   "metadata": {},
   "source": [
    "This results in:\n",
    "\n",
    "|         |            |\n",
    "| ------------- |:-------------:|\n",
    "| Peak      |   22% |\n",
    "| HIT      | 54%      |\n",
    "| Fatalities | 0.5%      |\n",
    "\n",
    "In this sim, the measures are almost successful in eradicating the virus, as the infection level cruises at near zero for 160+ days, then the restrictions are lifted in their entirety and virus spreads throughtout the population.\n",
    "\n",
    "`group4b` manages to avoid an outbreak in the early days, but, once travel restrictions are lifted, an otubreak occurs almost immediately, leading to a high level of fatalities."
   ]
  },
  {
   "cell_type": "markdown",
   "metadata": {},
   "source": [
    "#### 5. Quarantine ####\n",
    "We can even mimick the impact of quarantines via the Quarantine object.\n",
    "\n",
    "Here we show the impact of a 30-day quarantine for all groups in the Sim."
   ]
  },
  {
   "cell_type": "code",
   "execution_count": 44,
   "metadata": {},
   "outputs": [],
   "source": [
    "from rknot.events import Quarantine\n",
    "\n",
    "quarantine = Quarantine(name='all', start_tick=30, groups=[0,1,2,3,4], duration=30)\n",
    "events_w_res = events + [quarantine]"
   ]
  },
  {
   "cell_type": "code",
   "execution_count": 45,
   "metadata": {},
   "outputs": [
    {
     "name": "stderr",
     "output_type": "stream",
     "text": [
      "2020-10-06 11:15:24,744\tINFO resource_spec.py:223 -- Starting Ray with 11.08 GiB memory available for workers and up to 5.56 GiB for objects. You can adjust these settings with ray.init(memory=<bytes>, object_store_memory=<bytes>).\n",
      "2020-10-06 11:15:25,232\tINFO services.py:1191 -- View the Ray dashboard at \u001b[1m\u001b[32mlocalhost:8265\u001b[39m\u001b[22m\n"
     ]
    },
    {
     "name": "stdout",
     "output_type": "stream",
     "text": [
      "---------------------------------------------------------------------------------\n",
      "|                                  SIM DETAILS                                  |\n",
      "|-------------------------------------------------------------------------------|\n",
      "|           boundary|  [  1 100   1 100]|             n_locs|              10000|\n",
      "|-------------------|-------------------|-------------------|-------------------|\n",
      "|                  n|              10000|            density|                1.0|\n",
      "|-------------------|-------------------|-------------------|-------------------|\n",
      "|                ktr|                1.0|                tmr|               0.18|\n",
      "|-------------------|-------------------|-------------------|-------------------|\n"
     ]
    }
   ],
   "source": [
    "sim = Sim(groups=groups, events=events_w_res, **params)\n",
    "sim.run()\n",
    "chart = SimChart(sim)\n",
    "chart.animate.to_html5_video()"
   ]
  },
  {
   "cell_type": "code",
   "execution_count": 46,
   "metadata": {
    "nbsphinx": "hidden"
   },
   "outputs": [],
   "source": [
    "# chart.animate.save('vids/baseus/quarantine.mp4', writer=FFMpegWriter(fps=10))"
   ]
  },
  {
   "cell_type": "markdown",
   "metadata": {},
   "source": [
    "<video width='705' height='340'\n",
    "       src='https://storage.googleapis.com/rknotvids/baseus/quarantine.mp4' controls>Video Failed to Load</video>"
   ]
  },
  {
   "cell_type": "markdown",
   "metadata": {},
   "source": [
    "This results in:\n",
    "\n",
    "|         |            |\n",
    "| ------------- |:-------------:|\n",
    "| Peak      |   24% |\n",
    "| HIT      | 61%      |\n",
    "| Fatalities | 0.4%      |\n",
    "\n",
    "The quarantine measures are effective in suppressing spread during the quarantine, but viral spread continues once the measures are lifted."
   ]
  },
  {
   "cell_type": "markdown",
   "metadata": {},
   "source": [
    "#### 6. Quarantine Then Restrictions ####\n",
    "We can combine a quarantine with following on policy restrictions to mimick the decisions made by many governments worldwide.\n",
    "\n",
    "To do this, we will push the start_tick of the restrictions out until the end of the quarantine (quarantines and restrictions cannot overlap)."
   ]
  },
  {
   "cell_type": "code",
   "execution_count": 47,
   "metadata": {},
   "outputs": [],
   "source": [
    "large_gatherings = Restriction(\n",
    "    name='large', start_tick=61, duration=60, criteria={'capacity': 10}\n",
    ")\n",
    "no_visits = Restriction(\n",
    "    name='no_visits', start_tick=61, duration=120, criteria={'name': 'visit'}\n",
    ")\n",
    "sd = SD(name='all', tmfs=[.8,.8,.7,.65,.5], groups=[0,1,2,3,4], start_tick=61, duration=120)\n",
    "quarantine = Quarantine(name='all', start_tick=30, groups=[0,1,2,3,4], duration=30)\n",
    "events_w_res = events + [large_gatherings, no_visits, sd, quarantine]"
   ]
  },
  {
   "cell_type": "code",
   "execution_count": 48,
   "metadata": {},
   "outputs": [
    {
     "name": "stderr",
     "output_type": "stream",
     "text": [
      "2020-10-06 11:15:28,961\tINFO resource_spec.py:223 -- Starting Ray with 11.08 GiB memory available for workers and up to 5.56 GiB for objects. You can adjust these settings with ray.init(memory=<bytes>, object_store_memory=<bytes>).\n",
      "2020-10-06 11:15:29,455\tINFO services.py:1191 -- View the Ray dashboard at \u001b[1m\u001b[32mlocalhost:8265\u001b[39m\u001b[22m\n"
     ]
    },
    {
     "name": "stdout",
     "output_type": "stream",
     "text": [
      "---------------------------------------------------------------------------------\n",
      "|                                  SIM DETAILS                                  |\n",
      "|-------------------------------------------------------------------------------|\n",
      "|           boundary|  [  1 100   1 100]|             n_locs|              10000|\n",
      "|-------------------|-------------------|-------------------|-------------------|\n",
      "|                  n|              10000|            density|                1.0|\n",
      "|-------------------|-------------------|-------------------|-------------------|\n",
      "|                ktr|                1.0|                tmr|               0.18|\n",
      "|-------------------|-------------------|-------------------|-------------------|\n"
     ]
    }
   ],
   "source": [
    "sim = Sim(groups=groups, events=events_w_res, **params)\n",
    "sim.run()\n",
    "chart = SimChart(sim)\n",
    "chart.animate.to_html5_video()"
   ]
  },
  {
   "cell_type": "code",
   "execution_count": 49,
   "metadata": {
    "nbsphinx": "hidden"
   },
   "outputs": [],
   "source": [
    "# chart.animate.save('vids/baseus/quarantine_then_restrict.mp4', writer=FFMpegWriter(fps=10))"
   ]
  },
  {
   "cell_type": "markdown",
   "metadata": {},
   "source": [
    "<video width='705' height='340'\n",
    "       src='https://storage.googleapis.com/rknotvids/baseus/quarantine_then_restrict.mp4' controls>Video Failed to Load</video>"
   ]
  },
  {
   "cell_type": "markdown",
   "metadata": {},
   "source": [
    "This results in:\n",
    "\n",
    "|         |            |\n",
    "| ------------- |:-------------:|\n",
    "| Peak      |   1% |\n",
    "| HIT      | 1%      |\n",
    "| Fatalities | 0%      |\n",
    "\n",
    "The pandemic never materializes in this simulation. The combination of policy measures eradicates the virus swiftly. \n",
    "\n",
    "This is a very interesting result. This obvioulsy did not occur in many places that took this approach. There are several possible reasons worth considering:\n",
    "\n",
    "* Random Variation: if you run this simulation multiple times, you will note sims where spread does occur (though fewer than other sims).\n",
    "* Scale: a larger simulation would increase the possibility that a very small number of dots can continue to pass around the virus while it is largerly muted in the broader population\n",
    "* Adherence: it is possible that real-world adherence to the implemented policies was much lower than the modeling suggests"
   ]
  },
  {
   "cell_type": "markdown",
   "metadata": {},
   "source": [
    "### A Fulsome Scenario ###\n",
    "\n",
    "We'll now create a more fulsome scenario encompassing many of the factors discussed.\n",
    "\n",
    "Adjustments to prior scenarios include:\n",
    "\n",
    "* add additional group with `mover='social'` in the 20-49 cohort. this cohort also flaunts social distancing guidelines as so its tmf in the SD object is `1.25`\n",
    "* add susceptibility factors for most groups\n",
    "* more fine-tuned capacity restrictions that gradually allow larger events over time\n",
    "* restrict visits to the elderly for a full year"
   ]
  },
  {
   "cell_type": "code",
   "execution_count": 50,
   "metadata": {},
   "outputs": [],
   "source": [
    "### GROUPS ###\n",
    "group1 = dict(\n",
    "    name='0-19',\n",
    "    n=2700,\n",
    "    n_inf=0,\n",
    "    ifr=0.00003,\n",
    "    mover='local',\n",
    ")\n",
    "group2a = dict(\n",
    "    name='20-49L',\n",
    "    n=3900,\n",
    "    n_inf=1,\n",
    "    ifr=0.0002,\n",
    "    mover='local',\n",
    "    susf=0.85,    \n",
    ")\n",
    "group2b = dict(\n",
    "    name='20-49S',\n",
    "    n=200,\n",
    "    n_inf=1,\n",
    "    ifr=0.0002,\n",
    "    mover='social',\n",
    "    susf=0.85,    \n",
    ")\n",
    "group3 = dict(\n",
    "    name='50-69',\n",
    "    n=2300,\n",
    "    n_inf=1,\n",
    "    ifr=0.005,\n",
    "    susf=.7,\n",
    "    mover='local',\n",
    ")\n",
    "group4a = dict(\n",
    "    name='70+',\n",
    "    n=600,\n",
    "    n_inf=0,\n",
    "    ifr=0.042,\n",
    "    mover='local',\n",
    "    susf=0.9,    \n",
    ")\n",
    "group4b = dict(\n",
    "    name='70+G',\n",
    "    n=300,\n",
    "    n_inf=0,\n",
    "    ifr=0.0683,\n",
    "    mover='local',\n",
    "    box=[1,6,1,6],\n",
    "    box_is_gated=True,\n",
    ")\n",
    "groups = [group1, group2a, group2b, group3, group4a, group4b]\n",
    "params = {'dlevel': 'med', 'Ro':2.5, 'days': 365, 'imndur': 365, 'infdur': 14}\n",
    "\n",
    "### EVENTS ###\n",
    "from rknot.events import Event, Travel\n",
    "\n",
    "school1 = Event(name='school1', xy=[25,42], start_tick=2, groups=[0], capacity=10, recurring=2)\n",
    "school2 = Event(name='school2', xy=[78,82], start_tick=3, groups=[0], capacity=10, recurring=2)\n",
    "game = Event(name='game', xy=[50,84], start_tick=6, groups=[0,1,2,3], capacity=100, recurring=14)\n",
    "concert1 = Event(name='concert1', xy=[20,20], start_tick=7, groups=[1,2], capacity=50, recurring=14)                 \n",
    "concert2 = Event(name='concert2', xy=[91,92], start_tick=21, groups=[1,2], capacity=50, recurring=14)\n",
    "bar = Event(name='bar', xy=[17,24], start_tick=4, groups=[1,2], capacity=5, recurring=7)\n",
    "bar2 = Event(name='bar2', xy=[87,13], start_tick=5, groups=[1,2], capacity=5, recurring=7)\n",
    "bar3 = Event(name='bar3', xy=[52,89], start_tick=6, groups=[1,2,3], capacity=5, recurring=7)\n",
    "church = Event(name='church', xy=[2,91], start_tick=7, groups=[3,4], capacity=20, recurring=7)\n",
    "church2 = Event(name='church', xy=[2,3], start_tick=7, groups=[5], capacity=5, recurring=7)\n",
    "\n",
    "visit = Travel(name='visit', xy=[1,1], start_tick=3, groups=[1,2,3], capacity=1, duration=1, recurring=1)\n",
    "\n",
    "events = [\n",
    "    school1, school2,\n",
    "    game, concert1, concert2, bar, bar2, bar3, \n",
    "    church, church2, visit,\n",
    "]\n",
    "\n",
    "### RESTRICTIONS ###\n",
    "small_gatherings = Restriction(\n",
    "    name='small', start_tick=30, duration=30, criteria={'capacity': 5}\n",
    ")\n",
    "med_gatherings = Restriction(\n",
    "    name='med', start_tick=60, duration=30, criteria={'capacity': 10}\n",
    ")\n",
    "large_gatherings = Restriction(\n",
    "    name='large', start_tick=90, duration=30, criteria={'capacity': 50}\n",
    ")\n",
    "no_visits = Restriction(\n",
    "    name='no_visits', start_tick=30, duration=365, criteria={'name': 'visit'}\n",
    ")\n",
    "sd = SD(name='all', tmfs=[.8, .8, 1.25, .7,.65,.5], groups=[0,1,2,3,4,5], start_tick=30, duration=120)\n",
    "events_w_res = events + [small_gatherings, med_gatherings, large_gatherings, no_visits, sd]"
   ]
  },
  {
   "cell_type": "code",
   "execution_count": 51,
   "metadata": {},
   "outputs": [
    {
     "name": "stderr",
     "output_type": "stream",
     "text": [
      "2020-10-06 11:15:33,293\tINFO resource_spec.py:223 -- Starting Ray with 11.08 GiB memory available for workers and up to 5.56 GiB for objects. You can adjust these settings with ray.init(memory=<bytes>, object_store_memory=<bytes>).\n",
      "2020-10-06 11:15:33,782\tINFO services.py:1191 -- View the Ray dashboard at \u001b[1m\u001b[32mlocalhost:8265\u001b[39m\u001b[22m\n"
     ]
    },
    {
     "name": "stdout",
     "output_type": "stream",
     "text": [
      "---------------------------------------------------------------------------------\n",
      "|                                  SIM DETAILS                                  |\n",
      "|-------------------------------------------------------------------------------|\n",
      "|           boundary|  [  1 100   1 100]|             n_locs|              10000|\n",
      "|-------------------|-------------------|-------------------|-------------------|\n",
      "|                  n|              10000|            density|                1.0|\n",
      "|-------------------|-------------------|-------------------|-------------------|\n",
      "|                ktr|                1.0|                tmr|               0.18|\n",
      "|-------------------|-------------------|-------------------|-------------------|\n"
     ]
    }
   ],
   "source": [
    "sim = Sim(groups=groups, events=events_w_res, **params)\n",
    "sim.run()\n",
    "chart = SimChart(sim)\n",
    "chart.animate.to_html5_video()"
   ]
  },
  {
   "cell_type": "code",
   "execution_count": 52,
   "metadata": {
    "nbsphinx": "hidden"
   },
   "outputs": [],
   "source": [
    "# chart.animate.save('vids/baseus/fulsome.mp4', writer=FFMpegWriter(fps=10))"
   ]
  },
  {
   "cell_type": "markdown",
   "metadata": {},
   "source": [
    "<video width='705' height='340'\n",
    "       src='https://storage.googleapis.com/rknotvids/baseus/fulsome.mp4' controls>Video Failed to Load</video>"
   ]
  },
  {
   "cell_type": "markdown",
   "metadata": {},
   "source": [
    "This results in:\n",
    "\n",
    "|         |            |\n",
    "| ------------- |:-------------:|\n",
    "| Peak      |   15% |\n",
    "| HIT      | 34%      |\n",
    "| Fatalities | 0.2%      |\n",
    "\n",
    "This has the lowest fatality rate of the group and is achieved simply by restricting access to gated region "
   ]
  }
 ],
 "metadata": {
  "kernelspec": {
   "display_name": "Python 3",
   "language": "python",
   "name": "python3"
  },
  "language_info": {
   "codemirror_mode": {
    "name": "ipython",
    "version": 3
   },
   "file_extension": ".py",
   "mimetype": "text/x-python",
   "name": "python",
   "nbconvert_exporter": "python",
   "pygments_lexer": "ipython3",
   "version": "3.8.5"
  }
 },
 "nbformat": 4,
 "nbformat_minor": 4
}
