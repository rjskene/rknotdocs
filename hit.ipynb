{
 "cells": [
  {
   "cell_type": "markdown",
   "metadata": {},
   "source": [
    "## Factors Influencing HIT ##"
   ]
  },
  {
   "cell_type": "markdown",
   "metadata": {},
   "source": [
    "#### Base US Simulation ####\n",
    "\n",
    "To explore the various concepts of RKnot and viral spread, we'll use a simulation design based on [CDC Best Planning Scenario](https://www.cdc.gov/coronavirus/2019-ncov/hcp/planning-scenarios.html) guidelines for\n",
    "virus characteristics including:\n",
    "\n",
    "* $R_0$ 2.5\n",
    "* IFR for each of 4 age groups\n",
    "\n",
    "Other assumptions:\n",
    "\n",
    "* Population of $10,000^1$\n",
    "* Initial Infected of 2\n",
    "* Duration of Infectiousness 14 days$^2$\n",
    "* Duration of Immunity 365 days\n",
    "* Density of ~1 subject per location (`dlevel='medium'`)\n",
    "\n",
    "$^1$*proportionately split among the 4 age groups to match* [US census data](https://www.census.gov/prod/cen2010/briefs/c2010br-03.pdf).\n",
    "\n",
    "$^2$*equal likelihood of transmission on any day (i.e. no viral load curve)*"
   ]
  },
  {
   "cell_type": "markdown",
   "metadata": {},
   "source": [
    "#### 1. Equal ####\n",
    "The first simulation makes the most homogeneous assumptions. \n",
    "\n",
    "+ No group is restricted in terms of movement. \n",
    "+ All dots are able to interact with one another. \n",
    "+ All dots are susceptible at initiation.\n",
    "+ All dots are equally likely to move to any dot on the grid (`mover='equal'`)"
   ]
  },
  {
   "cell_type": "code",
   "execution_count": 1,
   "metadata": {},
   "outputs": [],
   "source": [
    "from IPython.display import YouTubeVideo\n",
    "from rknot.sim import Sim\n",
    "from rknot.animate import SimChart"
   ]
  },
  {
   "cell_type": "code",
   "execution_count": 2,
   "metadata": {},
   "outputs": [],
   "source": [
    "group1 = dict(\n",
    "    name='0-19',\n",
    "    n=2700,\n",
    "    n_inf=0,\n",
    "    ifr=0.00003,\n",
    "    mover='equal',\n",
    ")\n",
    "group2 = dict(\n",
    "    name='20-49',\n",
    "    n=4100,\n",
    "    n_inf=1,\n",
    "    ifr=0.0002,\n",
    "    mover='equal',\n",
    ")\n",
    "group3 = dict(\n",
    "    name='50-69',\n",
    "    n=2300,\n",
    "    n_inf=1,\n",
    "    ifr=0.005,\n",
    "    mover='equal',\n",
    ")\n",
    "group4 = dict(\n",
    "    name='70+',\n",
    "    n=900,\n",
    "    n_inf=0,\n",
    "    ifr=0.054,\n",
    "    mover='equal',\n",
    ")\n",
    "groups = [group1, group2, group3, group4]\n",
    "params = {'dlevel': 'med', 'Ro':2.5, 'days': 365, 'imndur': 365, 'infdur': 14}"
   ]
  },
  {
   "cell_type": "code",
   "execution_count": 3,
   "metadata": {},
   "outputs": [
    {
     "name": "stderr",
     "output_type": "stream",
     "text": [
      "2020-10-05 08:36:32,570\tINFO resource_spec.py:223 -- Starting Ray with 15.43 GiB memory available for workers and up to 7.74 GiB for objects. You can adjust these settings with ray.init(memory=<bytes>, object_store_memory=<bytes>).\n",
      "2020-10-05 08:36:33,016\tINFO services.py:1191 -- View the Ray dashboard at \u001b[1m\u001b[32mlocalhost:8265\u001b[39m\u001b[22m\n"
     ]
    },
    {
     "name": "stdout",
     "output_type": "stream",
     "text": [
      "---------------------------------------------------------------------------------\n",
      "|                                  SIM DETAILS                                  |\n",
      "|-------------------------------------------------------------------------------|\n",
      "|           boundary|  [  1 100   1 100]|             n_locs|              10000|\n",
      "|-------------------|-------------------|-------------------|-------------------|\n",
      "|                  n|              10000|            density|                1.0|\n",
      "|-------------------|-------------------|-------------------|-------------------|\n",
      "|                ktr|                1.0|                tmr|               0.18|\n",
      "|-------------------|-------------------|-------------------|-------------------|\n"
     ]
    }
   ],
   "source": [
    "sim = Sim(groups=groups, **params)\n",
    "sim.run()"
   ]
  },
  {
   "cell_type": "markdown",
   "metadata": {},
   "source": [
    "Running the animation will result in a video as per below:"
   ]
  },
  {
   "cell_type": "code",
   "execution_count": 4,
   "metadata": {},
   "outputs": [],
   "source": [
    "chart = SimChart(sim)\n",
    "chart.animate.save()"
   ]
  },
  {
   "cell_type": "code",
   "execution_count": 5,
   "metadata": {},
   "outputs": [
    {
     "data": {
      "image/jpeg": "[encoded data removed]",
      "text/html": [
       "\n",
       "        <iframe\n",
       "            width=\"656.25\"\n",
       "            height=\"281.25\"\n",
       "            src=\"https://www.youtube.com/embed/rx7CYzivVe0\"\n",
       "            frameborder=\"0\"\n",
       "            allowfullscreen\n",
       "        ></iframe>\n",
       "        "
      ],
      "text/plain": [
       "<IPython.lib.display.YouTubeVideo at 0x12af2ba30>"
      ]
     },
     "execution_count": 5,
     "metadata": {},
     "output_type": "execute_result"
    }
   ],
   "source": [
    "YouTubeVideo('rx7CYzivVe0', width=525*5/4, height=225*5/4)"
   ]
  },
  {
   "cell_type": "markdown",
   "metadata": {},
   "source": [
    "*Note embedded videos are used for convenience purposes. Given the random processes involved, running the same code will produce slightly different results each time."
   ]
  },
  {
   "cell_type": "markdown",
   "metadata": {},
   "source": [
    "The sim results in a relatively standard spread curve with \n",
    "\n",
    "|         |            |\n",
    "| ------------- |:-------------:|\n",
    "| Peak      |   47% |\n",
    "| HIT      | 71%      |\n",
    "| Fatalities | 0.5%      |\n",
    "\n",
    "HIT of 71%. You'll note this is somewhat higher than the expected HIT of 60% for $R_0$ 2.5, but not quite equal. The differences result given:\n",
    "\n",
    "1. The simulation is a stochastic process and random variation will result in variation from the mathematical model in smaller populations.\n",
    "2. This is not an entirely homogeneous population, with different IFRs and different numbers of contacts between subjects. In particular, because dots can occupy the same location at the same time, and multiple infected dots at the same location increase the transmission rate for any susceptible, this tends to lead to faster spread than $R_0$ would suggest."
   ]
  },
  {
   "cell_type": "markdown",
   "metadata": {},
   "source": [
    "#### 2. Local ####\n",
    "In remaining simulations, we begin to introduce ever increasing homogeneity.\n",
    "\n",
    "Our first change is change all of the subjects mover functions to `local`. The `local` mover has a strong bias towards locations only in its immediate vicinity, which is a better approximation of real world processes (though certainly not a perfect one)."
   ]
  },
  {
   "cell_type": "code",
   "execution_count": 6,
   "metadata": {},
   "outputs": [],
   "source": [
    "group1['mover'] = 'local'\n",
    "group2['mover'] = 'local'\n",
    "group3['mover'] = 'local'\n",
    "group4['mover'] = 'local'\n",
    "groups = [group1, group2, group3, group4]"
   ]
  },
  {
   "cell_type": "code",
   "execution_count": 7,
   "metadata": {},
   "outputs": [
    {
     "name": "stderr",
     "output_type": "stream",
     "text": [
      "2020-10-05 08:36:37,151\tINFO resource_spec.py:223 -- Starting Ray with 15.43 GiB memory available for workers and up to 7.72 GiB for objects. You can adjust these settings with ray.init(memory=<bytes>, object_store_memory=<bytes>).\n",
      "2020-10-05 08:36:37,521\tINFO services.py:1191 -- View the Ray dashboard at \u001b[1m\u001b[32mlocalhost:8265\u001b[39m\u001b[22m\n"
     ]
    },
    {
     "name": "stdout",
     "output_type": "stream",
     "text": [
      "---------------------------------------------------------------------------------\n",
      "|                                  SIM DETAILS                                  |\n",
      "|-------------------------------------------------------------------------------|\n",
      "|           boundary|  [  1 100   1 100]|             n_locs|              10000|\n",
      "|-------------------|-------------------|-------------------|-------------------|\n",
      "|                  n|              10000|            density|                1.0|\n",
      "|-------------------|-------------------|-------------------|-------------------|\n",
      "|                ktr|                1.0|                tmr|               0.18|\n",
      "|-------------------|-------------------|-------------------|-------------------|\n"
     ]
    }
   ],
   "source": [
    "sim = Sim(groups=groups, **params)\n",
    "sim.run()\n",
    "\n",
    "chart = SimChart(sim)\n",
    "chart.animate.save()"
   ]
  },
  {
   "cell_type": "code",
   "execution_count": 8,
   "metadata": {},
   "outputs": [
    {
     "data": {
      "image/jpeg": "[encoded data removed]",
      "text/html": [
       "\n",
       "        <iframe\n",
       "            width=\"656.25\"\n",
       "            height=\"281.25\"\n",
       "            src=\"https://www.youtube.com/embed/vycjkdq4weE\"\n",
       "            frameborder=\"0\"\n",
       "            allowfullscreen\n",
       "        ></iframe>\n",
       "        "
      ],
      "text/plain": [
       "<IPython.lib.display.YouTubeVideo at 0x31a42a820>"
      ]
     },
     "execution_count": 8,
     "metadata": {},
     "output_type": "execute_result"
    }
   ],
   "source": [
    "YouTubeVideo('vycjkdq4weE', width=525*5/4, height=225*5/4)"
   ]
  },
  {
   "cell_type": "markdown",
   "metadata": {},
   "source": [
    "We can see from the animation above that by restricting movement, viral spread occurs in a much slower fashion with peak infection rate of just 6% and a HIT of 39%.\n",
    "\n",
    "|         |            |\n",
    "| ------------- |:-------------:|\n",
    "| Peak      |   6% |\n",
    "| HIT      | 39%      |\n",
    "| Fatalities | 0.3%      |\n",
    "\n",
    "*CAUTION: RKnot estimates transmission rate assuming all subjects are `equal` movers. Thus, where `local` movers are used, the transmission rate may be underestimated and result in the much lower transmission witnessed.*"
   ]
  },
  {
   "cell_type": "markdown",
   "metadata": {},
   "source": [
    "#### 3. Social Millenials ####\n",
    "In this simulation, we set `mover=social` for just the 20-49 age group. This is a rough approximation of that group's real-world propensity to travel more frequently (or go to more events)."
   ]
  },
  {
   "cell_type": "code",
   "execution_count": 9,
   "metadata": {},
   "outputs": [],
   "source": [
    "group1['mover'] = 'local'\n",
    "group2['mover'] = 'social'\n",
    "group3['mover'] = 'local'\n",
    "group4['mover'] = 'local'\n",
    "groups = [group1, group2, group3, group4]"
   ]
  },
  {
   "cell_type": "code",
   "execution_count": 10,
   "metadata": {},
   "outputs": [
    {
     "name": "stderr",
     "output_type": "stream",
     "text": [
      "2020-10-05 08:36:41,110\tINFO resource_spec.py:223 -- Starting Ray with 15.43 GiB memory available for workers and up to 7.73 GiB for objects. You can adjust these settings with ray.init(memory=<bytes>, object_store_memory=<bytes>).\n",
      "2020-10-05 08:36:41,483\tINFO services.py:1191 -- View the Ray dashboard at \u001b[1m\u001b[32mlocalhost:8265\u001b[39m\u001b[22m\n"
     ]
    },
    {
     "name": "stdout",
     "output_type": "stream",
     "text": [
      "---------------------------------------------------------------------------------\n",
      "|                                  SIM DETAILS                                  |\n",
      "|-------------------------------------------------------------------------------|\n",
      "|           boundary|  [  1 100   1 100]|             n_locs|              10000|\n",
      "|-------------------|-------------------|-------------------|-------------------|\n",
      "|                  n|              10000|            density|                1.0|\n",
      "|-------------------|-------------------|-------------------|-------------------|\n",
      "|                ktr|                1.0|                tmr|               0.18|\n",
      "|-------------------|-------------------|-------------------|-------------------|\n"
     ]
    }
   ],
   "source": [
    "sim = Sim(groups=groups, **params)\n",
    "sim.run()\n",
    "\n",
    "chart = SimChart(sim)\n",
    "chart.animate.save()"
   ]
  },
  {
   "cell_type": "code",
   "execution_count": 11,
   "metadata": {},
   "outputs": [
    {
     "data": {
      "image/jpeg": "[encoded data removed]",
      "text/html": [
       "\n",
       "        <iframe\n",
       "            width=\"656.25\"\n",
       "            height=\"281.25\"\n",
       "            src=\"https://www.youtube.com/embed/tNTM3uC1I78\"\n",
       "            frameborder=\"0\"\n",
       "            allowfullscreen\n",
       "        ></iframe>\n",
       "        "
      ],
      "text/plain": [
       "<IPython.lib.display.YouTubeVideo at 0x31a458e50>"
      ]
     },
     "execution_count": 11,
     "metadata": {},
     "output_type": "execute_result"
    }
   ],
   "source": [
    "YouTubeVideo('tNTM3uC1I78', width=525*5/4, height=225*5/4)"
   ]
  },
  {
   "cell_type": "markdown",
   "metadata": {},
   "source": [
    "This results in:\n",
    "\n",
    "|         |            |\n",
    "| ------------- |:-------------:|\n",
    "| Peak      |   38% |\n",
    "| HIT      | 67%      |\n",
    "| Fatalities | 0.4%      |\n",
    "\n",
    "We can see how powerful mixing is within a population. Even with the majority of subjects moving only locally, if a large enough population is moving broadly across the space, it will significantly increase the rate of spread."
   ]
  },
  {
   "cell_type": "markdown",
   "metadata": {},
   "source": [
    "#### 4. Pre-Existing Immunity ####\n",
    "In this scenario, we adjust the susceptibility factor for just two groups by relatively small amounts as follows:\n",
    "\n",
    "+ 20-49: 80%\n",
    "+ 50-69: 65%\n",
    "\n",
    "This means, in the inverse, that 10% and 25% of the subjects in the respective groups are already immune to the virus (whether through pre-existing T-cell immunity, anti-bodies, or otherwise).\n",
    "\n",
    "The older group is assumed to have a lower susceptibility factor as it is more likely that older people will have had more exposure to similar viruses over their lifetime.\n",
    "\n",
    "T-cell immunity to sars-cov-2 remains a controversial subject, but [many studies](https://www.bmj.com/content/370/bmj.m3563) have found T-cell prevalance in between 20% - 50% of in *people unexposed to sars-cov-2*. It is suggested that exposure to \"common cold\" coronaviruses (or more dangerous ones) may convey this immunity."
   ]
  },
  {
   "cell_type": "code",
   "execution_count": 12,
   "metadata": {},
   "outputs": [
    {
     "name": "stderr",
     "output_type": "stream",
     "text": [
      "2020-10-05 08:36:45,292\tINFO resource_spec.py:223 -- Starting Ray with 15.43 GiB memory available for workers and up to 7.73 GiB for objects. You can adjust these settings with ray.init(memory=<bytes>, object_store_memory=<bytes>).\n",
      "2020-10-05 08:36:45,663\tINFO services.py:1191 -- View the Ray dashboard at \u001b[1m\u001b[32mlocalhost:8265\u001b[39m\u001b[22m\n"
     ]
    },
    {
     "name": "stdout",
     "output_type": "stream",
     "text": [
      "---------------------------------------------------------------------------------\n",
      "|                                  SIM DETAILS                                  |\n",
      "|-------------------------------------------------------------------------------|\n",
      "|           boundary|  [  1 100   1 100]|             n_locs|              10000|\n",
      "|-------------------|-------------------|-------------------|-------------------|\n",
      "|                  n|              10000|            density|                1.0|\n",
      "|-------------------|-------------------|-------------------|-------------------|\n",
      "|                ktr|                1.0|                tmr|               0.18|\n",
      "|-------------------|-------------------|-------------------|-------------------|\n"
     ]
    }
   ],
   "source": [
    "group2['susf'] = .8\n",
    "group3['susf'] = .65\n",
    "groups = [group1, group2, group3, group4]\n",
    "sim = Sim(groups=groups, **params)\n",
    "sim.run()\n",
    "\n",
    "chart = SimChart(sim)\n",
    "chart.animate.save()"
   ]
  },
  {
   "cell_type": "code",
   "execution_count": 13,
   "metadata": {},
   "outputs": [
    {
     "data": {
      "image/jpeg": "[encoded data removed]",
      "text/html": [
       "\n",
       "        <iframe\n",
       "            width=\"656.25\"\n",
       "            height=\"281.25\"\n",
       "            src=\"https://www.youtube.com/embed/Rqurf_UFqBM\"\n",
       "            frameborder=\"0\"\n",
       "            allowfullscreen\n",
       "        ></iframe>\n",
       "        "
      ],
      "text/plain": [
       "<IPython.lib.display.YouTubeVideo at 0x31998d8e0>"
      ]
     },
     "execution_count": 13,
     "metadata": {},
     "output_type": "execute_result"
    }
   ],
   "source": [
    "YouTubeVideo('Rqurf_UFqBM', width=525*5/4, height=225*5/4)"
   ]
  },
  {
   "cell_type": "markdown",
   "metadata": {},
   "source": [
    "This results in:\n",
    "\n",
    "|         |            |\n",
    "| ------------- |:-------------:|\n",
    "| Peak      |   23% |\n",
    "| HIT      | 45%      |\n",
    "| Fatalities | 0.4%      |\n",
    "\n",
    "We can see that pre-existing immunity would significantly reduce HIT, but perhaps not impact the fatality rate. This is likely because, in this Sim, the elderly are assumed to *not* have pre-existing immunity."
   ]
  },
  {
   "cell_type": "markdown",
   "metadata": {},
   "source": [
    "#### 5. Events ####\n",
    "Certainly, the vast majority of people in the US do not move in such pre-defined ways as set out by the `mover` function. In reality, people tend to move with a local bias with a small number of interactions, supplemented by larger movements to locations with a large number of interactions in a small amount of time.\n",
    "\n",
    "In RKnot, we can simulate this with Event objects. And we will incorporate a number of them in this simulation. \n",
    "\n",
    "First, we will reset the susceptibility factors of all the groups to 1 and reset all `mover` functions to `local`."
   ]
  },
  {
   "cell_type": "code",
   "execution_count": 14,
   "metadata": {},
   "outputs": [],
   "source": [
    "group2['mover'] = 'local'\n",
    "group2['susf'] = 1\n",
    "group3['susf'] = 1\n",
    "groups = [group1, group2, group3, group4]"
   ]
  },
  {
   "cell_type": "markdown",
   "metadata": {},
   "source": [
    "Then we will instantiate a handful of events recurring periodically over the duration of the sim."
   ]
  },
  {
   "cell_type": "code",
   "execution_count": 15,
   "metadata": {},
   "outputs": [],
   "source": [
    "from rknot.events import Event\n",
    "\n",
    "school1 = Event(name='school1', xy=[25,42], start_tick=2, groups=[0], capacity=10, recurring=2)\n",
    "school2 = Event(name='school2', xy=[78,82], start_tick=3, groups=[0], capacity=10, recurring=2)\n",
    "game = Event(name='game', xy=[50,84], start_tick=6, groups=[0,1,2], capacity=100, recurring=14)\n",
    "concert1 = Event(name='concert1', xy=[10,10], start_tick=7, groups=[1], capacity=50, recurring=14)                 \n",
    "concert2 = Event(name='concert2', xy=[91,92], start_tick=21, groups=[1], capacity=50, recurring=14)\n",
    "bar = Event(name='bar', xy=[17,24], start_tick=4, groups=[1], capacity=5, recurring=7)\n",
    "bar2 = Event(name='bar2', xy=[87,13], start_tick=5, groups=[1], capacity=5, recurring=7)\n",
    "bar3 = Event(name='bar3', xy=[52,89], start_tick=6, groups=[1,2], capacity=5, recurring=7)\n",
    "church = Event(name='church', xy=[2,91], start_tick=7, groups=[2,3], capacity=20, recurring=7)\n",
    "\n",
    "events = [school1, school2, game, concert1, concert2, bar, bar2, bar3, church]"
   ]
  },
  {
   "cell_type": "code",
   "execution_count": 16,
   "metadata": {},
   "outputs": [
    {
     "name": "stderr",
     "output_type": "stream",
     "text": [
      "2020-10-05 08:36:49,680\tINFO resource_spec.py:223 -- Starting Ray with 15.43 GiB memory available for workers and up to 7.72 GiB for objects. You can adjust these settings with ray.init(memory=<bytes>, object_store_memory=<bytes>).\n",
      "2020-10-05 08:36:50,060\tINFO services.py:1191 -- View the Ray dashboard at \u001b[1m\u001b[32mlocalhost:8265\u001b[39m\u001b[22m\n"
     ]
    },
    {
     "name": "stdout",
     "output_type": "stream",
     "text": [
      "---------------------------------------------------------------------------------\n",
      "|                                  SIM DETAILS                                  |\n",
      "|-------------------------------------------------------------------------------|\n",
      "|           boundary|  [  1 100   1 100]|             n_locs|              10000|\n",
      "|-------------------|-------------------|-------------------|-------------------|\n",
      "|                  n|              10000|            density|                1.0|\n",
      "|-------------------|-------------------|-------------------|-------------------|\n",
      "|                ktr|                1.0|                tmr|               0.18|\n",
      "|-------------------|-------------------|-------------------|-------------------|\n"
     ]
    }
   ],
   "source": [
    "sim = Sim(groups=groups, events=events, **params)\n",
    "sim.run()\n",
    "chart = SimChart(sim)\n",
    "chart.animate.save()"
   ]
  },
  {
   "cell_type": "code",
   "execution_count": 17,
   "metadata": {},
   "outputs": [
    {
     "data": {
      "image/jpeg": "[encoded data removed]",
      "text/html": [
       "\n",
       "        <iframe\n",
       "            width=\"656.25\"\n",
       "            height=\"281.25\"\n",
       "            src=\"https://www.youtube.com/embed/r4Bre3aV0QA\"\n",
       "            frameborder=\"0\"\n",
       "            allowfullscreen\n",
       "        ></iframe>\n",
       "        "
      ],
      "text/plain": [
       "<IPython.lib.display.YouTubeVideo at 0x31a458e20>"
      ]
     },
     "execution_count": 17,
     "metadata": {},
     "output_type": "execute_result"
    }
   ],
   "source": [
    "YouTubeVideo('r4Bre3aV0QA', width=525*5/4, height=225*5/4)"
   ]
  },
  {
   "cell_type": "markdown",
   "metadata": {},
   "source": [
    "This results in:\n",
    "\n",
    "|         |            |\n",
    "| ------------- |:-------------:|\n",
    "| Peak      |   18% |\n",
    "| HIT      | 52%      |\n",
    "| Fatalities | 0.5%      |\n",
    "\n",
    "We can see that this sort of event-based structure resulted in lower peak infections and HIT relative to Example 3. The curve is flatter and longer. \n",
    "\n",
    "The selection of events here is relatively arbitrary and perhaps not perfectly illustrative of the nature of movement but it does highlight how more heterogeneous movement might lead to lower HIT."
   ]
  },
  {
   "cell_type": "markdown",
   "metadata": {},
   "source": [
    "#### 6. Gates ####\n",
    "We can further improve the real world interactions by introducing gates. Subjects are not always freely able to interact with all other people in a population. Often their movement is restricted to within certain areas. Furthermore, other people's access into those areas is restricted.\n",
    "\n",
    "Elderly people living in retirement homes or assisted living centers is an example. To simulate this, we will split `group4` into two separate groups. The first group will be ~1/3rd the size and will be able to move freely throughout the whole grid as previously. The second group will be 2/3rds the size and will have its movement restricted to a box. The box will also function as a gate, meaning other dots cannot enter the area (unless transported inside via a Travel event).\n",
    "\n",
    "In addition, we will update certain events to account for the additional group including adding an event specifically for the new group."
   ]
  },
  {
   "cell_type": "code",
   "execution_count": 18,
   "metadata": {},
   "outputs": [],
   "source": [
    "group4a = dict(\n",
    "    name='70+',\n",
    "    n=300,\n",
    "    n_inf=0,\n",
    "    ifr=0.054,\n",
    "    mover='local',\n",
    ")\n",
    "group4b = dict(\n",
    "    name='70+G',\n",
    "    n=600,\n",
    "    n_inf=0,\n",
    "    ifr=0.054,\n",
    "    mover='local',\n",
    "    box=[1,10,1,10],\n",
    "    box_is_gated=True,\n",
    ")\n",
    "groups = [group1, group2, group3, group4a, group4b]"
   ]
  },
  {
   "cell_type": "code",
   "execution_count": 19,
   "metadata": {},
   "outputs": [],
   "source": [
    "game = Event(name='game', xy=[50,84], start_tick=6, groups=[0,1,2,3], capacity=100, recurring=14)\n",
    "church = Event(name='church', xy=[2,91], start_tick=7, groups=[2,3], capacity=20, recurring=7)\n",
    "church2 = Event(name='church', xy=[2,3], start_tick=7, groups=[4], capacity=5, recurring=7)\n",
    "events = [game, concert1, concert2, bar, bar2, bar3, church, church2]"
   ]
  },
  {
   "cell_type": "markdown",
   "metadata": {},
   "source": [
    "Now, such elderly populations are not totally sealed of from the rest of the world. In fact, they are often visited by family members or friends. We can mimick this with the use of a Travel object.\n",
    "\n",
    "In this sim, at least one person will enter into the `group4b` gate for a day only. And this will repeat every day of the sim."
   ]
  },
  {
   "cell_type": "code",
   "execution_count": 20,
   "metadata": {},
   "outputs": [],
   "source": [
    "from rknot.events import Travel\n",
    "visit = Travel(name='visit', xy=[1,1], start_tick=3, groups=[1,2], capacity=1, duration=1, recurring=1)\n",
    "events.append(visit)"
   ]
  },
  {
   "cell_type": "code",
   "execution_count": 21,
   "metadata": {},
   "outputs": [
    {
     "name": "stderr",
     "output_type": "stream",
     "text": [
      "2020-10-05 08:36:53,735\tINFO resource_spec.py:223 -- Starting Ray with 15.43 GiB memory available for workers and up to 7.72 GiB for objects. You can adjust these settings with ray.init(memory=<bytes>, object_store_memory=<bytes>).\n",
      "2020-10-05 08:36:54,107\tINFO services.py:1191 -- View the Ray dashboard at \u001b[1m\u001b[32mlocalhost:8265\u001b[39m\u001b[22m\n"
     ]
    },
    {
     "name": "stdout",
     "output_type": "stream",
     "text": [
      "---------------------------------------------------------------------------------\n",
      "|                                  SIM DETAILS                                  |\n",
      "|-------------------------------------------------------------------------------|\n",
      "|           boundary|  [  1 100   1 100]|             n_locs|              10000|\n",
      "|-------------------|-------------------|-------------------|-------------------|\n",
      "|                  n|              10000|            density|                1.0|\n",
      "|-------------------|-------------------|-------------------|-------------------|\n",
      "|                ktr|                1.0|                tmr|               0.18|\n",
      "|-------------------|-------------------|-------------------|-------------------|\n"
     ]
    }
   ],
   "source": [
    "sim = Sim(groups=groups, events=events, **params)\n",
    "sim.run()\n",
    "chart = SimChart(sim)\n",
    "chart.animate.save()"
   ]
  },
  {
   "cell_type": "code",
   "execution_count": 22,
   "metadata": {},
   "outputs": [
    {
     "data": {
      "image/jpeg": "[encoded data removed]",
      "text/html": [
       "\n",
       "        <iframe\n",
       "            width=\"656.25\"\n",
       "            height=\"281.25\"\n",
       "            src=\"https://www.youtube.com/embed/I-qscNhXx00\"\n",
       "            frameborder=\"0\"\n",
       "            allowfullscreen\n",
       "        ></iframe>\n",
       "        "
      ],
      "text/plain": [
       "<IPython.lib.display.YouTubeVideo at 0x31a446100>"
      ]
     },
     "execution_count": 22,
     "metadata": {},
     "output_type": "execute_result"
    }
   ],
   "source": [
    "YouTubeVideo('I-qscNhXx00', width=525*5/4, height=225*5/4)"
   ]
  },
  {
   "cell_type": "markdown",
   "metadata": {},
   "source": [
    "This results in:\n",
    "\n",
    "|         |            |\n",
    "| ------------- |:-------------:|\n",
    "| Peak      |   21% |\n",
    "| HIT      | 53%      |\n",
    "| Fatalities | 0.4%      |\n",
    "\n",
    "This gated structure results in essentially no impact. The use for theis structure will become more evident in the disucssion on [Policy Decisions.](#)"
   ]
  },
  {
   "cell_type": "markdown",
   "metadata": {},
   "source": [
    "#### 7. Event, Gates, and Pre-Immunity ####\n",
    "Now we can see how pre-immunity might impact viral spread in a population with more homogeneous interactions.\n",
    "\n",
    "We will also split `group2` into two separate groups with different movers (`group2a` and `group2b`. The 20-49 age group is a large cohort and not all members will move in the same way. Some will move socially, other more locally.\n",
    "\n",
    "Then, we update the group list and update our events for the new group structure."
   ]
  },
  {
   "cell_type": "code",
   "execution_count": 23,
   "metadata": {},
   "outputs": [],
   "source": [
    "group2['susf'] = .8\n",
    "group3['susf'] = .65\n",
    "groups = [group1, group2, group3, group4a, group4b]"
   ]
  },
  {
   "cell_type": "code",
   "execution_count": 24,
   "metadata": {},
   "outputs": [],
   "source": [
    "game = Event(name='game', xy=[50,84], start_tick=6, groups=[0,1,2], capacity=100, recurring=14)\n",
    "concert1 = Event(name='concert1', xy=[10,10], start_tick=7, groups=[1], capacity=50, recurring=14)                 \n",
    "concert2 = Event(name='concert2', xy=[91,92], start_tick=21, groups=[1], capacity=50, recurring=14)\n",
    "bar = Event(name='bar', xy=[17,24], start_tick=4, groups=[1], capacity=5, recurring=7)\n",
    "bar2 = Event(name='bar2', xy=[87,13], start_tick=5, groups=[1], capacity=5, recurring=7)\n",
    "bar3 = Event(name='bar3', xy=[52,89], start_tick=6, groups=[1,2], capacity=5, recurring=7)\n",
    "church = Event(name='church', xy=[2,91], start_tick=7, groups=[2,3], capacity=20, recurring=7)\n",
    "church2 = Event(name='church', xy=[2,3], start_tick=7, groups=[4], capacity=5, recurring=7)\n",
    "\n",
    "visit = Travel(name='visit', xy=[1,1], start_tick=3, groups=[1,2], capacity=1, duration=1, recurring=1)\n",
    "\n",
    "events = [\n",
    "    school1, school2,\n",
    "    game, concert1, concert2, bar, bar2, bar3, \n",
    "    church, church2, visit,\n",
    "]"
   ]
  },
  {
   "cell_type": "code",
   "execution_count": 25,
   "metadata": {},
   "outputs": [
    {
     "name": "stderr",
     "output_type": "stream",
     "text": [
      "2020-10-05 08:36:58,183\tINFO resource_spec.py:223 -- Starting Ray with 15.43 GiB memory available for workers and up to 7.72 GiB for objects. You can adjust these settings with ray.init(memory=<bytes>, object_store_memory=<bytes>).\n",
      "2020-10-05 08:36:58,558\tINFO services.py:1191 -- View the Ray dashboard at \u001b[1m\u001b[32mlocalhost:8265\u001b[39m\u001b[22m\n"
     ]
    },
    {
     "name": "stdout",
     "output_type": "stream",
     "text": [
      "---------------------------------------------------------------------------------\n",
      "|                                  SIM DETAILS                                  |\n",
      "|-------------------------------------------------------------------------------|\n",
      "|           boundary|  [  1 100   1 100]|             n_locs|              10000|\n",
      "|-------------------|-------------------|-------------------|-------------------|\n",
      "|                  n|              10000|            density|                1.0|\n",
      "|-------------------|-------------------|-------------------|-------------------|\n",
      "|                ktr|                1.0|                tmr|               0.18|\n",
      "|-------------------|-------------------|-------------------|-------------------|\n"
     ]
    }
   ],
   "source": [
    "sim = Sim(groups=groups, events=events, **params)\n",
    "sim.run()\n",
    "chart = SimChart(sim)\n",
    "chart.animate.save()"
   ]
  },
  {
   "cell_type": "code",
   "execution_count": 26,
   "metadata": {},
   "outputs": [
    {
     "data": {
      "image/jpeg": "[encoded data removed]",
      "text/html": [
       "\n",
       "        <iframe\n",
       "            width=\"656.25\"\n",
       "            height=\"281.25\"\n",
       "            src=\"https://www.youtube.com/embed/UcrmDgDwn_w\"\n",
       "            frameborder=\"0\"\n",
       "            allowfullscreen\n",
       "        ></iframe>\n",
       "        "
      ],
      "text/plain": [
       "<IPython.lib.display.YouTubeVideo at 0x3199be730>"
      ]
     },
     "execution_count": 26,
     "metadata": {},
     "output_type": "execute_result"
    }
   ],
   "source": [
    "YouTubeVideo('UcrmDgDwn_w', width=525*5/4, height=225*5/4)"
   ]
  },
  {
   "cell_type": "markdown",
   "metadata": {},
   "source": [
    "This results in:\n",
    "\n",
    "|         |            |\n",
    "| ------------- |:-------------:|\n",
    "| Peak      |   16% |\n",
    "| HIT      | 29%      |\n",
    "| Fatalities | 0.5%      |\n",
    "\n",
    "So once again we see that pre-existing immunity would have the effect of significanlty reducing peak infections and HIT, however, fatalities remain about the same. Also note the longer tail that results compared to Example 4 (the flatter the curve, the longer the tail)."
   ]
  },
  {
   "cell_type": "markdown",
   "metadata": {},
   "source": [
    "#### 8. Self Aware Social Distancing ####\n",
    "In a self-aware population, we can also incorporate an assumption that certain members of the population will implement social distancing practices (even in the absence of prescribed government policy). For example, individuals might wear masks or face shields while in public. \n",
    "\n",
    "This is implemented via a SocialDistancing object, which reduces the transmission factor of the subjects in the applicable group."
   ]
  },
  {
   "cell_type": "code",
   "execution_count": 27,
   "metadata": {},
   "outputs": [],
   "source": [
    "from rknot.events import SocialDistancing as SD\n",
    "sd = SD(name='6-feet', tmfs=[.975,.95,.75,.5], groups=[1,2,3,4], start_tick=5, duration=90)\n",
    "\n",
    "events.append(sd)"
   ]
  },
  {
   "cell_type": "code",
   "execution_count": 28,
   "metadata": {},
   "outputs": [
    {
     "name": "stderr",
     "output_type": "stream",
     "text": [
      "2020-10-05 08:37:02,355\tINFO resource_spec.py:223 -- Starting Ray with 15.38 GiB memory available for workers and up to 7.71 GiB for objects. You can adjust these settings with ray.init(memory=<bytes>, object_store_memory=<bytes>).\n",
      "2020-10-05 08:37:02,726\tINFO services.py:1191 -- View the Ray dashboard at \u001b[1m\u001b[32mlocalhost:8265\u001b[39m\u001b[22m\n"
     ]
    },
    {
     "name": "stdout",
     "output_type": "stream",
     "text": [
      "---------------------------------------------------------------------------------\n",
      "|                                  SIM DETAILS                                  |\n",
      "|-------------------------------------------------------------------------------|\n",
      "|           boundary|  [  1 100   1 100]|             n_locs|              10000|\n",
      "|-------------------|-------------------|-------------------|-------------------|\n",
      "|                  n|              10000|            density|                1.0|\n",
      "|-------------------|-------------------|-------------------|-------------------|\n",
      "|                ktr|                1.0|                tmr|               0.18|\n",
      "|-------------------|-------------------|-------------------|-------------------|\n"
     ]
    }
   ],
   "source": [
    "sim = Sim(groups=groups, events=events, **params)\n",
    "sim.run()\n",
    "chart = SimChart(sim)\n",
    "chart.animate.save()"
   ]
  },
  {
   "cell_type": "code",
   "execution_count": 29,
   "metadata": {},
   "outputs": [
    {
     "data": {
      "image/jpeg": "[encoded data removed]",
      "text/html": [
       "\n",
       "        <iframe\n",
       "            width=\"656.25\"\n",
       "            height=\"281.25\"\n",
       "            src=\"https://www.youtube.com/embed/V5_aKGftfFs\"\n",
       "            frameborder=\"0\"\n",
       "            allowfullscreen\n",
       "        ></iframe>\n",
       "        "
      ],
      "text/plain": [
       "<IPython.lib.display.YouTubeVideo at 0x318ced430>"
      ]
     },
     "execution_count": 29,
     "metadata": {},
     "output_type": "execute_result"
    }
   ],
   "source": [
    "YouTubeVideo('V5_aKGftfFs', width=525*5/4, height=225*5/4)"
   ]
  },
  {
   "cell_type": "markdown",
   "metadata": {},
   "source": [
    "This results in:\n",
    "\n",
    "|         |            |\n",
    "| ------------- |:-------------:|\n",
    "| Peak      |   15% |\n",
    "| HIT      | 35%      |\n",
    "| Fatalities | 0.5%      |\n",
    "\n",
    "We see here that a moderate degree of social distancing in a population does not impact peak infection or HIT materially (at least not when HIT is already much lower than $R_0$ would suggest)."
   ]
  },
  {
   "cell_type": "markdown",
   "metadata": {},
   "source": [
    "#### 9. Isolation ####\n",
    "TBD"
   ]
  },
  {
   "cell_type": "markdown",
   "metadata": {},
   "source": [
    "#### 10. Infectiousness Curve ####\n",
    "TBD"
   ]
  }
 ],
 "metadata": {
  "kernelspec": {
   "display_name": "Python 3",
   "language": "python",
   "name": "python3"
  },
  "language_info": {
   "codemirror_mode": {
    "name": "ipython",
    "version": 3
   },
   "file_extension": ".py",
   "mimetype": "text/x-python",
   "name": "python",
   "nbconvert_exporter": "python",
   "pygments_lexer": "ipython3",
   "version": "3.8.5"
  }
 },
 "nbformat": 4,
 "nbformat_minor": 4
}
